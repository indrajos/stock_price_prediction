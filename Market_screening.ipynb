{
 "cells": [
  {
   "cell_type": "code",
   "execution_count": 153,
   "metadata": {},
   "outputs": [],
   "source": [
    "import datetime as dt\n",
    "import pandas as pd\n",
    "from pandas_datareader import data as pdr\n",
    "import yfinance as yf\n",
    "from tkinter import Tk\n",
    "from tkinter.filedialog import askopenfilename\n",
    "import os\n",
    "from pandas import ExcelWriter\n",
    "from yahoo_fin import stock_info as si"
   ]
  },
  {
   "cell_type": "markdown",
   "metadata": {},
   "source": [
    "### Implementation based on the Mark Minervini Trend Template. Author has dound that these conditions indicates that the stock is ready to potentially be bought and go on a massive run. It could be a good start point for trading."
   ]
  },
  {
   "cell_type": "code",
   "execution_count": 154,
   "metadata": {},
   "outputs": [],
   "source": [
    "yf.pdr_override()\n",
    "\n",
    "start =dt.datetime(2020,12,1)\n",
    "\n",
    "now = dt.datetime.now()"
   ]
  },
  {
   "cell_type": "code",
   "execution_count": 155,
   "metadata": {},
   "outputs": [],
   "source": [
    "exportList= pd.DataFrame(columns=['Stock', \"50 Day MA\", \"150 Day Ma\", \"200 Day MA\", \"52 Week Low\", \"52 week High\"]) # \"RS_Rating\","
   ]
  },
  {
   "cell_type": "markdown",
   "metadata": {},
   "source": [
    "### Relative Strength (RS) Rating\n",
    "The RS Rating, ranging from 1 (worst) to 99 (best), measures a stock's price performance over the last 12 months. The best stocks tend to have an 80 or better RS Rating as they launch a new climb."
   ]
  },
  {
   "cell_type": "code",
   "execution_count": 156,
   "metadata": {},
   "outputs": [
    {
     "name": "stdout",
     "output_type": "stream",
     "text": [
      "[*********************100%***********************]  1 of 1 completed\n",
      "[*********************100%***********************]  1 of 1 completed\n",
      "[*********************100%***********************]  1 of 1 completed\n",
      "[*********************100%***********************]  1 of 1 completed\n",
      "[*********************100%***********************]  1 of 1 completed\n",
      "[*********************100%***********************]  1 of 1 completed\n",
      "[*********************100%***********************]  1 of 1 completed\n",
      "[*********************100%***********************]  1 of 1 completed\n",
      "[*********************100%***********************]  1 of 1 completed\n",
      "[*********************100%***********************]  1 of 1 completed\n",
      "[*********************100%***********************]  1 of 1 completed\n",
      "[*********************100%***********************]  1 of 1 completed\n",
      "[*********************100%***********************]  1 of 1 completed\n",
      "\n",
      "  Stock  50 Day MA  150 Day Ma  200 Day MA  52 Week Low  52 week High\n",
      "0   XOM      90.41       77.45       72.57    50.938484    104.589996\n"
     ]
    }
   ],
   "source": [
    "\n",
    "all_stocks = pd.DataFrame(['AXP','AAPL','BA','CAT','CSCO','CVX','XOM','GS','HD','IBM','INTC','JNJ','KO'])\n",
    "all_stocks.columns = ['Symbol']\n",
    "\n",
    "\n",
    "for i in all_stocks.index:\n",
    "\tstock=str(all_stocks[\"Symbol\"][i])\n",
    "\t# RS_Rating=all_stocks[\"RS Rating\"][i]\n",
    "\n",
    "\ttry:\n",
    "\t\tdf = pdr.get_data_yahoo(stock, start, now)\n",
    "\n",
    "\t\tSMAused=[50,150,200]\n",
    "\t\tfor x in SMAused:\n",
    "\t\t\tsma=x\n",
    "\t\t\tdf[\"SMA_\"+str(sma)]=round(df.iloc[:,4].rolling(window=sma).mean(),2)\n",
    "\n",
    "\n",
    "\t\tcurrentClose=df[\"Adj Close\"][-1]\n",
    "\t\tmoving_average_50=df[\"SMA_50\"][-1]\n",
    "\t\tmoving_average_150=df[\"SMA_150\"][-1]\n",
    "\t\tmoving_average_200=df[\"SMA_200\"][-1]\n",
    "\t\tlow_of_52week=min(df[\"Adj Close\"][-260:])\n",
    "\t\thigh_of_52week=max(df[\"Adj Close\"][-260:])\n",
    "\t\ttry:\n",
    "\t\t\tmoving_average_200_20 = df[\"SMA_200\"][-20]\n",
    "\n",
    "\t\texcept Exception:\n",
    "\t\t\tmoving_average_200_20=0\n",
    "\n",
    "\t\t#Condition 1: Current Price > 150 SMA and > 200 SMA\n",
    "\t\tif(currentClose>moving_average_150>moving_average_200):\n",
    "\t\t\tcond_1=True\n",
    "\t\telse:\n",
    "\t\t\tcond_1=False\n",
    "\t\t#Condition 2: 150 SMA and > 200 SMA\n",
    "\t\tif(moving_average_150>moving_average_200):\n",
    "\t\t\tcond_2=True\n",
    "\t\telse:\n",
    "\t\t\tcond_2=False\n",
    "\t\t#Condition 3: 200 SMA trending up for at least 1 month (ideally 4-5 months)\n",
    "\t\tif(moving_average_200>moving_average_200_20):\n",
    "\t\t\tcond_3=True\n",
    "\t\telse:\n",
    "\t\t\tcond_3=False\n",
    "\t\t#Condition 4: 50 SMA> 150 SMA and 50 SMA> 200 SMA\n",
    "\t\tif(moving_average_50>moving_average_150>moving_average_200):\n",
    "\t\t\t#print(\"Condition 4 met\")\n",
    "\t\t\tcond_4=True\n",
    "\t\telse:\n",
    "\t\t\t#print(\"Condition 4 not met\")\n",
    "\t\t\tcond_4=False\n",
    "\t\t#Condition 5: Current Price > 50 SMA\n",
    "\t\tif(currentClose>moving_average_50):\n",
    "\t\t\tcond_5=True\n",
    "\t\telse:\n",
    "\t\t\tcond_5=False\n",
    "\t\t#Condition 6: Current Price is at least 30% above 52 week low (Many of the best are up 100-300% before coming out of consolidation)\n",
    "\t\tif(currentClose>=(1.3*low_of_52week)):\n",
    "\t\t\tcond_6=True\n",
    "\t\telse:\n",
    "\t\t\tcond_6=False\n",
    "\t\t#Condition 7: Current Price is within 25% of 52 week high\n",
    "\t\tif(currentClose>=(.75*high_of_52week)):\n",
    "\t\t\tcond_7=True\n",
    "\t\telse:\n",
    "\t\t\tcond_7=False\n",
    "\t\t#Condition 8: IBD RS rating >70 and the higher the better\n",
    "\t\t# if(RS_Rating>70):\n",
    "\t\t# \tcond_8=True\n",
    "\t\t# else:\n",
    "\t\t# \tcond_8=False\n",
    "\t\t\n",
    "\t\tif(cond_1 and cond_2 and cond_3 and cond_4 and cond_5 and cond_6 and cond_7):\n",
    "\t\t\texportList = exportList.append({'Stock': stock,  \"50 Day MA\": moving_average_50, \"150 Day Ma\": moving_average_150, \"200 Day MA\": moving_average_200, \"52 Week Low\": low_of_52week, \"52 week High\": high_of_52week}, ignore_index=True) #\"RS_Rating\": RS_Rating,  and cond_8\n",
    "\texcept Exception:\n",
    "\t\tprint(\"No data on \"+stock)\n",
    "print()\n",
    "print(exportList)"
   ]
  },
  {
   "cell_type": "code",
   "execution_count": 157,
   "metadata": {},
   "outputs": [],
   "source": [
    "exportList.to_excel(r\"C:\\Users\\simon\\Downloads\\screened2.xlsx\")"
   ]
  }
 ],
 "metadata": {
  "interpreter": {
   "hash": "7101ca937a6cefa303d920fd1335fe82956cc294edbf5f7bc268a5a56c54bb64"
  },
  "kernelspec": {
   "display_name": "Python 3.10.1 64-bit",
   "language": "python",
   "name": "python3"
  },
  "language_info": {
   "codemirror_mode": {
    "name": "ipython",
    "version": 3
   },
   "file_extension": ".py",
   "mimetype": "text/x-python",
   "name": "python",
   "nbconvert_exporter": "python",
   "pygments_lexer": "ipython3",
   "version": "3.10.1"
  },
  "orig_nbformat": 4
 },
 "nbformat": 4,
 "nbformat_minor": 2
}
