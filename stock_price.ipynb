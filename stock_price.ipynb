{
 "cells": [
  {
   "cell_type": "code",
   "execution_count": 21,
   "metadata": {},
   "outputs": [],
   "source": [
    "import pandas as pd\n",
    "import matplotlib.pyplot as plt\n",
    "import pandas_datareader as data\n",
    "import datetime\n",
    "from datetime import time\n",
    "from pandas.tseries.frequencies import to_offset\n",
    "from numpy import array as np__array, mean as np__mean, reshape as np__reshape, sqrt as np__sqrt"
   ]
  },
  {
   "cell_type": "code",
   "execution_count": 3,
   "metadata": {},
   "outputs": [],
   "source": [
    "import re\n",
    "import json\n",
    "import csv\n",
    "from io import StringIO\n",
    "from bs4 import BeautifulSoup\n",
    "import requests"
   ]
  },
  {
   "cell_type": "code",
   "execution_count": 4,
   "metadata": {},
   "outputs": [],
   "source": [
    "start = datetime.datetime(2000, 1, 1)\n",
    "end = datetime.date.today()\n",
    "\n",
    "# BA boeing company, data from Yahoo finanse\n",
    "stock_d = data.DataReader('BA', 'yahoo', start, end)\n",
    "\n",
    "def week_open(array_like):\n",
    "    return array_like[0]\n",
    "\n",
    "def week_close(array_like):\n",
    "    return array_like[-1]\n",
    "\n",
    "logic = {'Open': week_open, \n",
    "                         'High': 'max',\n",
    "                         'Low': 'min',\n",
    "                         'Close': week_close,\n",
    "                         'Volume': 'sum'}\n",
    "\n",
    "stock_w = stock_d.resample('W').apply(logic) # Converting daily data to weekly\n",
    "stock_w.index -= to_offset('6D')\n",
    "\n",
    "stock_w = stock_w[['Open', 'High', 'Low', 'Close', 'Volume']]"
   ]
  },
  {
   "cell_type": "markdown",
   "metadata": {},
   "source": [
    "### Klausimas dėstytojui, kaip kitaip patestuoti, ar gerai transformuoti duomenys?"
   ]
  },
  {
   "cell_type": "code",
   "execution_count": 5,
   "metadata": {},
   "outputs": [
    {
     "name": "stdout",
     "output_type": "stream",
     "text": [
      "               High      Low     Open    Close     Volume  Adj Close\n",
      "Date                                                                \n",
      "2000-01-03  41.6875  39.8125  41.4375  40.1875  2638200.0  25.940281\n",
      "2000-01-04  41.1250  39.7500  40.1875  40.1250  3592100.0  25.899940\n",
      "2000-01-05  43.3125  41.3750  41.3750  42.6250  7631700.0  27.513651\n",
      "2000-01-06  43.4375  41.1250  42.6250  43.0625  4922200.0  27.796041\n",
      "2000-01-07  44.8750  43.6875  43.6875  44.3125  6008300.0  28.602900\n",
      "2000-01-10  44.5000  43.5000  44.3125  43.6875  2403500.0  28.199463\n",
      "2000-01-11  43.9375  42.7500  43.6875  42.8750  2450000.0  27.675013\n",
      "2000-01-12  44.1875  42.5000  42.8750  43.0625  2327800.0  27.796041\n",
      "2000-01-13  43.3750  42.0000  43.0625  42.3750  3035100.0  27.352276\n",
      "2000-01-14  44.2500  42.9375  42.9375  44.0000  3834900.0  28.401182\n"
     ]
    },
    {
     "data": {
      "text/html": [
       "<div>\n",
       "<style scoped>\n",
       "    .dataframe tbody tr th:only-of-type {\n",
       "        vertical-align: middle;\n",
       "    }\n",
       "\n",
       "    .dataframe tbody tr th {\n",
       "        vertical-align: top;\n",
       "    }\n",
       "\n",
       "    .dataframe thead th {\n",
       "        text-align: right;\n",
       "    }\n",
       "</style>\n",
       "<table border=\"1\" class=\"dataframe\">\n",
       "  <thead>\n",
       "    <tr style=\"text-align: right;\">\n",
       "      <th></th>\n",
       "      <th>Open</th>\n",
       "      <th>High</th>\n",
       "      <th>Low</th>\n",
       "      <th>Close</th>\n",
       "      <th>Volume</th>\n",
       "    </tr>\n",
       "    <tr>\n",
       "      <th>Date</th>\n",
       "      <th></th>\n",
       "      <th></th>\n",
       "      <th></th>\n",
       "      <th></th>\n",
       "      <th></th>\n",
       "    </tr>\n",
       "  </thead>\n",
       "  <tbody>\n",
       "    <tr>\n",
       "      <th>2000-01-03</th>\n",
       "      <td>41.4375</td>\n",
       "      <td>44.8750</td>\n",
       "      <td>39.7500</td>\n",
       "      <td>44.3125</td>\n",
       "      <td>24792500.0</td>\n",
       "    </tr>\n",
       "    <tr>\n",
       "      <th>2000-01-10</th>\n",
       "      <td>44.3125</td>\n",
       "      <td>44.5000</td>\n",
       "      <td>42.0000</td>\n",
       "      <td>44.0000</td>\n",
       "      <td>14051300.0</td>\n",
       "    </tr>\n",
       "    <tr>\n",
       "      <th>2000-01-17</th>\n",
       "      <td>44.0000</td>\n",
       "      <td>48.1250</td>\n",
       "      <td>43.1250</td>\n",
       "      <td>45.6875</td>\n",
       "      <td>30657000.0</td>\n",
       "    </tr>\n",
       "    <tr>\n",
       "      <th>2000-01-24</th>\n",
       "      <td>45.6875</td>\n",
       "      <td>46.8750</td>\n",
       "      <td>43.6250</td>\n",
       "      <td>44.6250</td>\n",
       "      <td>17080700.0</td>\n",
       "    </tr>\n",
       "    <tr>\n",
       "      <th>2000-01-31</th>\n",
       "      <td>44.5625</td>\n",
       "      <td>45.1875</td>\n",
       "      <td>42.5625</td>\n",
       "      <td>44.0000</td>\n",
       "      <td>14199400.0</td>\n",
       "    </tr>\n",
       "  </tbody>\n",
       "</table>\n",
       "</div>"
      ],
      "text/plain": [
       "               Open     High      Low    Close      Volume\n",
       "Date                                                      \n",
       "2000-01-03  41.4375  44.8750  39.7500  44.3125  24792500.0\n",
       "2000-01-10  44.3125  44.5000  42.0000  44.0000  14051300.0\n",
       "2000-01-17  44.0000  48.1250  43.1250  45.6875  30657000.0\n",
       "2000-01-24  45.6875  46.8750  43.6250  44.6250  17080700.0\n",
       "2000-01-31  44.5625  45.1875  42.5625  44.0000  14199400.0"
      ]
     },
     "execution_count": 5,
     "metadata": {},
     "output_type": "execute_result"
    }
   ],
   "source": [
    "print(stock_d.head(10))\n",
    "stock_w.head()"
   ]
  },
  {
   "cell_type": "code",
   "execution_count": 6,
   "metadata": {},
   "outputs": [
    {
     "data": {
      "text/plain": [
       "(1171, 5)"
      ]
     },
     "execution_count": 6,
     "metadata": {},
     "output_type": "execute_result"
    }
   ],
   "source": [
    "stock_w.shape"
   ]
  },
  {
   "cell_type": "code",
   "execution_count": 7,
   "metadata": {},
   "outputs": [
    {
     "data": {
      "text/plain": [
       "<bound method NDFrame.describe of                   Open        High         Low       Close      Volume\n",
       "Date                                                                  \n",
       "2000-01-03   41.437500   44.875000   39.750000   44.312500  24792500.0\n",
       "2000-01-10   44.312500   44.500000   42.000000   44.000000  14051300.0\n",
       "2000-01-17   44.000000   48.125000   43.125000   45.687500  30657000.0\n",
       "2000-01-24   45.687500   46.875000   43.625000   44.625000  17080700.0\n",
       "2000-01-31   44.562500   45.187500   42.562500   44.000000  14199400.0\n",
       "...                ...         ...         ...         ...         ...\n",
       "2022-05-09  146.000000  146.949997  120.279999  127.199997  72546400.0\n",
       "2022-05-16  127.050003  132.830002  117.080002  120.699997  59251400.0\n",
       "2022-05-23  121.699997  132.229996  117.290001  132.229996  41737200.0\n",
       "2022-05-30  131.029999  140.699997  127.010002  139.250000  40807300.0\n",
       "2022-06-06  139.990005  142.210007  126.849998  127.000000  31405400.0\n",
       "\n",
       "[1171 rows x 5 columns]>"
      ]
     },
     "execution_count": 7,
     "metadata": {},
     "output_type": "execute_result"
    }
   ],
   "source": [
    "stock_w.describe"
   ]
  },
  {
   "cell_type": "markdown",
   "metadata": {},
   "source": [
    "### Checking if we have right numbers after reshaping"
   ]
  },
  {
   "cell_type": "code",
   "execution_count": 8,
   "metadata": {},
   "outputs": [],
   "source": [
    "# Volume\n",
    "first_week_volume = stock_d['Volume'][0:5].sum()\n",
    "first_week_volume_rsh = stock_w.Volume[0]\n",
    "\n",
    "# Close\n",
    "first_week_close = stock_d['Close'][4]\n",
    "first_week_close_rsh = stock_w['Close'][0]\n",
    "\n",
    "# Low\n",
    "first_week_low = stock_d['Low'][0:5].min()\n",
    "first_week_low_rsh = stock_w['Low'][0]\n",
    "\n",
    "# High\n",
    "first_week_high = stock_d['High'][0:5].max()\n",
    "first_week_high_rsh = stock_w['High'][0]\n",
    "\n",
    "# Open\n",
    "first_week_open = stock_d['Open'][0]\n",
    "first_week_open_rsh = stock_w['Open'][0]\n"
   ]
  },
  {
   "cell_type": "code",
   "execution_count": 9,
   "metadata": {},
   "outputs": [
    {
     "name": "stdout",
     "output_type": "stream",
     "text": [
      "First week volume sum is correct? True\n",
      "First week close price is correct? True\n",
      "First week low price is correct? True\n",
      "First week high price is correct? True\n",
      "First week open price is correct? True\n"
     ]
    }
   ],
   "source": [
    "print(f'First week volume sum is correct? {first_week_volume == first_week_volume_rsh}')\n",
    "print(f'First week close price is correct? {first_week_close == first_week_close_rsh}')\n",
    "print(f'First week low price is correct? {first_week_low == first_week_low_rsh}')\n",
    "print(f'First week high price is correct? {first_week_high == first_week_high_rsh}')\n",
    "print(f'First week open price is correct? {first_week_open == first_week_open_rsh}')"
   ]
  },
  {
   "cell_type": "markdown",
   "metadata": {},
   "source": [
    "#### We will focus on close price which is the standar benchmark regarding stocks and securities."
   ]
  },
  {
   "cell_type": "code",
   "execution_count": 27,
   "metadata": {},
   "outputs": [
    {
     "data": {
      "image/png": "[encoded data removed]",
      "text/plain": [
       "<Figure size 1152x576 with 1 Axes>"
      ]
     },
     "metadata": {
      "needs_background": "light"
     },
     "output_type": "display_data"
    }
   ],
   "source": [
    "fig, ax = plt.subplots(figsize=(16, 8))\n",
    "plt.plot(stock_w.Close)\n",
    "plt.show()"
   ]
  },
  {
   "cell_type": "code",
   "execution_count": 26,
   "metadata": {},
   "outputs": [
    {
     "data": {
      "image/png": "[encoded data removed]",
      "text/plain": [
       "<Figure size 1152x576 with 1 Axes>"
      ]
     },
     "metadata": {
      "needs_background": "light"
     },
     "output_type": "display_data"
    }
   ],
   "source": [
    "fig, ax = plt.subplots(figsize=(16, 8))\n",
    "plt.hist(stock_w.Close)\n",
    "plt.show()"
   ]
  },
  {
   "cell_type": "markdown",
   "metadata": {},
   "source": [
    "#### Building the LSTM model"
   ]
  },
  {
   "cell_type": "code",
   "execution_count": 24,
   "metadata": {},
   "outputs": [],
   "source": [
    "import math\n",
    "from sklearn.preprocessing import MinMaxScaler\n",
    "from keras.models import Sequential\n",
    "from keras.layers import Dense, LSTM"
   ]
  },
  {
   "cell_type": "code",
   "execution_count": 16,
   "metadata": {},
   "outputs": [
    {
     "data": {
      "text/plain": [
       "937"
      ]
     },
     "execution_count": 16,
     "metadata": {},
     "output_type": "execute_result"
    }
   ],
   "source": [
    "# create a new data frame with only 'Close column'\n",
    "data = stock_w.filter(['Close'])\n",
    "dataset = data.values #convert the data frame to a numpy array\n",
    "training_data_len = math.ceil(len(dataset)*.8)  # number of rows to train the model on\n",
    "training_data_len"
   ]
  },
  {
   "cell_type": "code",
   "execution_count": 19,
   "metadata": {},
   "outputs": [
    {
     "data": {
      "text/plain": [
       "array([[0.04520322],\n",
       "       [0.04445034],\n",
       "       [0.04851592],\n",
       "       ...,\n",
       "       [0.25701688],\n",
       "       [0.2739297 ],\n",
       "       [0.24441661]])"
      ]
     },
     "execution_count": 19,
     "metadata": {},
     "output_type": "execute_result"
    }
   ],
   "source": [
    "#scale the data\n",
    "scaler = MinMaxScaler(feature_range=(0,1))\n",
    "scaled_data = scaler.fit_transform(dataset)\n",
    "scaled_data"
   ]
  },
  {
   "cell_type": "code",
   "execution_count": 20,
   "metadata": {},
   "outputs": [
    {
     "name": "stdout",
     "output_type": "stream",
     "text": [
      "[array([0.04520322, 0.04445034, 0.04851592, 0.04595611, 0.04445034,\n",
      "       0.03451225, 0.02517648, 0.02954321, 0.0250259 , 0.01644301,\n",
      "       0.02999494, 0.02517648, 0.02954321, 0.02442359, 0.02367071,\n",
      "       0.03496398, 0.03406052, 0.03360879, 0.02803744, 0.02743513,\n",
      "       0.03059725, 0.03451225, 0.03285591, 0.03300648, 0.03451225,\n",
      "       0.03918014, 0.04384803, 0.04550438, 0.0512263 , 0.05604477,\n",
      "       0.0564965 , 0.05800227, 0.04851592, 0.06884381, 0.07034958,\n",
      "       0.07848074, 0.0754692 , 0.09143036, 0.0938396 , 0.08540728,\n",
      "       0.07998651, 0.08299805, 0.09203267, 0.09760402, 0.09143036,\n",
      "       0.09594767, 0.09670056, 0.09700171, 0.1069398 , 0.09474306,\n",
      "       0.09127979, 0.09745344, 0.07998651, 0.08450382, 0.07260824,\n",
      "       0.07833016, 0.07540897, 0.07658949, 0.08297396, 0.08687692])]\n",
      "[0.08323897072781589]\n",
      "\n"
     ]
    }
   ],
   "source": [
    "#create the training dataset\n",
    "#create the scaled training dataset\n",
    "\n",
    "train_data = scaled_data[0:training_data_len, :]\n",
    "#Split the data into x_train, y_train datasets\n",
    "x_train = []\n",
    "y_train = []\n",
    "for i in range(60,len(train_data)):\n",
    "    x_train.append(train_data[i-60:i, 0])\n",
    "    y_train.append(train_data[i,0])\n",
    "    if i<=60:\n",
    "        print(x_train)\n",
    "        print(y_train)\n",
    "        print()"
   ]
  },
  {
   "cell_type": "code",
   "execution_count": 21,
   "metadata": {},
   "outputs": [],
   "source": [
    "#convert the x_train and y_train  to numppy array\n",
    "x_train,y_train = np.array(x_train), np.array(y_train)"
   ]
  },
  {
   "cell_type": "code",
   "execution_count": 22,
   "metadata": {},
   "outputs": [
    {
     "data": {
      "text/plain": [
       "(877, 60, 1)"
      ]
     },
     "execution_count": 22,
     "metadata": {},
     "output_type": "execute_result"
    }
   ],
   "source": [
    "#reshape the data\n",
    "x_train = np.reshape(x_train,(x_train.shape[0],x_train.shape[1],1))\n",
    "x_train.shape"
   ]
  },
  {
   "cell_type": "code",
   "execution_count": 25,
   "metadata": {},
   "outputs": [],
   "source": [
    "#Buil the LSTM model\n",
    "model =Sequential()\n",
    "model.add(LSTM(64,return_sequences=True, input_shape=(x_train.shape[1],1)))\n",
    "model.add(LSTM(64, return_sequences= False))\n",
    "model.add(Dense(32))\n",
    "model.add(Dense(1))"
   ]
  },
  {
   "cell_type": "code",
   "execution_count": 28,
   "metadata": {},
   "outputs": [],
   "source": [
    "#Complie the model\n",
    "model.compile(optimizer='adam', loss='mean_squared_error')"
   ]
  },
  {
   "cell_type": "code",
   "execution_count": 29,
   "metadata": {},
   "outputs": [
    {
     "name": "stdout",
     "output_type": "stream",
     "text": [
      "Epoch 1/10\n",
      "877/877 [==============================] - 17s 16ms/step - loss: 0.0010\n",
      "Epoch 2/10\n",
      "877/877 [==============================] - 14s 16ms/step - loss: 3.8516e-04\n",
      "Epoch 3/10\n",
      "877/877 [==============================] - 16s 18ms/step - loss: 3.5418e-04\n",
      "Epoch 4/10\n",
      "877/877 [==============================] - 17s 19ms/step - loss: 3.6741e-04\n",
      "Epoch 5/10\n",
      "877/877 [==============================] - 17s 19ms/step - loss: 1.9218e-04\n",
      "Epoch 6/10\n",
      "877/877 [==============================] - 17s 19ms/step - loss: 6.1566e-04\n",
      "Epoch 7/10\n",
      "877/877 [==============================] - 18s 20ms/step - loss: 3.4260e-04\n",
      "Epoch 8/10\n",
      "877/877 [==============================] - 17s 20ms/step - loss: 1.6453e-04\n",
      "Epoch 9/10\n",
      "877/877 [==============================] - 18s 20ms/step - loss: 1.4322e-04\n",
      "Epoch 10/10\n",
      "877/877 [==============================] - 18s 20ms/step - loss: 1.7328e-04\n"
     ]
    },
    {
     "data": {
      "text/plain": [
       "<keras.callbacks.History at 0x1fda97fd480>"
      ]
     },
     "execution_count": 29,
     "metadata": {},
     "output_type": "execute_result"
    }
   ],
   "source": [
    "#Train the model\n",
    "model.fit(x_train,y_train, batch_size=1, epochs=10)"
   ]
  },
  {
   "cell_type": "code",
   "execution_count": 30,
   "metadata": {},
   "outputs": [],
   "source": [
    "#create the testing data sets\n",
    "#create a new array containing scale values\n",
    "test_data= scaled_data[training_data_len-60:, :]\n",
    "#create the data sets x_test and y_test\n",
    "x_test = []\n",
    "y_test = dataset[training_data_len:,:]\n",
    "for i in range(60,len(test_data)):\n",
    "    x_test.append(test_data[i-60:i,0])"
   ]
  },
  {
   "cell_type": "code",
   "execution_count": 31,
   "metadata": {},
   "outputs": [],
   "source": [
    "#convert the data to a numpy array\n",
    "x_test = np.array(x_test)"
   ]
  },
  {
   "cell_type": "code",
   "execution_count": 32,
   "metadata": {},
   "outputs": [
    {
     "data": {
      "text/plain": [
       "(234, 60, 1)"
      ]
     },
     "execution_count": 32,
     "metadata": {},
     "output_type": "execute_result"
    }
   ],
   "source": [
    "#reshape the data\n",
    "x_test = np.reshape(x_test, (x_test.shape[0], x_test.shape[1],1))\n",
    "x_test.shape"
   ]
  },
  {
   "cell_type": "code",
   "execution_count": 33,
   "metadata": {},
   "outputs": [],
   "source": [
    "#predicting the data\n",
    "predictions = model.predict(x_test)\n",
    "predictions = scaler.inverse_transform(predictions)"
   ]
  },
  {
   "cell_type": "code",
   "execution_count": 34,
   "metadata": {},
   "outputs": [
    {
     "data": {
      "text/plain": [
       "0.4944581577920506"
      ]
     },
     "execution_count": 34,
     "metadata": {},
     "output_type": "execute_result"
    }
   ],
   "source": [
    "#get the root mean square error(RMSE)\n",
    "rmse = np.sqrt(np.mean(predictions - y_test)**2)\n",
    "rmse"
   ]
  },
  {
   "cell_type": "code",
   "execution_count": 35,
   "metadata": {},
   "outputs": [
    {
     "name": "stderr",
     "output_type": "stream",
     "text": [
      "C:\\Users\\SN\\AppData\\Local\\Temp\\ipykernel_11080\\3512275700.py:4: SettingWithCopyWarning: \n",
      "A value is trying to be set on a copy of a slice from a DataFrame.\n",
      "Try using .loc[row_indexer,col_indexer] = value instead\n",
      "\n",
      "See the caveats in the documentation: https://pandas.pydata.org/pandas-docs/stable/user_guide/indexing.html#returning-a-view-versus-a-copy\n",
      "  valid['Predictions'] = predictions\n"
     ]
    },
    {
     "ename": "ValueError",
     "evalue": "'upper_center' is not a valid value for loc; supported values are 'best', 'upper right', 'upper left', 'lower left', 'lower right', 'right', 'center left', 'center right', 'lower center', 'upper center', 'center'",
     "output_type": "error",
     "traceback": [
      "\u001b[1;31m---------------------------------------------------------------------------\u001b[0m",
      "\u001b[1;31mValueError\u001b[0m                                Traceback (most recent call last)",
      "\u001b[1;32mc:\\Users\\SN\\Desktop\\stock_price.ipynb Cell 29'\u001b[0m in \u001b[0;36m<cell line: 12>\u001b[1;34m()\u001b[0m\n\u001b[0;32m     <a href='vscode-notebook-cell:/c%3A/Users/SN/Desktop/stock_price.ipynb#ch0000037?line=9'>10</a>\u001b[0m plt\u001b[39m.\u001b[39mplot(train[\u001b[39m'\u001b[39m\u001b[39mClose\u001b[39m\u001b[39m'\u001b[39m],linewidth\u001b[39m=\u001b[39m\u001b[39m3.5\u001b[39m)\n\u001b[0;32m     <a href='vscode-notebook-cell:/c%3A/Users/SN/Desktop/stock_price.ipynb#ch0000037?line=10'>11</a>\u001b[0m plt\u001b[39m.\u001b[39mplot(valid[[\u001b[39m'\u001b[39m\u001b[39mClose\u001b[39m\u001b[39m'\u001b[39m,\u001b[39m'\u001b[39m\u001b[39mPredictions\u001b[39m\u001b[39m'\u001b[39m]],linewidth\u001b[39m=\u001b[39m\u001b[39m3.5\u001b[39m)\n\u001b[1;32m---> <a href='vscode-notebook-cell:/c%3A/Users/SN/Desktop/stock_price.ipynb#ch0000037?line=11'>12</a>\u001b[0m plt\u001b[39m.\u001b[39;49mlegend([\u001b[39m'\u001b[39;49m\u001b[39mTrain\u001b[39;49m\u001b[39m'\u001b[39;49m,\u001b[39m'\u001b[39;49m\u001b[39mValid\u001b[39;49m\u001b[39m'\u001b[39;49m,\u001b[39m'\u001b[39;49m\u001b[39mPredictions\u001b[39;49m\u001b[39m'\u001b[39;49m], loc\u001b[39m=\u001b[39;49m\u001b[39m'\u001b[39;49m\u001b[39mupper_center\u001b[39;49m\u001b[39m'\u001b[39;49m)\n",
      "File \u001b[1;32mc:\\Users\\SN\\AppData\\Local\\Programs\\Python\\Python310\\lib\\site-packages\\matplotlib\\pyplot.py:2655\u001b[0m, in \u001b[0;36mlegend\u001b[1;34m(*args, **kwargs)\u001b[0m\n\u001b[0;32m   <a href='file:///c%3A/Users/SN/AppData/Local/Programs/Python/Python310/lib/site-packages/matplotlib/pyplot.py?line=2652'>2653</a>\u001b[0m \u001b[39m@_copy_docstring_and_deprecators\u001b[39m(Axes\u001b[39m.\u001b[39mlegend)\n\u001b[0;32m   <a href='file:///c%3A/Users/SN/AppData/Local/Programs/Python/Python310/lib/site-packages/matplotlib/pyplot.py?line=2653'>2654</a>\u001b[0m \u001b[39mdef\u001b[39;00m \u001b[39mlegend\u001b[39m(\u001b[39m*\u001b[39margs, \u001b[39m*\u001b[39m\u001b[39m*\u001b[39mkwargs):\n\u001b[1;32m-> <a href='file:///c%3A/Users/SN/AppData/Local/Programs/Python/Python310/lib/site-packages/matplotlib/pyplot.py?line=2654'>2655</a>\u001b[0m     \u001b[39mreturn\u001b[39;00m gca()\u001b[39m.\u001b[39mlegend(\u001b[39m*\u001b[39margs, \u001b[39m*\u001b[39m\u001b[39m*\u001b[39mkwargs)\n",
      "File \u001b[1;32mc:\\Users\\SN\\AppData\\Local\\Programs\\Python\\Python310\\lib\\site-packages\\matplotlib\\axes\\_axes.py:305\u001b[0m, in \u001b[0;36mAxes.legend\u001b[1;34m(self, *args, **kwargs)\u001b[0m\n\u001b[0;32m    <a href='file:///c%3A/Users/SN/AppData/Local/Programs/Python/Python310/lib/site-packages/matplotlib/axes/_axes.py?line=302'>303</a>\u001b[0m \u001b[39mif\u001b[39;00m \u001b[39mlen\u001b[39m(extra_args):\n\u001b[0;32m    <a href='file:///c%3A/Users/SN/AppData/Local/Programs/Python/Python310/lib/site-packages/matplotlib/axes/_axes.py?line=303'>304</a>\u001b[0m     \u001b[39mraise\u001b[39;00m \u001b[39mTypeError\u001b[39;00m(\u001b[39m'\u001b[39m\u001b[39mlegend only accepts two non-keyword arguments\u001b[39m\u001b[39m'\u001b[39m)\n\u001b[1;32m--> <a href='file:///c%3A/Users/SN/AppData/Local/Programs/Python/Python310/lib/site-packages/matplotlib/axes/_axes.py?line=304'>305</a>\u001b[0m \u001b[39mself\u001b[39m\u001b[39m.\u001b[39mlegend_ \u001b[39m=\u001b[39m mlegend\u001b[39m.\u001b[39mLegend(\u001b[39mself\u001b[39m, handles, labels, \u001b[39m*\u001b[39m\u001b[39m*\u001b[39mkwargs)\n\u001b[0;32m    <a href='file:///c%3A/Users/SN/AppData/Local/Programs/Python/Python310/lib/site-packages/matplotlib/axes/_axes.py?line=305'>306</a>\u001b[0m \u001b[39mself\u001b[39m\u001b[39m.\u001b[39mlegend_\u001b[39m.\u001b[39m_remove_method \u001b[39m=\u001b[39m \u001b[39mself\u001b[39m\u001b[39m.\u001b[39m_remove_legend\n\u001b[0;32m    <a href='file:///c%3A/Users/SN/AppData/Local/Programs/Python/Python310/lib/site-packages/matplotlib/axes/_axes.py?line=306'>307</a>\u001b[0m \u001b[39mreturn\u001b[39;00m \u001b[39mself\u001b[39m\u001b[39m.\u001b[39mlegend_\n",
      "File \u001b[1;32mc:\\Users\\SN\\AppData\\Local\\Programs\\Python\\Python310\\lib\\site-packages\\matplotlib\\legend.py:455\u001b[0m, in \u001b[0;36mLegend.__init__\u001b[1;34m(self, parent, handles, labels, loc, numpoints, markerscale, markerfirst, scatterpoints, scatteryoffsets, prop, fontsize, labelcolor, borderpad, labelspacing, handlelength, handleheight, handletextpad, borderaxespad, columnspacing, ncol, mode, fancybox, shadow, title, title_fontsize, framealpha, edgecolor, facecolor, bbox_to_anchor, bbox_transform, frameon, handler_map, title_fontproperties)\u001b[0m\n\u001b[0;32m    <a href='file:///c%3A/Users/SN/AppData/Local/Programs/Python/Python310/lib/site-packages/matplotlib/legend.py?line=452'>453</a>\u001b[0m         loc \u001b[39m=\u001b[39m \u001b[39m'\u001b[39m\u001b[39mupper right\u001b[39m\u001b[39m'\u001b[39m\n\u001b[0;32m    <a href='file:///c%3A/Users/SN/AppData/Local/Programs/Python/Python310/lib/site-packages/matplotlib/legend.py?line=453'>454</a>\u001b[0m \u001b[39mif\u001b[39;00m \u001b[39misinstance\u001b[39m(loc, \u001b[39mstr\u001b[39m):\n\u001b[1;32m--> <a href='file:///c%3A/Users/SN/AppData/Local/Programs/Python/Python310/lib/site-packages/matplotlib/legend.py?line=454'>455</a>\u001b[0m     loc \u001b[39m=\u001b[39m _api\u001b[39m.\u001b[39;49mcheck_getitem(\u001b[39mself\u001b[39;49m\u001b[39m.\u001b[39;49mcodes, loc\u001b[39m=\u001b[39;49mloc)\n\u001b[0;32m    <a href='file:///c%3A/Users/SN/AppData/Local/Programs/Python/Python310/lib/site-packages/matplotlib/legend.py?line=455'>456</a>\u001b[0m \u001b[39mif\u001b[39;00m \u001b[39mnot\u001b[39;00m \u001b[39mself\u001b[39m\u001b[39m.\u001b[39misaxes \u001b[39mand\u001b[39;00m loc \u001b[39m==\u001b[39m \u001b[39m0\u001b[39m:\n\u001b[0;32m    <a href='file:///c%3A/Users/SN/AppData/Local/Programs/Python/Python310/lib/site-packages/matplotlib/legend.py?line=456'>457</a>\u001b[0m     \u001b[39mraise\u001b[39;00m \u001b[39mValueError\u001b[39;00m(\n\u001b[0;32m    <a href='file:///c%3A/Users/SN/AppData/Local/Programs/Python/Python310/lib/site-packages/matplotlib/legend.py?line=457'>458</a>\u001b[0m         \u001b[39m\"\u001b[39m\u001b[39mAutomatic legend placement (loc=\u001b[39m\u001b[39m'\u001b[39m\u001b[39mbest\u001b[39m\u001b[39m'\u001b[39m\u001b[39m) not implemented for \u001b[39m\u001b[39m\"\u001b[39m\n\u001b[0;32m    <a href='file:///c%3A/Users/SN/AppData/Local/Programs/Python/Python310/lib/site-packages/matplotlib/legend.py?line=458'>459</a>\u001b[0m         \u001b[39m\"\u001b[39m\u001b[39mfigure legend\u001b[39m\u001b[39m\"\u001b[39m)\n",
      "File \u001b[1;32mc:\\Users\\SN\\AppData\\Local\\Programs\\Python\\Python310\\lib\\site-packages\\matplotlib\\_api\\__init__.py:188\u001b[0m, in \u001b[0;36mcheck_getitem\u001b[1;34m(_mapping, **kwargs)\u001b[0m\n\u001b[0;32m    <a href='file:///c%3A/Users/SN/AppData/Local/Programs/Python/Python310/lib/site-packages/matplotlib/_api/__init__.py?line=185'>186</a>\u001b[0m     \u001b[39mreturn\u001b[39;00m mapping[v]\n\u001b[0;32m    <a href='file:///c%3A/Users/SN/AppData/Local/Programs/Python/Python310/lib/site-packages/matplotlib/_api/__init__.py?line=186'>187</a>\u001b[0m \u001b[39mexcept\u001b[39;00m \u001b[39mKeyError\u001b[39;00m:\n\u001b[1;32m--> <a href='file:///c%3A/Users/SN/AppData/Local/Programs/Python/Python310/lib/site-packages/matplotlib/_api/__init__.py?line=187'>188</a>\u001b[0m     \u001b[39mraise\u001b[39;00m \u001b[39mValueError\u001b[39;00m(\n\u001b[0;32m    <a href='file:///c%3A/Users/SN/AppData/Local/Programs/Python/Python310/lib/site-packages/matplotlib/_api/__init__.py?line=188'>189</a>\u001b[0m         \u001b[39m\"\u001b[39m\u001b[39m{!r}\u001b[39;00m\u001b[39m is not a valid value for \u001b[39m\u001b[39m{}\u001b[39;00m\u001b[39m; supported values are \u001b[39m\u001b[39m{}\u001b[39;00m\u001b[39m\"\u001b[39m\n\u001b[0;32m    <a href='file:///c%3A/Users/SN/AppData/Local/Programs/Python/Python310/lib/site-packages/matplotlib/_api/__init__.py?line=189'>190</a>\u001b[0m         \u001b[39m.\u001b[39mformat(v, k, \u001b[39m'\u001b[39m\u001b[39m, \u001b[39m\u001b[39m'\u001b[39m\u001b[39m.\u001b[39mjoin(\u001b[39mmap\u001b[39m(\u001b[39mrepr\u001b[39m, mapping)))) \u001b[39mfrom\u001b[39;00m \u001b[39mNone\u001b[39m\n",
      "\u001b[1;31mValueError\u001b[0m: 'upper_center' is not a valid value for loc; supported values are 'best', 'upper right', 'upper left', 'lower left', 'lower right', 'right', 'center left', 'center right', 'lower center', 'upper center', 'center'"
     ]
    },
    {
     "data": {
      "image/png": "[encoded data removed]",
      "text/plain": [
       "<Figure size 1152x576 with 1 Axes>"
      ]
     },
     "metadata": {
      "needs_background": "light"
     },
     "output_type": "display_data"
    }
   ],
   "source": [
    "#plot the data\n",
    "train = data[:training_data_len]\n",
    "valid = data[training_data_len:]\n",
    "valid['Predictions'] = predictions\n",
    "#Visialization the data\n",
    "plt.figure(figsize=(16,8))\n",
    "plt.title('Model')\n",
    "plt.xlabel('Date', fontsize=18)\n",
    "plt.ylabel('Close Price' ,fontsize=18)\n",
    "plt.plot(train['Close'],linewidth=3.5)\n",
    "plt.plot(valid[['Close','Predictions']],linewidth=3.5)\n",
    "plt.legend(['Train','Valid','Predictions'], loc='upper_center')"
   ]
  },
  {
   "cell_type": "code",
   "execution_count": 36,
   "metadata": {},
   "outputs": [
    {
     "data": {
      "text/html": [
       "<div>\n",
       "<style scoped>\n",
       "    .dataframe tbody tr th:only-of-type {\n",
       "        vertical-align: middle;\n",
       "    }\n",
       "\n",
       "    .dataframe tbody tr th {\n",
       "        vertical-align: top;\n",
       "    }\n",
       "\n",
       "    .dataframe thead th {\n",
       "        text-align: right;\n",
       "    }\n",
       "</style>\n",
       "<table border=\"1\" class=\"dataframe\">\n",
       "  <thead>\n",
       "    <tr style=\"text-align: right;\">\n",
       "      <th></th>\n",
       "      <th>Close</th>\n",
       "      <th>Predictions</th>\n",
       "    </tr>\n",
       "    <tr>\n",
       "      <th>Date</th>\n",
       "      <th></th>\n",
       "      <th></th>\n",
       "    </tr>\n",
       "  </thead>\n",
       "  <tbody>\n",
       "    <tr>\n",
       "      <th>2017-12-18</th>\n",
       "      <td>295.100006</td>\n",
       "      <td>290.962646</td>\n",
       "    </tr>\n",
       "    <tr>\n",
       "      <th>2017-12-25</th>\n",
       "      <td>294.910004</td>\n",
       "      <td>293.357697</td>\n",
       "    </tr>\n",
       "    <tr>\n",
       "      <th>2018-01-01</th>\n",
       "      <td>308.839996</td>\n",
       "      <td>292.719788</td>\n",
       "    </tr>\n",
       "    <tr>\n",
       "      <th>2018-01-08</th>\n",
       "      <td>336.209991</td>\n",
       "      <td>303.040436</td>\n",
       "    </tr>\n",
       "    <tr>\n",
       "      <th>2018-01-15</th>\n",
       "      <td>337.730011</td>\n",
       "      <td>327.733124</td>\n",
       "    </tr>\n",
       "    <tr>\n",
       "      <th>...</th>\n",
       "      <td>...</td>\n",
       "      <td>...</td>\n",
       "    </tr>\n",
       "    <tr>\n",
       "      <th>2022-05-09</th>\n",
       "      <td>127.199997</td>\n",
       "      <td>149.957275</td>\n",
       "    </tr>\n",
       "    <tr>\n",
       "      <th>2022-05-16</th>\n",
       "      <td>120.699997</td>\n",
       "      <td>133.615570</td>\n",
       "    </tr>\n",
       "    <tr>\n",
       "      <th>2022-05-23</th>\n",
       "      <td>132.229996</td>\n",
       "      <td>124.509415</td>\n",
       "    </tr>\n",
       "    <tr>\n",
       "      <th>2022-05-30</th>\n",
       "      <td>139.250000</td>\n",
       "      <td>131.941238</td>\n",
       "    </tr>\n",
       "    <tr>\n",
       "      <th>2022-06-06</th>\n",
       "      <td>127.000000</td>\n",
       "      <td>141.105957</td>\n",
       "    </tr>\n",
       "  </tbody>\n",
       "</table>\n",
       "<p>234 rows × 2 columns</p>\n",
       "</div>"
      ],
      "text/plain": [
       "                 Close  Predictions\n",
       "Date                               \n",
       "2017-12-18  295.100006   290.962646\n",
       "2017-12-25  294.910004   293.357697\n",
       "2018-01-01  308.839996   292.719788\n",
       "2018-01-08  336.209991   303.040436\n",
       "2018-01-15  337.730011   327.733124\n",
       "...                ...          ...\n",
       "2022-05-09  127.199997   149.957275\n",
       "2022-05-16  120.699997   133.615570\n",
       "2022-05-23  132.229996   124.509415\n",
       "2022-05-30  139.250000   131.941238\n",
       "2022-06-06  127.000000   141.105957\n",
       "\n",
       "[234 rows x 2 columns]"
      ]
     },
     "execution_count": 36,
     "metadata": {},
     "output_type": "execute_result"
    }
   ],
   "source": [
    "#show the valid and predicted price\n",
    "valid"
   ]
  },
  {
   "cell_type": "markdown",
   "metadata": {},
   "source": [
    "### Add extra financial data"
   ]
  },
  {
   "cell_type": "code",
   "execution_count": 92,
   "metadata": {},
   "outputs": [],
   "source": [
    "# url_stats = 'https://finance.yahoo.com/quote/{}/key-statistics?p={}'\n",
    "# url_profile = 'https://finance.yahoo.com/quote/{}/profile?p={}'\n",
    "# url_financials = 'https://finance.yahoo.com/quote/{}/financials?p={}'\n",
    "\n",
    "# stock = 'BA'"
   ]
  },
  {
   "cell_type": "code",
   "execution_count": 96,
   "metadata": {},
   "outputs": [],
   "source": [
    "# response = requests.get(url_financials.format(stock, stock))\n",
    "# soup = BeautifulSoup(response.text, 'html.parser')"
   ]
  }
 ],
 "metadata": {
  "interpreter": {
   "hash": "139e3b4f5b9f6dee72f7384b5b24e0c69f7a714e2e1a9e30130b33a165115932"
  },
  "kernelspec": {
   "display_name": "Python 3.10.4 64-bit",
   "language": "python",
   "name": "python3"
  },
  "language_info": {
   "codemirror_mode": {
    "name": "ipython",
    "version": 3
   },
   "file_extension": ".py",
   "mimetype": "text/x-python",
   "name": "python",
   "nbconvert_exporter": "python",
   "pygments_lexer": "ipython3",
   "version": "3.10.4"
  },
  "orig_nbformat": 4
 },
 "nbformat": 4,
 "nbformat_minor": 2
}
