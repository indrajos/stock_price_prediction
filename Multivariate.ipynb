{
 "cells": [
  {
   "cell_type": "code",
   "execution_count": 1,
   "metadata": {},
   "outputs": [],
   "source": [
    "import numpy as np\n",
    "from tensorflow.keras.models import Sequential\n",
    "from tensorflow.keras.layers import LSTM\n",
    "from tensorflow.keras.layers import Dense, Dropout\n",
    "import pandas_datareader as data\n",
    "import pandas as pd\n",
    "from matplotlib import pyplot as plt\n",
    "from sklearn.preprocessing import StandardScaler\n",
    "import seaborn as sns\n",
    "import datetime\n",
    "from datetime import time\n",
    "from pandas.tseries.frequencies import to_offset\n",
    "import tensorflow as tf\n",
    "from sklearn import metrics"
   ]
  },
  {
   "cell_type": "code",
   "execution_count": 2,
   "metadata": {},
   "outputs": [],
   "source": [
    "# Choosing a period which we want to analyze for training and validating\n",
    "start = datetime.datetime(2000, 1, 1)\n",
    "end = datetime.date.today()\n",
    "\n",
    "# BA boeing company, data from Yahoo finanse\n",
    "stock_d = data.DataReader('XOM', 'yahoo', start, end)\n",
    "\n",
    "# week opening\n",
    "def week_open(array_like):\n",
    "    return array_like[0]\n",
    "\n",
    "# week closing\n",
    "def week_close(array_like):\n",
    "    return array_like[-1]\n",
    "\n",
    "# Aplied logic: that opening day is Monday, Closing day is Friday\n",
    "logic = {\n",
    "                        # Open - first day (Monday) opening value\n",
    "                        'Open': week_open, \n",
    "                        # High - max value of the period\n",
    "                         'High': 'max',\n",
    "                        # Low - min value of the period\n",
    "                         'Low': 'min',\n",
    "                        #  Close - last day closing value (Friday)\n",
    "                         'Close': week_close,\n",
    "                         #  Adj Close - last day closing value (Friday)\n",
    "                         'Adj Close': week_close,\n",
    "                        #  Volume - sum of period Volume values\n",
    "                         'Volume': 'sum'}\n",
    "\n",
    "# Converting daily data to weekly with aplied logic\n",
    "stock_w = stock_d.resample('W').apply(logic) \n",
    "stock_w.index -= to_offset('6D')\n",
    "\n",
    "\n",
    "df = stock_w[['Open', 'High', 'Low',  'Close', 'Adj Close', 'Volume']] #'Close',"
   ]
  },
  {
   "cell_type": "code",
   "execution_count": 3,
   "metadata": {},
   "outputs": [
    {
     "name": "stdout",
     "output_type": "stream",
     "text": [
      "                 Open        High        Low       Close   Adj Close  \\\n",
      "Date                                                                   \n",
      "2000-01-03  39.750000   43.125000  38.250000   42.468750   21.119289   \n",
      "2000-01-10  42.093750   43.000000  41.406250   41.875000   20.824026   \n",
      "2000-01-17  41.375000   42.937500  41.187500   42.500000   21.134829   \n",
      "2000-01-24  42.718750   43.156250  39.437500   39.437500   19.611874   \n",
      "2000-01-31  39.312500   42.437500  38.937500   40.437500   20.109171   \n",
      "...               ...         ...        ...         ...         ...   \n",
      "2022-05-16  88.980003   93.589996  88.970001   91.860001   91.860001   \n",
      "2022-05-23  92.660004   97.930000  92.320000   97.589996   97.589996   \n",
      "2022-05-30  98.559998   99.779999  95.709999   99.089996   99.089996   \n",
      "2022-06-06  99.180000  105.570000  98.669998  100.459999  100.459999   \n",
      "2022-06-13  97.519997   98.669998  93.919998   94.675003   94.675003   \n",
      "\n",
      "                 Volume  \n",
      "Date                     \n",
      "2000-01-03   81519400.0  \n",
      "2000-01-10   50907000.0  \n",
      "2000-01-17   48975200.0  \n",
      "2000-01-24   54588400.0  \n",
      "2000-01-31   59887400.0  \n",
      "...                 ...  \n",
      "2022-05-16  127855500.0  \n",
      "2022-05-23  131384000.0  \n",
      "2022-05-30  110825400.0  \n",
      "2022-06-06  147663000.0  \n",
      "2022-06-13   80227814.0  \n",
      "\n",
      "[1172 rows x 6 columns]\n"
     ]
    }
   ],
   "source": [
    "print(df)"
   ]
  },
  {
   "cell_type": "code",
   "execution_count": 4,
   "metadata": {},
   "outputs": [
    {
     "name": "stdout",
     "output_type": "stream",
     "text": [
      "(1172,)\n",
      "1157   2022-03-07\n",
      "1158   2022-03-14\n",
      "1159   2022-03-21\n",
      "1160   2022-03-28\n",
      "1161   2022-04-04\n",
      "1162   2022-04-11\n",
      "1163   2022-04-18\n",
      "1164   2022-04-25\n",
      "1165   2022-05-02\n",
      "1166   2022-05-09\n",
      "1167   2022-05-16\n",
      "1168   2022-05-23\n",
      "1169   2022-05-30\n",
      "1170   2022-06-06\n",
      "1171   2022-06-13\n",
      "Name: Date, dtype: datetime64[ns]\n"
     ]
    }
   ],
   "source": [
    "df = df.reset_index()\n",
    "#Separate dates for future plotting\n",
    "train_dates = pd.to_datetime(df['Date'])\n",
    "print(train_dates.shape)\n",
    "print(train_dates.tail(15)) #Check last few dates. "
   ]
  },
  {
   "cell_type": "code",
   "execution_count": 5,
   "metadata": {},
   "outputs": [],
   "source": [
    " X_scaler = StandardScaler()\n",
    " Y_scaler = StandardScaler()\n",
    " X_data = X_scaler.fit_transform(df[['Open', 'High', 'Low', 'Adj Close', 'Close']])\n",
    " Y_data = Y_scaler.fit_transform(df[['Close']]) "
   ]
  },
  {
   "cell_type": "code",
   "execution_count": 6,
   "metadata": {},
   "outputs": [],
   "source": [
    " def custom_ts_multi_data_prep(df, target, start, end, n_past, n_future):\n",
    "     X = []\n",
    "     y = []\n",
    "     start = start + n_past\n",
    "     if end is None:\n",
    "         end = len(df) - n_future\n",
    "     for i in range(start, end):\n",
    "         indices = range(i-n_past, i)\n",
    "         X.append(df[indices])\n",
    "         indicey = range(i+1, i+1+n_future)\n",
    "         y.append(target[indicey])\n",
    "     return np.array(X), np.array(y) "
   ]
  },
  {
   "cell_type": "code",
   "execution_count": 7,
   "metadata": {},
   "outputs": [],
   "source": [
    " n_past = 52\n",
    " n_future = 1\n",
    " TRAIN_SPLIT = len(df)-300\n",
    " x_train, y_train = custom_ts_multi_data_prep(X_data, Y_data, 0, TRAIN_SPLIT, n_past, n_future)\n",
    " x_vali, y_vali = custom_ts_multi_data_prep(X_data, Y_data, TRAIN_SPLIT, None, n_past, n_future) "
   ]
  },
  {
   "cell_type": "code",
   "execution_count": 8,
   "metadata": {},
   "outputs": [
    {
     "name": "stdout",
     "output_type": "stream",
     "text": [
      "Multiple window of past history\n",
      "\n",
      "[[-1.45101801 -1.34139294 -1.46709019 -1.47164692 -1.31230238]\n",
      " [-1.33023171 -1.34777196 -1.30268333 -1.48886251 -1.34285121]\n",
      " [-1.36727284 -1.35096147 -1.31407786 -1.47074089 -1.31069455]\n",
      " [-1.29802203 -1.33979818 -1.40523415 -1.55953817 -1.46826217]\n",
      " [-1.47356478 -1.37647757 -1.4312788  -1.5305428  -1.41681152]\n",
      " [-1.45101801 -1.45302586 -1.56638543 -1.62602188 -1.5968888 ]\n",
      " [-1.57985672 -1.48651573 -1.52080729 -1.60962112 -1.56794781]\n",
      " [-1.53476317 -1.57901158 -1.63638043 -1.66702468 -1.66924128]\n",
      " [-1.67004383 -1.5598745  -1.63963601 -1.59959813 -1.55026165]\n",
      " [-1.5927406  -1.44983634 -1.58429113 -1.5800082  -1.51569324]\n",
      " [-1.52832124 -1.50246329 -1.52243508 -1.57864121 -1.51328149]\n",
      " [-1.53637366 -1.55827975 -1.52406287 -1.5768186  -1.51006583]\n",
      " [-1.50899543 -1.4514311  -1.48987927 -1.56588446 -1.49077183]\n",
      " [-1.49611156 -1.42113074 -1.43616217 -1.54310527 -1.45057601]\n",
      " [-1.46390188 -1.45621537 -1.42802322 -1.55495088 -1.47147784]\n",
      " [-1.47356478 -1.51681609 -1.50615717 -1.55130598 -1.46504651]\n",
      " [-1.47356478 -1.46259439 -1.4491845  -1.57044094 -1.498811  ]\n",
      " [-1.4816172  -1.50086853 -1.45406787 -1.53672717 -1.43932118]\n",
      " [-1.4413551  -1.41475171 -1.40848973 -1.50062272 -1.38706661]\n",
      " [-1.38820913 -1.40199366 -1.3775617  -1.50474482 -1.39430186]\n",
      " [-1.37693575 -1.40039891 -1.35802821 -1.49558414 -1.37822353]\n",
      " [-1.38659865 -1.40199366 -1.41174531 -1.54230611 -1.46022301]\n",
      " [-1.46390188 -1.4370783  -1.40848973 -1.54230611 -1.46022301]\n",
      " [-1.4413551  -1.38923562 -1.37918949 -1.46626859 -1.32677288]\n",
      " [-1.33667365 -1.37966708 -1.33035577 -1.48459062 -1.35892954]\n",
      " [-1.35438897 -1.39401989 -1.43616217 -1.55238338 -1.47790917]\n",
      " [-1.46873333 -1.50724756 -1.4654624  -1.55215384 -1.47750721]\n",
      " [-1.47678575 -1.48173146 -1.46871799 -1.56612478 -1.50202666]\n",
      " [-1.43974462 -1.50246329 -1.45732345 -1.57253769 -1.51328149]\n",
      " [-1.51543737 -1.47535244 -1.50290159 -1.53039667 -1.43932118]\n",
      " [-1.43652365 -1.40996744 -1.39709519 -1.50543231 -1.39550773]\n",
      " [-1.41558736 -1.43867305 -1.36616717 -1.50373225 -1.40394886]\n",
      " [-1.3817672  -1.39880415 -1.3433781  -1.48093504 -1.36415499]\n",
      " [-1.36083091 -1.37966708 -1.31245007 -1.4807045  -1.36375303]\n",
      " [-1.36888333 -1.40358842 -1.34500589 -1.487152   -1.37500786]\n",
      " [-1.35760994 -1.39401989 -1.31733345 -1.47241415 -1.34928254]\n",
      " [-1.34794704 -1.24889709 -1.28640542 -1.40609403 -1.23351857]\n",
      " [-1.20300348 -1.22657051 -1.24896623 -1.42820085 -1.27210656]\n",
      " [-1.28674864 -1.24730234 -1.26361635 -1.38974464 -1.20497954]\n",
      " [-1.19656154 -1.20264917 -1.16920449 -1.38490869 -1.19653842]\n",
      " [-1.19495106 -1.10696381 -1.13502088 -1.36925003 -1.16920526]\n",
      " [-1.16757283 -1.23294953 -1.22454937 -1.39964609 -1.22226374]\n",
      " [-1.22232929 -1.23932856 -1.21315484 -1.41254152 -1.2447734 ]\n",
      " [-1.24326558 -1.19308064 -1.1838546  -1.413463   -1.24638124]\n",
      " [-1.23843413 -1.21381246 -1.19850472 -1.37663091 -1.19332275]\n",
      " [-1.19011961 -1.20264917 -1.15943774 -1.36552351 -1.17402876]\n",
      " [-1.16596235 -1.12610089 -1.10083728 -1.30443335 -1.06791179]\n",
      " [-1.0902696  -1.13566942 -1.20501588 -1.38773753 -1.21261674]\n",
      " [-1.2110559  -1.21062295 -1.22780495 -1.39236619 -1.22065591]\n",
      " [-1.21749783 -1.27919746 -1.26849972 -1.45715807 -1.33320421]\n",
      " [-1.32862123 -1.28398172 -1.27012751 -1.4173579  -1.2640674 ]\n",
      " [-1.26259139 -1.2632499  -1.219666   -1.41550604 -1.26085173]]\n",
      "\n",
      " Target horizon\n",
      "\n",
      "[[-1.3669687]]\n"
     ]
    }
   ],
   "source": [
    " print ('Multiple window of past history\\n')\n",
    " print(x_train[0])\n",
    " print ('\\n Target horizon\\n')\n",
    " print (y_train[0]) "
   ]
  },
  {
   "cell_type": "code",
   "execution_count": 9,
   "metadata": {},
   "outputs": [],
   "source": [
    " batch_size = 256\n",
    " buffer_size = 150\n",
    " train_data = tf.data.Dataset.from_tensor_slices((x_train, y_train))\n",
    " train_data = train_data.cache().shuffle(buffer_size).batch(batch_size).repeat()\n",
    " val_data = tf.data.Dataset.from_tensor_slices((x_vali, y_vali))\n",
    " val_data = val_data.batch(batch_size).repeat()"
   ]
  },
  {
   "cell_type": "code",
   "execution_count": 10,
   "metadata": {},
   "outputs": [
    {
     "name": "stdout",
     "output_type": "stream",
     "text": [
      "Model: \"sequential\"\n",
      "_________________________________________________________________\n",
      " Layer (type)                Output Shape              Param #   \n",
      "=================================================================\n",
      " lstm (LSTM)                 (None, 52, 64)            17920     \n",
      "                                                                 \n",
      " dropout (Dropout)           (None, 52, 64)            0         \n",
      "                                                                 \n",
      " lstm_1 (LSTM)               (None, 32)                12416     \n",
      "                                                                 \n",
      " dropout_1 (Dropout)         (None, 32)                0         \n",
      "                                                                 \n",
      " dense (Dense)               (None, 1)                 33        \n",
      "                                                                 \n",
      "=================================================================\n",
      "Total params: 30,369\n",
      "Trainable params: 30,369\n",
      "Non-trainable params: 0\n",
      "_________________________________________________________________\n"
     ]
    }
   ],
   "source": [
    "model = Sequential()\n",
    "model.add(LSTM(64, activation='relu', input_shape=(x_train.shape[1], x_train.shape[2]), return_sequences=True))\n",
    "model.add(Dropout(0.2)) #DELETE\n",
    "model.add(LSTM(32, activation='relu', return_sequences=False))\n",
    "model.add(Dropout(0.3))\n",
    "model.add(Dense(n_future))\n",
    "\n",
    "model.compile(optimizer='adam', loss='mse', metrics='mae')\n",
    "model.summary()"
   ]
  },
  {
   "cell_type": "code",
   "execution_count": 11,
   "metadata": {},
   "outputs": [
    {
     "name": "stdout",
     "output_type": "stream",
     "text": [
      "Epoch 1/5\n",
      "64/64 [==============================] - 13s 170ms/step - loss: 0.2660 - mae: 0.3759 - val_loss: 0.1787 - val_mae: 0.3162\n",
      "Epoch 2/5\n",
      "64/64 [==============================] - 11s 177ms/step - loss: 0.0820 - mae: 0.2258 - val_loss: 0.1605 - val_mae: 0.2949\n",
      "Epoch 3/5\n",
      "64/64 [==============================] - 12s 181ms/step - loss: 0.0726 - mae: 0.2122 - val_loss: 0.1547 - val_mae: 0.2895\n",
      "Epoch 4/5\n",
      "64/64 [==============================] - 11s 177ms/step - loss: 0.0678 - mae: 0.2044 - val_loss: 0.1537 - val_mae: 0.2876\n",
      "Epoch 5/5\n",
      "64/64 [==============================] - 11s 180ms/step - loss: 0.0654 - mae: 0.2008 - val_loss: 0.1412 - val_mae: 0.2743\n"
     ]
    }
   ],
   "source": [
    "\n",
    "model_path = 'Bidirectional_LSTM_Multivariate.h5'\n",
    "early_stopings = tf.keras.callbacks.EarlyStopping(monitor='val_loss', min_delta=0, patience=5) #,  mode='min'\n",
    "checkpoint =  tf.keras.callbacks.ModelCheckpoint(model_path, monitor='val_loss', save_best_only=True,  verbose=0) #mode='min',\n",
    "callbacks=[early_stopings,checkpoint] \n",
    "history = model.fit(train_data,epochs=5,steps_per_epoch=64,validation_data=val_data, validation_steps=64)"
   ]
  },
  {
   "cell_type": "code",
   "execution_count": 12,
   "metadata": {},
   "outputs": [
    {
     "data": {
      "image/png": "[encoded data removed]",
      "text/plain": [
       "<Figure size 1152x648 with 1 Axes>"
      ]
     },
     "metadata": {
      "needs_background": "light"
     },
     "output_type": "display_data"
    }
   ],
   "source": [
    "plt.figure(figsize=(16,9))\n",
    "plt.plot(history.history['loss'])\n",
    "plt.plot(history.history['val_loss'])\n",
    "plt.title('Model loss')\n",
    "plt.ylabel('loss')\n",
    "plt.xlabel('epoch')\n",
    "plt.legend(['train loss', 'validation loss'])\n",
    "plt.show() "
   ]
  },
  {
   "cell_type": "code",
   "execution_count": 13,
   "metadata": {},
   "outputs": [
    {
     "name": "stdout",
     "output_type": "stream",
     "text": [
      "1/1 [==============================] - 0s 293ms/step\n"
     ]
    },
    {
     "data": {
      "text/plain": [
       "array([[102.030785]], dtype=float32)"
      ]
     },
     "execution_count": 13,
     "metadata": {},
     "output_type": "execute_result"
    }
   ],
   "source": [
    "data_val = X_scaler.fit_transform(df[['Open', 'High', 'Low', 'Adj Close', 'Close']].tail(52))\n",
    "val_rescaled = data_val.reshape(1, data_val.shape[0], data_val.shape[1])\n",
    "pred = model.predict(val_rescaled)\n",
    "pred_Inverse = Y_scaler.inverse_transform(pred)\n",
    "pred_Inverse "
   ]
  },
  {
   "cell_type": "code",
   "execution_count": 14,
   "metadata": {},
   "outputs": [
    {
     "ename": "NameError",
     "evalue": "name 'validate' is not defined",
     "output_type": "error",
     "traceback": [
      "\u001b[1;31m---------------------------------------------------------------------------\u001b[0m",
      "\u001b[1;31mNameError\u001b[0m                                 Traceback (most recent call last)",
      "\u001b[1;32mc:\\Users\\simon\\PycharmProjects\\SDA Course\\S_I_projektas\\stock_price_prediction\\Multivariate.ipynb Cell 14'\u001b[0m in \u001b[0;36m<module>\u001b[1;34m\u001b[0m\n\u001b[0;32m      <a href='vscode-notebook-cell:/c%3A/Users/simon/PycharmProjects/SDA%20Course/S_I_projektas/stock_price_prediction/Multivariate.ipynb#ch0000013?line=8'>9</a>\u001b[0m      \u001b[39mprint\u001b[39m(\u001b[39mf\u001b[39m\u001b[39m'\u001b[39m\u001b[39mMAPE is : \u001b[39m\u001b[39m{\u001b[39;00mmean_absolute_percentage_error(y_true, y_pred)\u001b[39m}\u001b[39;00m\u001b[39m'\u001b[39m)\n\u001b[0;32m     <a href='vscode-notebook-cell:/c%3A/Users/simon/PycharmProjects/SDA%20Course/S_I_projektas/stock_price_prediction/Multivariate.ipynb#ch0000013?line=9'>10</a>\u001b[0m      \u001b[39mprint\u001b[39m(\u001b[39mf\u001b[39m\u001b[39m'\u001b[39m\u001b[39mR2 is : \u001b[39m\u001b[39m{\u001b[39;00mmetrics\u001b[39m.\u001b[39mr2_score(y_true, y_pred)\u001b[39m}\u001b[39;00m\u001b[39m'\u001b[39m,end\u001b[39m=\u001b[39m\u001b[39m'\u001b[39m\u001b[39m\\n\u001b[39;00m\u001b[39m\\n\u001b[39;00m\u001b[39m'\u001b[39m) \n\u001b[1;32m---> <a href='vscode-notebook-cell:/c%3A/Users/simon/PycharmProjects/SDA%20Course/S_I_projektas/stock_price_prediction/Multivariate.ipynb#ch0000013?line=10'>11</a>\u001b[0m timeseries_evaluation_metrics_func(validate[\u001b[39m'\u001b[39m\u001b[39mClose\u001b[39m\u001b[39m'\u001b[39m], pred_Inverse[\u001b[39m0\u001b[39m])\n",
      "\u001b[1;31mNameError\u001b[0m: name 'validate' is not defined"
     ]
    }
   ],
   "source": [
    "def timeseries_evaluation_metrics_func(y_true, y_pred):\n",
    "     def mean_absolute_percentage_error(y_true, y_pred): \n",
    "         y_true, y_pred = np.array(y_true), np.array(y_pred)\n",
    "         return np.mean(np.abs((y_true - y_pred) / y_true)) * 100\n",
    "     print('Evaluation metric results:-')\n",
    "     print(f'MSE is : {metrics.mean_squared_error(y_true, y_pred)}')\n",
    "     print(f'MAE is : {metrics.mean_absolute_error(y_true, y_pred)}')\n",
    "     print(f'RMSE is : {np.sqrt(metrics.mean_squared_error(y_true, y_pred))}')\n",
    "     print(f'MAPE is : {mean_absolute_percentage_error(y_true, y_pred)}')\n",
    "     print(f'R2 is : {metrics.r2_score(y_true, y_pred)}',end='\\n\\n') \n",
    "timeseries_evaluation_metrics_func(validate['Close'], pred_Inverse[0])"
   ]
  },
  {
   "cell_type": "code",
   "execution_count": null,
   "metadata": {},
   "outputs": [
    {
     "data": {
      "text/plain": [
       "array([-25.386887], dtype=float32)"
      ]
     },
     "execution_count": 73,
     "metadata": {},
     "output_type": "execute_result"
    }
   ],
   "source": [
    "pred_Inverse[0]"
   ]
  },
  {
   "cell_type": "code",
   "execution_count": null,
   "metadata": {},
   "outputs": [
    {
     "ename": "NameError",
     "evalue": "name 'y_true' is not defined",
     "output_type": "error",
     "traceback": [
      "\u001b[1;31m---------------------------------------------------------------------------\u001b[0m",
      "\u001b[1;31mNameError\u001b[0m                                 Traceback (most recent call last)",
      "\u001b[1;32mc:\\Users\\simon\\PycharmProjects\\SDA Course\\S_I_projektas\\stock_price_prediction\\Multivariate.ipynb Cell 17'\u001b[0m in \u001b[0;36m<module>\u001b[1;34m\u001b[0m\n\u001b[1;32m----> <a href='vscode-notebook-cell:/c%3A/Users/simon/PycharmProjects/SDA%20Course/S_I_projektas/stock_price_prediction/Multivariate.ipynb#ch0000018?line=0'>1</a>\u001b[0m y_true\n",
      "\u001b[1;31mNameError\u001b[0m: name 'y_true' is not defined"
     ]
    }
   ],
   "source": [
    "y_true"
   ]
  },
  {
   "cell_type": "code",
   "execution_count": null,
   "metadata": {},
   "outputs": [],
   "source": [
    "plt.figure(figsize=(16,9))\n",
    "plt.plot( list(validate['traffic_volume']))\n",
    "plt.plot( list(pred_Inverse[0]))\n",
    "plt.title(\"Actual vs Predicted\")\n",
    "plt.ylabel(\"Traffic volume\")\n",
    "plt.legend(('Actual','predicted'))\n",
    "plt.show() "
   ]
  }
 ],
 "metadata": {
  "kernelspec": {
   "display_name": "Python 3.10.1 64-bit",
   "language": "python",
   "name": "python3"
  },
  "language_info": {
   "codemirror_mode": {
    "name": "ipython",
    "version": 3
   },
   "file_extension": ".py",
   "mimetype": "text/x-python",
   "name": "python",
   "nbconvert_exporter": "python",
   "pygments_lexer": "ipython3",
   "version": "3.10.1"
  },
  "orig_nbformat": 4,
  "vscode": {
   "interpreter": {
    "hash": "7101ca937a6cefa303d920fd1335fe82956cc294edbf5f7bc268a5a56c54bb64"
   }
  }
 },
 "nbformat": 4,
 "nbformat_minor": 2
}
