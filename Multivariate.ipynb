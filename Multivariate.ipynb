{
 "cells": [
  {
   "cell_type": "code",
   "execution_count": 38,
   "metadata": {},
   "outputs": [],
   "source": [
    "import numpy as np\n",
    "from tensorflow.keras.models import Sequential\n",
    "from tensorflow.keras.layers import LSTM\n",
    "from tensorflow.keras.layers import Dense, Dropout\n",
    "import pandas_datareader as data\n",
    "import pandas as pd\n",
    "from matplotlib import pyplot as plt\n",
    "from sklearn.preprocessing import StandardScaler\n",
    "import seaborn as sns\n",
    "import datetime\n",
    "from datetime import time\n",
    "from pandas.tseries.frequencies import to_offset\n",
    "import tensorflow as tf\n",
    "from sklearn import metrics"
   ]
  },
  {
   "cell_type": "code",
   "execution_count": 43,
   "metadata": {},
   "outputs": [],
   "source": [
    "# Choosing a period which we want to analyze for training and validating\n",
    "start = datetime.datetime(2000, 1, 1)\n",
    "end = datetime.date.today()\n",
    "\n",
    "# BA boeing company, data from Yahoo finanse\n",
    "stock_d = data.DataReader('XOM', 'yahoo', start, end)\n",
    "\n",
    "# week opening\n",
    "def week_open(array_like):\n",
    "    return array_like[0]\n",
    "\n",
    "# week closing\n",
    "def week_close(array_like):\n",
    "    return array_like[-1]\n",
    "\n",
    "# Aplied logic: that opening day is Monday, Closing day is Friday\n",
    "logic = {\n",
    "                        # Open - first day (Monday) opening value\n",
    "                        'Open': week_open, \n",
    "                        # High - max value of the period\n",
    "                         'High': 'max',\n",
    "                        # Low - min value of the period\n",
    "                         'Low': 'min',\n",
    "                        #  Close - last day closing value (Friday)\n",
    "                         'Close': week_close,\n",
    "                         #  Adj Close - last day closing value (Friday)\n",
    "                         'Adj Close': week_close,\n",
    "                        #  Volume - sum of period Volume values\n",
    "                         'Volume': 'sum'}\n",
    "\n",
    "# Converting daily data to weekly with aplied logic\n",
    "stock_w = stock_d.resample('W').apply(logic) \n",
    "stock_w.index -= to_offset('6D')\n",
    "\n",
    "\n",
    "df = stock_w[['Open', 'High', 'Low',  'Close', 'Adj Close']] #'Close',"
   ]
  },
  {
   "cell_type": "code",
   "execution_count": 44,
   "metadata": {},
   "outputs": [
    {
     "name": "stdout",
     "output_type": "stream",
     "text": [
      "                 Open        High        Low       Close   Adj Close\n",
      "Date                                                                \n",
      "2000-01-03  39.750000   43.125000  38.250000   42.468750   21.119295\n",
      "2000-01-10  42.093750   43.000000  41.406250   41.875000   20.824024\n",
      "2000-01-17  41.375000   42.937500  41.187500   42.500000   21.134819\n",
      "2000-01-24  42.718750   43.156250  39.437500   39.437500   19.611874\n",
      "2000-01-31  39.312500   42.437500  38.937500   40.437500   20.109169\n",
      "...               ...         ...        ...         ...         ...\n",
      "2022-05-16  88.980003   93.589996  88.970001   91.860001   91.860001\n",
      "2022-05-23  92.660004   97.930000  92.320000   97.589996   97.589996\n",
      "2022-05-30  98.559998   99.779999  95.709999   99.089996   99.089996\n",
      "2022-06-06  99.180000  105.570000  98.669998  100.459999  100.459999\n",
      "2022-06-13  97.519997   98.669998  93.269997   94.769997   94.769997\n",
      "\n",
      "[1172 rows x 5 columns]\n"
     ]
    }
   ],
   "source": [
    "print(df)"
   ]
  },
  {
   "cell_type": "code",
   "execution_count": 45,
   "metadata": {},
   "outputs": [
    {
     "name": "stderr",
     "output_type": "stream",
     "text": [
      "c:\\Users\\simon\\AppData\\Local\\Programs\\Python\\Python310\\lib\\site-packages\\pandas\\core\\frame.py:4906: SettingWithCopyWarning: \n",
      "A value is trying to be set on a copy of a slice from a DataFrame\n",
      "\n",
      "See the caveats in the documentation: https://pandas.pydata.org/pandas-docs/stable/user_guide/indexing.html#returning-a-view-versus-a-copy\n",
      "  return super().drop(\n"
     ]
    }
   ],
   "source": [
    "x = 1\n",
    "validate = df[['Open', 'High', 'Low',  'Close', 'Adj Close']].tail(x)\n",
    "df.drop(df.tail(x).index,inplace=True)"
   ]
  },
  {
   "cell_type": "code",
   "execution_count": 46,
   "metadata": {},
   "outputs": [
    {
     "name": "stdout",
     "output_type": "stream",
     "text": [
      "(1171,)\n",
      "1156   2022-02-28\n",
      "1157   2022-03-07\n",
      "1158   2022-03-14\n",
      "1159   2022-03-21\n",
      "1160   2022-03-28\n",
      "1161   2022-04-04\n",
      "1162   2022-04-11\n",
      "1163   2022-04-18\n",
      "1164   2022-04-25\n",
      "1165   2022-05-02\n",
      "1166   2022-05-09\n",
      "1167   2022-05-16\n",
      "1168   2022-05-23\n",
      "1169   2022-05-30\n",
      "1170   2022-06-06\n",
      "Name: Date, dtype: datetime64[ns]\n"
     ]
    }
   ],
   "source": [
    "df = df.reset_index()\n",
    "#Separate dates for future plotting\n",
    "train_dates = pd.to_datetime(df['Date'])\n",
    "print(train_dates.shape)\n",
    "print(train_dates.tail(15)) #Check last few dates. "
   ]
  },
  {
   "cell_type": "code",
   "execution_count": 47,
   "metadata": {},
   "outputs": [],
   "source": [
    " X_scaler = StandardScaler()\n",
    " Y_scaler = StandardScaler()\n",
    " X_data = X_scaler.fit_transform(df[['Open', 'High', 'Low', 'Adj Close', 'Close']])\n",
    " Y_data = Y_scaler.fit_transform(df[['Close']]) "
   ]
  },
  {
   "cell_type": "code",
   "execution_count": 48,
   "metadata": {},
   "outputs": [],
   "source": [
    " def custom_ts_multi_data_prep(df, target, start, end, n_past, n_future):\n",
    "     X = []\n",
    "     y = []\n",
    "     start = start + n_past\n",
    "     if end is None:\n",
    "         end = len(df) - n_future\n",
    "     for i in range(start, end):\n",
    "         indices = range(i-n_past, i)\n",
    "         X.append(df[indices])\n",
    "         indicey = range(i+1, i+1+n_future)\n",
    "         y.append(target[indicey])\n",
    "     return np.array(X), np.array(y) "
   ]
  },
  {
   "cell_type": "code",
   "execution_count": 49,
   "metadata": {},
   "outputs": [],
   "source": [
    " n_past = 52\n",
    " n_future = 1\n",
    " TRAIN_SPLIT = len(df)-300\n",
    " x_train, y_train = custom_ts_multi_data_prep(X_data, Y_data, 0, TRAIN_SPLIT, n_past, n_future)\n",
    " x_vali, y_vali = custom_ts_multi_data_prep(X_data, Y_data, TRAIN_SPLIT, None, n_past, n_future) "
   ]
  },
  {
   "cell_type": "code",
   "execution_count": 50,
   "metadata": {},
   "outputs": [
    {
     "name": "stdout",
     "output_type": "stream",
     "text": [
      "Multiple window of past history\n",
      "\n",
      "[[-1.45053944 -1.34082304 -1.46652712 -1.47361585 -1.3116271 ]\n",
      " [-1.32968442 -1.34720542 -1.30204618 -1.49088315 -1.34218752]\n",
      " [-1.36674663 -1.35039661 -1.31344585 -1.47270802 -1.31001866]\n",
      " [-1.29745642 -1.33922745 -1.4046432  -1.56176915 -1.46764611]\n",
      " [-1.47309904 -1.37592614 -1.43069959 -1.53268755 -1.41617592]\n",
      " [-1.45053944 -1.45251471 -1.56586709 -1.62845105 -1.59632158]\n",
      " [-1.57945145 -1.48602221 -1.52026841 -1.61200112 -1.5673696 ]\n",
      " [-1.53433225 -1.57856673 -1.63589363 -1.66957605 -1.66870153]\n",
      " [-1.66968986 -1.55941959 -1.63915068 -1.60194817 -1.54967672]\n",
      " [-1.59234265 -1.44932352 -1.58378086 -1.58230002 -1.51509519]\n",
      " [-1.52788664 -1.50197816 -1.52189694 -1.5809293  -1.51268252]\n",
      " [-1.53594365 -1.55782399 -1.52352546 -1.57910159 -1.50946564]\n",
      " [-1.50854984 -1.45091911 -1.48932646 -1.568135   -1.49016431]\n",
      " [-1.49565864 -1.4206028  -1.43558516 -1.54528776 -1.44995323]\n",
      " [-1.46343064 -1.4557059  -1.42744254 -1.55716831 -1.47086299]\n",
      " [-1.47309904 -1.51633852 -1.5056117  -1.55351211 -1.46442922]\n",
      " [-1.47309904 -1.46208828 -1.44861335 -1.57270405 -1.49820653]\n",
      " [-1.48115604 -1.50038256 -1.45349893 -1.53889033 -1.43869413]\n",
      " [-1.44087104 -1.41422042 -1.40790025 -1.50267848 -1.38641972]\n",
      " [-1.38769483 -1.40145566 -1.37695829 -1.50681297 -1.39365771]\n",
      " [-1.37641503 -1.39986007 -1.357416   -1.49762446 -1.37757328]\n",
      " [-1.38608343 -1.40145566 -1.4111573  -1.54448567 -1.45960389]\n",
      " [-1.46343064 -1.43655876 -1.40790025 -1.54448567 -1.45960389]\n",
      " [-1.44087104 -1.3886909  -1.37858682 -1.46822173 -1.32610309]\n",
      " [-1.33613002 -1.37911733 -1.32973109 -1.48659898 -1.35827196]\n",
      " [-1.35385543 -1.39347769 -1.43558516 -1.55459283 -1.47729677]\n",
      " [-1.46826484 -1.50676494 -1.46489859 -1.55436339 -1.47689466]\n",
      " [-1.47632184 -1.48123542 -1.46815564 -1.56837593 -1.50142342]\n",
      " [-1.43925964 -1.50197816 -1.45675597 -1.57480794 -1.51268252]\n",
      " [-1.51499544 -1.47485304 -1.50235465 -1.53254076 -1.43869413]\n",
      " [-1.43603684 -1.40943364 -1.39650058 -1.50750173 -1.39486404]\n",
      " [-1.41508863 -1.43815435 -1.36555862 -1.50579705 -1.40330837]\n",
      " [-1.38124923 -1.39826447 -1.34275928 -1.48293185 -1.3634994 ]\n",
      " [-1.36030103 -1.37911733 -1.31181733 -1.48270118 -1.36309729]\n",
      " [-1.36835803 -1.40305126 -1.34438781 -1.48916754 -1.37435639]\n",
      " [-1.35707823 -1.39347769 -1.3167029  -1.47438604 -1.3486213 ]\n",
      " [-1.34740983 -1.24827852 -1.28576094 -1.40786876 -1.23281337]\n",
      " [-1.20238381 -1.22594019 -1.24830488 -1.43004052 -1.27141601]\n",
      " [-1.28617662 -1.24668293 -1.2629616  -1.39146947 -1.2042635 ]\n",
      " [-1.19593821 -1.20200626 -1.1685072  -1.38661956 -1.19581918]\n",
      " [-1.19432681 -1.10627055 -1.1343082  -1.37091372 -1.16847564]\n",
      " [-1.16693301 -1.23232257 -1.22387702 -1.40140084 -1.22155427]\n",
      " [-1.22172061 -1.23870495 -1.21247735 -1.41433523 -1.24407248]\n",
      " [-1.24266882 -1.19243269 -1.18316392 -1.41525868 -1.24568092]\n",
      " [-1.23783461 -1.21317543 -1.19782064 -1.37831691 -1.19260229]\n",
      " [-1.18949261 -1.20200626 -1.15873606 -1.36717699 -1.17330097]\n",
      " [-1.16532161 -1.12541769 -1.10010919 -1.30590448 -1.0671437 ]\n",
      " [-1.0895858  -1.13499126 -1.20433473 -1.38945694 -1.21190361]\n",
      " [-1.21044081 -1.20998424 -1.22713407 -1.39409882 -1.21994583]\n",
      " [-1.21688641 -1.27859483 -1.26784717 -1.45908497 -1.33253686]\n",
      " [-1.32807302 -1.28338162 -1.2694757  -1.41916495 -1.2633738 ]\n",
      " [-1.26200562 -1.26263888 -1.21899145 -1.41730824 -1.26015691]]\n",
      "\n",
      " Target\n",
      "\n",
      "[[-1.36631417]]\n"
     ]
    }
   ],
   "source": [
    " print ('Multiple window of past history\\n')\n",
    " print(x_train[0])\n",
    " print ('\\n Target\\n')\n",
    " print (y_train[0]) "
   ]
  },
  {
   "cell_type": "code",
   "execution_count": 9,
   "metadata": {},
   "outputs": [],
   "source": [
    " batch_size = 256\n",
    " buffer_size = 150\n",
    " train_data = tf.data.Dataset.from_tensor_slices((x_train, y_train))\n",
    " train_data = train_data.cache().shuffle(buffer_size).batch(batch_size).repeat()\n",
    " val_data = tf.data.Dataset.from_tensor_slices((x_vali, y_vali))\n",
    " val_data = val_data.batch(batch_size).repeat()"
   ]
  },
  {
   "cell_type": "code",
   "execution_count": 10,
   "metadata": {},
   "outputs": [
    {
     "name": "stdout",
     "output_type": "stream",
     "text": [
      "Model: \"sequential\"\n",
      "_________________________________________________________________\n",
      " Layer (type)                Output Shape              Param #   \n",
      "=================================================================\n",
      " lstm (LSTM)                 (None, 52, 64)            17920     \n",
      "                                                                 \n",
      " dropout (Dropout)           (None, 52, 64)            0         \n",
      "                                                                 \n",
      " lstm_1 (LSTM)               (None, 32)                12416     \n",
      "                                                                 \n",
      " dropout_1 (Dropout)         (None, 32)                0         \n",
      "                                                                 \n",
      " dense (Dense)               (None, 1)                 33        \n",
      "                                                                 \n",
      "=================================================================\n",
      "Total params: 30,369\n",
      "Trainable params: 30,369\n",
      "Non-trainable params: 0\n",
      "_________________________________________________________________\n"
     ]
    }
   ],
   "source": [
    "model = Sequential()\n",
    "model.add(LSTM(64, activation='relu', input_shape=(x_train.shape[1], x_train.shape[2]), return_sequences=True))\n",
    "model.add(Dropout(0.2)) #DELETE\n",
    "model.add(LSTM(32, activation='relu', return_sequences=False))\n",
    "model.add(Dropout(0.3))\n",
    "model.add(Dense(n_future))\n",
    "\n",
    "model.compile(optimizer='adam', loss='mse', metrics='mae')\n",
    "model.summary()"
   ]
  },
  {
   "cell_type": "code",
   "execution_count": 51,
   "metadata": {},
   "outputs": [
    {
     "name": "stdout",
     "output_type": "stream",
     "text": [
      "Epoch 1/5\n",
      "64/64 [==============================] - 10s 162ms/step - loss: 0.0638 - mae: 0.1981 - val_loss: 0.1348 - val_mae: 0.2677\n",
      "Epoch 2/5\n",
      "64/64 [==============================] - 11s 168ms/step - loss: 0.0631 - mae: 0.1962 - val_loss: 0.1363 - val_mae: 0.2701\n",
      "Epoch 3/5\n",
      "64/64 [==============================] - 11s 170ms/step - loss: 0.0609 - mae: 0.1934 - val_loss: 0.1355 - val_mae: 0.2701\n",
      "Epoch 4/5\n",
      "64/64 [==============================] - 12s 186ms/step - loss: 0.0599 - mae: 0.1914 - val_loss: 0.1344 - val_mae: 0.2694\n",
      "Epoch 5/5\n",
      "64/64 [==============================] - 12s 181ms/step - loss: 0.0588 - mae: 0.1902 - val_loss: 0.1460 - val_mae: 0.2891\n"
     ]
    }
   ],
   "source": [
    "\n",
    "model_path = 'LSTM_multivariate.h5'\n",
    "early_stopings = tf.keras.callbacks.EarlyStopping(monitor='val_loss', min_delta=0, patience=5) #,  mode='min'\n",
    "checkpoint =  tf.keras.callbacks.ModelCheckpoint(model_path, monitor='val_loss', save_best_only=True,  verbose=0) #mode='min',\n",
    "callbacks=[early_stopings,checkpoint] \n",
    "history = model.fit(train_data,epochs=5,steps_per_epoch=64,validation_data=val_data, validation_steps=64)"
   ]
  },
  {
   "cell_type": "code",
   "execution_count": 52,
   "metadata": {},
   "outputs": [
    {
     "data": {
      "image/png": "[encoded data removed]",
      "text/plain": [
       "<Figure size 1152x648 with 1 Axes>"
      ]
     },
     "metadata": {
      "needs_background": "light"
     },
     "output_type": "display_data"
    }
   ],
   "source": [
    "plt.figure(figsize=(16,9))\n",
    "plt.plot(history.history['loss'])\n",
    "plt.plot(history.history['val_loss'])\n",
    "plt.title('Model loss')\n",
    "plt.ylabel('loss')\n",
    "plt.xlabel('epoch')\n",
    "plt.legend(['train loss', 'validation loss'])\n",
    "plt.show() "
   ]
  },
  {
   "cell_type": "code",
   "execution_count": 56,
   "metadata": {},
   "outputs": [
    {
     "name": "stdout",
     "output_type": "stream",
     "text": [
      "1/1 [==============================] - 0s 29ms/step\n"
     ]
    },
    {
     "data": {
      "text/plain": [
       "array([[103.31351]], dtype=float32)"
      ]
     },
     "execution_count": 56,
     "metadata": {},
     "output_type": "execute_result"
    }
   ],
   "source": [
    "data_val = X_scaler.fit_transform(df[['Open', 'High', 'Low', 'Adj Close', 'Close']].tail(52))\n",
    "val_rescaled = data_val.reshape(1, data_val.shape[0], data_val.shape[1])\n",
    "pred = model.predict(val_rescaled)\n",
    "pred_Inverse = Y_scaler.inverse_transform(pred)\n",
    "pred_Inverse"
   ]
  },
  {
   "cell_type": "code",
   "execution_count": 57,
   "metadata": {},
   "outputs": [
    {
     "name": "stdout",
     "output_type": "stream",
     "text": [
      "Evaluation metric results:-\n",
      "MSE is : 72.99157058732817\n",
      "MAE is : 8.543510437011719\n",
      "RMSE is : 8.543510437011719\n",
      "MAPE is : 9.014994976932693\n",
      "R2 is : nan\n",
      "\n"
     ]
    },
    {
     "name": "stderr",
     "output_type": "stream",
     "text": [
      "c:\\Users\\simon\\AppData\\Local\\Programs\\Python\\Python310\\lib\\site-packages\\sklearn\\metrics\\_regression.py:918: UndefinedMetricWarning: R^2 score is not well-defined with less than two samples.\n",
      "  warnings.warn(msg, UndefinedMetricWarning)\n"
     ]
    }
   ],
   "source": [
    "def timeseries_evaluation_metrics_func(y_true, y_pred):\n",
    "     def mean_absolute_percentage_error(y_true, y_pred): \n",
    "         y_true, y_pred = np.array(y_true), np.array(y_pred)\n",
    "         return np.mean(np.abs((y_true - y_pred) / y_true)) * 100\n",
    "     print('Evaluation metric results:-')\n",
    "     print(f'MSE is : {metrics.mean_squared_error(y_true, y_pred)}')\n",
    "     print(f'MAE is : {metrics.mean_absolute_error(y_true, y_pred)}')\n",
    "     print(f'RMSE is : {np.sqrt(metrics.mean_squared_error(y_true, y_pred))}')\n",
    "     print(f'MAPE is : {mean_absolute_percentage_error(y_true, y_pred)}')\n",
    "     print(f'R2 is : {metrics.r2_score(y_true, y_pred)}',end='\\n\\n') \n",
    "\n",
    "\n",
    "timeseries_evaluation_metrics_func(validate['Close'], pred_Inverse[0])"
   ]
  }
 ],
 "metadata": {
  "kernelspec": {
   "display_name": "Python 3.10.1 64-bit",
   "language": "python",
   "name": "python3"
  },
  "language_info": {
   "codemirror_mode": {
    "name": "ipython",
    "version": 3
   },
   "file_extension": ".py",
   "mimetype": "text/x-python",
   "name": "python",
   "nbconvert_exporter": "python",
   "pygments_lexer": "ipython3",
   "version": "3.10.1"
  },
  "orig_nbformat": 4,
  "vscode": {
   "interpreter": {
    "hash": "7101ca937a6cefa303d920fd1335fe82956cc294edbf5f7bc268a5a56c54bb64"
   }
  }
 },
 "nbformat": 4,
 "nbformat_minor": 2
}
