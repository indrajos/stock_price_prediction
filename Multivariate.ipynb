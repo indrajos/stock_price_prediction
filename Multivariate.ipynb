{
 "cells": [
  {
   "cell_type": "code",
   "execution_count": 43,
   "metadata": {},
   "outputs": [],
   "source": [
    "import numpy as np\n",
    "from tensorflow.keras.models import Sequential\n",
    "from tensorflow.keras.layers import LSTM\n",
    "from tensorflow.keras.layers import Dense, Dropout\n",
    "import pandas_datareader as data\n",
    "import pandas as pd\n",
    "from matplotlib import pyplot as plt\n",
    "from sklearn.preprocessing import StandardScaler\n",
    "import seaborn as sns\n",
    "import datetime\n",
    "from datetime import time\n",
    "from pandas.tseries.frequencies import to_offset\n",
    "import tensorflow as tf\n",
    "from sklearn import metrics"
   ]
  },
  {
   "cell_type": "code",
   "execution_count": 44,
   "metadata": {},
   "outputs": [],
   "source": [
    "# Choosing a period which we want to analyze for training and validating\n",
    "start = datetime.datetime(2000, 1, 1)\n",
    "end = datetime.date.today()\n",
    "\n",
    "# BA boeing company, data from Yahoo finanse\n",
    "stock_d = data.DataReader('BA', 'yahoo', start, end)\n",
    "\n",
    "# week opening\n",
    "def week_open(array_like):\n",
    "    return array_like[0]\n",
    "\n",
    "# week closing\n",
    "def week_close(array_like):\n",
    "    return array_like[-1]\n",
    "\n",
    "# Aplied logic: that opening day is Monday, Closing day is Friday\n",
    "logic = {\n",
    "                        # Open - first day (Monday) opening value\n",
    "                        'Open': week_open, \n",
    "                        # High - max value of the period\n",
    "                         'High': 'max',\n",
    "                        # Low - min value of the period\n",
    "                         'Low': 'min',\n",
    "                        #  Close - last day closing value (Friday)\n",
    "                         'Close': week_close,\n",
    "                         #  Adj Close - last day closing value (Friday)\n",
    "                         'Adj Close': week_close,\n",
    "                        #  Volume - sum of period Volume values\n",
    "                         'Volume': 'sum'}\n",
    "\n",
    "# Converting daily data to weekly with aplied logic\n",
    "stock_w = stock_d.resample('W').apply(logic) \n",
    "stock_w.index -= to_offset('6D')\n",
    "\n",
    "\n",
    "df = stock_w[['Open', 'High', 'Low',  'Close', 'Adj Close', 'Volume']] #'Close',"
   ]
  },
  {
   "cell_type": "code",
   "execution_count": 45,
   "metadata": {},
   "outputs": [
    {
     "name": "stdout",
     "output_type": "stream",
     "text": [
      "                  Open        High         Low       Close   Adj Close  \\\n",
      "Date                                                                     \n",
      "2000-01-03   41.437500   44.875000   39.750000   44.312500   28.602894   \n",
      "2000-01-10   44.312500   44.500000   42.000000   44.000000   28.401186   \n",
      "2000-01-17   44.000000   48.125000   43.125000   45.687500   29.490442   \n",
      "2000-01-24   45.687500   46.875000   43.625000   44.625000   28.804619   \n",
      "2000-01-31   44.562500   45.187500   42.562500   44.000000   28.401186   \n",
      "...                ...         ...         ...         ...         ...   \n",
      "2022-05-16  127.050003  132.830002  117.080002  120.699997  120.699997   \n",
      "2022-05-23  121.699997  132.229996  117.290001  132.229996  132.229996   \n",
      "2022-05-30  131.029999  140.699997  127.010002  139.250000  139.250000   \n",
      "2022-06-06  139.990005  142.210007  126.849998  127.000000  127.000000   \n",
      "2022-06-13  123.000000  133.100006  113.019997  131.559998  131.559998   \n",
      "\n",
      "                Volume  \n",
      "Date                    \n",
      "2000-01-03  24792500.0  \n",
      "2000-01-10  14051300.0  \n",
      "2000-01-17  30657000.0  \n",
      "2000-01-24  17080700.0  \n",
      "2000-01-31  14199400.0  \n",
      "...                ...  \n",
      "2022-05-16  59251400.0  \n",
      "2022-05-23  41737200.0  \n",
      "2022-05-30  40807300.0  \n",
      "2022-06-06  31405400.0  \n",
      "2022-06-13  50105316.0  \n",
      "\n",
      "[1172 rows x 6 columns]\n"
     ]
    }
   ],
   "source": [
    "print(df)"
   ]
  },
  {
   "cell_type": "code",
   "execution_count": 46,
   "metadata": {},
   "outputs": [
    {
     "name": "stdout",
     "output_type": "stream",
     "text": [
      "(1172,)\n",
      "1157   2022-03-07\n",
      "1158   2022-03-14\n",
      "1159   2022-03-21\n",
      "1160   2022-03-28\n",
      "1161   2022-04-04\n",
      "1162   2022-04-11\n",
      "1163   2022-04-18\n",
      "1164   2022-04-25\n",
      "1165   2022-05-02\n",
      "1166   2022-05-09\n",
      "1167   2022-05-16\n",
      "1168   2022-05-23\n",
      "1169   2022-05-30\n",
      "1170   2022-06-06\n",
      "1171   2022-06-13\n",
      "Name: Date, dtype: datetime64[ns]\n"
     ]
    }
   ],
   "source": [
    "df = df.reset_index()\n",
    "#Separate dates for future plotting\n",
    "train_dates = pd.to_datetime(df['Date'])\n",
    "print(train_dates.shape)\n",
    "print(train_dates.tail(15)) #Check last few dates. "
   ]
  },
  {
   "cell_type": "code",
   "execution_count": 47,
   "metadata": {},
   "outputs": [],
   "source": [
    " X_scaler = StandardScaler()\n",
    " Y_scaler = StandardScaler()\n",
    " X_data = X_scaler.fit_transform(df[['Open', 'High', 'Low', 'Adj Close', 'Close']])\n",
    " Y_data = Y_scaler.fit_transform(df[['Close']]) "
   ]
  },
  {
   "cell_type": "code",
   "execution_count": 48,
   "metadata": {},
   "outputs": [],
   "source": [
    " def custom_ts_multi_data_prep(df, target, start, end, n_past, n_future):\n",
    "     X = []\n",
    "     y = []\n",
    "     start = start + n_past\n",
    "     if end is None:\n",
    "         end = len(df) - n_future\n",
    "     for i in range(start, end):\n",
    "         indices = range(i-n_past, i)\n",
    "         X.append(df[indices])\n",
    "         indicey = range(i+1, i+1+n_future)\n",
    "         y.append(target[indicey])\n",
    "     return np.array(X), np.array(y) "
   ]
  },
  {
   "cell_type": "code",
   "execution_count": 49,
   "metadata": {},
   "outputs": [],
   "source": [
    " n_past = 52\n",
    " n_future = 1\n",
    " TRAIN_SPLIT = len(df)-300\n",
    " x_train, y_train = custom_ts_multi_data_prep(X_data, Y_data, 0, TRAIN_SPLIT, n_past, n_future)\n",
    " x_vali, y_vali = custom_ts_multi_data_prep(X_data, Y_data, TRAIN_SPLIT, None, n_past, n_future) "
   ]
  },
  {
   "cell_type": "code",
   "execution_count": 50,
   "metadata": {},
   "outputs": [
    {
     "name": "stdout",
     "output_type": "stream",
     "text": [
      "Multiple window of past history\n",
      "\n",
      "[[-0.84478253 -0.82274356 -0.84850699 -0.81465741 -0.81411496]\n",
      " [-0.81414858 -0.82661798 -0.82381926 -0.81673801 -0.81743657]\n",
      " [-0.81747836 -0.78916524 -0.8114754  -0.80550242 -0.79949988]\n",
      " [-0.79949756 -0.80207998 -0.80598923 -0.81257663 -0.81079335]\n",
      " [-0.81148476 -0.81951487 -0.81764733 -0.81673801 -0.81743657]\n",
      " [-0.81881027 -0.83307535 -0.86359393 -0.84329309 -0.86128183]\n",
      " [-0.86342929 -0.87633973 -0.89102474 -0.86918158 -0.90246979]\n",
      " [-0.90272066 -0.87375678 -0.89102474 -0.85707237 -0.88320446]\n",
      " [-0.88540582 -0.89764905 -0.89651091 -0.86959904 -0.90313412]\n",
      " [-0.90338661 -0.912501   -0.93011365 -0.89339978 -0.94100047]\n",
      " [-0.94134607 -0.88408857 -0.9335425  -0.8558197  -0.88121149]\n",
      " [-0.88473986 -0.89700331 -0.90268284 -0.86918158 -0.90246979]\n",
      " [-0.90138875 -0.88408857 -0.88828166 -0.85707237 -0.88320446]\n",
      " [-0.88407391 -0.89119168 -0.89651091 -0.87126924 -0.9057914 ]\n",
      " [-0.90671639 -0.88990021 -0.90336861 -0.87335712 -0.90911301]\n",
      " [-0.90938021 -0.8705281  -0.91091208 -0.84204037 -0.85928886]\n",
      " [-0.85943355 -0.86019631 -0.87319472 -0.8445456  -0.86327479]\n",
      " [-0.86342929 -0.87117383 -0.88073819 -0.84579843 -0.86526776]\n",
      " [-0.86542715 -0.87827694 -0.88348127 -0.86033679 -0.88984768]\n",
      " [-0.8900675  -0.8950661  -0.88691012 -0.86201314 -0.89250496]\n",
      " [-0.89273133 -0.88344284 -0.88691012 -0.8532123  -0.8785542 ]\n",
      " [-0.87541648 -0.86729941 -0.86153662 -0.84231603 -0.86128183]\n",
      " [-0.86609311 -0.87117383 -0.87113741 -0.84692602 -0.86858937]\n",
      " [-0.87008884 -0.86277925 -0.87113741 -0.84650682 -0.86792505]\n",
      " [-0.86809097 -0.87181957 -0.8642797  -0.84231603 -0.86128183]\n",
      " [-0.86143142 -0.84986451 -0.85330738 -0.8293242  -0.84068785]\n",
      " [-0.8407868  -0.83113814 -0.82999119 -0.81633261 -0.82009386]\n",
      " [-0.82014218 -0.82016061 -0.81284694 -0.81172258 -0.81278632]\n",
      " [-0.81281667 -0.79755982 -0.80941809 -0.79579723 -0.78754208]\n",
      " [-0.78751037 -0.76721018 -0.77238649 -0.78238627 -0.76628378]\n",
      " [-0.76619979 -0.77043886 -0.75455647 -0.78112913 -0.76429081]\n",
      " [-0.76420193 -0.77043886 -0.7675861  -0.77597625 -0.75764759]\n",
      " [-0.75754237 -0.7710846  -0.78747344 -0.80245511 -0.79949988]\n",
      " [-0.79949756 -0.72330006 -0.78541613 -0.74571461 -0.70981641]\n",
      " [-0.71092549 -0.70521943 -0.71478179 -0.74151154 -0.70317319]\n",
      " [-0.70293402 -0.66712094 -0.69215137 -0.71881531 -0.6672998 ]\n",
      " [-0.66697243 -0.66518373 -0.66197748 -0.72722125 -0.68058624]\n",
      " [-0.68029154 -0.62191935 -0.66746364 -0.68266972 -0.6101681 ]\n",
      " [-0.60970026 -0.5947984  -0.61945973 -0.67594493 -0.59953895]\n",
      " [-0.63367466 -0.63547983 -0.65649132 -0.69948164 -0.63674098]\n",
      " [-0.63966826 -0.65356047 -0.69215137 -0.7146124  -0.66065658]\n",
      " [-0.65298737 -0.65097752 -0.65580555 -0.70620654 -0.64737014]\n",
      " [-0.64632781 -0.62579378 -0.62563166 -0.68098848 -0.60751081]\n",
      " [-0.60703644 -0.58511234 -0.58585699 -0.6654374  -0.5829309 ]\n",
      " [-0.58239609 -0.60061003 -0.59065738 -0.68175066 -0.6101681 ]\n",
      " [-0.60970026 -0.59608987 -0.60505855 -0.66911458 -0.59023844]\n",
      " [-0.5897216  -0.56832318 -0.57282735 -0.66700842 -0.58691683]\n",
      " [-0.57240676 -0.56315729 -0.5693985  -0.66616621 -0.58558819]\n",
      " [-0.58505991 -0.55347123 -0.58585699 -0.63836647 -0.54174293]\n",
      " [-0.54110685 -0.55669992 -0.57419889 -0.67248409 -0.59555302]\n",
      " [-0.58306204 -0.56380302 -0.61054471 -0.6821718  -0.61083243]\n",
      " [-0.61036622 -0.59415266 -0.6016297  -0.6649023  -0.58359522]]\n",
      "\n",
      " Target horizon\n",
      "\n",
      "[[-0.64072692]]\n"
     ]
    }
   ],
   "source": [
    " print ('Multiple window of past history\\n')\n",
    " print(x_train[0])\n",
    " print ('\\n Target horizon\\n')\n",
    " print (y_train[0]) "
   ]
  },
  {
   "cell_type": "code",
   "execution_count": 51,
   "metadata": {},
   "outputs": [],
   "source": [
    " batch_size = 256\n",
    " buffer_size = 150\n",
    " train_data = tf.data.Dataset.from_tensor_slices((x_train, y_train))\n",
    " train_data = train_data.cache().shuffle(buffer_size).batch(batch_size).repeat()\n",
    " val_data = tf.data.Dataset.from_tensor_slices((x_vali, y_vali))\n",
    " val_data = val_data.batch(batch_size).repeat()"
   ]
  },
  {
   "cell_type": "code",
   "execution_count": 52,
   "metadata": {},
   "outputs": [
    {
     "name": "stdout",
     "output_type": "stream",
     "text": [
      "Model: \"sequential_1\"\n",
      "_________________________________________________________________\n",
      " Layer (type)                Output Shape              Param #   \n",
      "=================================================================\n",
      " lstm_2 (LSTM)               (None, 52, 64)            17920     \n",
      "                                                                 \n",
      " dropout_2 (Dropout)         (None, 52, 64)            0         \n",
      "                                                                 \n",
      " lstm_3 (LSTM)               (None, 32)                12416     \n",
      "                                                                 \n",
      " dropout_3 (Dropout)         (None, 32)                0         \n",
      "                                                                 \n",
      " dense_1 (Dense)             (None, 1)                 33        \n",
      "                                                                 \n",
      "=================================================================\n",
      "Total params: 30,369\n",
      "Trainable params: 30,369\n",
      "Non-trainable params: 0\n",
      "_________________________________________________________________\n"
     ]
    }
   ],
   "source": [
    "model = Sequential()\n",
    "model.add(LSTM(64, activation='relu', input_shape=(x_train.shape[1], x_train.shape[2]), return_sequences=True))\n",
    "model.add(Dropout(0.2)) #DELETE\n",
    "model.add(LSTM(32, activation='relu', return_sequences=False))\n",
    "model.add(Dropout(0.3))\n",
    "model.add(Dense(n_future))\n",
    "\n",
    "model.compile(optimizer='adam', loss='mse', metrics='mae')\n",
    "model.summary()"
   ]
  },
  {
   "cell_type": "code",
   "execution_count": 53,
   "metadata": {},
   "outputs": [
    {
     "name": "stdout",
     "output_type": "stream",
     "text": [
      "Epoch 1/5\n",
      "64/64 [==============================] - 16s 215ms/step - loss: 0.0782 - mae: 0.1972 - val_loss: 2.2332 - val_mae: 1.1591\n",
      "Epoch 2/5\n",
      "64/64 [==============================] - 13s 210ms/step - loss: 0.0189 - mae: 0.1054 - val_loss: 12.9962 - val_mae: 2.7729\n",
      "Epoch 3/5\n",
      "64/64 [==============================] - 14s 223ms/step - loss: 0.0151 - mae: 0.0943 - val_loss: 111.3517 - val_mae: 7.2351\n",
      "Epoch 4/5\n",
      "64/64 [==============================] - 15s 230ms/step - loss: 0.0133 - mae: 0.0890 - val_loss: 14.2503 - val_mae: 2.8545\n",
      "Epoch 5/5\n",
      "64/64 [==============================] - 15s 238ms/step - loss: 0.0125 - mae: 0.0860 - val_loss: 15.7060 - val_mae: 2.9239\n"
     ]
    }
   ],
   "source": [
    "\n",
    "model_path = 'Bidirectional_LSTM_Multivariate.h5'\n",
    "early_stopings = tf.keras.callbacks.EarlyStopping(monitor='val_loss', min_delta=0, patience=5) #,  mode='min'\n",
    "checkpoint =  tf.keras.callbacks.ModelCheckpoint(model_path, monitor='val_loss', save_best_only=True,  verbose=0) #mode='min',\n",
    "callbacks=[early_stopings,checkpoint] \n",
    "history = model.fit(train_data,epochs=5,steps_per_epoch=64,validation_data=val_data, validation_steps=64)"
   ]
  },
  {
   "cell_type": "code",
   "execution_count": 54,
   "metadata": {},
   "outputs": [
    {
     "data": {
      "image/png": "[encoded data removed]",
      "text/plain": [
       "<Figure size 1152x648 with 1 Axes>"
      ]
     },
     "metadata": {
      "needs_background": "light"
     },
     "output_type": "display_data"
    }
   ],
   "source": [
    "plt.figure(figsize=(16,9))\n",
    "plt.plot(history.history['loss'])\n",
    "plt.plot(history.history['val_loss'])\n",
    "plt.title('Model loss')\n",
    "plt.ylabel('loss')\n",
    "plt.xlabel('epoch')\n",
    "plt.legend(['train loss', 'validation loss'])\n",
    "plt.show() "
   ]
  },
  {
   "cell_type": "code",
   "execution_count": 67,
   "metadata": {},
   "outputs": [
    {
     "name": "stdout",
     "output_type": "stream",
     "text": [
      "1/1 [==============================] - 0s 335ms/step\n"
     ]
    },
    {
     "data": {
      "text/plain": [
       "array([[-25.386887]], dtype=float32)"
      ]
     },
     "execution_count": 67,
     "metadata": {},
     "output_type": "execute_result"
    }
   ],
   "source": [
    "data_val = X_scaler.fit_transform(df[['Open', 'High', 'Low', 'Adj Close', 'Close']].tail(52))\n",
    "val_rescaled = data_val.reshape(1, data_val.shape[0], data_val.shape[1])\n",
    "pred = model.predict(val_rescaled)\n",
    "pred_Inverse = Y_scaler.inverse_transform(pred)\n",
    "pred_Inverse "
   ]
  },
  {
   "cell_type": "code",
   "execution_count": 72,
   "metadata": {},
   "outputs": [
    {
     "ename": "NameError",
     "evalue": "name 'validate' is not defined",
     "output_type": "error",
     "traceback": [
      "\u001b[1;31m---------------------------------------------------------------------------\u001b[0m",
      "\u001b[1;31mNameError\u001b[0m                                 Traceback (most recent call last)",
      "\u001b[1;32mc:\\Users\\simon\\PycharmProjects\\SDA Course\\S_I_projektas\\stock_price_prediction\\Multivariate.ipynb Cell 15'\u001b[0m in \u001b[0;36m<module>\u001b[1;34m\u001b[0m\n\u001b[0;32m      <a href='vscode-notebook-cell:/c%3A/Users/simon/PycharmProjects/SDA%20Course/S_I_projektas/stock_price_prediction/Multivariate.ipynb#ch0000013?line=8'>9</a>\u001b[0m      \u001b[39mprint\u001b[39m(\u001b[39mf\u001b[39m\u001b[39m'\u001b[39m\u001b[39mMAPE is : \u001b[39m\u001b[39m{\u001b[39;00mmean_absolute_percentage_error(y_true, y_pred)\u001b[39m}\u001b[39;00m\u001b[39m'\u001b[39m)\n\u001b[0;32m     <a href='vscode-notebook-cell:/c%3A/Users/simon/PycharmProjects/SDA%20Course/S_I_projektas/stock_price_prediction/Multivariate.ipynb#ch0000013?line=9'>10</a>\u001b[0m      \u001b[39mprint\u001b[39m(\u001b[39mf\u001b[39m\u001b[39m'\u001b[39m\u001b[39mR2 is : \u001b[39m\u001b[39m{\u001b[39;00mmetrics\u001b[39m.\u001b[39mr2_score(y_true, y_pred)\u001b[39m}\u001b[39;00m\u001b[39m'\u001b[39m,end\u001b[39m=\u001b[39m\u001b[39m'\u001b[39m\u001b[39m\\n\u001b[39;00m\u001b[39m\\n\u001b[39;00m\u001b[39m'\u001b[39m) \n\u001b[1;32m---> <a href='vscode-notebook-cell:/c%3A/Users/simon/PycharmProjects/SDA%20Course/S_I_projektas/stock_price_prediction/Multivariate.ipynb#ch0000013?line=10'>11</a>\u001b[0m timeseries_evaluation_metrics_func(validate[\u001b[39m'\u001b[39m\u001b[39mClose\u001b[39m\u001b[39m'\u001b[39m], pred_Inverse[\u001b[39m0\u001b[39m])\n",
      "\u001b[1;31mNameError\u001b[0m: name 'validate' is not defined"
     ]
    }
   ],
   "source": [
    "def timeseries_evaluation_metrics_func(y_true, y_pred):\n",
    "     def mean_absolute_percentage_error(y_true, y_pred): \n",
    "         y_true, y_pred = np.array(y_true), np.array(y_pred)\n",
    "         return np.mean(np.abs((y_true - y_pred) / y_true)) * 100\n",
    "     print('Evaluation metric results:-')\n",
    "     print(f'MSE is : {metrics.mean_squared_error(y_true, y_pred)}')\n",
    "     print(f'MAE is : {metrics.mean_absolute_error(y_true, y_pred)}')\n",
    "     print(f'RMSE is : {np.sqrt(metrics.mean_squared_error(y_true, y_pred))}')\n",
    "     print(f'MAPE is : {mean_absolute_percentage_error(y_true, y_pred)}')\n",
    "     print(f'R2 is : {metrics.r2_score(y_true, y_pred)}',end='\\n\\n') \n",
    "timeseries_evaluation_metrics_func(validate['Close'], pred_Inverse[0])"
   ]
  },
  {
   "cell_type": "code",
   "execution_count": 73,
   "metadata": {},
   "outputs": [
    {
     "data": {
      "text/plain": [
       "array([-25.386887], dtype=float32)"
      ]
     },
     "execution_count": 73,
     "metadata": {},
     "output_type": "execute_result"
    }
   ],
   "source": [
    "pred_Inverse[0]"
   ]
  },
  {
   "cell_type": "code",
   "execution_count": 74,
   "metadata": {},
   "outputs": [
    {
     "ename": "NameError",
     "evalue": "name 'y_true' is not defined",
     "output_type": "error",
     "traceback": [
      "\u001b[1;31m---------------------------------------------------------------------------\u001b[0m",
      "\u001b[1;31mNameError\u001b[0m                                 Traceback (most recent call last)",
      "\u001b[1;32mc:\\Users\\simon\\PycharmProjects\\SDA Course\\S_I_projektas\\stock_price_prediction\\Multivariate.ipynb Cell 17'\u001b[0m in \u001b[0;36m<module>\u001b[1;34m\u001b[0m\n\u001b[1;32m----> <a href='vscode-notebook-cell:/c%3A/Users/simon/PycharmProjects/SDA%20Course/S_I_projektas/stock_price_prediction/Multivariate.ipynb#ch0000018?line=0'>1</a>\u001b[0m y_true\n",
      "\u001b[1;31mNameError\u001b[0m: name 'y_true' is not defined"
     ]
    }
   ],
   "source": [
    "y_true"
   ]
  },
  {
   "cell_type": "code",
   "execution_count": null,
   "metadata": {},
   "outputs": [],
   "source": [
    "plt.figure(figsize=(16,9))\n",
    "plt.plot( list(validate['traffic_volume']))\n",
    "plt.plot( list(pred_Inverse[0]))\n",
    "plt.title(\"Actual vs Predicted\")\n",
    "plt.ylabel(\"Traffic volume\")\n",
    "plt.legend(('Actual','predicted'))\n",
    "plt.show() "
   ]
  }
 ],
 "metadata": {
  "kernelspec": {
   "display_name": "Python 3.10.1 64-bit",
   "language": "python",
   "name": "python3"
  },
  "language_info": {
   "codemirror_mode": {
    "name": "ipython",
    "version": 3
   },
   "file_extension": ".py",
   "mimetype": "text/x-python",
   "name": "python",
   "nbconvert_exporter": "python",
   "pygments_lexer": "ipython3",
   "version": "3.10.1"
  },
  "orig_nbformat": 4,
  "vscode": {
   "interpreter": {
    "hash": "7101ca937a6cefa303d920fd1335fe82956cc294edbf5f7bc268a5a56c54bb64"
   }
  }
 },
 "nbformat": 4,
 "nbformat_minor": 2
}
