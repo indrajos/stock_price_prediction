{
 "cells": [
  {
   "cell_type": "code",
   "execution_count": 19,
   "metadata": {},
   "outputs": [],
   "source": [
    "import numpy as np\n",
    "from tensorflow.keras.models import Sequential\n",
    "from tensorflow.keras.layers import LSTM\n",
    "from tensorflow.keras.layers import Dense, Dropout\n",
    "import pandas_datareader as data\n",
    "import pandas as pd\n",
    "from matplotlib import pyplot as plt\n",
    "from sklearn.preprocessing import StandardScaler\n",
    "import seaborn as sns\n",
    "import datetime\n",
    "from datetime import time\n",
    "from pandas.tseries.frequencies import to_offset\n",
    "import tensorflow as tf\n",
    "from sklearn import metrics"
   ]
  },
  {
   "cell_type": "code",
   "execution_count": 41,
   "metadata": {},
   "outputs": [],
   "source": [
    "# Choosing a period which we want to analyze for training and validating\n",
    "start = datetime.datetime(2000, 1, 1)\n",
    "end = datetime.datetime(2022, 6, 1)\n",
    "# end = datetime.date.today()\n",
    "\n",
    "# BA boeing company, data from Yahoo finanse\n",
    "stock_d = data.DataReader('XOM', 'yahoo', start, end)\n",
    "\n",
    "# # week opening\n",
    "# def week_open(array_like):\n",
    "#     return array_like[0]\n",
    "\n",
    "# # week closing\n",
    "# def week_close(array_like):\n",
    "#     return array_like[-1]\n",
    "\n",
    "# # Aplied logic: that opening day is Monday, Closing day is Friday\n",
    "# logic = {\n",
    "#                         # Open - first day (Monday) opening value\n",
    "#                         'Open': week_open, \n",
    "#                         # High - max value of the period\n",
    "#                          'High': 'max',\n",
    "#                         # Low - min value of the period\n",
    "#                          'Low': 'min',\n",
    "#                         #  Close - last day closing value (Friday)\n",
    "#                          'Close': week_close,\n",
    "#                          #  Adj Close - last day closing value (Friday)\n",
    "#                          'Adj Close': week_close,\n",
    "#                         #  Volume - sum of period Volume values\n",
    "#                          'Volume': 'sum'}\n",
    "\n",
    "# # Converting daily data to weekly with aplied logic\n",
    "# stock_w = stock_d.resample('W').apply(logic) \n",
    "# stock_w.index -= to_offset('6D')\n",
    "\n",
    "\n",
    "df = stock_d[['Open', 'High', 'Low',  'Close', 'Adj Close']] #'Close',"
   ]
  },
  {
   "cell_type": "code",
   "execution_count": 42,
   "metadata": {},
   "outputs": [
    {
     "name": "stdout",
     "output_type": "stream",
     "text": [
      "                 Open       High        Low      Close  Adj Close\n",
      "Date                                                             \n",
      "2022-05-25  94.580002  96.529999  94.470001  96.300003  96.300003\n",
      "2022-05-26  96.599998  97.430000  96.199997  96.639999  96.639999\n",
      "2022-05-27  95.949997  97.930000  95.300003  97.589996  97.589996\n",
      "2022-05-31  98.559998  99.779999  95.709999  96.000000  96.000000\n",
      "2022-06-01  97.019997  98.709999  96.620003  97.839996  97.839996\n"
     ]
    }
   ],
   "source": [
    "print(df.tail(5))"
   ]
  },
  {
   "cell_type": "code",
   "execution_count": 43,
   "metadata": {},
   "outputs": [
    {
     "name": "stderr",
     "output_type": "stream",
     "text": [
      "c:\\Users\\simon\\AppData\\Local\\Programs\\Python\\Python310\\lib\\site-packages\\pandas\\core\\frame.py:4906: SettingWithCopyWarning: \n",
      "A value is trying to be set on a copy of a slice from a DataFrame\n",
      "\n",
      "See the caveats in the documentation: https://pandas.pydata.org/pandas-docs/stable/user_guide/indexing.html#returning-a-view-versus-a-copy\n",
      "  return super().drop(\n"
     ]
    }
   ],
   "source": [
    "x = 1\n",
    "validate = df[['Open', 'High', 'Low',  'Close', 'Adj Close']].tail(x)\n",
    "df.drop(df.tail(x).index,inplace=True)"
   ]
  },
  {
   "cell_type": "code",
   "execution_count": 44,
   "metadata": {},
   "outputs": [
    {
     "name": "stdout",
     "output_type": "stream",
     "text": [
      "(5639,)\n",
      "5624   2022-05-10\n",
      "5625   2022-05-11\n",
      "5626   2022-05-12\n",
      "5627   2022-05-13\n",
      "5628   2022-05-16\n",
      "5629   2022-05-17\n",
      "5630   2022-05-18\n",
      "5631   2022-05-19\n",
      "5632   2022-05-20\n",
      "5633   2022-05-23\n",
      "5634   2022-05-24\n",
      "5635   2022-05-25\n",
      "5636   2022-05-26\n",
      "5637   2022-05-27\n",
      "5638   2022-05-31\n",
      "Name: Date, dtype: datetime64[ns]\n"
     ]
    }
   ],
   "source": [
    "df = df.reset_index()\n",
    "#Separate dates for future plotting\n",
    "train_dates = pd.to_datetime(df['Date'])\n",
    "print(train_dates.shape)\n",
    "print(train_dates.tail(15)) #Check last few dates. "
   ]
  },
  {
   "cell_type": "code",
   "execution_count": 45,
   "metadata": {},
   "outputs": [],
   "source": [
    "X_scaler = StandardScaler()\n",
    "Y_scaler = StandardScaler()\n",
    "X_data = X_scaler.fit_transform(df[['Open', 'High', 'Low', 'Adj Close', 'Close']])\n",
    "Y_data = Y_scaler.fit_transform(df[['Close']]) "
   ]
  },
  {
   "cell_type": "code",
   "execution_count": 46,
   "metadata": {},
   "outputs": [],
   "source": [
    "def custom_ts_multi_data_prep(df, target, start, end, n_past, n_future):\n",
    "    X = []\n",
    "    y = []\n",
    "    start = start + n_past\n",
    "    if end is None:\n",
    "        end = len(df) - n_future\n",
    "    for i in range(start, end):\n",
    "        indices = range(i-n_past, i)\n",
    "        X.append(df[indices])\n",
    "        indicey = range(i+1, i+1+n_future)\n",
    "        y.append(target[indicey])\n",
    "    return np.array(X), np.array(y) "
   ]
  },
  {
   "cell_type": "code",
   "execution_count": 47,
   "metadata": {},
   "outputs": [],
   "source": [
    "n_past = 52\n",
    "n_future = 1\n",
    "TRAIN_SPLIT = len(df)-300\n",
    "x_train, y_train = custom_ts_multi_data_prep(X_data, Y_data, 0, TRAIN_SPLIT, n_past, n_future)\n",
    "x_vali, y_vali = custom_ts_multi_data_prep(X_data, Y_data, TRAIN_SPLIT, None, n_past, n_future) "
   ]
  },
  {
   "cell_type": "code",
   "execution_count": 48,
   "metadata": {},
   "outputs": [
    {
     "name": "stdout",
     "output_type": "stream",
     "text": [
      "Multiple window of past history\n",
      "\n",
      "[[-1.45354777 -1.44733531 -1.46939667 -1.57908664 -1.4838585 ]\n",
      " [-1.50841788 -1.51321787 -1.5050471  -1.60108958 -1.52255228]\n",
      " [-1.49227961 -1.42162505 -1.47101715 -1.53966435 -1.41453216]\n",
      " [-1.42449889 -1.31717709 -1.40943914 -1.47824036 -1.30651204]\n",
      " [-1.28732362 -1.30592885 -1.31059024 -1.48190755 -1.312961  ]\n",
      " [-1.33251077 -1.34770803 -1.32193356 -1.49932624 -1.34359358]\n",
      " [-1.34380755 -1.33163912 -1.32031309 -1.49565927 -1.33714461]\n",
      " [-1.35671817 -1.3541356  -1.34137925 -1.50299332 -1.35004254]\n",
      " [-1.35026286 -1.31235642 -1.33327688 -1.47457305 -1.30006308]\n",
      " [-1.29862041 -1.32521155 -1.33651782 -1.49932624 -1.34359358]\n",
      " [-1.36962878 -1.32521155 -1.35272256 -1.48465769 -1.31779773]\n",
      " [-1.33089694 -1.3155702  -1.31869261 -1.47273951 -1.2968386 ]\n",
      " [-1.30668954 -1.33163912 -1.34462019 -1.50024273 -1.34520582]\n",
      " [-1.33735225 -1.33324601 -1.32841546 -1.48099016 -1.31134876]\n",
      " [-1.30023423 -1.30432196 -1.33651782 -1.49199185 -1.33069565]\n",
      " [-1.33735225 -1.30914263 -1.31545167 -1.49474244 -1.33553237]\n",
      " [-1.33573842 -1.34931492 -1.34462019 -1.50299332 -1.35004254]\n",
      " [-1.35510434 -1.38145276 -1.42078246 -1.53966435 -1.41453216]\n",
      " [-1.44063716 -1.44090775 -1.44346909 -1.57083577 -1.46934834]\n",
      " [-1.47614134 -1.37502519 -1.46939667 -1.51216102 -1.36616494]\n",
      " [-1.35510434 -1.37823897 -1.37865014 -1.50757734 -1.35810374]\n",
      " [-1.35671817 -1.34128047 -1.33003593 -1.49840952 -1.34198134]\n",
      " [-1.35187669 -1.36377695 -1.41268009 -1.51949529 -1.37906287]\n",
      " [-1.35026286 -1.37663208 -1.41268009 -1.541498   -1.41775664]\n",
      " [-1.45354777 -1.43448018 -1.42726436 -1.54333222 -1.42098112]\n",
      " [-1.41481593 -1.41841126 -1.44833051 -1.56991838 -1.4677361 ]\n",
      " [-1.52455615 -1.53571435 -1.51801089 -1.60307063 -1.53706244]\n",
      " [-1.53746676 -1.526073   -1.5358361  -1.60860231 -1.54673589]\n",
      " [-1.54392207 -1.55178327 -1.603896   -1.63810369 -1.59832759]\n",
      " [-1.58265391 -1.5453557  -1.55852273 -1.60030508 -1.53222572]\n",
      " [-1.49873492 -1.45215599 -1.48073999 -1.55789601 -1.45806266]\n",
      " [-1.46645838 -1.45697666 -1.45643288 -1.5477551  -1.44032801]\n",
      " [-1.46645838 -1.49232828 -1.48398094 -1.57910071 -1.49514419]\n",
      " [-1.51003171 -1.53410746 -1.54393847 -1.62150967 -1.56930725]\n",
      " [-1.53746676 -1.5453557  -1.55690226 -1.61505565 -1.55802157]\n",
      " [-1.59233687 -1.57427975 -1.59255268 -1.62704045 -1.5789807 ]\n",
      " [-1.62945488 -1.63534163 -1.634685   -1.6537757  -1.62573567]\n",
      " [-1.63268254 -1.61123826 -1.67357637 -1.67958974 -1.67087841]\n",
      " [-1.6730282  -1.58713489 -1.67681732 -1.64363491 -1.60800103]\n",
      " [-1.60847514 -1.57910043 -1.5974141  -1.61689909 -1.56124605]\n",
      " [-1.56006033 -1.56303151 -1.59093221 -1.60583664 -1.54189917]\n",
      " [-1.54392207 -1.526073   -1.5293542  -1.59200751 -1.51771556]\n",
      " [-1.53101145 -1.55660394 -1.56338415 -1.61136809 -1.55157261]\n",
      " [-1.59556452 -1.59516934 -1.62172121 -1.65193248 -1.62251119]\n",
      " [-1.64397932 -1.44090775 -1.62172121 -1.5477551  -1.44032801]\n",
      " [-1.50519023 -1.41519748 -1.47911952 -1.55328678 -1.45000145]\n",
      " [-1.49227961 -1.45215599 -1.48073999 -1.54130255 -1.42904233]\n",
      " [-1.44063716 -1.46179734 -1.50990852 -1.59154628 -1.51690944]\n",
      " [-1.53101145 -1.51964544 -1.5601432  -1.60860231 -1.54673589]\n",
      " [-1.56651564 -1.51803855 -1.55366131 -1.58832006 -1.51126659]\n",
      " [-1.51325936 -1.51803855 -1.55204084 -1.58094483 -1.49836867]\n",
      " [-1.49227961 -1.4682249  -1.52125183 -1.55144289 -1.44677697]]\n",
      "\n",
      " Target\n",
      "\n",
      "[[-1.57253174]]\n"
     ]
    }
   ],
   "source": [
    "print ('Multiple window of past history\\n')\n",
    "print(x_train[0])\n",
    "print ('\\n Target\\n')\n",
    "print (y_train[0]) "
   ]
  },
  {
   "cell_type": "code",
   "execution_count": 49,
   "metadata": {},
   "outputs": [],
   "source": [
    "batch_size = 64\n",
    "buffer_size = 150\n",
    "train_data = tf.data.Dataset.from_tensor_slices((x_train, y_train))\n",
    "train_data = train_data.cache().shuffle(buffer_size).batch(batch_size).repeat()\n",
    "val_data = tf.data.Dataset.from_tensor_slices((x_vali, y_vali))\n",
    "val_data = val_data.batch(batch_size).repeat()"
   ]
  },
  {
   "cell_type": "code",
   "execution_count": 50,
   "metadata": {},
   "outputs": [
    {
     "name": "stdout",
     "output_type": "stream",
     "text": [
      "Model: \"sequential_3\"\n",
      "_________________________________________________________________\n",
      " Layer (type)                Output Shape              Param #   \n",
      "=================================================================\n",
      " bidirectional_6 (Bidirectio  (None, 52, 128)          35840     \n",
      " nal)                                                            \n",
      "                                                                 \n",
      " dense_12 (Dense)            (None, 52, 20)            2580      \n",
      "                                                                 \n",
      " bidirectional_7 (Bidirectio  (None, 64)               13568     \n",
      " nal)                                                            \n",
      "                                                                 \n",
      " dense_13 (Dense)            (None, 20)                1300      \n",
      "                                                                 \n",
      " dense_14 (Dense)            (None, 20)                420       \n",
      "                                                                 \n",
      " dropout_3 (Dropout)         (None, 20)                0         \n",
      "                                                                 \n",
      " dense_15 (Dense)            (None, 1)                 21        \n",
      "                                                                 \n",
      "=================================================================\n",
      "Total params: 53,729\n",
      "Trainable params: 53,729\n",
      "Non-trainable params: 0\n",
      "_________________________________________________________________\n"
     ]
    }
   ],
   "source": [
    "model = tf.keras.models.Sequential([\n",
    "    tf.keras.layers.Bidirectional(tf.keras.layers.LSTM(64, return_sequences=True), \n",
    "                                input_shape=x_train.shape[-2:]),\n",
    "    tf.keras.layers.Dense(20, activation='tanh'),\n",
    "    tf.keras.layers.Bidirectional(tf.keras.layers.LSTM(32)),\n",
    "    tf.keras.layers.Dense(20, activation='tanh'),\n",
    "    tf.keras.layers.Dense(20, activation='tanh'),\n",
    "    tf.keras.layers.Dropout(0.25),\n",
    "    tf.keras.layers.Dense(units=n_future),\n",
    " ])\n",
    "model.compile(optimizer='adam', loss='mse') # metrics='mae\n",
    "model.summary() "
   ]
  },
  {
   "cell_type": "code",
   "execution_count": 51,
   "metadata": {},
   "outputs": [],
   "source": [
    "# model = Sequential()\n",
    "# model.add(LSTM(64, activation='relu', input_shape=(x_train.shape[1], x_train.shape[2]), return_sequences=True))\n",
    "# model.add(Dropout(0.2)) #DELETE\n",
    "# model.add(LSTM(32, activation='relu', return_sequences=False))\n",
    "# model.add(Dropout(0.3))\n",
    "# model.add(Dense(n_future))\n",
    "\n",
    "# model.compile(optimizer='adam', loss='mse', metrics='mae')\n",
    "# model.summary()"
   ]
  },
  {
   "cell_type": "code",
   "execution_count": 52,
   "metadata": {},
   "outputs": [
    {
     "name": "stdout",
     "output_type": "stream",
     "text": [
      "Epoch 1/15\n",
      "100/100 [==============================] - 18s 105ms/step - loss: 0.2495 - val_loss: 0.1348\n",
      "Epoch 2/15\n",
      "100/100 [==============================] - 10s 99ms/step - loss: 0.1245 - val_loss: 0.0585\n",
      "Epoch 3/15\n",
      "100/100 [==============================] - 10s 102ms/step - loss: 0.0890 - val_loss: 0.0563\n",
      "Epoch 4/15\n",
      "100/100 [==============================] - 10s 101ms/step - loss: 0.0896 - val_loss: 0.1124\n",
      "Epoch 5/15\n",
      "100/100 [==============================] - 10s 97ms/step - loss: 0.0942 - val_loss: 0.1270\n",
      "Epoch 6/15\n",
      "100/100 [==============================] - 10s 98ms/step - loss: 0.0653 - val_loss: 0.2550\n",
      "Epoch 7/15\n",
      "100/100 [==============================] - 10s 104ms/step - loss: 0.0584 - val_loss: 0.0826\n",
      "Epoch 8/15\n",
      "100/100 [==============================] - 10s 104ms/step - loss: 0.0627 - val_loss: 0.0309\n",
      "Epoch 9/15\n",
      "100/100 [==============================] - 10s 100ms/step - loss: 0.0672 - val_loss: 0.0807\n",
      "Epoch 10/15\n",
      "100/100 [==============================] - 10s 100ms/step - loss: 0.0784 - val_loss: 0.1527\n",
      "Epoch 11/15\n",
      "100/100 [==============================] - 10s 99ms/step - loss: 0.0782 - val_loss: 0.3042\n",
      "Epoch 12/15\n",
      "100/100 [==============================] - 10s 98ms/step - loss: 0.0629 - val_loss: 0.0413\n",
      "Epoch 13/15\n",
      "100/100 [==============================] - 10s 99ms/step - loss: 0.0551 - val_loss: 0.0342\n"
     ]
    }
   ],
   "source": [
    "\n",
    "model_path = 'LSTM_multivariate.h5'\n",
    "early_stopings = tf.keras.callbacks.EarlyStopping(monitor='val_loss', min_delta=0, patience=5) #,  mode='min'\n",
    "checkpoint =  tf.keras.callbacks.ModelCheckpoint(model_path, monitor='val_loss', save_best_only=True,  verbose=0) #mode='min',\n",
    "callbacks=[early_stopings,checkpoint] \n",
    "history = model.fit(train_data,epochs=15,steps_per_epoch=100,validation_data=val_data,validation_steps=50,verbose=1,callbacks=callbacks)"
   ]
  },
  {
   "cell_type": "code",
   "execution_count": 53,
   "metadata": {},
   "outputs": [
    {
     "data": {
      "image/png": "[encoded data removed]",
      "text/plain": [
       "<Figure size 1152x648 with 1 Axes>"
      ]
     },
     "metadata": {
      "needs_background": "light"
     },
     "output_type": "display_data"
    }
   ],
   "source": [
    "plt.figure(figsize=(16,9))\n",
    "plt.plot(history.history['loss'])\n",
    "plt.plot(history.history['val_loss'])\n",
    "plt.title('Model loss')\n",
    "plt.ylabel('loss')\n",
    "plt.xlabel('epoch')\n",
    "plt.legend(['train loss', 'validation loss'])\n",
    "plt.show() "
   ]
  },
  {
   "cell_type": "markdown",
   "metadata": {},
   "source": [
    "### Forecasting is completely unavailable and must be only estimated with the help of what has already happened."
   ]
  },
  {
   "cell_type": "code",
   "execution_count": 54,
   "metadata": {},
   "outputs": [
    {
     "name": "stdout",
     "output_type": "stream",
     "text": [
      "1/1 [==============================] - 2s 2s/step\n"
     ]
    },
    {
     "data": {
      "text/plain": [
       "array([[98.39791]], dtype=float32)"
      ]
     },
     "execution_count": 54,
     "metadata": {},
     "output_type": "execute_result"
    }
   ],
   "source": [
    "data_val = X_scaler.fit_transform(df[['Open', 'High', 'Low', 'Adj Close', 'Close']].tail(52))\n",
    "val_rescaled = data_val.reshape(1, data_val.shape[0], data_val.shape[1])\n",
    "pred = model.predict(val_rescaled)\n",
    "pred_Inverse = Y_scaler.inverse_transform(pred)\n",
    "pred_Inverse"
   ]
  },
  {
   "cell_type": "code",
   "execution_count": 55,
   "metadata": {},
   "outputs": [
    {
     "data": {
      "text/plain": [
       "Date\n",
       "2022-06-01    97.839996\n",
       "Name: Close, dtype: float64"
      ]
     },
     "execution_count": 55,
     "metadata": {},
     "output_type": "execute_result"
    }
   ],
   "source": [
    "validate['Close']"
   ]
  },
  {
   "cell_type": "code",
   "execution_count": 56,
   "metadata": {},
   "outputs": [
    {
     "name": "stdout",
     "output_type": "stream",
     "text": [
      "Evaluation metric results:-\n",
      "MSE is : 0.3112688502878882\n",
      "MAE is : 0.5579147338867188\n",
      "RMSE is : 0.5579147338867188\n",
      "MAPE is : 0.5702317608025649\n",
      "R2 is : nan\n",
      "\n"
     ]
    },
    {
     "name": "stderr",
     "output_type": "stream",
     "text": [
      "c:\\Users\\simon\\AppData\\Local\\Programs\\Python\\Python310\\lib\\site-packages\\sklearn\\metrics\\_regression.py:918: UndefinedMetricWarning: R^2 score is not well-defined with less than two samples.\n",
      "  warnings.warn(msg, UndefinedMetricWarning)\n"
     ]
    }
   ],
   "source": [
    "def timeseries_evaluation_metrics_func(y_true, y_pred):\n",
    "     def mean_absolute_percentage_error(y_true, y_pred): \n",
    "         y_true, y_pred = np.array(y_true), np.array(y_pred)\n",
    "         return np.mean(np.abs((y_true - y_pred) / y_true)) * 100\n",
    "     print('Evaluation metric results:-')\n",
    "     print(f'MSE is : {metrics.mean_squared_error(y_true, y_pred)}')\n",
    "     print(f'MAE is : {metrics.mean_absolute_error(y_true, y_pred)}')\n",
    "     print(f'RMSE is : {np.sqrt(metrics.mean_squared_error(y_true, y_pred))}')\n",
    "     print(f'MAPE is : {mean_absolute_percentage_error(y_true, y_pred)}')\n",
    "     print(f'R2 is : {metrics.r2_score(y_true, y_pred)}',end='\\n\\n') \n",
    "\n",
    "\n",
    "timeseries_evaluation_metrics_func(validate['Close'], pred_Inverse[0])"
   ]
  },
  {
   "cell_type": "code",
   "execution_count": null,
   "metadata": {},
   "outputs": [],
   "source": []
  }
 ],
 "metadata": {
  "kernelspec": {
   "display_name": "Python 3.10.1 64-bit",
   "language": "python",
   "name": "python3"
  },
  "language_info": {
   "codemirror_mode": {
    "name": "ipython",
    "version": 3
   },
   "file_extension": ".py",
   "mimetype": "text/x-python",
   "name": "python",
   "nbconvert_exporter": "python",
   "pygments_lexer": "ipython3",
   "version": "3.10.1"
  },
  "orig_nbformat": 4,
  "vscode": {
   "interpreter": {
    "hash": "7101ca937a6cefa303d920fd1335fe82956cc294edbf5f7bc268a5a56c54bb64"
   }
  }
 },
 "nbformat": 4,
 "nbformat_minor": 2
}
