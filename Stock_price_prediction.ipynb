{
 "cells": [
  {
   "cell_type": "code",
   "execution_count": 2,
   "metadata": {},
   "outputs": [],
   "source": [
    "import pandas as pd\n",
    "import numpy as np\n",
    "import matplotlib.pyplot as plt\n",
    "import pandas_datareader as data\n",
    "import datetime\n",
    "from datetime import time\n",
    "from pandas.tseries.frequencies import to_offset\n"
   ]
  },
  {
   "cell_type": "code",
   "execution_count": 3,
   "metadata": {},
   "outputs": [],
   "source": [
    "import re\n",
    "import json\n",
    "import csv\n",
    "from io import StringIO\n",
    "from bs4 import BeautifulSoup\n",
    "import requests"
   ]
  },
  {
   "cell_type": "code",
   "execution_count": 4,
   "metadata": {},
   "outputs": [],
   "source": [
    "start = datetime.datetime(2000, 1, 1)\n",
    "end = datetime.date.today()\n",
    "\n",
    "# BA boeing company, data from Yahoo finanse\n",
    "stock_d = data.DataReader('BA', 'yahoo', start, end)\n",
    "\n",
    "def week_open(array_like):\n",
    "    return array_like[0]\n",
    "\n",
    "def week_close(array_like):\n",
    "    return array_like[-1]\n",
    "\n",
    "logic = {'Open': week_open, \n",
    "                         'High': 'max',\n",
    "                         'Low': 'min',\n",
    "                         'Close': week_close,\n",
    "                         'Volume': 'sum'}\n",
    "\n",
    "stock_w = stock_d.resample('W').apply(logic) # Converting daily data to weekly\n",
    "stock_w.index -= to_offset('6D')\n",
    "\n",
    "stock_w = stock_w[['Open', 'High', 'Low', 'Close', 'Volume']]"
   ]
  },
  {
   "cell_type": "markdown",
   "metadata": {},
   "source": [
    "### Klausimas dėstytojui, kaip kitaip patestuoti, ar gerai transformuoti duomenys?"
   ]
  },
  {
   "cell_type": "markdown",
   "metadata": {},
   "source": [
    "The closing price is simply the cash value of that specific piece of stock at day's end while the adjusted closing price reflects the closing price of the stock in relation to other stock attributes. In general, the adjusted closing price is considered to be a more technically accurate reflection of the true value of the stock."
   ]
  },
  {
   "cell_type": "code",
   "execution_count": 5,
   "metadata": {},
   "outputs": [
    {
     "name": "stdout",
     "output_type": "stream",
     "text": [
      "               High      Low     Open    Close     Volume  Adj Close\n",
      "Date                                                                \n",
      "2000-01-03  41.6875  39.8125  41.4375  40.1875  2638200.0  25.940287\n",
      "2000-01-04  41.1250  39.7500  40.1875  40.1250  3592100.0  25.899940\n",
      "2000-01-05  43.3125  41.3750  41.3750  42.6250  7631700.0  27.513645\n",
      "2000-01-06  43.4375  41.1250  42.6250  43.0625  4922200.0  27.796043\n",
      "2000-01-07  44.8750  43.6875  43.6875  44.3125  6008300.0  28.602890\n",
      "2000-01-10  44.5000  43.5000  44.3125  43.6875  2403500.0  28.199472\n",
      "2000-01-11  43.9375  42.7500  43.6875  42.8750  2450000.0  27.675007\n"
     ]
    },
    {
     "data": {
      "text/html": [
       "<div>\n",
       "<style scoped>\n",
       "    .dataframe tbody tr th:only-of-type {\n",
       "        vertical-align: middle;\n",
       "    }\n",
       "\n",
       "    .dataframe tbody tr th {\n",
       "        vertical-align: top;\n",
       "    }\n",
       "\n",
       "    .dataframe thead th {\n",
       "        text-align: right;\n",
       "    }\n",
       "</style>\n",
       "<table border=\"1\" class=\"dataframe\">\n",
       "  <thead>\n",
       "    <tr style=\"text-align: right;\">\n",
       "      <th></th>\n",
       "      <th>Open</th>\n",
       "      <th>High</th>\n",
       "      <th>Low</th>\n",
       "      <th>Close</th>\n",
       "      <th>Volume</th>\n",
       "    </tr>\n",
       "    <tr>\n",
       "      <th>Date</th>\n",
       "      <th></th>\n",
       "      <th></th>\n",
       "      <th></th>\n",
       "      <th></th>\n",
       "      <th></th>\n",
       "    </tr>\n",
       "  </thead>\n",
       "  <tbody>\n",
       "    <tr>\n",
       "      <th>2000-01-03</th>\n",
       "      <td>41.4375</td>\n",
       "      <td>44.8750</td>\n",
       "      <td>39.7500</td>\n",
       "      <td>44.3125</td>\n",
       "      <td>24792500.0</td>\n",
       "    </tr>\n",
       "    <tr>\n",
       "      <th>2000-01-10</th>\n",
       "      <td>44.3125</td>\n",
       "      <td>44.5000</td>\n",
       "      <td>42.0000</td>\n",
       "      <td>44.0000</td>\n",
       "      <td>14051300.0</td>\n",
       "    </tr>\n",
       "    <tr>\n",
       "      <th>2000-01-17</th>\n",
       "      <td>44.0000</td>\n",
       "      <td>48.1250</td>\n",
       "      <td>43.1250</td>\n",
       "      <td>45.6875</td>\n",
       "      <td>30657000.0</td>\n",
       "    </tr>\n",
       "    <tr>\n",
       "      <th>2000-01-24</th>\n",
       "      <td>45.6875</td>\n",
       "      <td>46.8750</td>\n",
       "      <td>43.6250</td>\n",
       "      <td>44.6250</td>\n",
       "      <td>17080700.0</td>\n",
       "    </tr>\n",
       "    <tr>\n",
       "      <th>2000-01-31</th>\n",
       "      <td>44.5625</td>\n",
       "      <td>45.1875</td>\n",
       "      <td>42.5625</td>\n",
       "      <td>44.0000</td>\n",
       "      <td>14199400.0</td>\n",
       "    </tr>\n",
       "  </tbody>\n",
       "</table>\n",
       "</div>"
      ],
      "text/plain": [
       "               Open     High      Low    Close      Volume\n",
       "Date                                                      \n",
       "2000-01-03  41.4375  44.8750  39.7500  44.3125  24792500.0\n",
       "2000-01-10  44.3125  44.5000  42.0000  44.0000  14051300.0\n",
       "2000-01-17  44.0000  48.1250  43.1250  45.6875  30657000.0\n",
       "2000-01-24  45.6875  46.8750  43.6250  44.6250  17080700.0\n",
       "2000-01-31  44.5625  45.1875  42.5625  44.0000  14199400.0"
      ]
     },
     "execution_count": 5,
     "metadata": {},
     "output_type": "execute_result"
    }
   ],
   "source": [
    "print(stock_d.head(7))\n",
    "stock_w.head()"
   ]
  },
  {
   "cell_type": "markdown",
   "metadata": {},
   "source": [
    "### Checking if we have right numbers after reshaping"
   ]
  },
  {
   "cell_type": "code",
   "execution_count": 6,
   "metadata": {},
   "outputs": [],
   "source": [
    "# Volume\n",
    "first_week_volume = stock_d['Volume'][0:5].sum()\n",
    "first_week_volume_rsh = stock_w.Volume[0]\n",
    "\n",
    "# Close\n",
    "first_week_close = stock_d['Close'][4]\n",
    "first_week_close_rsh = stock_w['Close'][0]\n",
    "\n",
    "# Low\n",
    "first_week_low = stock_d['Low'][0:5].min()\n",
    "first_week_low_rsh = stock_w['Low'][0]\n",
    "\n",
    "# High\n",
    "first_week_high = stock_d['High'][0:5].max()\n",
    "first_week_high_rsh = stock_w['High'][0]\n",
    "\n",
    "# Open\n",
    "first_week_open = stock_d['Open'][0]\n",
    "first_week_open_rsh = stock_w['Open'][0]\n"
   ]
  },
  {
   "cell_type": "code",
   "execution_count": 7,
   "metadata": {},
   "outputs": [
    {
     "name": "stdout",
     "output_type": "stream",
     "text": [
      "First week volume sum is correct? True\n",
      "First week close price is correct? True\n",
      "First week low price is correct? True\n",
      "First week high price is correct? True\n",
      "First week open price is correct? True\n"
     ]
    }
   ],
   "source": [
    "print(f'First week volume sum is correct? {first_week_volume == first_week_volume_rsh}')\n",
    "print(f'First week close price is correct? {first_week_close == first_week_close_rsh}')\n",
    "print(f'First week low price is correct? {first_week_low == first_week_low_rsh}')\n",
    "print(f'First week high price is correct? {first_week_high == first_week_high_rsh}')\n",
    "print(f'First week open price is correct? {first_week_open == first_week_open_rsh}')"
   ]
  },
  {
   "cell_type": "markdown",
   "metadata": {},
   "source": [
    "#### We will focus on close price which is the standar benchmark regarding stocks and securities."
   ]
  },
  {
   "cell_type": "code",
   "execution_count": 8,
   "metadata": {},
   "outputs": [
    {
     "data": {
      "text/plain": [
       "[<matplotlib.lines.Line2D at 0x17155feb130>]"
      ]
     },
     "execution_count": 8,
     "metadata": {},
     "output_type": "execute_result"
    },
    {
     "data": {
      "image/png": "[encoded data removed]",
      "text/plain": [
       "<Figure size 432x288 with 1 Axes>"
      ]
     },
     "metadata": {
      "needs_background": "light"
     },
     "output_type": "display_data"
    }
   ],
   "source": [
    "plt.plot(stock_w.Close)"
   ]
  },
  {
   "cell_type": "code",
   "execution_count": 9,
   "metadata": {},
   "outputs": [
    {
     "data": {
      "text/plain": [
       "(array([427., 288., 177.,  68.,  56.,  38.,   8.,  67.,  37.,   5.]),\n",
       " array([ 25.54999924,  67.05699883, 108.56399841, 150.070998  ,\n",
       "        191.57799759, 233.08499718, 274.59199677, 316.09899635,\n",
       "        357.60599594, 399.11299553, 440.61999512]),\n",
       " <BarContainer object of 10 artists>)"
      ]
     },
     "execution_count": 9,
     "metadata": {},
     "output_type": "execute_result"
    },
    {
     "data": {
      "image/png": "[encoded data removed]",
      "text/plain": [
       "<Figure size 432x288 with 1 Axes>"
      ]
     },
     "metadata": {
      "needs_background": "light"
     },
     "output_type": "display_data"
    }
   ],
   "source": [
    "plt.hist(stock_w.Close)"
   ]
  }
 ],
 "metadata": {
  "interpreter": {
   "hash": "7101ca937a6cefa303d920fd1335fe82956cc294edbf5f7bc268a5a56c54bb64"
  },
  "kernelspec": {
   "display_name": "Python 3.10.1 64-bit",
   "language": "python",
   "name": "python3"
  },
  "language_info": {
   "codemirror_mode": {
    "name": "ipython",
    "version": 3
   },
   "file_extension": ".py",
   "mimetype": "text/x-python",
   "name": "python",
   "nbconvert_exporter": "python",
   "pygments_lexer": "ipython3",
   "version": "3.10.1"
  },
  "orig_nbformat": 4
 },
 "nbformat": 4,
 "nbformat_minor": 2
}
