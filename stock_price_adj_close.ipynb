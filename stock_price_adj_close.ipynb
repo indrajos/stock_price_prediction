{
 "cells": [
  {
   "cell_type": "code",
   "execution_count": 1,
   "metadata": {},
   "outputs": [],
   "source": [
    "import pandas as pd\n",
    "import numpy as np\n",
    "import matplotlib.pyplot as plt\n",
    "import pandas_datareader as data\n",
    "import datetime\n",
    "from datetime import time\n",
    "from pandas.tseries.frequencies import to_offset"
   ]
  },
  {
   "cell_type": "code",
   "execution_count": 2,
   "metadata": {},
   "outputs": [],
   "source": [
    "import re\n",
    "import json\n",
    "import csv\n",
    "from io import StringIO\n",
    "from bs4 import BeautifulSoup\n",
    "import requests"
   ]
  },
  {
   "cell_type": "code",
   "execution_count": 20,
   "metadata": {},
   "outputs": [],
   "source": [
    "start = datetime.datetime(2000, 1, 1)\n",
    "end = datetime.date.today()\n",
    "\n",
    "# BA boeing company, data from Yahoo finanse\n",
    "stock_d = data.DataReader('BA', 'yahoo', start, end)\n",
    "\n",
    "def week_open(array_like):\n",
    "    return array_like[0]\n",
    "\n",
    "def adj_close(array_like):\n",
    "    return array_like[-1]\n",
    "\n",
    "logic = {'Open': week_open, \n",
    "                         'High': 'max',\n",
    "                         'Low': 'min',\n",
    "                         'Adj Close': adj_close,\n",
    "                         'Volume': 'sum'}\n",
    "\n",
    "stock_w = stock_d.resample('W').apply(logic) # Converting daily data to weekly\n",
    "stock_w.index -= to_offset('6D')\n",
    "\n",
    "stock_w = stock_w[['Open', 'High', 'Low', 'Adj Close', 'Volume']]"
   ]
  },
  {
   "cell_type": "code",
   "execution_count": 21,
   "metadata": {},
   "outputs": [
    {
     "name": "stdout",
     "output_type": "stream",
     "text": [
      "               High      Low     Open    Close     Volume  Adj Close\n",
      "Date                                                                \n",
      "2000-01-03  41.6875  39.8125  41.4375  40.1875  2638200.0  25.940285\n",
      "2000-01-04  41.1250  39.7500  40.1875  40.1250  3592100.0  25.899940\n",
      "2000-01-05  43.3125  41.3750  41.3750  42.6250  7631700.0  27.513643\n",
      "2000-01-06  43.4375  41.1250  42.6250  43.0625  4922200.0  27.796061\n",
      "2000-01-07  44.8750  43.6875  43.6875  44.3125  6008300.0  28.602905\n",
      "2000-01-10  44.5000  43.5000  44.3125  43.6875  2403500.0  28.199482\n",
      "2000-01-11  43.9375  42.7500  43.6875  42.8750  2450000.0  27.675016\n",
      "2000-01-12  44.1875  42.5000  42.8750  43.0625  2327800.0  27.796061\n",
      "2000-01-13  43.3750  42.0000  43.0625  42.3750  3035100.0  27.352262\n",
      "2000-01-14  44.2500  42.9375  42.9375  44.0000  3834900.0  28.401182\n"
     ]
    },
    {
     "data": {
      "text/html": [
       "<div>\n",
       "<style scoped>\n",
       "    .dataframe tbody tr th:only-of-type {\n",
       "        vertical-align: middle;\n",
       "    }\n",
       "\n",
       "    .dataframe tbody tr th {\n",
       "        vertical-align: top;\n",
       "    }\n",
       "\n",
       "    .dataframe thead th {\n",
       "        text-align: right;\n",
       "    }\n",
       "</style>\n",
       "<table border=\"1\" class=\"dataframe\">\n",
       "  <thead>\n",
       "    <tr style=\"text-align: right;\">\n",
       "      <th></th>\n",
       "      <th>Open</th>\n",
       "      <th>High</th>\n",
       "      <th>Low</th>\n",
       "      <th>Adj Close</th>\n",
       "      <th>Volume</th>\n",
       "    </tr>\n",
       "    <tr>\n",
       "      <th>Date</th>\n",
       "      <th></th>\n",
       "      <th></th>\n",
       "      <th></th>\n",
       "      <th></th>\n",
       "      <th></th>\n",
       "    </tr>\n",
       "  </thead>\n",
       "  <tbody>\n",
       "    <tr>\n",
       "      <th>2000-01-03</th>\n",
       "      <td>41.4375</td>\n",
       "      <td>44.8750</td>\n",
       "      <td>39.7500</td>\n",
       "      <td>28.602905</td>\n",
       "      <td>24792500.0</td>\n",
       "    </tr>\n",
       "    <tr>\n",
       "      <th>2000-01-10</th>\n",
       "      <td>44.3125</td>\n",
       "      <td>44.5000</td>\n",
       "      <td>42.0000</td>\n",
       "      <td>28.401182</td>\n",
       "      <td>14051300.0</td>\n",
       "    </tr>\n",
       "    <tr>\n",
       "      <th>2000-01-17</th>\n",
       "      <td>44.0000</td>\n",
       "      <td>48.1250</td>\n",
       "      <td>43.1250</td>\n",
       "      <td>29.490425</td>\n",
       "      <td>30657000.0</td>\n",
       "    </tr>\n",
       "    <tr>\n",
       "      <th>2000-01-24</th>\n",
       "      <td>45.6875</td>\n",
       "      <td>46.8750</td>\n",
       "      <td>43.6250</td>\n",
       "      <td>28.804607</td>\n",
       "      <td>17080700.0</td>\n",
       "    </tr>\n",
       "    <tr>\n",
       "      <th>2000-01-31</th>\n",
       "      <td>44.5625</td>\n",
       "      <td>45.1875</td>\n",
       "      <td>42.5625</td>\n",
       "      <td>28.401182</td>\n",
       "      <td>14199400.0</td>\n",
       "    </tr>\n",
       "  </tbody>\n",
       "</table>\n",
       "</div>"
      ],
      "text/plain": [
       "               Open     High      Low  Adj Close      Volume\n",
       "Date                                                        \n",
       "2000-01-03  41.4375  44.8750  39.7500  28.602905  24792500.0\n",
       "2000-01-10  44.3125  44.5000  42.0000  28.401182  14051300.0\n",
       "2000-01-17  44.0000  48.1250  43.1250  29.490425  30657000.0\n",
       "2000-01-24  45.6875  46.8750  43.6250  28.804607  17080700.0\n",
       "2000-01-31  44.5625  45.1875  42.5625  28.401182  14199400.0"
      ]
     },
     "execution_count": 21,
     "metadata": {},
     "output_type": "execute_result"
    }
   ],
   "source": [
    "print(stock_d.head(10))\n",
    "stock_w.head()"
   ]
  },
  {
   "cell_type": "code",
   "execution_count": 22,
   "metadata": {},
   "outputs": [
    {
     "data": {
      "text/plain": [
       "(1171, 5)"
      ]
     },
     "execution_count": 22,
     "metadata": {},
     "output_type": "execute_result"
    }
   ],
   "source": [
    "stock_w.shape"
   ]
  },
  {
   "cell_type": "markdown",
   "metadata": {},
   "source": [
    "### Simple testing"
   ]
  },
  {
   "cell_type": "code",
   "execution_count": 24,
   "metadata": {},
   "outputs": [],
   "source": [
    "# Volume\n",
    "first_week_volume = stock_d['Volume'][0:5].sum()\n",
    "first_week_volume_rsh = stock_w.Volume[0]\n",
    "\n",
    "# Adj Close\n",
    "first_week_adj_close = stock_d['Adj Close'][4]\n",
    "first_week_adj_close_rsh = stock_w['Adj Close'][0]\n",
    "\n",
    "# Low\n",
    "first_week_low = stock_d['Low'][0:5].min()\n",
    "first_week_low_rsh = stock_w['Low'][0]\n",
    "\n",
    "# High\n",
    "first_week_high = stock_d['High'][0:5].max()\n",
    "first_week_high_rsh = stock_w['High'][0]\n",
    "\n",
    "# Open\n",
    "first_week_open = stock_d['Open'][0]\n",
    "first_week_open_rsh = stock_w['Open'][0]\n"
   ]
  },
  {
   "cell_type": "code",
   "execution_count": 25,
   "metadata": {},
   "outputs": [
    {
     "name": "stdout",
     "output_type": "stream",
     "text": [
      "First week volume sum is correct? True\n",
      "First week adj close price is correct? True\n",
      "First week low price is correct? True\n",
      "First week high price is correct? True\n",
      "First week open price is correct? True\n"
     ]
    }
   ],
   "source": [
    "print(f'First week volume sum is correct? {first_week_volume == first_week_volume_rsh}')\n",
    "print(f'First week adj close price is correct? {first_week_adj_close == first_week_adj_close_rsh}')\n",
    "print(f'First week low price is correct? {first_week_low == first_week_low_rsh}')\n",
    "print(f'First week high price is correct? {first_week_high == first_week_high_rsh}')\n",
    "print(f'First week open price is correct? {first_week_open == first_week_open_rsh}')"
   ]
  },
  {
   "cell_type": "markdown",
   "metadata": {},
   "source": [
    "### Analyse the Data"
   ]
  },
  {
   "cell_type": "code",
   "execution_count": 26,
   "metadata": {},
   "outputs": [
    {
     "data": {
      "text/plain": [
       "<bound method NDFrame.describe of                   Open        High         Low   Adj Close      Volume\n",
       "Date                                                                  \n",
       "2000-01-03   41.437500   44.875000   39.750000   28.602905  24792500.0\n",
       "2000-01-10   44.312500   44.500000   42.000000   28.401182  14051300.0\n",
       "2000-01-17   44.000000   48.125000   43.125000   29.490425  30657000.0\n",
       "2000-01-24   45.687500   46.875000   43.625000   28.804607  17080700.0\n",
       "2000-01-31   44.562500   45.187500   42.562500   28.401182  14199400.0\n",
       "...                ...         ...         ...         ...         ...\n",
       "2022-05-09  146.000000  146.949997  120.279999  127.199997  72546400.0\n",
       "2022-05-16  127.050003  132.830002  117.080002  120.699997  59251400.0\n",
       "2022-05-23  121.699997  132.229996  117.290001  132.229996  41737200.0\n",
       "2022-05-30  131.029999  140.699997  127.010002  139.250000  40807300.0\n",
       "2022-06-06  139.990005  142.210007  126.849998  127.000000  31405400.0\n",
       "\n",
       "[1171 rows x 5 columns]>"
      ]
     },
     "execution_count": 26,
     "metadata": {},
     "output_type": "execute_result"
    }
   ],
   "source": [
    "stock_w.describe"
   ]
  },
  {
   "cell_type": "code",
   "execution_count": 30,
   "metadata": {},
   "outputs": [
    {
     "data": {
      "image/png": "[encoded data removed]",
      "text/plain": [
       "<Figure size 1152x576 with 1 Axes>"
      ]
     },
     "metadata": {
      "needs_background": "light"
     },
     "output_type": "display_data"
    }
   ],
   "source": [
    "fig, ax = plt.subplots(figsize=(16, 8))\n",
    "plt.xlabel('Date', fontsize=14)\n",
    "plt.ylabel('Adj Close Price' ,fontsize=14)\n",
    "plt.plot(stock_w['Adj Close'])\n",
    "plt.show()"
   ]
  },
  {
   "cell_type": "code",
   "execution_count": 32,
   "metadata": {},
   "outputs": [
    {
     "data": {
      "image/png": "[encoded data removed]",
      "text/plain": [
       "<Figure size 1152x576 with 1 Axes>"
      ]
     },
     "metadata": {
      "needs_background": "light"
     },
     "output_type": "display_data"
    }
   ],
   "source": [
    "fig, ax = plt.subplots(figsize=(16, 8))\n",
    "plt.hist(stock_w['Adj Close'])\n",
    "plt.ylabel('Quantity, during the period', fontsize=14)\n",
    "plt.xlabel('Close Price' ,fontsize=14)\n",
    "plt.title('Distribution of Close prices')\n",
    "plt.show()"
   ]
  },
  {
   "cell_type": "markdown",
   "metadata": {},
   "source": [
    "#### Building the LSTM model"
   ]
  },
  {
   "cell_type": "code",
   "execution_count": 34,
   "metadata": {},
   "outputs": [],
   "source": [
    "import math\n",
    "from sklearn.preprocessing import MinMaxScaler\n",
    "from keras.models import Sequential\n",
    "from keras.layers import Dense, LSTM"
   ]
  },
  {
   "cell_type": "code",
   "execution_count": 35,
   "metadata": {},
   "outputs": [
    {
     "data": {
      "text/plain": [
       "937"
      ]
     },
     "execution_count": 35,
     "metadata": {},
     "output_type": "execute_result"
    }
   ],
   "source": [
    "# create a new data frame with only 'Close column'\n",
    "data = stock_w.filter(['Adj Close'])\n",
    "dataset = data.values #convert the data frame to a numpy array\n",
    "training_data_len = math.ceil(len(dataset)*.8)  # number of rows to train the model on\n",
    "training_data_len"
   ]
  },
  {
   "cell_type": "code",
   "execution_count": 36,
   "metadata": {},
   "outputs": [
    {
     "data": {
      "text/plain": [
       "array([[0.02731194],\n",
       "       [0.02682348],\n",
       "       [0.02946102],\n",
       "       ...,\n",
       "       [0.27823943],\n",
       "       [0.295238  ],\n",
       "       [0.26557528]])"
      ]
     },
     "execution_count": 36,
     "metadata": {},
     "output_type": "execute_result"
    }
   ],
   "source": [
    "#scale the data\n",
    "scaler = MinMaxScaler(feature_range=(0,1))\n",
    "scaled_data = scaler.fit_transform(dataset)\n",
    "scaled_data"
   ]
  },
  {
   "cell_type": "code",
   "execution_count": 37,
   "metadata": {},
   "outputs": [
    {
     "name": "stdout",
     "output_type": "stream",
     "text": [
      "[array([0.02731194, 0.02682348, 0.02946102, 0.02780035, 0.02682348,\n",
      "       0.02058966, 0.01451229, 0.01735493, 0.01441426, 0.00882699,\n",
      "       0.01764899, 0.01451229, 0.01735493, 0.01402218, 0.01353206,\n",
      "       0.02088372, 0.02029559, 0.02000151, 0.01658862, 0.01619509,\n",
      "       0.01826109, 0.02081902, 0.01973683, 0.01983521, 0.02081902,\n",
      "       0.02386883, 0.02691866, 0.02800087, 0.03173936, 0.03488757,\n",
      "       0.03518274, 0.0363924 , 0.03017639, 0.04349636, 0.04448301,\n",
      "       0.04981095, 0.04783768, 0.05829626, 0.05987492, 0.05434959,\n",
      "       0.05079765, 0.05277097, 0.05869092, 0.06234156, 0.05851202,\n",
      "       0.06147841, 0.06197275, 0.06217054, 0.06869647, 0.06068738,\n",
      "       0.05841314, 0.06246717, 0.05099726, 0.05396363, 0.04615224,\n",
      "       0.04990959, 0.04799138, 0.0490392 , 0.05324429, 0.05581493])]\n",
      "[0.05341879264220231]\n",
      "\n"
     ]
    }
   ],
   "source": [
    "#create the training dataset\n",
    "#create the scaled training dataset\n",
    "\n",
    "train_data = scaled_data[0:training_data_len, :]\n",
    "#Split the data into x_train, y_train datasets\n",
    "x_train = []\n",
    "y_train = []\n",
    "for i in range(60,len(train_data)):\n",
    "    x_train.append(train_data[i-60:i, 0])\n",
    "    y_train.append(train_data[i,0])\n",
    "    if i<=60:\n",
    "        print(x_train)\n",
    "        print(y_train)\n",
    "        print()"
   ]
  },
  {
   "cell_type": "code",
   "execution_count": 38,
   "metadata": {},
   "outputs": [],
   "source": [
    "#convert the x_train and y_train  to numppy array\n",
    "x_train,y_train = np.array(x_train), np.array(y_train)"
   ]
  },
  {
   "cell_type": "code",
   "execution_count": 39,
   "metadata": {},
   "outputs": [
    {
     "data": {
      "text/plain": [
       "(877, 60, 1)"
      ]
     },
     "execution_count": 39,
     "metadata": {},
     "output_type": "execute_result"
    }
   ],
   "source": [
    "#reshape the data\n",
    "x_train = np.reshape(x_train,(x_train.shape[0],x_train.shape[1],1))\n",
    "x_train.shape"
   ]
  },
  {
   "cell_type": "code",
   "execution_count": 40,
   "metadata": {},
   "outputs": [],
   "source": [
    "#Buil the LSTM model\n",
    "model =Sequential()\n",
    "model.add(LSTM(64,return_sequences=True, input_shape=(x_train.shape[1],1)))\n",
    "model.add(LSTM(64, return_sequences= False))\n",
    "model.add(Dense(32))\n",
    "model.add(Dense(1))"
   ]
  },
  {
   "cell_type": "code",
   "execution_count": 41,
   "metadata": {},
   "outputs": [],
   "source": [
    "#Complie the model\n",
    "model.compile(optimizer='adam', loss='mean_squared_error')"
   ]
  },
  {
   "cell_type": "code",
   "execution_count": 42,
   "metadata": {},
   "outputs": [
    {
     "name": "stdout",
     "output_type": "stream",
     "text": [
      "Epoch 1/10\n",
      "877/877 [==============================] - 16s 16ms/step - loss: 9.0821e-04\n",
      "Epoch 2/10\n",
      "877/877 [==============================] - 13s 15ms/step - loss: 2.8892e-04\n",
      "Epoch 3/10\n",
      "877/877 [==============================] - 14s 16ms/step - loss: 3.9186e-04\n",
      "Epoch 4/10\n",
      "877/877 [==============================] - 16s 18ms/step - loss: 2.2067e-04\n",
      "Epoch 5/10\n",
      "877/877 [==============================] - 15s 17ms/step - loss: 2.3838e-04\n",
      "Epoch 6/10\n",
      "877/877 [==============================] - 15s 17ms/step - loss: 1.2869e-04\n",
      "Epoch 7/10\n",
      "877/877 [==============================] - 16s 18ms/step - loss: 1.4824e-04\n",
      "Epoch 8/10\n",
      "877/877 [==============================] - 16s 18ms/step - loss: 1.4512e-04\n",
      "Epoch 9/10\n",
      "877/877 [==============================] - 18s 21ms/step - loss: 2.2107e-04\n",
      "Epoch 10/10\n",
      "877/877 [==============================] - 17s 19ms/step - loss: 1.2865e-04\n"
     ]
    },
    {
     "data": {
      "text/plain": [
       "<keras.callbacks.History at 0x13e7f92e8f0>"
      ]
     },
     "execution_count": 42,
     "metadata": {},
     "output_type": "execute_result"
    }
   ],
   "source": [
    "#Train the model\n",
    "model.fit(x_train,y_train, batch_size=1, epochs=10)"
   ]
  },
  {
   "cell_type": "code",
   "execution_count": 43,
   "metadata": {},
   "outputs": [],
   "source": [
    "#create the testing data sets\n",
    "#create a new array containing scale values\n",
    "test_data= scaled_data[training_data_len-60:, :]\n",
    "#create the data sets x_test and y_test\n",
    "x_test = []\n",
    "y_test = dataset[training_data_len:,:]\n",
    "for i in range(60,len(test_data)):\n",
    "    x_test.append(test_data[i-60:i,0])"
   ]
  },
  {
   "cell_type": "code",
   "execution_count": 44,
   "metadata": {},
   "outputs": [],
   "source": [
    "#convert the data to a numpy array\n",
    "x_test = np.array(x_test)"
   ]
  },
  {
   "cell_type": "code",
   "execution_count": 45,
   "metadata": {},
   "outputs": [
    {
     "data": {
      "text/plain": [
       "(234, 60, 1)"
      ]
     },
     "execution_count": 45,
     "metadata": {},
     "output_type": "execute_result"
    }
   ],
   "source": [
    "#reshape the data\n",
    "x_test = np.reshape(x_test, (x_test.shape[0], x_test.shape[1],1))\n",
    "x_test.shape"
   ]
  },
  {
   "cell_type": "code",
   "execution_count": 46,
   "metadata": {},
   "outputs": [],
   "source": [
    "#predicting the data\n",
    "predictions = model.predict(x_test)\n",
    "predictions = scaler.inverse_transform(predictions)"
   ]
  },
  {
   "cell_type": "code",
   "execution_count": 47,
   "metadata": {},
   "outputs": [
    {
     "data": {
      "text/plain": [
       "4.061621608897152"
      ]
     },
     "execution_count": 47,
     "metadata": {},
     "output_type": "execute_result"
    }
   ],
   "source": [
    "#get the root mean square error(RMSE)\n",
    "rmse = np.sqrt(np.mean(predictions - y_test)**2)\n",
    "rmse"
   ]
  },
  {
   "cell_type": "code",
   "execution_count": null,
   "metadata": {},
   "outputs": [],
   "source": [
    "#plot the data\n",
    "train = data[:training_data_len]\n",
    "valid = data[training_data_len:]\n",
    "valid['Predictions'] = predictions"
   ]
  },
  {
   "cell_type": "code",
   "execution_count": 49,
   "metadata": {},
   "outputs": [
    {
     "data": {
      "image/png": "[encoded data removed]",
      "text/plain": [
       "<Figure size 1152x576 with 1 Axes>"
      ]
     },
     "metadata": {
      "needs_background": "light"
     },
     "output_type": "display_data"
    }
   ],
   "source": [
    "#Visialization the data\n",
    "plt.figure(figsize=(16,8))\n",
    "plt.xlabel('Date', fontsize=18)\n",
    "plt.ylabel('Adj Close Price' ,fontsize=18)\n",
    "plt.plot(train['Adj Close'],linewidth=3.5, label = 'Train')\n",
    "plt.plot(valid['Adj Close'],linewidth=3.5, label = 'Valid')\n",
    "plt.plot(valid['Predictions'],linewidth=3.5, label = 'Predictions')\n",
    "plt.legend()\n",
    "plt.show()"
   ]
  },
  {
   "cell_type": "code",
   "execution_count": 50,
   "metadata": {},
   "outputs": [
    {
     "data": {
      "text/html": [
       "<div>\n",
       "<style scoped>\n",
       "    .dataframe tbody tr th:only-of-type {\n",
       "        vertical-align: middle;\n",
       "    }\n",
       "\n",
       "    .dataframe tbody tr th {\n",
       "        vertical-align: top;\n",
       "    }\n",
       "\n",
       "    .dataframe thead th {\n",
       "        text-align: right;\n",
       "    }\n",
       "</style>\n",
       "<table border=\"1\" class=\"dataframe\">\n",
       "  <thead>\n",
       "    <tr style=\"text-align: right;\">\n",
       "      <th></th>\n",
       "      <th>Adj Close</th>\n",
       "      <th>Predictions</th>\n",
       "    </tr>\n",
       "    <tr>\n",
       "      <th>Date</th>\n",
       "      <th></th>\n",
       "      <th></th>\n",
       "    </tr>\n",
       "  </thead>\n",
       "  <tbody>\n",
       "    <tr>\n",
       "      <th>2017-12-18</th>\n",
       "      <td>281.228241</td>\n",
       "      <td>273.726288</td>\n",
       "    </tr>\n",
       "    <tr>\n",
       "      <th>2017-12-25</th>\n",
       "      <td>281.047150</td>\n",
       "      <td>273.595612</td>\n",
       "    </tr>\n",
       "    <tr>\n",
       "      <th>2018-01-01</th>\n",
       "      <td>294.322327</td>\n",
       "      <td>272.209290</td>\n",
       "    </tr>\n",
       "    <tr>\n",
       "      <th>2018-01-08</th>\n",
       "      <td>320.405731</td>\n",
       "      <td>285.256409</td>\n",
       "    </tr>\n",
       "    <tr>\n",
       "      <th>2018-01-15</th>\n",
       "      <td>321.854309</td>\n",
       "      <td>312.414856</td>\n",
       "    </tr>\n",
       "    <tr>\n",
       "      <th>...</th>\n",
       "      <td>...</td>\n",
       "      <td>...</td>\n",
       "    </tr>\n",
       "    <tr>\n",
       "      <th>2022-05-09</th>\n",
       "      <td>127.199997</td>\n",
       "      <td>146.951401</td>\n",
       "    </tr>\n",
       "    <tr>\n",
       "      <th>2022-05-16</th>\n",
       "      <td>120.699997</td>\n",
       "      <td>129.721039</td>\n",
       "    </tr>\n",
       "    <tr>\n",
       "      <th>2022-05-23</th>\n",
       "      <td>132.229996</td>\n",
       "      <td>122.896843</td>\n",
       "    </tr>\n",
       "    <tr>\n",
       "      <th>2022-05-30</th>\n",
       "      <td>139.250000</td>\n",
       "      <td>133.265579</td>\n",
       "    </tr>\n",
       "    <tr>\n",
       "      <th>2022-06-06</th>\n",
       "      <td>127.000000</td>\n",
       "      <td>141.654602</td>\n",
       "    </tr>\n",
       "  </tbody>\n",
       "</table>\n",
       "<p>234 rows × 2 columns</p>\n",
       "</div>"
      ],
      "text/plain": [
       "             Adj Close  Predictions\n",
       "Date                               \n",
       "2017-12-18  281.228241   273.726288\n",
       "2017-12-25  281.047150   273.595612\n",
       "2018-01-01  294.322327   272.209290\n",
       "2018-01-08  320.405731   285.256409\n",
       "2018-01-15  321.854309   312.414856\n",
       "...                ...          ...\n",
       "2022-05-09  127.199997   146.951401\n",
       "2022-05-16  120.699997   129.721039\n",
       "2022-05-23  132.229996   122.896843\n",
       "2022-05-30  139.250000   133.265579\n",
       "2022-06-06  127.000000   141.654602\n",
       "\n",
       "[234 rows x 2 columns]"
      ]
     },
     "execution_count": 50,
     "metadata": {},
     "output_type": "execute_result"
    }
   ],
   "source": [
    "#show the valid and predicted price\n",
    "valid"
   ]
  }
 ],
 "metadata": {
  "interpreter": {
   "hash": "139e3b4f5b9f6dee72f7384b5b24e0c69f7a714e2e1a9e30130b33a165115932"
  },
  "kernelspec": {
   "display_name": "Python 3.10.4 64-bit",
   "language": "python",
   "name": "python3"
  },
  "language_info": {
   "codemirror_mode": {
    "name": "ipython",
    "version": 3
   },
   "file_extension": ".py",
   "mimetype": "text/x-python",
   "name": "python",
   "nbconvert_exporter": "python",
   "pygments_lexer": "ipython3",
   "version": "3.10.4"
  },
  "orig_nbformat": 4
 },
 "nbformat": 4,
 "nbformat_minor": 2
}
