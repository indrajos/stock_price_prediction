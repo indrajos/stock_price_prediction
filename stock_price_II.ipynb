{
 "cells": [
  {
   "cell_type": "code",
   "execution_count": 1,
   "metadata": {},
   "outputs": [],
   "source": [
    "import numpy as np\n",
    "import pandas as pd\n",
    "import matplotlib.pyplot as plt\n",
    "import pandas_datareader as data\n",
    "import datetime\n",
    "from datetime import time\n",
    "from pandas.tseries.frequencies import to_offset"
   ]
  },
  {
   "cell_type": "code",
   "execution_count": 2,
   "metadata": {},
   "outputs": [
    {
     "data": {
      "text/html": [
       "<div>\n",
       "<style scoped>\n",
       "    .dataframe tbody tr th:only-of-type {\n",
       "        vertical-align: middle;\n",
       "    }\n",
       "\n",
       "    .dataframe tbody tr th {\n",
       "        vertical-align: top;\n",
       "    }\n",
       "\n",
       "    .dataframe thead th {\n",
       "        text-align: right;\n",
       "    }\n",
       "</style>\n",
       "<table border=\"1\" class=\"dataframe\">\n",
       "  <thead>\n",
       "    <tr style=\"text-align: right;\">\n",
       "      <th></th>\n",
       "      <th>High</th>\n",
       "      <th>Low</th>\n",
       "      <th>Open</th>\n",
       "      <th>Close</th>\n",
       "      <th>Volume</th>\n",
       "      <th>Adj Close</th>\n",
       "    </tr>\n",
       "    <tr>\n",
       "      <th>Date</th>\n",
       "      <th></th>\n",
       "      <th></th>\n",
       "      <th></th>\n",
       "      <th></th>\n",
       "      <th></th>\n",
       "      <th></th>\n",
       "    </tr>\n",
       "  </thead>\n",
       "  <tbody>\n",
       "    <tr>\n",
       "      <th>2000-01-03</th>\n",
       "      <td>41.6875</td>\n",
       "      <td>39.8125</td>\n",
       "      <td>41.4375</td>\n",
       "      <td>40.1875</td>\n",
       "      <td>2638200.0</td>\n",
       "      <td>25.940285</td>\n",
       "    </tr>\n",
       "    <tr>\n",
       "      <th>2000-01-04</th>\n",
       "      <td>41.1250</td>\n",
       "      <td>39.7500</td>\n",
       "      <td>40.1875</td>\n",
       "      <td>40.1250</td>\n",
       "      <td>3592100.0</td>\n",
       "      <td>25.899939</td>\n",
       "    </tr>\n",
       "    <tr>\n",
       "      <th>2000-01-05</th>\n",
       "      <td>43.3125</td>\n",
       "      <td>41.3750</td>\n",
       "      <td>41.3750</td>\n",
       "      <td>42.6250</td>\n",
       "      <td>7631700.0</td>\n",
       "      <td>27.513641</td>\n",
       "    </tr>\n",
       "    <tr>\n",
       "      <th>2000-01-06</th>\n",
       "      <td>43.4375</td>\n",
       "      <td>41.1250</td>\n",
       "      <td>42.6250</td>\n",
       "      <td>43.0625</td>\n",
       "      <td>4922200.0</td>\n",
       "      <td>27.796041</td>\n",
       "    </tr>\n",
       "    <tr>\n",
       "      <th>2000-01-07</th>\n",
       "      <td>44.8750</td>\n",
       "      <td>43.6875</td>\n",
       "      <td>43.6875</td>\n",
       "      <td>44.3125</td>\n",
       "      <td>6008300.0</td>\n",
       "      <td>28.602900</td>\n",
       "    </tr>\n",
       "  </tbody>\n",
       "</table>\n",
       "</div>"
      ],
      "text/plain": [
       "               High      Low     Open    Close     Volume  Adj Close\n",
       "Date                                                                \n",
       "2000-01-03  41.6875  39.8125  41.4375  40.1875  2638200.0  25.940285\n",
       "2000-01-04  41.1250  39.7500  40.1875  40.1250  3592100.0  25.899939\n",
       "2000-01-05  43.3125  41.3750  41.3750  42.6250  7631700.0  27.513641\n",
       "2000-01-06  43.4375  41.1250  42.6250  43.0625  4922200.0  27.796041\n",
       "2000-01-07  44.8750  43.6875  43.6875  44.3125  6008300.0  28.602900"
      ]
     },
     "execution_count": 2,
     "metadata": {},
     "output_type": "execute_result"
    }
   ],
   "source": [
    "start = datetime.datetime(2000, 1, 1)\n",
    "end = datetime.date.today()\n",
    "\n",
    "# BA boeing company, data from Yahoo finanse\n",
    "stock_d = data.DataReader('BA', 'yahoo', start, end)\n",
    "stock_d.head()"
   ]
  },
  {
   "cell_type": "code",
   "execution_count": 3,
   "metadata": {},
   "outputs": [],
   "source": [
    "def week_open(array_like):\n",
    "    return array_like[0]\n",
    "\n",
    "def week_close(array_like):\n",
    "    return array_like[-1]\n",
    "\n",
    "logic = {'Open': week_open, \n",
    "                         'High': 'max',\n",
    "                         'Low': 'min',\n",
    "                         'Close': week_close,\n",
    "                         'Volume': 'sum'}\n",
    "\n",
    "stock_w = stock_d.resample('W').apply(logic) # Converting daily data to weekly\n",
    "stock_w.index -= to_offset('6D')\n",
    "\n",
    "stock_w = stock_w[['Open', 'High', 'Low', 'Close', 'Volume']]"
   ]
  },
  {
   "cell_type": "code",
   "execution_count": 4,
   "metadata": {},
   "outputs": [
    {
     "name": "stdout",
     "output_type": "stream",
     "text": [
      "               High      Low     Open    Close     Volume  Adj Close\n",
      "Date                                                                \n",
      "2000-01-03  41.6875  39.8125  41.4375  40.1875  2638200.0  25.940285\n",
      "2000-01-04  41.1250  39.7500  40.1875  40.1250  3592100.0  25.899939\n",
      "2000-01-05  43.3125  41.3750  41.3750  42.6250  7631700.0  27.513641\n",
      "2000-01-06  43.4375  41.1250  42.6250  43.0625  4922200.0  27.796041\n",
      "2000-01-07  44.8750  43.6875  43.6875  44.3125  6008300.0  28.602900\n",
      "2000-01-10  44.5000  43.5000  44.3125  43.6875  2403500.0  28.199459\n",
      "2000-01-11  43.9375  42.7500  43.6875  42.8750  2450000.0  27.675013\n",
      "2000-01-12  44.1875  42.5000  42.8750  43.0625  2327800.0  27.796041\n",
      "2000-01-13  43.3750  42.0000  43.0625  42.3750  3035100.0  27.352289\n",
      "2000-01-14  44.2500  42.9375  42.9375  44.0000  3834900.0  28.401182\n"
     ]
    },
    {
     "data": {
      "text/html": [
       "<div>\n",
       "<style scoped>\n",
       "    .dataframe tbody tr th:only-of-type {\n",
       "        vertical-align: middle;\n",
       "    }\n",
       "\n",
       "    .dataframe tbody tr th {\n",
       "        vertical-align: top;\n",
       "    }\n",
       "\n",
       "    .dataframe thead th {\n",
       "        text-align: right;\n",
       "    }\n",
       "</style>\n",
       "<table border=\"1\" class=\"dataframe\">\n",
       "  <thead>\n",
       "    <tr style=\"text-align: right;\">\n",
       "      <th></th>\n",
       "      <th>Open</th>\n",
       "      <th>High</th>\n",
       "      <th>Low</th>\n",
       "      <th>Close</th>\n",
       "      <th>Volume</th>\n",
       "    </tr>\n",
       "    <tr>\n",
       "      <th>Date</th>\n",
       "      <th></th>\n",
       "      <th></th>\n",
       "      <th></th>\n",
       "      <th></th>\n",
       "      <th></th>\n",
       "    </tr>\n",
       "  </thead>\n",
       "  <tbody>\n",
       "    <tr>\n",
       "      <th>2000-01-03</th>\n",
       "      <td>41.4375</td>\n",
       "      <td>44.8750</td>\n",
       "      <td>39.7500</td>\n",
       "      <td>44.3125</td>\n",
       "      <td>24792500.0</td>\n",
       "    </tr>\n",
       "    <tr>\n",
       "      <th>2000-01-10</th>\n",
       "      <td>44.3125</td>\n",
       "      <td>44.5000</td>\n",
       "      <td>42.0000</td>\n",
       "      <td>44.0000</td>\n",
       "      <td>14051300.0</td>\n",
       "    </tr>\n",
       "    <tr>\n",
       "      <th>2000-01-17</th>\n",
       "      <td>44.0000</td>\n",
       "      <td>48.1250</td>\n",
       "      <td>43.1250</td>\n",
       "      <td>45.6875</td>\n",
       "      <td>30657000.0</td>\n",
       "    </tr>\n",
       "    <tr>\n",
       "      <th>2000-01-24</th>\n",
       "      <td>45.6875</td>\n",
       "      <td>46.8750</td>\n",
       "      <td>43.6250</td>\n",
       "      <td>44.6250</td>\n",
       "      <td>17080700.0</td>\n",
       "    </tr>\n",
       "    <tr>\n",
       "      <th>2000-01-31</th>\n",
       "      <td>44.5625</td>\n",
       "      <td>45.1875</td>\n",
       "      <td>42.5625</td>\n",
       "      <td>44.0000</td>\n",
       "      <td>14199400.0</td>\n",
       "    </tr>\n",
       "  </tbody>\n",
       "</table>\n",
       "</div>"
      ],
      "text/plain": [
       "               Open     High      Low    Close      Volume\n",
       "Date                                                      \n",
       "2000-01-03  41.4375  44.8750  39.7500  44.3125  24792500.0\n",
       "2000-01-10  44.3125  44.5000  42.0000  44.0000  14051300.0\n",
       "2000-01-17  44.0000  48.1250  43.1250  45.6875  30657000.0\n",
       "2000-01-24  45.6875  46.8750  43.6250  44.6250  17080700.0\n",
       "2000-01-31  44.5625  45.1875  42.5625  44.0000  14199400.0"
      ]
     },
     "execution_count": 4,
     "metadata": {},
     "output_type": "execute_result"
    }
   ],
   "source": [
    "print(stock_d.head(10))\n",
    "stock_w.head()"
   ]
  },
  {
   "cell_type": "code",
   "execution_count": 5,
   "metadata": {},
   "outputs": [
    {
     "data": {
      "text/plain": [
       "(1172, 5)"
      ]
     },
     "execution_count": 5,
     "metadata": {},
     "output_type": "execute_result"
    }
   ],
   "source": [
    "stock_w.shape"
   ]
  },
  {
   "cell_type": "markdown",
   "metadata": {},
   "source": [
    "#### Building the LSTM model"
   ]
  },
  {
   "cell_type": "code",
   "execution_count": 6,
   "metadata": {},
   "outputs": [
    {
     "name": "stdout",
     "output_type": "stream",
     "text": [
      "(820, 1)\n",
      "(352, 1)\n"
     ]
    }
   ],
   "source": [
    "data_training = pd.DataFrame(stock_w['Close'][0:int(len(stock_w)*0.70)])\n",
    "data_testing = pd.DataFrame(stock_w['Close'][int(len(stock_w)*0.70):int(len(stock_w))])\n",
    "\n",
    "print(data_training.shape)\n",
    "print(data_testing.shape)"
   ]
  },
  {
   "cell_type": "code",
   "execution_count": 7,
   "metadata": {},
   "outputs": [
    {
     "data": {
      "text/html": [
       "<div>\n",
       "<style scoped>\n",
       "    .dataframe tbody tr th:only-of-type {\n",
       "        vertical-align: middle;\n",
       "    }\n",
       "\n",
       "    .dataframe tbody tr th {\n",
       "        vertical-align: top;\n",
       "    }\n",
       "\n",
       "    .dataframe thead th {\n",
       "        text-align: right;\n",
       "    }\n",
       "</style>\n",
       "<table border=\"1\" class=\"dataframe\">\n",
       "  <thead>\n",
       "    <tr style=\"text-align: right;\">\n",
       "      <th></th>\n",
       "      <th>Close</th>\n",
       "    </tr>\n",
       "    <tr>\n",
       "      <th>Date</th>\n",
       "      <th></th>\n",
       "    </tr>\n",
       "  </thead>\n",
       "  <tbody>\n",
       "    <tr>\n",
       "      <th>2000-01-03</th>\n",
       "      <td>44.3125</td>\n",
       "    </tr>\n",
       "    <tr>\n",
       "      <th>2000-01-10</th>\n",
       "      <td>44.0000</td>\n",
       "    </tr>\n",
       "    <tr>\n",
       "      <th>2000-01-17</th>\n",
       "      <td>45.6875</td>\n",
       "    </tr>\n",
       "    <tr>\n",
       "      <th>2000-01-24</th>\n",
       "      <td>44.6250</td>\n",
       "    </tr>\n",
       "    <tr>\n",
       "      <th>2000-01-31</th>\n",
       "      <td>44.0000</td>\n",
       "    </tr>\n",
       "  </tbody>\n",
       "</table>\n",
       "</div>"
      ],
      "text/plain": [
       "              Close\n",
       "Date               \n",
       "2000-01-03  44.3125\n",
       "2000-01-10  44.0000\n",
       "2000-01-17  45.6875\n",
       "2000-01-24  44.6250\n",
       "2000-01-31  44.0000"
      ]
     },
     "execution_count": 7,
     "metadata": {},
     "output_type": "execute_result"
    }
   ],
   "source": [
    "data_training.head()"
   ]
  },
  {
   "cell_type": "code",
   "execution_count": 8,
   "metadata": {},
   "outputs": [],
   "source": [
    "from sklearn.preprocessing import MinMaxScaler\n",
    "scaler = MinMaxScaler(feature_range=(0,1))"
   ]
  },
  {
   "cell_type": "code",
   "execution_count": 9,
   "metadata": {},
   "outputs": [
    {
     "data": {
      "text/plain": [
       "(820, 1)"
      ]
     },
     "execution_count": 9,
     "metadata": {},
     "output_type": "execute_result"
    }
   ],
   "source": [
    "data_training_array = scaler.fit_transform(data_training)\n",
    "data_training_array.shape"
   ]
  },
  {
   "cell_type": "code",
   "execution_count": 10,
   "metadata": {},
   "outputs": [],
   "source": [
    "x_train = []\n",
    "y_train = []\n",
    "\n",
    "for i in range(100,data_training_array.shape[0]):\n",
    "    x_train.append(data_training_array[i-100: i])\n",
    "    y_train.append(data_training_array[i,0])\n",
    "    \n",
    "x_train, y_train = np.array(x_train), np.array(y_train)   "
   ]
  },
  {
   "cell_type": "code",
   "execution_count": 11,
   "metadata": {},
   "outputs": [],
   "source": [
    "from keras.layers import Dense, Dropout, LSTM\n",
    "from keras.models import Sequential\n",
    "from sklearn.metrics import mean_absolute_error"
   ]
  },
  {
   "cell_type": "code",
   "execution_count": 12,
   "metadata": {},
   "outputs": [],
   "source": [
    "model = Sequential()\n",
    "model.add(LSTM(units = 50, activation = 'relu', return_sequences = True, input_shape = (x_train.shape[1],1)))\n",
    "model.add(Dropout(0.2))\n",
    "\n",
    "model.add(LSTM(units = 60, activation = 'relu', return_sequences = True))\n",
    "model.add(Dropout(0.3))\n",
    "\n",
    "model.add(LSTM(units = 80, activation = 'relu', return_sequences = True))\n",
    "model.add(Dropout(0.4))\n",
    "\n",
    "model.add(LSTM(units = 120, activation = 'relu'))\n",
    "model.add(Dropout(0.5))\n",
    "\n",
    "model.add(Dense(units = 1))"
   ]
  },
  {
   "cell_type": "code",
   "execution_count": 13,
   "metadata": {},
   "outputs": [
    {
     "name": "stdout",
     "output_type": "stream",
     "text": [
      "Model: \"sequential\"\n",
      "_________________________________________________________________\n",
      " Layer (type)                Output Shape              Param #   \n",
      "=================================================================\n",
      " lstm (LSTM)                 (None, 100, 50)           10400     \n",
      "                                                                 \n",
      " dropout (Dropout)           (None, 100, 50)           0         \n",
      "                                                                 \n",
      " lstm_1 (LSTM)               (None, 100, 60)           26640     \n",
      "                                                                 \n",
      " dropout_1 (Dropout)         (None, 100, 60)           0         \n",
      "                                                                 \n",
      " lstm_2 (LSTM)               (None, 100, 80)           45120     \n",
      "                                                                 \n",
      " dropout_2 (Dropout)         (None, 100, 80)           0         \n",
      "                                                                 \n",
      " lstm_3 (LSTM)               (None, 120)               96480     \n",
      "                                                                 \n",
      " dropout_3 (Dropout)         (None, 120)               0         \n",
      "                                                                 \n",
      " dense (Dense)               (None, 1)                 121       \n",
      "                                                                 \n",
      "=================================================================\n",
      "Total params: 178,761\n",
      "Trainable params: 178,761\n",
      "Non-trainable params: 0\n",
      "_________________________________________________________________\n"
     ]
    }
   ],
   "source": [
    "model.summary()"
   ]
  },
  {
   "cell_type": "code",
   "execution_count": 14,
   "metadata": {},
   "outputs": [
    {
     "name": "stdout",
     "output_type": "stream",
     "text": [
      "Epoch 1/50\n",
      "23/23 [==============================] - 8s 182ms/step - loss: 0.0632\n",
      "Epoch 2/50\n",
      "23/23 [==============================] - 4s 179ms/step - loss: 0.0172\n",
      "Epoch 3/50\n",
      "23/23 [==============================] - 4s 176ms/step - loss: 0.0133\n",
      "Epoch 4/50\n",
      "23/23 [==============================] - 4s 178ms/step - loss: 0.0135\n",
      "Epoch 5/50\n",
      "23/23 [==============================] - 4s 178ms/step - loss: 0.0111\n",
      "Epoch 6/50\n",
      "23/23 [==============================] - 4s 174ms/step - loss: 0.0099\n",
      "Epoch 7/50\n",
      "23/23 [==============================] - 4s 171ms/step - loss: 0.0091\n",
      "Epoch 8/50\n",
      "23/23 [==============================] - 4s 188ms/step - loss: 0.0080\n",
      "Epoch 9/50\n",
      "23/23 [==============================] - 4s 177ms/step - loss: 0.0083\n",
      "Epoch 10/50\n",
      "23/23 [==============================] - 4s 176ms/step - loss: 0.0072\n",
      "Epoch 11/50\n",
      "23/23 [==============================] - 4s 161ms/step - loss: 0.0078\n",
      "Epoch 12/50\n",
      "23/23 [==============================] - 4s 165ms/step - loss: 0.0093\n",
      "Epoch 13/50\n",
      "23/23 [==============================] - 4s 166ms/step - loss: 0.0084\n",
      "Epoch 14/50\n",
      "23/23 [==============================] - 4s 164ms/step - loss: 0.0075\n",
      "Epoch 15/50\n",
      "23/23 [==============================] - 4s 185ms/step - loss: 0.0076\n",
      "Epoch 16/50\n",
      "23/23 [==============================] - 4s 162ms/step - loss: 0.0067\n",
      "Epoch 17/50\n",
      "23/23 [==============================] - 4s 178ms/step - loss: 0.0071\n",
      "Epoch 18/50\n",
      "23/23 [==============================] - 4s 170ms/step - loss: 0.0069\n",
      "Epoch 19/50\n",
      "23/23 [==============================] - 4s 167ms/step - loss: 0.0060\n",
      "Epoch 20/50\n",
      "23/23 [==============================] - 4s 156ms/step - loss: 0.0066\n",
      "Epoch 21/50\n",
      "23/23 [==============================] - 4s 171ms/step - loss: 0.0061\n",
      "Epoch 22/50\n",
      "23/23 [==============================] - 4s 161ms/step - loss: 0.0065\n",
      "Epoch 23/50\n",
      "23/23 [==============================] - 4s 158ms/step - loss: 0.0060\n",
      "Epoch 24/50\n",
      "23/23 [==============================] - 4s 158ms/step - loss: 0.0057\n",
      "Epoch 25/50\n",
      "23/23 [==============================] - 4s 164ms/step - loss: 0.0060\n",
      "Epoch 26/50\n",
      "23/23 [==============================] - 4s 166ms/step - loss: 0.0054\n",
      "Epoch 27/50\n",
      "23/23 [==============================] - 4s 176ms/step - loss: 0.0052\n",
      "Epoch 28/50\n",
      "23/23 [==============================] - 5s 197ms/step - loss: 0.0055\n",
      "Epoch 29/50\n",
      "23/23 [==============================] - 4s 178ms/step - loss: 0.0064\n",
      "Epoch 30/50\n",
      "23/23 [==============================] - 4s 170ms/step - loss: 0.0059\n",
      "Epoch 31/50\n",
      "23/23 [==============================] - 4s 176ms/step - loss: 0.0051\n",
      "Epoch 32/50\n",
      "23/23 [==============================] - 4s 172ms/step - loss: 0.0047\n",
      "Epoch 33/50\n",
      "23/23 [==============================] - 4s 172ms/step - loss: 0.0045\n",
      "Epoch 34/50\n",
      "23/23 [==============================] - 4s 173ms/step - loss: 0.0046\n",
      "Epoch 35/50\n",
      "23/23 [==============================] - 4s 177ms/step - loss: 0.0049\n",
      "Epoch 36/50\n",
      "23/23 [==============================] - 4s 172ms/step - loss: 0.0047\n",
      "Epoch 37/50\n",
      "23/23 [==============================] - 4s 191ms/step - loss: 0.0051\n",
      "Epoch 38/50\n",
      "23/23 [==============================] - 4s 173ms/step - loss: 0.0048\n",
      "Epoch 39/50\n",
      "23/23 [==============================] - 4s 170ms/step - loss: 0.0048\n",
      "Epoch 40/50\n",
      "23/23 [==============================] - 4s 189ms/step - loss: 0.0042\n",
      "Epoch 41/50\n",
      "23/23 [==============================] - 4s 194ms/step - loss: 0.0042\n",
      "Epoch 42/50\n",
      "23/23 [==============================] - 4s 186ms/step - loss: 0.0042\n",
      "Epoch 43/50\n",
      "23/23 [==============================] - 5s 234ms/step - loss: 0.0041\n",
      "Epoch 44/50\n",
      "23/23 [==============================] - 4s 173ms/step - loss: 0.0039\n",
      "Epoch 45/50\n",
      "23/23 [==============================] - 4s 173ms/step - loss: 0.0044\n",
      "Epoch 46/50\n",
      "23/23 [==============================] - 4s 178ms/step - loss: 0.0039\n",
      "Epoch 47/50\n",
      "23/23 [==============================] - 4s 179ms/step - loss: 0.0042\n",
      "Epoch 48/50\n",
      "23/23 [==============================] - 4s 175ms/step - loss: 0.0041\n",
      "Epoch 49/50\n",
      "23/23 [==============================] - 4s 174ms/step - loss: 0.0041\n",
      "Epoch 50/50\n",
      "23/23 [==============================] - 4s 177ms/step - loss: 0.0040\n"
     ]
    },
    {
     "data": {
      "text/plain": [
       "<keras.callbacks.History at 0x25d987f6290>"
      ]
     },
     "execution_count": 14,
     "metadata": {},
     "output_type": "execute_result"
    }
   ],
   "source": [
    "model.compile(optimizer='adam', loss = 'mean_squared_error')\n",
    "model.fit(x_train, y_train, epochs = 50)"
   ]
  },
  {
   "cell_type": "code",
   "execution_count": 15,
   "metadata": {},
   "outputs": [],
   "source": [
    "model.save('keras_model.h5')"
   ]
  },
  {
   "cell_type": "code",
   "execution_count": 16,
   "metadata": {},
   "outputs": [],
   "source": [
    "past_100_days = data_training.tail(100)"
   ]
  },
  {
   "cell_type": "code",
   "execution_count": 17,
   "metadata": {},
   "outputs": [
    {
     "name": "stderr",
     "output_type": "stream",
     "text": [
      "C:\\Users\\SN\\AppData\\Local\\Temp\\ipykernel_8472\\3299050086.py:1: FutureWarning: The frame.append method is deprecated and will be removed from pandas in a future version. Use pandas.concat instead.\n",
      "  final_df = past_100_days.append(data_testing, ignore_index = True)\n"
     ]
    }
   ],
   "source": [
    "final_df = past_100_days.append(data_testing, ignore_index = True)"
   ]
  },
  {
   "cell_type": "code",
   "execution_count": 18,
   "metadata": {},
   "outputs": [],
   "source": [
    "input_data = scaler.fit_transform(final_df)"
   ]
  },
  {
   "cell_type": "code",
   "execution_count": 19,
   "metadata": {},
   "outputs": [],
   "source": [
    "x_test = []\n",
    "y_test = []\n",
    "\n",
    "for i in range(100, input_data.shape[0]):\n",
    "    x_test.append(input_data[i-100:i])\n",
    "    y_test.append(input_data[i,0])"
   ]
  },
  {
   "cell_type": "code",
   "execution_count": 20,
   "metadata": {},
   "outputs": [
    {
     "name": "stdout",
     "output_type": "stream",
     "text": [
      "(352, 100, 1)\n",
      "(352,)\n"
     ]
    }
   ],
   "source": [
    "x_test, y_test = np.array(x_test), np.array(y_test)\n",
    "print(x_test.shape)\n",
    "print(y_test.shape)"
   ]
  },
  {
   "cell_type": "code",
   "execution_count": 21,
   "metadata": {},
   "outputs": [],
   "source": [
    "#Making Predictions\n",
    "\n",
    "Y_predicted = model.predict(x_test)"
   ]
  },
  {
   "cell_type": "code",
   "execution_count": 22,
   "metadata": {},
   "outputs": [
    {
     "data": {
      "text/plain": [
       "(352, 1)"
      ]
     },
     "execution_count": 22,
     "metadata": {},
     "output_type": "execute_result"
    }
   ],
   "source": [
    "Y_predicted.shape"
   ]
  },
  {
   "cell_type": "code",
   "execution_count": 23,
   "metadata": {},
   "outputs": [
    {
     "data": {
      "text/plain": [
       "array([0.00289343])"
      ]
     },
     "execution_count": 23,
     "metadata": {},
     "output_type": "execute_result"
    }
   ],
   "source": [
    "scaler.scale_"
   ]
  },
  {
   "cell_type": "code",
   "execution_count": 24,
   "metadata": {},
   "outputs": [],
   "source": [
    "scale_factor = 1/0.00289343\n",
    "Y_predicted = Y_predicted * scale_factor\n",
    "y_test = y_test * scale_factor"
   ]
  },
  {
   "cell_type": "code",
   "execution_count": 25,
   "metadata": {},
   "outputs": [
    {
     "data": {
      "image/png": "[encoded data removed]",
      "text/plain": [
       "<Figure size 864x432 with 1 Axes>"
      ]
     },
     "metadata": {
      "needs_background": "light"
     },
     "output_type": "display_data"
    }
   ],
   "source": [
    "plt.figure(figsize=(12,6))\n",
    "plt.plot(y_test, 'b', label = 'Original Price')\n",
    "plt.plot(Y_predicted, 'r', label = 'Predicted Price')\n",
    "plt.xlabel('Time')\n",
    "plt.ylabel('Price')\n",
    "plt.legend()\n",
    "plt.show()"
   ]
  },
  {
   "cell_type": "code",
   "execution_count": 26,
   "metadata": {},
   "outputs": [
    {
     "data": {
      "text/plain": [
       "1.8246031819241795"
      ]
     },
     "execution_count": 26,
     "metadata": {},
     "output_type": "execute_result"
    }
   ],
   "source": [
    "#get the root mean square error(RMSE)\n",
    "rmse = np.sqrt(np.mean(Y_predicted - y_test)**2)\n",
    "rmse"
   ]
  },
  {
   "cell_type": "code",
   "execution_count": 27,
   "metadata": {},
   "outputs": [
    {
     "name": "stdout",
     "output_type": "stream",
     "text": [
      "Test MAE: 19.426983\n"
     ]
    }
   ],
   "source": [
    "# Mean absolute error\n",
    "mae = mean_absolute_error(y_test, Y_predicted)\n",
    "print(\"Test MAE: %.6f\" % mae)"
   ]
  },
  {
   "cell_type": "markdown",
   "metadata": {},
   "source": [
    "### Add extra financial data"
   ]
  },
  {
   "cell_type": "code",
   "execution_count": 28,
   "metadata": {},
   "outputs": [],
   "source": [
    "# pip install yfinance --upgrade --no-cache-dir"
   ]
  },
  {
   "cell_type": "code",
   "execution_count": 29,
   "metadata": {},
   "outputs": [],
   "source": [
    "import json\n",
    "import yfinance as yf\n",
    "\n",
    "sec = yf.Ticker(\"BA\")"
   ]
  },
  {
   "cell_type": "code",
   "execution_count": 30,
   "metadata": {},
   "outputs": [
    {
     "name": "stdout",
     "output_type": "stream",
     "text": [
      "Quarterly Earnings\n",
      "             Revenue    Earnings\n",
      "Quarter                         \n",
      "2Q2021   16998000000   587000000\n",
      "3Q2021   15278000000  -109000000\n",
      "4Q2021   14793000000 -4143000000\n",
      "1Q2022   13991000000 -1219000000\n",
      "\n",
      "------Quarterly Financials\n",
      "                                           2022-03-31     2021-12-31  \\\n",
      "Research Development                      633000000.0    678000000.0   \n",
      "Effect Of Accounting Charges                     None           None   \n",
      "Income Before Tax                       -1618000000.0  -4700000000.0   \n",
      "Minority Interest                         130000000.0    153000000.0   \n",
      "Net Income                              -1219000000.0  -4143000000.0   \n",
      "Selling General Administrative            628000000.0    856000000.0   \n",
      "Gross Profit                              534000000.0  -2025000000.0   \n",
      "Ebit                                     -727000000.0  -3559000000.0   \n",
      "Operating Income                         -727000000.0  -3559000000.0   \n",
      "Other Operating Expenses                         None           None   \n",
      "Interest Expense                         -630000000.0   -661000000.0   \n",
      "Extraordinary Items                              None           None   \n",
      "Non Recurring                                    None           None   \n",
      "Other Items                                      None           None   \n",
      "Income Tax Expense                       -376000000.0   -536000000.0   \n",
      "Total Revenue                           13991000000.0  14793000000.0   \n",
      "Total Operating Expenses                14718000000.0  18352000000.0   \n",
      "Cost Of Revenue                         13457000000.0  16818000000.0   \n",
      "Total Other Income Expense Net           -891000000.0  -1141000000.0   \n",
      "Discontinued Operations                          None           None   \n",
      "Net Income From Continuing Ops          -1242000000.0  -4164000000.0   \n",
      "Net Income Applicable To Common Shares  -1219000000.0  -4143000000.0   \n",
      "\n",
      "                                           2021-09-30     2021-06-30  \n",
      "Research Development                      575000000.0    497000000.0  \n",
      "Effect Of Accounting Charges                     None           None  \n",
      "Income Before Tax                        -310000000.0    549000000.0  \n",
      "Minority Interest                         174000000.0    197000000.0  \n",
      "Net Income                               -109000000.0    587000000.0  \n",
      "Selling General Administrative           1062000000.0    860000000.0  \n",
      "Gross Profit                             2313000000.0   2925000000.0  \n",
      "Ebit                                      676000000.0   1568000000.0  \n",
      "Operating Income                          676000000.0   1568000000.0  \n",
      "Other Operating Expenses                         None           None  \n",
      "Interest Expense                         -669000000.0   -673000000.0  \n",
      "Extraordinary Items                              None           None  \n",
      "Non Recurring                                    None           None  \n",
      "Other Items                                      None           None  \n",
      "Income Tax Expense                       -178000000.0    -18000000.0  \n",
      "Total Revenue                           15278000000.0  16998000000.0  \n",
      "Total Operating Expenses                14602000000.0  15430000000.0  \n",
      "Cost Of Revenue                         12965000000.0  14073000000.0  \n",
      "Total Other Income Expense Net           -986000000.0  -1019000000.0  \n",
      "Discontinued Operations                          None           None  \n",
      "Net Income From Continuing Ops           -132000000.0    567000000.0  \n",
      "Net Income Applicable To Common Shares   -109000000.0    587000000.0  \n",
      "\n",
      "Quarterly Balance Sheet\n",
      "                                    2022-03-31    2021-12-31    2021-09-30  \\\n",
      "Intangible Assets                 2.492000e+09  2.562000e+09  2.631000e+09   \n",
      "Capital Surplus                   9.295000e+09  9.052000e+09  8.796000e+09   \n",
      "Total Liab                        1.510690e+11  1.533980e+11  1.611120e+11   \n",
      "Total Stockholder Equity         -1.539800e+10 -1.499900e+10 -1.444000e+10   \n",
      "Minority Interest                 1.300000e+08  1.530000e+08  1.740000e+08   \n",
      "Other Current Liab                5.256400e+10  5.983900e+10  5.132900e+10   \n",
      "Total Assets                      1.358010e+11  1.385520e+11  1.468460e+11   \n",
      "Common Stock                      5.061000e+09  5.061000e+09  5.061000e+09   \n",
      "Other Current Assets              2.356000e+09  2.221000e+09  2.664000e+09   \n",
      "Retained Earnings                 3.318900e+10  3.440800e+10  3.855100e+10   \n",
      "Other Liab                        1.422700e+10  1.332900e+10  1.829900e+10   \n",
      "Good Will                         8.065000e+09  8.068000e+09  8.070000e+09   \n",
      "Treasury Stock                   -6.294300e+10 -6.352000e+10 -6.684800e+10   \n",
      "Other Assets                      5.905000e+09  4.231000e+09  5.386000e+09   \n",
      "Cash                              7.409000e+09  8.052000e+09  9.764000e+09   \n",
      "Total Current Liabilities         8.169200e+10  8.199200e+10  8.577100e+10   \n",
      "Deferred Long Term Asset Charges  9.100000e+07  7.700000e+07  7.400000e+07   \n",
      "Short Long Term Debt              2.291000e+09  9.320000e+08  5.077000e+09   \n",
      "Other Stockholder Equity         -1.137000e+10 -1.165900e+10 -1.481800e+10   \n",
      "Property Plant Equipment          1.075500e+10  1.235500e+10  1.111300e+10   \n",
      "Total Current Assets              1.060120e+11  1.086660e+11  1.168880e+11   \n",
      "Long Term Investments             9.920000e+08  9.750000e+08  9.630000e+08   \n",
      "Net Tangible Assets              -2.595500e+10 -2.562900e+10 -2.514100e+10   \n",
      "Short Term Investments            4.873000e+09  8.192000e+09  1.023100e+10   \n",
      "Net Receivables                   1.139800e+10  1.126100e+10  1.225600e+10   \n",
      "Long Term Debt                    5.374300e+10  5.549000e+10  5.563600e+10   \n",
      "Inventory                         7.981900e+10  7.882300e+10  8.189700e+10   \n",
      "Accounts Payable                  8.779000e+09  9.261000e+09  1.015100e+10   \n",
      "\n",
      "                                    2021-06-30  \n",
      "Intangible Assets                 2.702000e+09  \n",
      "Capital Surplus                   8.481000e+09  \n",
      "Total Liab                        1.654200e+11  \n",
      "Total Stockholder Equity         -1.668200e+10  \n",
      "Minority Interest                 1.970000e+08  \n",
      "Other Current Liab                5.077300e+10  \n",
      "Total Assets                      1.489350e+11  \n",
      "Common Stock                      5.061000e+09  \n",
      "Other Current Assets              4.187000e+09  \n",
      "Retained Earnings                 3.866000e+10  \n",
      "Other Liab                        2.017100e+10  \n",
      "Good Will                         8.076000e+09  \n",
      "Treasury Stock                   -6.888400e+10  \n",
      "Other Assets                      4.973000e+09  \n",
      "Cash                              8.271000e+09  \n",
      "Total Current Liabilities         8.822400e+10  \n",
      "Deferred Long Term Asset Charges  8.400000e+07  \n",
      "Short Long Term Debt              6.034000e+09  \n",
      "Other Stockholder Equity         -1.666100e+10  \n",
      "Property Plant Equipment          1.134100e+10  \n",
      "Total Current Assets              1.190950e+11  \n",
      "Long Term Investments             8.830000e+08  \n",
      "Net Tangible Assets              -2.746000e+10  \n",
      "Short Term Investments            1.307100e+10  \n",
      "Net Receivables                   1.169300e+10  \n",
      "Long Term Debt                    5.581800e+10  \n",
      "Inventory                         8.179900e+10  \n",
      "Accounts Payable                  1.145000e+10  \n",
      "\n",
      "Quarterly BalanceSheet\n",
      "                                    2022-03-31    2021-12-31    2021-09-30  \\\n",
      "Intangible Assets                 2.492000e+09  2.562000e+09  2.631000e+09   \n",
      "Capital Surplus                   9.295000e+09  9.052000e+09  8.796000e+09   \n",
      "Total Liab                        1.510690e+11  1.533980e+11  1.611120e+11   \n",
      "Total Stockholder Equity         -1.539800e+10 -1.499900e+10 -1.444000e+10   \n",
      "Minority Interest                 1.300000e+08  1.530000e+08  1.740000e+08   \n",
      "Other Current Liab                5.256400e+10  5.983900e+10  5.132900e+10   \n",
      "Total Assets                      1.358010e+11  1.385520e+11  1.468460e+11   \n",
      "Common Stock                      5.061000e+09  5.061000e+09  5.061000e+09   \n",
      "Other Current Assets              2.356000e+09  2.221000e+09  2.664000e+09   \n",
      "Retained Earnings                 3.318900e+10  3.440800e+10  3.855100e+10   \n",
      "Other Liab                        1.422700e+10  1.332900e+10  1.829900e+10   \n",
      "Good Will                         8.065000e+09  8.068000e+09  8.070000e+09   \n",
      "Treasury Stock                   -6.294300e+10 -6.352000e+10 -6.684800e+10   \n",
      "Other Assets                      5.905000e+09  4.231000e+09  5.386000e+09   \n",
      "Cash                              7.409000e+09  8.052000e+09  9.764000e+09   \n",
      "Total Current Liabilities         8.169200e+10  8.199200e+10  8.577100e+10   \n",
      "Deferred Long Term Asset Charges  9.100000e+07  7.700000e+07  7.400000e+07   \n",
      "Short Long Term Debt              2.291000e+09  9.320000e+08  5.077000e+09   \n",
      "Other Stockholder Equity         -1.137000e+10 -1.165900e+10 -1.481800e+10   \n",
      "Property Plant Equipment          1.075500e+10  1.235500e+10  1.111300e+10   \n",
      "Total Current Assets              1.060120e+11  1.086660e+11  1.168880e+11   \n",
      "Long Term Investments             9.920000e+08  9.750000e+08  9.630000e+08   \n",
      "Net Tangible Assets              -2.595500e+10 -2.562900e+10 -2.514100e+10   \n",
      "Short Term Investments            4.873000e+09  8.192000e+09  1.023100e+10   \n",
      "Net Receivables                   1.139800e+10  1.126100e+10  1.225600e+10   \n",
      "Long Term Debt                    5.374300e+10  5.549000e+10  5.563600e+10   \n",
      "Inventory                         7.981900e+10  7.882300e+10  8.189700e+10   \n",
      "Accounts Payable                  8.779000e+09  9.261000e+09  1.015100e+10   \n",
      "\n",
      "                                    2021-06-30  \n",
      "Intangible Assets                 2.702000e+09  \n",
      "Capital Surplus                   8.481000e+09  \n",
      "Total Liab                        1.654200e+11  \n",
      "Total Stockholder Equity         -1.668200e+10  \n",
      "Minority Interest                 1.970000e+08  \n",
      "Other Current Liab                5.077300e+10  \n",
      "Total Assets                      1.489350e+11  \n",
      "Common Stock                      5.061000e+09  \n",
      "Other Current Assets              4.187000e+09  \n",
      "Retained Earnings                 3.866000e+10  \n",
      "Other Liab                        2.017100e+10  \n",
      "Good Will                         8.076000e+09  \n",
      "Treasury Stock                   -6.888400e+10  \n",
      "Other Assets                      4.973000e+09  \n",
      "Cash                              8.271000e+09  \n",
      "Total Current Liabilities         8.822400e+10  \n",
      "Deferred Long Term Asset Charges  8.400000e+07  \n",
      "Short Long Term Debt              6.034000e+09  \n",
      "Other Stockholder Equity         -1.666100e+10  \n",
      "Property Plant Equipment          1.134100e+10  \n",
      "Total Current Assets              1.190950e+11  \n",
      "Long Term Investments             8.830000e+08  \n",
      "Net Tangible Assets              -2.746000e+10  \n",
      "Short Term Investments            1.307100e+10  \n",
      "Net Receivables                   1.169300e+10  \n",
      "Long Term Debt                    5.581800e+10  \n",
      "Inventory                         8.179900e+10  \n",
      "Accounts Payable                  1.145000e+10  \n",
      "\n",
      "Quarterly Cash Flow\n",
      "                                             2022-03-31    2021-12-31  \\\n",
      "Investments                                3.305000e+09  2.014000e+09   \n",
      "Change To Liabilities                     -8.910000e+08  1.506000e+09   \n",
      "Total Cashflows From Investing Activities  2.965000e+09  1.935000e+09   \n",
      "Net Borrowings                            -3.940000e+08 -4.349000e+09   \n",
      "Total Cash From Financing Activities      -3.960000e+08 -4.362000e+09   \n",
      "Change To Operating Activities            -6.700000e+08 -6.130000e+08   \n",
      "Issuance Of Stock                          3.000000e+07  6.000000e+06   \n",
      "Net Income                                -1.219000e+09 -4.143000e+09   \n",
      "Change In Cash                            -6.500000e+08 -1.716000e+09   \n",
      "Repurchase Of Stock                       -3.200000e+07 -1.900000e+07   \n",
      "Effect Of Exchange Rate                   -3.000000e+06 -5.000000e+06   \n",
      "Total Cash From Operating Activities      -3.216000e+09  7.160000e+08   \n",
      "Depreciation                               4.860000e+08  5.340000e+08   \n",
      "Other Cashflows From Investing Activities  1.000000e+06 -1.000000e+06   \n",
      "Change To Inventory                       -1.203000e+09 -1.635000e+09   \n",
      "Change To Account Receivables             -1.190000e+08  9.910000e+08   \n",
      "Change To Netincome                        8.030000e+08  4.354000e+09   \n",
      "Capital Expenditures                      -3.490000e+08 -2.220000e+08   \n",
      "\n",
      "                                             2021-09-30    2021-06-30  \n",
      "Investments                                2.881000e+09  1.831000e+09  \n",
      "Change To Liabilities                     -1.000000e+09 -1.386000e+09  \n",
      "Total Cashflows From Investing Activities  2.966000e+09  1.659000e+09  \n",
      "Net Borrowings                            -1.171000e+09 -2.300000e+07  \n",
      "Total Cash From Financing Activities      -1.171000e+09 -1.900000e+07  \n",
      "Change To Operating Activities            -6.180000e+08 -1.033000e+09  \n",
      "Issuance Of Stock                          7.000000e+06  6.000000e+06  \n",
      "Net Income                                -1.090000e+08  5.870000e+08  \n",
      "Change In Cash                             1.513000e+09  1.161000e+09  \n",
      "Repurchase Of Stock                       -7.000000e+06 -2.000000e+06  \n",
      "Effect Of Exchange Rate                   -2.000000e+07  4.000000e+06  \n",
      "Total Cash From Operating Activities      -2.620000e+08 -4.830000e+08  \n",
      "Depreciation                               5.230000e+08  5.510000e+08  \n",
      "Other Cashflows From Investing Activities  2.000000e+06  1.000000e+06  \n",
      "Change To Inventory                        9.500000e+07  1.093000e+09  \n",
      "Change To Account Receivables             -5.600000e+08 -5.460000e+08  \n",
      "Change To Netincome                        2.660000e+08  3.470000e+08  \n",
      "Capital Expenditures                      -2.450000e+08 -2.220000e+08  \n",
      "\n"
     ]
    }
   ],
   "source": [
    "\n",
    "print('Quarterly Earnings')\n",
    "print(sec.quarterly_earnings)\n",
    "print()\n",
    "\n",
    "print('------Quarterly Financials')\n",
    "print(sec.quarterly_financials)\n",
    "print()\n",
    "print('Quarterly Balance Sheet')\n",
    "print(sec.quarterly_balance_sheet)\n",
    "print()\n",
    "\n",
    "print('Quarterly BalanceSheet')\n",
    "print(sec.quarterly_balancesheet)\n",
    "print()\n",
    "\n",
    "print('Quarterly Cash Flow')\n",
    "print(sec.quarterly_cashflow)\n",
    "print()"
   ]
  },
  {
   "cell_type": "code",
   "execution_count": null,
   "metadata": {},
   "outputs": [],
   "source": []
  }
 ],
 "metadata": {
  "interpreter": {
   "hash": "139e3b4f5b9f6dee72f7384b5b24e0c69f7a714e2e1a9e30130b33a165115932"
  },
  "kernelspec": {
   "display_name": "Python 3.10.4 64-bit",
   "language": "python",
   "name": "python3"
  },
  "language_info": {
   "codemirror_mode": {
    "name": "ipython",
    "version": 3
   },
   "file_extension": ".py",
   "mimetype": "text/x-python",
   "name": "python",
   "nbconvert_exporter": "python",
   "pygments_lexer": "ipython3",
   "version": "3.10.4"
  },
  "orig_nbformat": 4
 },
 "nbformat": 4,
 "nbformat_minor": 2
}
