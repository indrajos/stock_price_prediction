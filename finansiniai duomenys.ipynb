{
 "cells": [
  {
   "cell_type": "code",
   "execution_count": 15,
   "metadata": {},
   "outputs": [],
   "source": [
    "import yfinance as yf\n",
    "import pandas as pd\n",
    "\n",
    "import plotly.graph_objs as go\n",
    "import plotly.offline as py\n",
    "import plotly.express as px\n",
    "\n",
    "sec = yf.Ticker(\"BA\")"
   ]
  },
  {
   "cell_type": "code",
   "execution_count": null,
   "metadata": {},
   "outputs": [],
   "source": [
    "# Aš įsivaizduočiau, kad būtų labai gerai iš šių duomenų rinkinių pasidaryti daug diagramų.\n",
    "# Su ipyvizzu gal tik kelios pagrindinės, kur eitų judesio padaryt, kad aiškiai matytųsi tas pokytis. Visa kita - kuo informatyviau su plotly"
   ]
  },
  {
   "cell_type": "code",
   "execution_count": 36,
   "metadata": {},
   "outputs": [
    {
     "data": {
      "text/html": [
       "<div>\n",
       "<style scoped>\n",
       "    .dataframe tbody tr th:only-of-type {\n",
       "        vertical-align: middle;\n",
       "    }\n",
       "\n",
       "    .dataframe tbody tr th {\n",
       "        vertical-align: top;\n",
       "    }\n",
       "\n",
       "    .dataframe thead th {\n",
       "        text-align: right;\n",
       "    }\n",
       "</style>\n",
       "<table border=\"1\" class=\"dataframe\">\n",
       "  <thead>\n",
       "    <tr style=\"text-align: right;\">\n",
       "      <th></th>\n",
       "      <th>Firm</th>\n",
       "      <th>To Grade</th>\n",
       "      <th>From Grade</th>\n",
       "      <th>Action</th>\n",
       "    </tr>\n",
       "    <tr>\n",
       "      <th>Date</th>\n",
       "      <th></th>\n",
       "      <th></th>\n",
       "      <th></th>\n",
       "      <th></th>\n",
       "    </tr>\n",
       "  </thead>\n",
       "  <tbody>\n",
       "    <tr>\n",
       "      <th>2022-01-31 18:44:33</th>\n",
       "      <td>Jefferies</td>\n",
       "      <td>Buy</td>\n",
       "      <td></td>\n",
       "      <td>main</td>\n",
       "    </tr>\n",
       "    <tr>\n",
       "      <th>2022-03-07 15:15:39</th>\n",
       "      <td>Cowen &amp; Co.</td>\n",
       "      <td>Outperform</td>\n",
       "      <td></td>\n",
       "      <td>main</td>\n",
       "    </tr>\n",
       "    <tr>\n",
       "      <th>2022-04-08 12:18:34</th>\n",
       "      <td>Morgan Stanley</td>\n",
       "      <td>Overweight</td>\n",
       "      <td></td>\n",
       "      <td>main</td>\n",
       "    </tr>\n",
       "    <tr>\n",
       "      <th>2022-04-22 13:57:21</th>\n",
       "      <td>Benchmark</td>\n",
       "      <td>Buy</td>\n",
       "      <td></td>\n",
       "      <td>main</td>\n",
       "    </tr>\n",
       "    <tr>\n",
       "      <th>2022-04-28 12:20:59</th>\n",
       "      <td>Wells Fargo</td>\n",
       "      <td>Overweight</td>\n",
       "      <td></td>\n",
       "      <td>main</td>\n",
       "    </tr>\n",
       "    <tr>\n",
       "      <th>2022-04-28 12:24:27</th>\n",
       "      <td>Susquehanna</td>\n",
       "      <td>Positive</td>\n",
       "      <td></td>\n",
       "      <td>main</td>\n",
       "    </tr>\n",
       "    <tr>\n",
       "      <th>2022-04-28 12:26:54</th>\n",
       "      <td>JP Morgan</td>\n",
       "      <td>Overweight</td>\n",
       "      <td></td>\n",
       "      <td>main</td>\n",
       "    </tr>\n",
       "    <tr>\n",
       "      <th>2022-04-28 12:30:21</th>\n",
       "      <td>RBC Capital</td>\n",
       "      <td>Outperform</td>\n",
       "      <td></td>\n",
       "      <td>main</td>\n",
       "    </tr>\n",
       "    <tr>\n",
       "      <th>2022-05-17 13:16:55</th>\n",
       "      <td>B of A Securities</td>\n",
       "      <td>Neutral</td>\n",
       "      <td></td>\n",
       "      <td>main</td>\n",
       "    </tr>\n",
       "    <tr>\n",
       "      <th>2022-05-20 14:01:18</th>\n",
       "      <td>Susquehanna</td>\n",
       "      <td>Positive</td>\n",
       "      <td></td>\n",
       "      <td>main</td>\n",
       "    </tr>\n",
       "  </tbody>\n",
       "</table>\n",
       "</div>"
      ],
      "text/plain": [
       "                                  Firm    To Grade From Grade Action\n",
       "Date                                                                \n",
       "2022-01-31 18:44:33          Jefferies         Buy              main\n",
       "2022-03-07 15:15:39        Cowen & Co.  Outperform              main\n",
       "2022-04-08 12:18:34     Morgan Stanley  Overweight              main\n",
       "2022-04-22 13:57:21          Benchmark         Buy              main\n",
       "2022-04-28 12:20:59        Wells Fargo  Overweight              main\n",
       "2022-04-28 12:24:27        Susquehanna    Positive              main\n",
       "2022-04-28 12:26:54          JP Morgan  Overweight              main\n",
       "2022-04-28 12:30:21        RBC Capital  Outperform              main\n",
       "2022-05-17 13:16:55  B of A Securities     Neutral              main\n",
       "2022-05-20 14:01:18        Susquehanna    Positive              main"
      ]
     },
     "metadata": {},
     "output_type": "display_data"
    }
   ],
   "source": [
    "recommendations = pd.DataFrame(sec.recommendations)\n",
    "display(recommendations.tail(10))\n"
   ]
  },
  {
   "cell_type": "code",
   "execution_count": 19,
   "metadata": {},
   "outputs": [
    {
     "data": {
      "text/html": [
       "<div>\n",
       "<style scoped>\n",
       "    .dataframe tbody tr th:only-of-type {\n",
       "        vertical-align: middle;\n",
       "    }\n",
       "\n",
       "    .dataframe tbody tr th {\n",
       "        vertical-align: top;\n",
       "    }\n",
       "\n",
       "    .dataframe thead th {\n",
       "        text-align: right;\n",
       "    }\n",
       "</style>\n",
       "<table border=\"1\" class=\"dataframe\">\n",
       "  <thead>\n",
       "    <tr style=\"text-align: right;\">\n",
       "      <th></th>\n",
       "      <th>Revenue</th>\n",
       "      <th>Earnings</th>\n",
       "    </tr>\n",
       "    <tr>\n",
       "      <th>Year</th>\n",
       "      <th></th>\n",
       "      <th></th>\n",
       "    </tr>\n",
       "  </thead>\n",
       "  <tbody>\n",
       "    <tr>\n",
       "      <th>2018</th>\n",
       "      <td>101127000000</td>\n",
       "      <td>10460000000</td>\n",
       "    </tr>\n",
       "    <tr>\n",
       "      <th>2019</th>\n",
       "      <td>76559000000</td>\n",
       "      <td>-636000000</td>\n",
       "    </tr>\n",
       "    <tr>\n",
       "      <th>2020</th>\n",
       "      <td>58158000000</td>\n",
       "      <td>-11873000000</td>\n",
       "    </tr>\n",
       "    <tr>\n",
       "      <th>2021</th>\n",
       "      <td>62286000000</td>\n",
       "      <td>-4202000000</td>\n",
       "    </tr>\n",
       "  </tbody>\n",
       "</table>\n",
       "</div>"
      ],
      "text/plain": [
       "           Revenue     Earnings\n",
       "Year                           \n",
       "2018  101127000000  10460000000\n",
       "2019   76559000000   -636000000\n",
       "2020   58158000000 -11873000000\n",
       "2021   62286000000  -4202000000"
      ]
     },
     "metadata": {},
     "output_type": "display_data"
    }
   ],
   "source": [
    "earnings = pd.DataFrame(sec.earnings)\n",
    "display(earnings)"
   ]
  },
  {
   "cell_type": "code",
   "execution_count": 51,
   "metadata": {},
   "outputs": [
    {
     "data": {
      "application/vnd.plotly.v1+json": {
       "config": {
        "linkText": "Export to plot.ly",
        "plotlyServerURL": "https://plot.ly",
        "showLink": false
       },
       "data": [
        {
         "marker": {
          "color": "rgba(16, 112, 2, 0.8)",
          "line": {
           "color": "rgb(0,0,0)",
           "width": 1
          }
         },
         "name": "Revenue",
         "type": "bar",
         "x": [
          2018,
          2019,
          2020,
          2021
         ],
         "y": [
          101127000000,
          76559000000,
          58158000000,
          62286000000
         ]
        },
        {
         "marker": {
          "color": "rgba(80, 26, 80, 0.8)",
          "line": {
           "color": "rgb(0,0,0)",
           "width": 1
          }
         },
         "name": "Earnings",
         "type": "bar",
         "x": [
          2018,
          2019,
          2020,
          2021
         ],
         "y": [
          10460000000,
          -636000000,
          -11873000000,
          -4202000000
         ]
        }
       ],
       "layout": {
        "template": {
         "data": {
          "bar": [
           {
            "error_x": {
             "color": "#2a3f5f"
            },
            "error_y": {
             "color": "#2a3f5f"
            },
            "marker": {
             "line": {
              "color": "#E5ECF6",
              "width": 0.5
             },
             "pattern": {
              "fillmode": "overlay",
              "size": 10,
              "solidity": 0.2
             }
            },
            "type": "bar"
           }
          ],
          "barpolar": [
           {
            "marker": {
             "line": {
              "color": "#E5ECF6",
              "width": 0.5
             },
             "pattern": {
              "fillmode": "overlay",
              "size": 10,
              "solidity": 0.2
             }
            },
            "type": "barpolar"
           }
          ],
          "carpet": [
           {
            "aaxis": {
             "endlinecolor": "#2a3f5f",
             "gridcolor": "white",
             "linecolor": "white",
             "minorgridcolor": "white",
             "startlinecolor": "#2a3f5f"
            },
            "baxis": {
             "endlinecolor": "#2a3f5f",
             "gridcolor": "white",
             "linecolor": "white",
             "minorgridcolor": "white",
             "startlinecolor": "#2a3f5f"
            },
            "type": "carpet"
           }
          ],
          "choropleth": [
           {
            "colorbar": {
             "outlinewidth": 0,
             "ticks": ""
            },
            "type": "choropleth"
           }
          ],
          "contour": [
           {
            "colorbar": {
             "outlinewidth": 0,
             "ticks": ""
            },
            "colorscale": [
             [
              0,
              "#0d0887"
             ],
             [
              0.1111111111111111,
              "#46039f"
             ],
             [
              0.2222222222222222,
              "#7201a8"
             ],
             [
              0.3333333333333333,
              "#9c179e"
             ],
             [
              0.4444444444444444,
              "#bd3786"
             ],
             [
              0.5555555555555556,
              "#d8576b"
             ],
             [
              0.6666666666666666,
              "#ed7953"
             ],
             [
              0.7777777777777778,
              "#fb9f3a"
             ],
             [
              0.8888888888888888,
              "#fdca26"
             ],
             [
              1,
              "#f0f921"
             ]
            ],
            "type": "contour"
           }
          ],
          "contourcarpet": [
           {
            "colorbar": {
             "outlinewidth": 0,
             "ticks": ""
            },
            "type": "contourcarpet"
           }
          ],
          "heatmap": [
           {
            "colorbar": {
             "outlinewidth": 0,
             "ticks": ""
            },
            "colorscale": [
             [
              0,
              "#0d0887"
             ],
             [
              0.1111111111111111,
              "#46039f"
             ],
             [
              0.2222222222222222,
              "#7201a8"
             ],
             [
              0.3333333333333333,
              "#9c179e"
             ],
             [
              0.4444444444444444,
              "#bd3786"
             ],
             [
              0.5555555555555556,
              "#d8576b"
             ],
             [
              0.6666666666666666,
              "#ed7953"
             ],
             [
              0.7777777777777778,
              "#fb9f3a"
             ],
             [
              0.8888888888888888,
              "#fdca26"
             ],
             [
              1,
              "#f0f921"
             ]
            ],
            "type": "heatmap"
           }
          ],
          "heatmapgl": [
           {
            "colorbar": {
             "outlinewidth": 0,
             "ticks": ""
            },
            "colorscale": [
             [
              0,
              "#0d0887"
             ],
             [
              0.1111111111111111,
              "#46039f"
             ],
             [
              0.2222222222222222,
              "#7201a8"
             ],
             [
              0.3333333333333333,
              "#9c179e"
             ],
             [
              0.4444444444444444,
              "#bd3786"
             ],
             [
              0.5555555555555556,
              "#d8576b"
             ],
             [
              0.6666666666666666,
              "#ed7953"
             ],
             [
              0.7777777777777778,
              "#fb9f3a"
             ],
             [
              0.8888888888888888,
              "#fdca26"
             ],
             [
              1,
              "#f0f921"
             ]
            ],
            "type": "heatmapgl"
           }
          ],
          "histogram": [
           {
            "marker": {
             "pattern": {
              "fillmode": "overlay",
              "size": 10,
              "solidity": 0.2
             }
            },
            "type": "histogram"
           }
          ],
          "histogram2d": [
           {
            "colorbar": {
             "outlinewidth": 0,
             "ticks": ""
            },
            "colorscale": [
             [
              0,
              "#0d0887"
             ],
             [
              0.1111111111111111,
              "#46039f"
             ],
             [
              0.2222222222222222,
              "#7201a8"
             ],
             [
              0.3333333333333333,
              "#9c179e"
             ],
             [
              0.4444444444444444,
              "#bd3786"
             ],
             [
              0.5555555555555556,
              "#d8576b"
             ],
             [
              0.6666666666666666,
              "#ed7953"
             ],
             [
              0.7777777777777778,
              "#fb9f3a"
             ],
             [
              0.8888888888888888,
              "#fdca26"
             ],
             [
              1,
              "#f0f921"
             ]
            ],
            "type": "histogram2d"
           }
          ],
          "histogram2dcontour": [
           {
            "colorbar": {
             "outlinewidth": 0,
             "ticks": ""
            },
            "colorscale": [
             [
              0,
              "#0d0887"
             ],
             [
              0.1111111111111111,
              "#46039f"
             ],
             [
              0.2222222222222222,
              "#7201a8"
             ],
             [
              0.3333333333333333,
              "#9c179e"
             ],
             [
              0.4444444444444444,
              "#bd3786"
             ],
             [
              0.5555555555555556,
              "#d8576b"
             ],
             [
              0.6666666666666666,
              "#ed7953"
             ],
             [
              0.7777777777777778,
              "#fb9f3a"
             ],
             [
              0.8888888888888888,
              "#fdca26"
             ],
             [
              1,
              "#f0f921"
             ]
            ],
            "type": "histogram2dcontour"
           }
          ],
          "mesh3d": [
           {
            "colorbar": {
             "outlinewidth": 0,
             "ticks": ""
            },
            "type": "mesh3d"
           }
          ],
          "parcoords": [
           {
            "line": {
             "colorbar": {
              "outlinewidth": 0,
              "ticks": ""
             }
            },
            "type": "parcoords"
           }
          ],
          "pie": [
           {
            "automargin": true,
            "type": "pie"
           }
          ],
          "scatter": [
           {
            "fillpattern": {
             "fillmode": "overlay",
             "size": 10,
             "solidity": 0.2
            },
            "type": "scatter"
           }
          ],
          "scatter3d": [
           {
            "line": {
             "colorbar": {
              "outlinewidth": 0,
              "ticks": ""
             }
            },
            "marker": {
             "colorbar": {
              "outlinewidth": 0,
              "ticks": ""
             }
            },
            "type": "scatter3d"
           }
          ],
          "scattercarpet": [
           {
            "marker": {
             "colorbar": {
              "outlinewidth": 0,
              "ticks": ""
             }
            },
            "type": "scattercarpet"
           }
          ],
          "scattergeo": [
           {
            "marker": {
             "colorbar": {
              "outlinewidth": 0,
              "ticks": ""
             }
            },
            "type": "scattergeo"
           }
          ],
          "scattergl": [
           {
            "marker": {
             "colorbar": {
              "outlinewidth": 0,
              "ticks": ""
             }
            },
            "type": "scattergl"
           }
          ],
          "scattermapbox": [
           {
            "marker": {
             "colorbar": {
              "outlinewidth": 0,
              "ticks": ""
             }
            },
            "type": "scattermapbox"
           }
          ],
          "scatterpolar": [
           {
            "marker": {
             "colorbar": {
              "outlinewidth": 0,
              "ticks": ""
             }
            },
            "type": "scatterpolar"
           }
          ],
          "scatterpolargl": [
           {
            "marker": {
             "colorbar": {
              "outlinewidth": 0,
              "ticks": ""
             }
            },
            "type": "scatterpolargl"
           }
          ],
          "scatterternary": [
           {
            "marker": {
             "colorbar": {
              "outlinewidth": 0,
              "ticks": ""
             }
            },
            "type": "scatterternary"
           }
          ],
          "surface": [
           {
            "colorbar": {
             "outlinewidth": 0,
             "ticks": ""
            },
            "colorscale": [
             [
              0,
              "#0d0887"
             ],
             [
              0.1111111111111111,
              "#46039f"
             ],
             [
              0.2222222222222222,
              "#7201a8"
             ],
             [
              0.3333333333333333,
              "#9c179e"
             ],
             [
              0.4444444444444444,
              "#bd3786"
             ],
             [
              0.5555555555555556,
              "#d8576b"
             ],
             [
              0.6666666666666666,
              "#ed7953"
             ],
             [
              0.7777777777777778,
              "#fb9f3a"
             ],
             [
              0.8888888888888888,
              "#fdca26"
             ],
             [
              1,
              "#f0f921"
             ]
            ],
            "type": "surface"
           }
          ],
          "table": [
           {
            "cells": {
             "fill": {
              "color": "#EBF0F8"
             },
             "line": {
              "color": "white"
             }
            },
            "header": {
             "fill": {
              "color": "#C8D4E3"
             },
             "line": {
              "color": "white"
             }
            },
            "type": "table"
           }
          ]
         },
         "layout": {
          "annotationdefaults": {
           "arrowcolor": "#2a3f5f",
           "arrowhead": 0,
           "arrowwidth": 1
          },
          "autotypenumbers": "strict",
          "coloraxis": {
           "colorbar": {
            "outlinewidth": 0,
            "ticks": ""
           }
          },
          "colorscale": {
           "diverging": [
            [
             0,
             "#8e0152"
            ],
            [
             0.1,
             "#c51b7d"
            ],
            [
             0.2,
             "#de77ae"
            ],
            [
             0.3,
             "#f1b6da"
            ],
            [
             0.4,
             "#fde0ef"
            ],
            [
             0.5,
             "#f7f7f7"
            ],
            [
             0.6,
             "#e6f5d0"
            ],
            [
             0.7,
             "#b8e186"
            ],
            [
             0.8,
             "#7fbc41"
            ],
            [
             0.9,
             "#4d9221"
            ],
            [
             1,
             "#276419"
            ]
           ],
           "sequential": [
            [
             0,
             "#0d0887"
            ],
            [
             0.1111111111111111,
             "#46039f"
            ],
            [
             0.2222222222222222,
             "#7201a8"
            ],
            [
             0.3333333333333333,
             "#9c179e"
            ],
            [
             0.4444444444444444,
             "#bd3786"
            ],
            [
             0.5555555555555556,
             "#d8576b"
            ],
            [
             0.6666666666666666,
             "#ed7953"
            ],
            [
             0.7777777777777778,
             "#fb9f3a"
            ],
            [
             0.8888888888888888,
             "#fdca26"
            ],
            [
             1,
             "#f0f921"
            ]
           ],
           "sequentialminus": [
            [
             0,
             "#0d0887"
            ],
            [
             0.1111111111111111,
             "#46039f"
            ],
            [
             0.2222222222222222,
             "#7201a8"
            ],
            [
             0.3333333333333333,
             "#9c179e"
            ],
            [
             0.4444444444444444,
             "#bd3786"
            ],
            [
             0.5555555555555556,
             "#d8576b"
            ],
            [
             0.6666666666666666,
             "#ed7953"
            ],
            [
             0.7777777777777778,
             "#fb9f3a"
            ],
            [
             0.8888888888888888,
             "#fdca26"
            ],
            [
             1,
             "#f0f921"
            ]
           ]
          },
          "colorway": [
           "#636efa",
           "#EF553B",
           "#00cc96",
           "#ab63fa",
           "#FFA15A",
           "#19d3f3",
           "#FF6692",
           "#B6E880",
           "#FF97FF",
           "#FECB52"
          ],
          "font": {
           "color": "#2a3f5f"
          },
          "geo": {
           "bgcolor": "white",
           "lakecolor": "white",
           "landcolor": "#E5ECF6",
           "showlakes": true,
           "showland": true,
           "subunitcolor": "white"
          },
          "hoverlabel": {
           "align": "left"
          },
          "hovermode": "closest",
          "mapbox": {
           "style": "light"
          },
          "paper_bgcolor": "white",
          "plot_bgcolor": "#E5ECF6",
          "polar": {
           "angularaxis": {
            "gridcolor": "white",
            "linecolor": "white",
            "ticks": ""
           },
           "bgcolor": "#E5ECF6",
           "radialaxis": {
            "gridcolor": "white",
            "linecolor": "white",
            "ticks": ""
           }
          },
          "scene": {
           "xaxis": {
            "backgroundcolor": "#E5ECF6",
            "gridcolor": "white",
            "gridwidth": 2,
            "linecolor": "white",
            "showbackground": true,
            "ticks": "",
            "zerolinecolor": "white"
           },
           "yaxis": {
            "backgroundcolor": "#E5ECF6",
            "gridcolor": "white",
            "gridwidth": 2,
            "linecolor": "white",
            "showbackground": true,
            "ticks": "",
            "zerolinecolor": "white"
           },
           "zaxis": {
            "backgroundcolor": "#E5ECF6",
            "gridcolor": "white",
            "gridwidth": 2,
            "linecolor": "white",
            "showbackground": true,
            "ticks": "",
            "zerolinecolor": "white"
           }
          },
          "shapedefaults": {
           "line": {
            "color": "#2a3f5f"
           }
          },
          "ternary": {
           "aaxis": {
            "gridcolor": "white",
            "linecolor": "white",
            "ticks": ""
           },
           "baxis": {
            "gridcolor": "white",
            "linecolor": "white",
            "ticks": ""
           },
           "bgcolor": "#E5ECF6",
           "caxis": {
            "gridcolor": "white",
            "linecolor": "white",
            "ticks": ""
           }
          },
          "title": {
           "x": 0.05
          },
          "xaxis": {
           "automargin": true,
           "gridcolor": "white",
           "linecolor": "white",
           "ticks": "",
           "title": {
            "standoff": 15
           },
           "zerolinecolor": "white",
           "zerolinewidth": 2
          },
          "yaxis": {
           "automargin": true,
           "gridcolor": "white",
           "linecolor": "white",
           "ticks": "",
           "title": {
            "standoff": 15
           },
           "zerolinecolor": "white",
           "zerolinewidth": 2
          }
         }
        },
        "title": {
         "text": "Earnings 2018-2021"
        },
        "xaxis": {
         "linecolor": "black",
         "linewidth": 1,
         "ticklen": 5,
         "ticks": "outside",
         "zeroline": true
        }
       }
      }
     },
     "metadata": {},
     "output_type": "display_data"
    }
   ],
   "source": [
    "trace1 = go.Bar(\n",
    "    x = earnings.index,\n",
    "    y = earnings['Revenue'],\n",
    "    name='Revenue',\n",
    "    marker=dict(color='rgba(16, 112, 2, 0.8)',\n",
    "                line=dict(color='rgb(0,0,0)', width=1)),     )\n",
    "\n",
    "trace2 = go.Bar(\n",
    "    x = earnings.index,\n",
    "    y = earnings['Earnings'],\n",
    "    name='Earnings',\n",
    "    marker=dict(color='rgba(80, 26, 80, 0.8)',\n",
    "                line=dict(color='rgb(0,0,0)', width=1)),     )\n",
    "\n",
    "data = [trace1, trace2]\n",
    "layout = dict(\n",
    "    title='Earnings 2018-2021',\n",
    "    xaxis=dict( \n",
    "        ticks='outside', ticklen=5,\n",
    "        zeroline=True, linewidth=1, linecolor='black'\n",
    "        ) )\n",
    "\n",
    "    \n",
    "fig = go.Figure(data=data, layout=layout)            \n",
    "py.iplot(fig)"
   ]
  },
  {
   "cell_type": "code",
   "execution_count": 20,
   "metadata": {},
   "outputs": [
    {
     "data": {
      "text/html": [
       "<div>\n",
       "<style scoped>\n",
       "    .dataframe tbody tr th:only-of-type {\n",
       "        vertical-align: middle;\n",
       "    }\n",
       "\n",
       "    .dataframe tbody tr th {\n",
       "        vertical-align: top;\n",
       "    }\n",
       "\n",
       "    .dataframe thead th {\n",
       "        text-align: right;\n",
       "    }\n",
       "</style>\n",
       "<table border=\"1\" class=\"dataframe\">\n",
       "  <thead>\n",
       "    <tr style=\"text-align: right;\">\n",
       "      <th></th>\n",
       "      <th>Revenue</th>\n",
       "      <th>Earnings</th>\n",
       "    </tr>\n",
       "    <tr>\n",
       "      <th>Quarter</th>\n",
       "      <th></th>\n",
       "      <th></th>\n",
       "    </tr>\n",
       "  </thead>\n",
       "  <tbody>\n",
       "    <tr>\n",
       "      <th>2Q2021</th>\n",
       "      <td>16998000000</td>\n",
       "      <td>587000000</td>\n",
       "    </tr>\n",
       "    <tr>\n",
       "      <th>3Q2021</th>\n",
       "      <td>15278000000</td>\n",
       "      <td>-109000000</td>\n",
       "    </tr>\n",
       "    <tr>\n",
       "      <th>4Q2021</th>\n",
       "      <td>14793000000</td>\n",
       "      <td>-4143000000</td>\n",
       "    </tr>\n",
       "    <tr>\n",
       "      <th>1Q2022</th>\n",
       "      <td>13991000000</td>\n",
       "      <td>-1219000000</td>\n",
       "    </tr>\n",
       "  </tbody>\n",
       "</table>\n",
       "</div>"
      ],
      "text/plain": [
       "             Revenue    Earnings\n",
       "Quarter                         \n",
       "2Q2021   16998000000   587000000\n",
       "3Q2021   15278000000  -109000000\n",
       "4Q2021   14793000000 -4143000000\n",
       "1Q2022   13991000000 -1219000000"
      ]
     },
     "metadata": {},
     "output_type": "display_data"
    }
   ],
   "source": [
    "# Stulpelinė\n",
    "quarterly_earnings = pd.DataFrame(sec.quarterly_earnings)\n",
    "display(quarterly_earnings)"
   ]
  },
  {
   "cell_type": "code",
   "execution_count": 74,
   "metadata": {},
   "outputs": [
    {
     "data": {
      "text/html": [
       "<div>\n",
       "<style scoped>\n",
       "    .dataframe tbody tr th:only-of-type {\n",
       "        vertical-align: middle;\n",
       "    }\n",
       "\n",
       "    .dataframe tbody tr th {\n",
       "        vertical-align: top;\n",
       "    }\n",
       "\n",
       "    .dataframe thead th {\n",
       "        text-align: right;\n",
       "    }\n",
       "</style>\n",
       "<table border=\"1\" class=\"dataframe\">\n",
       "  <thead>\n",
       "    <tr style=\"text-align: right;\">\n",
       "      <th></th>\n",
       "      <th>2021-12-31</th>\n",
       "      <th>2020-12-31</th>\n",
       "      <th>2019-12-31</th>\n",
       "      <th>2018-12-31</th>\n",
       "    </tr>\n",
       "  </thead>\n",
       "  <tbody>\n",
       "    <tr>\n",
       "      <th>Research Development</th>\n",
       "      <td>2249000000.0</td>\n",
       "      <td>2476000000.0</td>\n",
       "      <td>3219000000.0</td>\n",
       "      <td>3269000000.0</td>\n",
       "    </tr>\n",
       "    <tr>\n",
       "      <th>Effect Of Accounting Charges</th>\n",
       "      <td>None</td>\n",
       "      <td>None</td>\n",
       "      <td>None</td>\n",
       "      <td>None</td>\n",
       "    </tr>\n",
       "    <tr>\n",
       "      <th>Income Before Tax</th>\n",
       "      <td>-5033000000.0</td>\n",
       "      <td>-14476000000.0</td>\n",
       "      <td>-2259000000.0</td>\n",
       "      <td>11604000000.0</td>\n",
       "    </tr>\n",
       "    <tr>\n",
       "      <th>Minority Interest</th>\n",
       "      <td>153000000.0</td>\n",
       "      <td>241000000.0</td>\n",
       "      <td>317000000.0</td>\n",
       "      <td>71000000.0</td>\n",
       "    </tr>\n",
       "    <tr>\n",
       "      <th>Net Income</th>\n",
       "      <td>-4202000000.0</td>\n",
       "      <td>-11873000000.0</td>\n",
       "      <td>-636000000.0</td>\n",
       "      <td>10460000000.0</td>\n",
       "    </tr>\n",
       "    <tr>\n",
       "      <th>Selling General Administrative</th>\n",
       "      <td>3628000000.0</td>\n",
       "      <td>4493000000.0</td>\n",
       "      <td>3642000000.0</td>\n",
       "      <td>4525000000.0</td>\n",
       "    </tr>\n",
       "    <tr>\n",
       "      <th>Gross Profit</th>\n",
       "      <td>5190000000.0</td>\n",
       "      <td>-1198000000.0</td>\n",
       "      <td>4759000000.0</td>\n",
       "      <td>19637000000.0</td>\n",
       "    </tr>\n",
       "    <tr>\n",
       "      <th>Ebit</th>\n",
       "      <td>-687000000.0</td>\n",
       "      <td>-8167000000.0</td>\n",
       "      <td>-2102000000.0</td>\n",
       "      <td>11843000000.0</td>\n",
       "    </tr>\n",
       "    <tr>\n",
       "      <th>Operating Income</th>\n",
       "      <td>-687000000.0</td>\n",
       "      <td>-8167000000.0</td>\n",
       "      <td>-2102000000.0</td>\n",
       "      <td>11843000000.0</td>\n",
       "    </tr>\n",
       "    <tr>\n",
       "      <th>Other Operating Expenses</th>\n",
       "      <td>None</td>\n",
       "      <td>None</td>\n",
       "      <td>None</td>\n",
       "      <td>None</td>\n",
       "    </tr>\n",
       "    <tr>\n",
       "      <th>Interest Expense</th>\n",
       "      <td>-2682000000.0</td>\n",
       "      <td>-2156000000.0</td>\n",
       "      <td>-722000000.0</td>\n",
       "      <td>-475000000.0</td>\n",
       "    </tr>\n",
       "    <tr>\n",
       "      <th>Extraordinary Items</th>\n",
       "      <td>None</td>\n",
       "      <td>None</td>\n",
       "      <td>None</td>\n",
       "      <td>None</td>\n",
       "    </tr>\n",
       "    <tr>\n",
       "      <th>Non Recurring</th>\n",
       "      <td>None</td>\n",
       "      <td>None</td>\n",
       "      <td>None</td>\n",
       "      <td>None</td>\n",
       "    </tr>\n",
       "    <tr>\n",
       "      <th>Other Items</th>\n",
       "      <td>None</td>\n",
       "      <td>None</td>\n",
       "      <td>None</td>\n",
       "      <td>None</td>\n",
       "    </tr>\n",
       "    <tr>\n",
       "      <th>Income Tax Expense</th>\n",
       "      <td>-743000000.0</td>\n",
       "      <td>-2535000000.0</td>\n",
       "      <td>-1623000000.0</td>\n",
       "      <td>1144000000.0</td>\n",
       "    </tr>\n",
       "    <tr>\n",
       "      <th>Total Revenue</th>\n",
       "      <td>62286000000.0</td>\n",
       "      <td>58158000000.0</td>\n",
       "      <td>76559000000.0</td>\n",
       "      <td>101127000000.0</td>\n",
       "    </tr>\n",
       "    <tr>\n",
       "      <th>Total Operating Expenses</th>\n",
       "      <td>62973000000.0</td>\n",
       "      <td>66325000000.0</td>\n",
       "      <td>78661000000.0</td>\n",
       "      <td>89284000000.0</td>\n",
       "    </tr>\n",
       "    <tr>\n",
       "      <th>Cost Of Revenue</th>\n",
       "      <td>57096000000.0</td>\n",
       "      <td>59356000000.0</td>\n",
       "      <td>71800000000.0</td>\n",
       "      <td>81490000000.0</td>\n",
       "    </tr>\n",
       "    <tr>\n",
       "      <th>Total Other Income Expense Net</th>\n",
       "      <td>-4346000000.0</td>\n",
       "      <td>-6309000000.0</td>\n",
       "      <td>-157000000.0</td>\n",
       "      <td>-239000000.0</td>\n",
       "    </tr>\n",
       "    <tr>\n",
       "      <th>Discontinued Operations</th>\n",
       "      <td>None</td>\n",
       "      <td>None</td>\n",
       "      <td>None</td>\n",
       "      <td>None</td>\n",
       "    </tr>\n",
       "    <tr>\n",
       "      <th>Net Income From Continuing Ops</th>\n",
       "      <td>-4290000000.0</td>\n",
       "      <td>-11941000000.0</td>\n",
       "      <td>-636000000.0</td>\n",
       "      <td>10460000000.0</td>\n",
       "    </tr>\n",
       "    <tr>\n",
       "      <th>Net Income Applicable To Common Shares</th>\n",
       "      <td>-4202000000.0</td>\n",
       "      <td>-11873000000.0</td>\n",
       "      <td>-636000000.0</td>\n",
       "      <td>10460000000.0</td>\n",
       "    </tr>\n",
       "  </tbody>\n",
       "</table>\n",
       "</div>"
      ],
      "text/plain": [
       "                                           2021-12-31     2020-12-31  \\\n",
       "Research Development                     2249000000.0   2476000000.0   \n",
       "Effect Of Accounting Charges                     None           None   \n",
       "Income Before Tax                       -5033000000.0 -14476000000.0   \n",
       "Minority Interest                         153000000.0    241000000.0   \n",
       "Net Income                              -4202000000.0 -11873000000.0   \n",
       "Selling General Administrative           3628000000.0   4493000000.0   \n",
       "Gross Profit                             5190000000.0  -1198000000.0   \n",
       "Ebit                                     -687000000.0  -8167000000.0   \n",
       "Operating Income                         -687000000.0  -8167000000.0   \n",
       "Other Operating Expenses                         None           None   \n",
       "Interest Expense                        -2682000000.0  -2156000000.0   \n",
       "Extraordinary Items                              None           None   \n",
       "Non Recurring                                    None           None   \n",
       "Other Items                                      None           None   \n",
       "Income Tax Expense                       -743000000.0  -2535000000.0   \n",
       "Total Revenue                           62286000000.0  58158000000.0   \n",
       "Total Operating Expenses                62973000000.0  66325000000.0   \n",
       "Cost Of Revenue                         57096000000.0  59356000000.0   \n",
       "Total Other Income Expense Net          -4346000000.0  -6309000000.0   \n",
       "Discontinued Operations                          None           None   \n",
       "Net Income From Continuing Ops          -4290000000.0 -11941000000.0   \n",
       "Net Income Applicable To Common Shares  -4202000000.0 -11873000000.0   \n",
       "\n",
       "                                           2019-12-31      2018-12-31  \n",
       "Research Development                     3219000000.0    3269000000.0  \n",
       "Effect Of Accounting Charges                     None            None  \n",
       "Income Before Tax                       -2259000000.0   11604000000.0  \n",
       "Minority Interest                         317000000.0      71000000.0  \n",
       "Net Income                               -636000000.0   10460000000.0  \n",
       "Selling General Administrative           3642000000.0    4525000000.0  \n",
       "Gross Profit                             4759000000.0   19637000000.0  \n",
       "Ebit                                    -2102000000.0   11843000000.0  \n",
       "Operating Income                        -2102000000.0   11843000000.0  \n",
       "Other Operating Expenses                         None            None  \n",
       "Interest Expense                         -722000000.0    -475000000.0  \n",
       "Extraordinary Items                              None            None  \n",
       "Non Recurring                                    None            None  \n",
       "Other Items                                      None            None  \n",
       "Income Tax Expense                      -1623000000.0    1144000000.0  \n",
       "Total Revenue                           76559000000.0  101127000000.0  \n",
       "Total Operating Expenses                78661000000.0   89284000000.0  \n",
       "Cost Of Revenue                         71800000000.0   81490000000.0  \n",
       "Total Other Income Expense Net           -157000000.0    -239000000.0  \n",
       "Discontinued Operations                          None            None  \n",
       "Net Income From Continuing Ops           -636000000.0   10460000000.0  \n",
       "Net Income Applicable To Common Shares   -636000000.0   10460000000.0  "
      ]
     },
     "metadata": {},
     "output_type": "display_data"
    }
   ],
   "source": [
    "financials = pd.DataFrame(sec.financials)\n",
    "display(financials)\n",
    "# ebit = financials.loc[financials.index == 'Ebit']\n",
    "# display(ebit)\n",
    "# profit = financials.loc[financials.index == 'Gross Profit']\n",
    "# income = financials.loc[financials.index == 'Net Income']\n",
    "# list(financials.columns)\n",
    "# Ebit, Gross Profit, Net Income"
   ]
  },
  {
   "cell_type": "code",
   "execution_count": 78,
   "metadata": {},
   "outputs": [
    {
     "data": {
      "text/html": [
       "<div>\n",
       "<style scoped>\n",
       "    .dataframe tbody tr th:only-of-type {\n",
       "        vertical-align: middle;\n",
       "    }\n",
       "\n",
       "    .dataframe tbody tr th {\n",
       "        vertical-align: top;\n",
       "    }\n",
       "\n",
       "    .dataframe thead th {\n",
       "        text-align: right;\n",
       "    }\n",
       "</style>\n",
       "<table border=\"1\" class=\"dataframe\">\n",
       "  <thead>\n",
       "    <tr style=\"text-align: right;\">\n",
       "      <th></th>\n",
       "      <th>Research Development</th>\n",
       "      <th>Effect Of Accounting Charges</th>\n",
       "      <th>Income Before Tax</th>\n",
       "      <th>Minority Interest</th>\n",
       "      <th>Net Income</th>\n",
       "      <th>Selling General Administrative</th>\n",
       "      <th>Gross Profit</th>\n",
       "      <th>Ebit</th>\n",
       "      <th>Operating Income</th>\n",
       "      <th>Other Operating Expenses</th>\n",
       "      <th>...</th>\n",
       "      <th>Non Recurring</th>\n",
       "      <th>Other Items</th>\n",
       "      <th>Income Tax Expense</th>\n",
       "      <th>Total Revenue</th>\n",
       "      <th>Total Operating Expenses</th>\n",
       "      <th>Cost Of Revenue</th>\n",
       "      <th>Total Other Income Expense Net</th>\n",
       "      <th>Discontinued Operations</th>\n",
       "      <th>Net Income From Continuing Ops</th>\n",
       "      <th>Net Income Applicable To Common Shares</th>\n",
       "    </tr>\n",
       "    <tr>\n",
       "      <th></th>\n",
       "      <th></th>\n",
       "      <th></th>\n",
       "      <th></th>\n",
       "      <th></th>\n",
       "      <th></th>\n",
       "      <th></th>\n",
       "      <th></th>\n",
       "      <th></th>\n",
       "      <th></th>\n",
       "      <th></th>\n",
       "      <th></th>\n",
       "      <th></th>\n",
       "      <th></th>\n",
       "      <th></th>\n",
       "      <th></th>\n",
       "      <th></th>\n",
       "      <th></th>\n",
       "      <th></th>\n",
       "      <th></th>\n",
       "      <th></th>\n",
       "      <th></th>\n",
       "    </tr>\n",
       "  </thead>\n",
       "  <tbody>\n",
       "    <tr>\n",
       "      <th>2018-12-31</th>\n",
       "      <td>3269000000.0</td>\n",
       "      <td>None</td>\n",
       "      <td>11604000000.0</td>\n",
       "      <td>71000000.0</td>\n",
       "      <td>10460000000.0</td>\n",
       "      <td>4525000000.0</td>\n",
       "      <td>19637000000.0</td>\n",
       "      <td>11843000000.0</td>\n",
       "      <td>11843000000.0</td>\n",
       "      <td>None</td>\n",
       "      <td>...</td>\n",
       "      <td>None</td>\n",
       "      <td>None</td>\n",
       "      <td>1144000000.0</td>\n",
       "      <td>101127000000.0</td>\n",
       "      <td>89284000000.0</td>\n",
       "      <td>81490000000.0</td>\n",
       "      <td>-239000000.0</td>\n",
       "      <td>None</td>\n",
       "      <td>10460000000.0</td>\n",
       "      <td>10460000000.0</td>\n",
       "    </tr>\n",
       "    <tr>\n",
       "      <th>2019-12-31</th>\n",
       "      <td>3219000000.0</td>\n",
       "      <td>None</td>\n",
       "      <td>-2259000000.0</td>\n",
       "      <td>317000000.0</td>\n",
       "      <td>-636000000.0</td>\n",
       "      <td>3642000000.0</td>\n",
       "      <td>4759000000.0</td>\n",
       "      <td>-2102000000.0</td>\n",
       "      <td>-2102000000.0</td>\n",
       "      <td>None</td>\n",
       "      <td>...</td>\n",
       "      <td>None</td>\n",
       "      <td>None</td>\n",
       "      <td>-1623000000.0</td>\n",
       "      <td>76559000000.0</td>\n",
       "      <td>78661000000.0</td>\n",
       "      <td>71800000000.0</td>\n",
       "      <td>-157000000.0</td>\n",
       "      <td>None</td>\n",
       "      <td>-636000000.0</td>\n",
       "      <td>-636000000.0</td>\n",
       "    </tr>\n",
       "    <tr>\n",
       "      <th>2020-12-31</th>\n",
       "      <td>2476000000.0</td>\n",
       "      <td>None</td>\n",
       "      <td>-14476000000.0</td>\n",
       "      <td>241000000.0</td>\n",
       "      <td>-11873000000.0</td>\n",
       "      <td>4493000000.0</td>\n",
       "      <td>-1198000000.0</td>\n",
       "      <td>-8167000000.0</td>\n",
       "      <td>-8167000000.0</td>\n",
       "      <td>None</td>\n",
       "      <td>...</td>\n",
       "      <td>None</td>\n",
       "      <td>None</td>\n",
       "      <td>-2535000000.0</td>\n",
       "      <td>58158000000.0</td>\n",
       "      <td>66325000000.0</td>\n",
       "      <td>59356000000.0</td>\n",
       "      <td>-6309000000.0</td>\n",
       "      <td>None</td>\n",
       "      <td>-11941000000.0</td>\n",
       "      <td>-11873000000.0</td>\n",
       "    </tr>\n",
       "    <tr>\n",
       "      <th>2021-12-31</th>\n",
       "      <td>2249000000.0</td>\n",
       "      <td>None</td>\n",
       "      <td>-5033000000.0</td>\n",
       "      <td>153000000.0</td>\n",
       "      <td>-4202000000.0</td>\n",
       "      <td>3628000000.0</td>\n",
       "      <td>5190000000.0</td>\n",
       "      <td>-687000000.0</td>\n",
       "      <td>-687000000.0</td>\n",
       "      <td>None</td>\n",
       "      <td>...</td>\n",
       "      <td>None</td>\n",
       "      <td>None</td>\n",
       "      <td>-743000000.0</td>\n",
       "      <td>62286000000.0</td>\n",
       "      <td>62973000000.0</td>\n",
       "      <td>57096000000.0</td>\n",
       "      <td>-4346000000.0</td>\n",
       "      <td>None</td>\n",
       "      <td>-4290000000.0</td>\n",
       "      <td>-4202000000.0</td>\n",
       "    </tr>\n",
       "  </tbody>\n",
       "</table>\n",
       "<p>4 rows × 22 columns</p>\n",
       "</div>"
      ],
      "text/plain": [
       "           Research Development Effect Of Accounting Charges  \\\n",
       "                                                               \n",
       "2018-12-31         3269000000.0                         None   \n",
       "2019-12-31         3219000000.0                         None   \n",
       "2020-12-31         2476000000.0                         None   \n",
       "2021-12-31         2249000000.0                         None   \n",
       "\n",
       "           Income Before Tax Minority Interest     Net Income  \\\n",
       "                                                                \n",
       "2018-12-31     11604000000.0        71000000.0  10460000000.0   \n",
       "2019-12-31     -2259000000.0       317000000.0   -636000000.0   \n",
       "2020-12-31    -14476000000.0       241000000.0 -11873000000.0   \n",
       "2021-12-31     -5033000000.0       153000000.0  -4202000000.0   \n",
       "\n",
       "           Selling General Administrative   Gross Profit           Ebit  \\\n",
       "                                                                          \n",
       "2018-12-31                   4525000000.0  19637000000.0  11843000000.0   \n",
       "2019-12-31                   3642000000.0   4759000000.0  -2102000000.0   \n",
       "2020-12-31                   4493000000.0  -1198000000.0  -8167000000.0   \n",
       "2021-12-31                   3628000000.0   5190000000.0   -687000000.0   \n",
       "\n",
       "           Operating Income Other Operating Expenses  ... Non Recurring  \\\n",
       "                                                      ...                 \n",
       "2018-12-31    11843000000.0                     None  ...          None   \n",
       "2019-12-31    -2102000000.0                     None  ...          None   \n",
       "2020-12-31    -8167000000.0                     None  ...          None   \n",
       "2021-12-31     -687000000.0                     None  ...          None   \n",
       "\n",
       "           Other Items Income Tax Expense   Total Revenue  \\\n",
       "                                                            \n",
       "2018-12-31        None       1144000000.0  101127000000.0   \n",
       "2019-12-31        None      -1623000000.0   76559000000.0   \n",
       "2020-12-31        None      -2535000000.0   58158000000.0   \n",
       "2021-12-31        None       -743000000.0   62286000000.0   \n",
       "\n",
       "           Total Operating Expenses Cost Of Revenue  \\\n",
       "                                                      \n",
       "2018-12-31            89284000000.0   81490000000.0   \n",
       "2019-12-31            78661000000.0   71800000000.0   \n",
       "2020-12-31            66325000000.0   59356000000.0   \n",
       "2021-12-31            62973000000.0   57096000000.0   \n",
       "\n",
       "           Total Other Income Expense Net Discontinued Operations  \\\n",
       "                                                                    \n",
       "2018-12-31                   -239000000.0                    None   \n",
       "2019-12-31                   -157000000.0                    None   \n",
       "2020-12-31                  -6309000000.0                    None   \n",
       "2021-12-31                  -4346000000.0                    None   \n",
       "\n",
       "           Net Income From Continuing Ops  \\\n",
       "                                            \n",
       "2018-12-31                  10460000000.0   \n",
       "2019-12-31                   -636000000.0   \n",
       "2020-12-31                 -11941000000.0   \n",
       "2021-12-31                  -4290000000.0   \n",
       "\n",
       "           Net Income Applicable To Common Shares  \n",
       "                                                   \n",
       "2018-12-31                          10460000000.0  \n",
       "2019-12-31                           -636000000.0  \n",
       "2020-12-31                         -11873000000.0  \n",
       "2021-12-31                          -4202000000.0  \n",
       "\n",
       "[4 rows x 22 columns]"
      ]
     },
     "metadata": {},
     "output_type": "display_data"
    }
   ],
   "source": [
    "con_fin =financials.transpose()\n",
    "convert_fin = con_fin.sort_index(ascending=True)\n",
    "display(convert_fin)"
   ]
  },
  {
   "cell_type": "code",
   "execution_count": 81,
   "metadata": {},
   "outputs": [
    {
     "data": {
      "application/vnd.plotly.v1+json": {
       "config": {
        "linkText": "Export to plot.ly",
        "plotlyServerURL": "https://plot.ly",
        "showLink": false
       },
       "data": [
        {
         "marker": {
          "color": "rgba(16, 112, 2, 0.8)"
         },
         "mode": "lines+markers",
         "name": "Net Income",
         "type": "scatter",
         "x": [
          "2018",
          "2019",
          "2020",
          "2021"
         ],
         "y": [
          10460000000,
          -636000000,
          -11873000000,
          -4202000000
         ]
        },
        {
         "marker": {
          "color": "rgba(80, 26, 80, 0.8)"
         },
         "mode": "lines+markers",
         "name": "Ebit",
         "type": "scatter",
         "x": [
          "2018",
          "2019",
          "2020",
          "2021"
         ],
         "y": [
          11843000000,
          -2102000000,
          -8167000000,
          -687000000
         ]
        },
        {
         "marker": {
          "color": "rgba(247, 43, 163, 0.8)"
         },
         "mode": "lines+markers",
         "name": "Gross Profit",
         "type": "scatter",
         "x": [
          "2018",
          "2019",
          "2020",
          "2021"
         ],
         "y": [
          19637000000,
          4759000000,
          -1198000000,
          5190000000
         ]
        }
       ],
       "layout": {
        "template": {
         "data": {
          "bar": [
           {
            "error_x": {
             "color": "#2a3f5f"
            },
            "error_y": {
             "color": "#2a3f5f"
            },
            "marker": {
             "line": {
              "color": "#E5ECF6",
              "width": 0.5
             },
             "pattern": {
              "fillmode": "overlay",
              "size": 10,
              "solidity": 0.2
             }
            },
            "type": "bar"
           }
          ],
          "barpolar": [
           {
            "marker": {
             "line": {
              "color": "#E5ECF6",
              "width": 0.5
             },
             "pattern": {
              "fillmode": "overlay",
              "size": 10,
              "solidity": 0.2
             }
            },
            "type": "barpolar"
           }
          ],
          "carpet": [
           {
            "aaxis": {
             "endlinecolor": "#2a3f5f",
             "gridcolor": "white",
             "linecolor": "white",
             "minorgridcolor": "white",
             "startlinecolor": "#2a3f5f"
            },
            "baxis": {
             "endlinecolor": "#2a3f5f",
             "gridcolor": "white",
             "linecolor": "white",
             "minorgridcolor": "white",
             "startlinecolor": "#2a3f5f"
            },
            "type": "carpet"
           }
          ],
          "choropleth": [
           {
            "colorbar": {
             "outlinewidth": 0,
             "ticks": ""
            },
            "type": "choropleth"
           }
          ],
          "contour": [
           {
            "colorbar": {
             "outlinewidth": 0,
             "ticks": ""
            },
            "colorscale": [
             [
              0,
              "#0d0887"
             ],
             [
              0.1111111111111111,
              "#46039f"
             ],
             [
              0.2222222222222222,
              "#7201a8"
             ],
             [
              0.3333333333333333,
              "#9c179e"
             ],
             [
              0.4444444444444444,
              "#bd3786"
             ],
             [
              0.5555555555555556,
              "#d8576b"
             ],
             [
              0.6666666666666666,
              "#ed7953"
             ],
             [
              0.7777777777777778,
              "#fb9f3a"
             ],
             [
              0.8888888888888888,
              "#fdca26"
             ],
             [
              1,
              "#f0f921"
             ]
            ],
            "type": "contour"
           }
          ],
          "contourcarpet": [
           {
            "colorbar": {
             "outlinewidth": 0,
             "ticks": ""
            },
            "type": "contourcarpet"
           }
          ],
          "heatmap": [
           {
            "colorbar": {
             "outlinewidth": 0,
             "ticks": ""
            },
            "colorscale": [
             [
              0,
              "#0d0887"
             ],
             [
              0.1111111111111111,
              "#46039f"
             ],
             [
              0.2222222222222222,
              "#7201a8"
             ],
             [
              0.3333333333333333,
              "#9c179e"
             ],
             [
              0.4444444444444444,
              "#bd3786"
             ],
             [
              0.5555555555555556,
              "#d8576b"
             ],
             [
              0.6666666666666666,
              "#ed7953"
             ],
             [
              0.7777777777777778,
              "#fb9f3a"
             ],
             [
              0.8888888888888888,
              "#fdca26"
             ],
             [
              1,
              "#f0f921"
             ]
            ],
            "type": "heatmap"
           }
          ],
          "heatmapgl": [
           {
            "colorbar": {
             "outlinewidth": 0,
             "ticks": ""
            },
            "colorscale": [
             [
              0,
              "#0d0887"
             ],
             [
              0.1111111111111111,
              "#46039f"
             ],
             [
              0.2222222222222222,
              "#7201a8"
             ],
             [
              0.3333333333333333,
              "#9c179e"
             ],
             [
              0.4444444444444444,
              "#bd3786"
             ],
             [
              0.5555555555555556,
              "#d8576b"
             ],
             [
              0.6666666666666666,
              "#ed7953"
             ],
             [
              0.7777777777777778,
              "#fb9f3a"
             ],
             [
              0.8888888888888888,
              "#fdca26"
             ],
             [
              1,
              "#f0f921"
             ]
            ],
            "type": "heatmapgl"
           }
          ],
          "histogram": [
           {
            "marker": {
             "pattern": {
              "fillmode": "overlay",
              "size": 10,
              "solidity": 0.2
             }
            },
            "type": "histogram"
           }
          ],
          "histogram2d": [
           {
            "colorbar": {
             "outlinewidth": 0,
             "ticks": ""
            },
            "colorscale": [
             [
              0,
              "#0d0887"
             ],
             [
              0.1111111111111111,
              "#46039f"
             ],
             [
              0.2222222222222222,
              "#7201a8"
             ],
             [
              0.3333333333333333,
              "#9c179e"
             ],
             [
              0.4444444444444444,
              "#bd3786"
             ],
             [
              0.5555555555555556,
              "#d8576b"
             ],
             [
              0.6666666666666666,
              "#ed7953"
             ],
             [
              0.7777777777777778,
              "#fb9f3a"
             ],
             [
              0.8888888888888888,
              "#fdca26"
             ],
             [
              1,
              "#f0f921"
             ]
            ],
            "type": "histogram2d"
           }
          ],
          "histogram2dcontour": [
           {
            "colorbar": {
             "outlinewidth": 0,
             "ticks": ""
            },
            "colorscale": [
             [
              0,
              "#0d0887"
             ],
             [
              0.1111111111111111,
              "#46039f"
             ],
             [
              0.2222222222222222,
              "#7201a8"
             ],
             [
              0.3333333333333333,
              "#9c179e"
             ],
             [
              0.4444444444444444,
              "#bd3786"
             ],
             [
              0.5555555555555556,
              "#d8576b"
             ],
             [
              0.6666666666666666,
              "#ed7953"
             ],
             [
              0.7777777777777778,
              "#fb9f3a"
             ],
             [
              0.8888888888888888,
              "#fdca26"
             ],
             [
              1,
              "#f0f921"
             ]
            ],
            "type": "histogram2dcontour"
           }
          ],
          "mesh3d": [
           {
            "colorbar": {
             "outlinewidth": 0,
             "ticks": ""
            },
            "type": "mesh3d"
           }
          ],
          "parcoords": [
           {
            "line": {
             "colorbar": {
              "outlinewidth": 0,
              "ticks": ""
             }
            },
            "type": "parcoords"
           }
          ],
          "pie": [
           {
            "automargin": true,
            "type": "pie"
           }
          ],
          "scatter": [
           {
            "fillpattern": {
             "fillmode": "overlay",
             "size": 10,
             "solidity": 0.2
            },
            "type": "scatter"
           }
          ],
          "scatter3d": [
           {
            "line": {
             "colorbar": {
              "outlinewidth": 0,
              "ticks": ""
             }
            },
            "marker": {
             "colorbar": {
              "outlinewidth": 0,
              "ticks": ""
             }
            },
            "type": "scatter3d"
           }
          ],
          "scattercarpet": [
           {
            "marker": {
             "colorbar": {
              "outlinewidth": 0,
              "ticks": ""
             }
            },
            "type": "scattercarpet"
           }
          ],
          "scattergeo": [
           {
            "marker": {
             "colorbar": {
              "outlinewidth": 0,
              "ticks": ""
             }
            },
            "type": "scattergeo"
           }
          ],
          "scattergl": [
           {
            "marker": {
             "colorbar": {
              "outlinewidth": 0,
              "ticks": ""
             }
            },
            "type": "scattergl"
           }
          ],
          "scattermapbox": [
           {
            "marker": {
             "colorbar": {
              "outlinewidth": 0,
              "ticks": ""
             }
            },
            "type": "scattermapbox"
           }
          ],
          "scatterpolar": [
           {
            "marker": {
             "colorbar": {
              "outlinewidth": 0,
              "ticks": ""
             }
            },
            "type": "scatterpolar"
           }
          ],
          "scatterpolargl": [
           {
            "marker": {
             "colorbar": {
              "outlinewidth": 0,
              "ticks": ""
             }
            },
            "type": "scatterpolargl"
           }
          ],
          "scatterternary": [
           {
            "marker": {
             "colorbar": {
              "outlinewidth": 0,
              "ticks": ""
             }
            },
            "type": "scatterternary"
           }
          ],
          "surface": [
           {
            "colorbar": {
             "outlinewidth": 0,
             "ticks": ""
            },
            "colorscale": [
             [
              0,
              "#0d0887"
             ],
             [
              0.1111111111111111,
              "#46039f"
             ],
             [
              0.2222222222222222,
              "#7201a8"
             ],
             [
              0.3333333333333333,
              "#9c179e"
             ],
             [
              0.4444444444444444,
              "#bd3786"
             ],
             [
              0.5555555555555556,
              "#d8576b"
             ],
             [
              0.6666666666666666,
              "#ed7953"
             ],
             [
              0.7777777777777778,
              "#fb9f3a"
             ],
             [
              0.8888888888888888,
              "#fdca26"
             ],
             [
              1,
              "#f0f921"
             ]
            ],
            "type": "surface"
           }
          ],
          "table": [
           {
            "cells": {
             "fill": {
              "color": "#EBF0F8"
             },
             "line": {
              "color": "white"
             }
            },
            "header": {
             "fill": {
              "color": "#C8D4E3"
             },
             "line": {
              "color": "white"
             }
            },
            "type": "table"
           }
          ]
         },
         "layout": {
          "annotationdefaults": {
           "arrowcolor": "#2a3f5f",
           "arrowhead": 0,
           "arrowwidth": 1
          },
          "autotypenumbers": "strict",
          "coloraxis": {
           "colorbar": {
            "outlinewidth": 0,
            "ticks": ""
           }
          },
          "colorscale": {
           "diverging": [
            [
             0,
             "#8e0152"
            ],
            [
             0.1,
             "#c51b7d"
            ],
            [
             0.2,
             "#de77ae"
            ],
            [
             0.3,
             "#f1b6da"
            ],
            [
             0.4,
             "#fde0ef"
            ],
            [
             0.5,
             "#f7f7f7"
            ],
            [
             0.6,
             "#e6f5d0"
            ],
            [
             0.7,
             "#b8e186"
            ],
            [
             0.8,
             "#7fbc41"
            ],
            [
             0.9,
             "#4d9221"
            ],
            [
             1,
             "#276419"
            ]
           ],
           "sequential": [
            [
             0,
             "#0d0887"
            ],
            [
             0.1111111111111111,
             "#46039f"
            ],
            [
             0.2222222222222222,
             "#7201a8"
            ],
            [
             0.3333333333333333,
             "#9c179e"
            ],
            [
             0.4444444444444444,
             "#bd3786"
            ],
            [
             0.5555555555555556,
             "#d8576b"
            ],
            [
             0.6666666666666666,
             "#ed7953"
            ],
            [
             0.7777777777777778,
             "#fb9f3a"
            ],
            [
             0.8888888888888888,
             "#fdca26"
            ],
            [
             1,
             "#f0f921"
            ]
           ],
           "sequentialminus": [
            [
             0,
             "#0d0887"
            ],
            [
             0.1111111111111111,
             "#46039f"
            ],
            [
             0.2222222222222222,
             "#7201a8"
            ],
            [
             0.3333333333333333,
             "#9c179e"
            ],
            [
             0.4444444444444444,
             "#bd3786"
            ],
            [
             0.5555555555555556,
             "#d8576b"
            ],
            [
             0.6666666666666666,
             "#ed7953"
            ],
            [
             0.7777777777777778,
             "#fb9f3a"
            ],
            [
             0.8888888888888888,
             "#fdca26"
            ],
            [
             1,
             "#f0f921"
            ]
           ]
          },
          "colorway": [
           "#636efa",
           "#EF553B",
           "#00cc96",
           "#ab63fa",
           "#FFA15A",
           "#19d3f3",
           "#FF6692",
           "#B6E880",
           "#FF97FF",
           "#FECB52"
          ],
          "font": {
           "color": "#2a3f5f"
          },
          "geo": {
           "bgcolor": "white",
           "lakecolor": "white",
           "landcolor": "#E5ECF6",
           "showlakes": true,
           "showland": true,
           "subunitcolor": "white"
          },
          "hoverlabel": {
           "align": "left"
          },
          "hovermode": "closest",
          "mapbox": {
           "style": "light"
          },
          "paper_bgcolor": "white",
          "plot_bgcolor": "#E5ECF6",
          "polar": {
           "angularaxis": {
            "gridcolor": "white",
            "linecolor": "white",
            "ticks": ""
           },
           "bgcolor": "#E5ECF6",
           "radialaxis": {
            "gridcolor": "white",
            "linecolor": "white",
            "ticks": ""
           }
          },
          "scene": {
           "xaxis": {
            "backgroundcolor": "#E5ECF6",
            "gridcolor": "white",
            "gridwidth": 2,
            "linecolor": "white",
            "showbackground": true,
            "ticks": "",
            "zerolinecolor": "white"
           },
           "yaxis": {
            "backgroundcolor": "#E5ECF6",
            "gridcolor": "white",
            "gridwidth": 2,
            "linecolor": "white",
            "showbackground": true,
            "ticks": "",
            "zerolinecolor": "white"
           },
           "zaxis": {
            "backgroundcolor": "#E5ECF6",
            "gridcolor": "white",
            "gridwidth": 2,
            "linecolor": "white",
            "showbackground": true,
            "ticks": "",
            "zerolinecolor": "white"
           }
          },
          "shapedefaults": {
           "line": {
            "color": "#2a3f5f"
           }
          },
          "ternary": {
           "aaxis": {
            "gridcolor": "white",
            "linecolor": "white",
            "ticks": ""
           },
           "baxis": {
            "gridcolor": "white",
            "linecolor": "white",
            "ticks": ""
           },
           "bgcolor": "#E5ECF6",
           "caxis": {
            "gridcolor": "white",
            "linecolor": "white",
            "ticks": ""
           }
          },
          "title": {
           "x": 0.05
          },
          "xaxis": {
           "automargin": true,
           "gridcolor": "white",
           "linecolor": "white",
           "ticks": "",
           "title": {
            "standoff": 15
           },
           "zerolinecolor": "white",
           "zerolinewidth": 2
          },
          "yaxis": {
           "automargin": true,
           "gridcolor": "white",
           "linecolor": "white",
           "ticks": "",
           "title": {
            "standoff": 15
           },
           "zerolinecolor": "white",
           "zerolinewidth": 2
          }
         }
        },
        "title": {
         "text": "Financials 2018-2021"
        },
        "xaxis": {
         "linecolor": "black",
         "linewidth": 1,
         "ticklen": 5,
         "ticks": "outside",
         "zeroline": true
        }
       }
      }
     },
     "metadata": {},
     "output_type": "display_data"
    }
   ],
   "source": [
    "trace1 = go.Scatter(\n",
    "    x=['2018', '2019', '2020', '2021'],\n",
    "    y=convert_fin['Net Income'],\n",
    "    mode='lines+markers',\n",
    "    name='Net Income',\n",
    "    marker=dict(color='rgba(16, 112, 2, 0.8)'),\n",
    ")\n",
    "trace2 = go.Scatter(\n",
    "    x=['2018', '2019', '2020', '2021'],\n",
    "    y=convert_fin['Ebit'],\n",
    "    mode='lines+markers',\n",
    "    name='Ebit',\n",
    "    marker=dict(color='rgba(80, 26, 80, 0.8)'),\n",
    ")\n",
    "trace3 = go.Scatter(\n",
    "    x=['2018', '2019', '2020', '2021'],\n",
    "    y=convert_fin['Gross Profit'],\n",
    "    mode='lines+markers',\n",
    "    name='Gross Profit',\n",
    "    marker=dict(color='rgba(247, 43, 163, 0.8)'),\n",
    ")\n",
    "data = [trace1, trace2, trace3]\n",
    "layout = dict(\n",
    "    title='Financials 2018-2021',\n",
    "    xaxis=dict( \n",
    "        ticks='outside', ticklen=5, \n",
    "        zeroline=True, linewidth=1, linecolor='black'\n",
    "        ))\n",
    "fig = dict(data=data, layout=layout)            \n",
    "py.iplot(fig)"
   ]
  },
  {
   "cell_type": "code",
   "execution_count": 22,
   "metadata": {},
   "outputs": [
    {
     "name": "stdout",
     "output_type": "stream",
     "text": [
      "DatetimeIndex(['2022-03-31', '2021-12-31', '2021-09-30', '2021-06-30'], dtype='datetime64[ns]', name='', freq=None)\n"
     ]
    },
    {
     "data": {
      "text/html": [
       "<div>\n",
       "<style scoped>\n",
       "    .dataframe tbody tr th:only-of-type {\n",
       "        vertical-align: middle;\n",
       "    }\n",
       "\n",
       "    .dataframe tbody tr th {\n",
       "        vertical-align: top;\n",
       "    }\n",
       "\n",
       "    .dataframe thead th {\n",
       "        text-align: right;\n",
       "    }\n",
       "</style>\n",
       "<table border=\"1\" class=\"dataframe\">\n",
       "  <thead>\n",
       "    <tr style=\"text-align: right;\">\n",
       "      <th></th>\n",
       "      <th>2022-03-31</th>\n",
       "      <th>2021-12-31</th>\n",
       "      <th>2021-09-30</th>\n",
       "      <th>2021-06-30</th>\n",
       "    </tr>\n",
       "  </thead>\n",
       "  <tbody>\n",
       "    <tr>\n",
       "      <th>Research Development</th>\n",
       "      <td>633000000.0</td>\n",
       "      <td>678000000.0</td>\n",
       "      <td>575000000.0</td>\n",
       "      <td>497000000.0</td>\n",
       "    </tr>\n",
       "    <tr>\n",
       "      <th>Effect Of Accounting Charges</th>\n",
       "      <td>None</td>\n",
       "      <td>None</td>\n",
       "      <td>None</td>\n",
       "      <td>None</td>\n",
       "    </tr>\n",
       "    <tr>\n",
       "      <th>Income Before Tax</th>\n",
       "      <td>-1618000000.0</td>\n",
       "      <td>-4700000000.0</td>\n",
       "      <td>-310000000.0</td>\n",
       "      <td>549000000.0</td>\n",
       "    </tr>\n",
       "    <tr>\n",
       "      <th>Minority Interest</th>\n",
       "      <td>130000000.0</td>\n",
       "      <td>153000000.0</td>\n",
       "      <td>174000000.0</td>\n",
       "      <td>197000000.0</td>\n",
       "    </tr>\n",
       "    <tr>\n",
       "      <th>Net Income</th>\n",
       "      <td>-1219000000.0</td>\n",
       "      <td>-4143000000.0</td>\n",
       "      <td>-109000000.0</td>\n",
       "      <td>587000000.0</td>\n",
       "    </tr>\n",
       "    <tr>\n",
       "      <th>Selling General Administrative</th>\n",
       "      <td>628000000.0</td>\n",
       "      <td>856000000.0</td>\n",
       "      <td>1062000000.0</td>\n",
       "      <td>860000000.0</td>\n",
       "    </tr>\n",
       "    <tr>\n",
       "      <th>Gross Profit</th>\n",
       "      <td>534000000.0</td>\n",
       "      <td>-2025000000.0</td>\n",
       "      <td>2313000000.0</td>\n",
       "      <td>2925000000.0</td>\n",
       "    </tr>\n",
       "    <tr>\n",
       "      <th>Ebit</th>\n",
       "      <td>-727000000.0</td>\n",
       "      <td>-3559000000.0</td>\n",
       "      <td>676000000.0</td>\n",
       "      <td>1568000000.0</td>\n",
       "    </tr>\n",
       "    <tr>\n",
       "      <th>Operating Income</th>\n",
       "      <td>-727000000.0</td>\n",
       "      <td>-3559000000.0</td>\n",
       "      <td>676000000.0</td>\n",
       "      <td>1568000000.0</td>\n",
       "    </tr>\n",
       "    <tr>\n",
       "      <th>Other Operating Expenses</th>\n",
       "      <td>None</td>\n",
       "      <td>None</td>\n",
       "      <td>None</td>\n",
       "      <td>None</td>\n",
       "    </tr>\n",
       "    <tr>\n",
       "      <th>Interest Expense</th>\n",
       "      <td>-630000000.0</td>\n",
       "      <td>-661000000.0</td>\n",
       "      <td>-669000000.0</td>\n",
       "      <td>-673000000.0</td>\n",
       "    </tr>\n",
       "    <tr>\n",
       "      <th>Extraordinary Items</th>\n",
       "      <td>None</td>\n",
       "      <td>None</td>\n",
       "      <td>None</td>\n",
       "      <td>None</td>\n",
       "    </tr>\n",
       "    <tr>\n",
       "      <th>Non Recurring</th>\n",
       "      <td>None</td>\n",
       "      <td>None</td>\n",
       "      <td>None</td>\n",
       "      <td>None</td>\n",
       "    </tr>\n",
       "    <tr>\n",
       "      <th>Other Items</th>\n",
       "      <td>None</td>\n",
       "      <td>None</td>\n",
       "      <td>None</td>\n",
       "      <td>None</td>\n",
       "    </tr>\n",
       "    <tr>\n",
       "      <th>Income Tax Expense</th>\n",
       "      <td>-376000000.0</td>\n",
       "      <td>-536000000.0</td>\n",
       "      <td>-178000000.0</td>\n",
       "      <td>-18000000.0</td>\n",
       "    </tr>\n",
       "    <tr>\n",
       "      <th>Total Revenue</th>\n",
       "      <td>13991000000.0</td>\n",
       "      <td>14793000000.0</td>\n",
       "      <td>15278000000.0</td>\n",
       "      <td>16998000000.0</td>\n",
       "    </tr>\n",
       "    <tr>\n",
       "      <th>Total Operating Expenses</th>\n",
       "      <td>14718000000.0</td>\n",
       "      <td>18352000000.0</td>\n",
       "      <td>14602000000.0</td>\n",
       "      <td>15430000000.0</td>\n",
       "    </tr>\n",
       "    <tr>\n",
       "      <th>Cost Of Revenue</th>\n",
       "      <td>13457000000.0</td>\n",
       "      <td>16818000000.0</td>\n",
       "      <td>12965000000.0</td>\n",
       "      <td>14073000000.0</td>\n",
       "    </tr>\n",
       "    <tr>\n",
       "      <th>Total Other Income Expense Net</th>\n",
       "      <td>-891000000.0</td>\n",
       "      <td>-1141000000.0</td>\n",
       "      <td>-986000000.0</td>\n",
       "      <td>-1019000000.0</td>\n",
       "    </tr>\n",
       "    <tr>\n",
       "      <th>Discontinued Operations</th>\n",
       "      <td>None</td>\n",
       "      <td>None</td>\n",
       "      <td>None</td>\n",
       "      <td>None</td>\n",
       "    </tr>\n",
       "    <tr>\n",
       "      <th>Net Income From Continuing Ops</th>\n",
       "      <td>-1242000000.0</td>\n",
       "      <td>-4164000000.0</td>\n",
       "      <td>-132000000.0</td>\n",
       "      <td>567000000.0</td>\n",
       "    </tr>\n",
       "    <tr>\n",
       "      <th>Net Income Applicable To Common Shares</th>\n",
       "      <td>-1219000000.0</td>\n",
       "      <td>-4143000000.0</td>\n",
       "      <td>-109000000.0</td>\n",
       "      <td>587000000.0</td>\n",
       "    </tr>\n",
       "  </tbody>\n",
       "</table>\n",
       "</div>"
      ],
      "text/plain": [
       "                                           2022-03-31     2021-12-31  \\\n",
       "Research Development                      633000000.0    678000000.0   \n",
       "Effect Of Accounting Charges                     None           None   \n",
       "Income Before Tax                       -1618000000.0  -4700000000.0   \n",
       "Minority Interest                         130000000.0    153000000.0   \n",
       "Net Income                              -1219000000.0  -4143000000.0   \n",
       "Selling General Administrative            628000000.0    856000000.0   \n",
       "Gross Profit                              534000000.0  -2025000000.0   \n",
       "Ebit                                     -727000000.0  -3559000000.0   \n",
       "Operating Income                         -727000000.0  -3559000000.0   \n",
       "Other Operating Expenses                         None           None   \n",
       "Interest Expense                         -630000000.0   -661000000.0   \n",
       "Extraordinary Items                              None           None   \n",
       "Non Recurring                                    None           None   \n",
       "Other Items                                      None           None   \n",
       "Income Tax Expense                       -376000000.0   -536000000.0   \n",
       "Total Revenue                           13991000000.0  14793000000.0   \n",
       "Total Operating Expenses                14718000000.0  18352000000.0   \n",
       "Cost Of Revenue                         13457000000.0  16818000000.0   \n",
       "Total Other Income Expense Net           -891000000.0  -1141000000.0   \n",
       "Discontinued Operations                          None           None   \n",
       "Net Income From Continuing Ops          -1242000000.0  -4164000000.0   \n",
       "Net Income Applicable To Common Shares  -1219000000.0  -4143000000.0   \n",
       "\n",
       "                                           2021-09-30     2021-06-30  \n",
       "Research Development                      575000000.0    497000000.0  \n",
       "Effect Of Accounting Charges                     None           None  \n",
       "Income Before Tax                        -310000000.0    549000000.0  \n",
       "Minority Interest                         174000000.0    197000000.0  \n",
       "Net Income                               -109000000.0    587000000.0  \n",
       "Selling General Administrative           1062000000.0    860000000.0  \n",
       "Gross Profit                             2313000000.0   2925000000.0  \n",
       "Ebit                                      676000000.0   1568000000.0  \n",
       "Operating Income                          676000000.0   1568000000.0  \n",
       "Other Operating Expenses                         None           None  \n",
       "Interest Expense                         -669000000.0   -673000000.0  \n",
       "Extraordinary Items                              None           None  \n",
       "Non Recurring                                    None           None  \n",
       "Other Items                                      None           None  \n",
       "Income Tax Expense                       -178000000.0    -18000000.0  \n",
       "Total Revenue                           15278000000.0  16998000000.0  \n",
       "Total Operating Expenses                14602000000.0  15430000000.0  \n",
       "Cost Of Revenue                         12965000000.0  14073000000.0  \n",
       "Total Other Income Expense Net           -986000000.0  -1019000000.0  \n",
       "Discontinued Operations                          None           None  \n",
       "Net Income From Continuing Ops           -132000000.0    567000000.0  \n",
       "Net Income Applicable To Common Shares   -109000000.0    587000000.0  "
      ]
     },
     "metadata": {},
     "output_type": "display_data"
    }
   ],
   "source": [
    "quarterly_financials = pd.DataFrame(sec.quarterly_financials)\n",
    "display(quarterly_financials)\n",
    "\n",
    "# Ebit, Gross Profit, Net Income"
   ]
  },
  {
   "cell_type": "code",
   "execution_count": 25,
   "metadata": {},
   "outputs": [
    {
     "data": {
      "text/html": [
       "<div>\n",
       "<style scoped>\n",
       "    .dataframe tbody tr th:only-of-type {\n",
       "        vertical-align: middle;\n",
       "    }\n",
       "\n",
       "    .dataframe tbody tr th {\n",
       "        vertical-align: top;\n",
       "    }\n",
       "\n",
       "    .dataframe thead th {\n",
       "        text-align: right;\n",
       "    }\n",
       "</style>\n",
       "<table border=\"1\" class=\"dataframe\">\n",
       "  <thead>\n",
       "    <tr style=\"text-align: right;\">\n",
       "      <th></th>\n",
       "      <th>2021-12-31</th>\n",
       "      <th>2020-12-31</th>\n",
       "      <th>2019-12-31</th>\n",
       "      <th>2018-12-31</th>\n",
       "    </tr>\n",
       "  </thead>\n",
       "  <tbody>\n",
       "    <tr>\n",
       "      <th>Intangible Assets</th>\n",
       "      <td>2.562000e+09</td>\n",
       "      <td>2.843000e+09</td>\n",
       "      <td>3.338000e+09</td>\n",
       "      <td>3.429000e+09</td>\n",
       "    </tr>\n",
       "    <tr>\n",
       "      <th>Capital Surplus</th>\n",
       "      <td>9.052000e+09</td>\n",
       "      <td>7.787000e+09</td>\n",
       "      <td>6.745000e+09</td>\n",
       "      <td>6.768000e+09</td>\n",
       "    </tr>\n",
       "    <tr>\n",
       "      <th>Total Liab</th>\n",
       "      <td>1.533980e+11</td>\n",
       "      <td>1.702110e+11</td>\n",
       "      <td>1.419250e+11</td>\n",
       "      <td>1.169490e+11</td>\n",
       "    </tr>\n",
       "    <tr>\n",
       "      <th>Total Stockholder Equity</th>\n",
       "      <td>-1.499900e+10</td>\n",
       "      <td>-1.831600e+10</td>\n",
       "      <td>-8.617000e+09</td>\n",
       "      <td>3.390000e+08</td>\n",
       "    </tr>\n",
       "    <tr>\n",
       "      <th>Minority Interest</th>\n",
       "      <td>1.530000e+08</td>\n",
       "      <td>2.410000e+08</td>\n",
       "      <td>3.170000e+08</td>\n",
       "      <td>7.100000e+07</td>\n",
       "    </tr>\n",
       "    <tr>\n",
       "      <th>Other Current Liab</th>\n",
       "      <td>5.983900e+10</td>\n",
       "      <td>6.025200e+10</td>\n",
       "      <td>6.371700e+10</td>\n",
       "      <td>5.493600e+10</td>\n",
       "    </tr>\n",
       "    <tr>\n",
       "      <th>Total Assets</th>\n",
       "      <td>1.385520e+11</td>\n",
       "      <td>1.521360e+11</td>\n",
       "      <td>1.336250e+11</td>\n",
       "      <td>1.173590e+11</td>\n",
       "    </tr>\n",
       "    <tr>\n",
       "      <th>Common Stock</th>\n",
       "      <td>5.061000e+09</td>\n",
       "      <td>5.061000e+09</td>\n",
       "      <td>5.061000e+09</td>\n",
       "      <td>5.061000e+09</td>\n",
       "    </tr>\n",
       "    <tr>\n",
       "      <th>Other Current Assets</th>\n",
       "      <td>2.221000e+09</td>\n",
       "      <td>4.286000e+09</td>\n",
       "      <td>3.106000e+09</td>\n",
       "      <td>2.335000e+09</td>\n",
       "    </tr>\n",
       "    <tr>\n",
       "      <th>Retained Earnings</th>\n",
       "      <td>3.440800e+10</td>\n",
       "      <td>3.861000e+10</td>\n",
       "      <td>5.064400e+10</td>\n",
       "      <td>5.594100e+10</td>\n",
       "    </tr>\n",
       "    <tr>\n",
       "      <th>Other Liab</th>\n",
       "      <td>1.332900e+10</td>\n",
       "      <td>1.995700e+10</td>\n",
       "      <td>2.367300e+10</td>\n",
       "      <td>2.470200e+10</td>\n",
       "    </tr>\n",
       "    <tr>\n",
       "      <th>Good Will</th>\n",
       "      <td>8.068000e+09</td>\n",
       "      <td>8.081000e+09</td>\n",
       "      <td>8.060000e+09</td>\n",
       "      <td>7.840000e+09</td>\n",
       "    </tr>\n",
       "    <tr>\n",
       "      <th>Treasury Stock</th>\n",
       "      <td>-6.352000e+10</td>\n",
       "      <td>-6.977400e+10</td>\n",
       "      <td>-7.106700e+10</td>\n",
       "      <td>-6.743100e+10</td>\n",
       "    </tr>\n",
       "    <tr>\n",
       "      <th>Other Assets</th>\n",
       "      <td>4.231000e+09</td>\n",
       "      <td>3.546000e+09</td>\n",
       "      <td>3.086000e+09</td>\n",
       "      <td>2.110000e+09</td>\n",
       "    </tr>\n",
       "    <tr>\n",
       "      <th>Cash</th>\n",
       "      <td>8.052000e+09</td>\n",
       "      <td>7.752000e+09</td>\n",
       "      <td>9.485000e+09</td>\n",
       "      <td>7.637000e+09</td>\n",
       "    </tr>\n",
       "    <tr>\n",
       "      <th>Total Current Liabilities</th>\n",
       "      <td>8.199200e+10</td>\n",
       "      <td>8.728000e+10</td>\n",
       "      <td>9.731200e+10</td>\n",
       "      <td>8.159000e+10</td>\n",
       "    </tr>\n",
       "    <tr>\n",
       "      <th>Deferred Long Term Asset Charges</th>\n",
       "      <td>7.700000e+07</td>\n",
       "      <td>8.600000e+07</td>\n",
       "      <td>6.830000e+08</td>\n",
       "      <td>2.840000e+08</td>\n",
       "    </tr>\n",
       "    <tr>\n",
       "      <th>Short Long Term Debt</th>\n",
       "      <td>9.320000e+08</td>\n",
       "      <td>7.930000e+08</td>\n",
       "      <td>6.840000e+09</td>\n",
       "      <td>2.690000e+09</td>\n",
       "    </tr>\n",
       "    <tr>\n",
       "      <th>Other Stockholder Equity</th>\n",
       "      <td>-1.165900e+10</td>\n",
       "      <td>-1.713300e+10</td>\n",
       "      <td>-1.615300e+10</td>\n",
       "      <td>-1.508300e+10</td>\n",
       "    </tr>\n",
       "    <tr>\n",
       "      <th>Property Plant Equipment</th>\n",
       "      <td>1.235500e+10</td>\n",
       "      <td>1.307200e+10</td>\n",
       "      <td>1.368400e+10</td>\n",
       "      <td>1.264500e+10</td>\n",
       "    </tr>\n",
       "    <tr>\n",
       "      <th>Total Current Assets</th>\n",
       "      <td>1.086660e+11</td>\n",
       "      <td>1.216420e+11</td>\n",
       "      <td>1.022290e+11</td>\n",
       "      <td>8.783000e+10</td>\n",
       "    </tr>\n",
       "    <tr>\n",
       "      <th>Long Term Investments</th>\n",
       "      <td>9.750000e+08</td>\n",
       "      <td>1.016000e+09</td>\n",
       "      <td>1.092000e+09</td>\n",
       "      <td>1.087000e+09</td>\n",
       "    </tr>\n",
       "    <tr>\n",
       "      <th>Net Tangible Assets</th>\n",
       "      <td>-2.562900e+10</td>\n",
       "      <td>-2.924000e+10</td>\n",
       "      <td>-2.001500e+10</td>\n",
       "      <td>-1.093000e+10</td>\n",
       "    </tr>\n",
       "    <tr>\n",
       "      <th>Short Term Investments</th>\n",
       "      <td>8.192000e+09</td>\n",
       "      <td>1.783800e+10</td>\n",
       "      <td>5.450000e+08</td>\n",
       "      <td>9.270000e+08</td>\n",
       "    </tr>\n",
       "    <tr>\n",
       "      <th>Net Receivables</th>\n",
       "      <td>1.126100e+10</td>\n",
       "      <td>9.950000e+09</td>\n",
       "      <td>1.230900e+10</td>\n",
       "      <td>1.390400e+10</td>\n",
       "    </tr>\n",
       "    <tr>\n",
       "      <th>Long Term Debt</th>\n",
       "      <td>5.549000e+10</td>\n",
       "      <td>6.098700e+10</td>\n",
       "      <td>1.823300e+10</td>\n",
       "      <td>8.501000e+09</td>\n",
       "    </tr>\n",
       "    <tr>\n",
       "      <th>Inventory</th>\n",
       "      <td>7.882300e+10</td>\n",
       "      <td>8.171500e+10</td>\n",
       "      <td>7.662200e+10</td>\n",
       "      <td>6.256700e+10</td>\n",
       "    </tr>\n",
       "    <tr>\n",
       "      <th>Accounts Payable</th>\n",
       "      <td>9.261000e+09</td>\n",
       "      <td>1.292800e+10</td>\n",
       "      <td>1.555300e+10</td>\n",
       "      <td>1.291600e+10</td>\n",
       "    </tr>\n",
       "  </tbody>\n",
       "</table>\n",
       "</div>"
      ],
      "text/plain": [
       "                                    2021-12-31    2020-12-31    2019-12-31  \\\n",
       "Intangible Assets                 2.562000e+09  2.843000e+09  3.338000e+09   \n",
       "Capital Surplus                   9.052000e+09  7.787000e+09  6.745000e+09   \n",
       "Total Liab                        1.533980e+11  1.702110e+11  1.419250e+11   \n",
       "Total Stockholder Equity         -1.499900e+10 -1.831600e+10 -8.617000e+09   \n",
       "Minority Interest                 1.530000e+08  2.410000e+08  3.170000e+08   \n",
       "Other Current Liab                5.983900e+10  6.025200e+10  6.371700e+10   \n",
       "Total Assets                      1.385520e+11  1.521360e+11  1.336250e+11   \n",
       "Common Stock                      5.061000e+09  5.061000e+09  5.061000e+09   \n",
       "Other Current Assets              2.221000e+09  4.286000e+09  3.106000e+09   \n",
       "Retained Earnings                 3.440800e+10  3.861000e+10  5.064400e+10   \n",
       "Other Liab                        1.332900e+10  1.995700e+10  2.367300e+10   \n",
       "Good Will                         8.068000e+09  8.081000e+09  8.060000e+09   \n",
       "Treasury Stock                   -6.352000e+10 -6.977400e+10 -7.106700e+10   \n",
       "Other Assets                      4.231000e+09  3.546000e+09  3.086000e+09   \n",
       "Cash                              8.052000e+09  7.752000e+09  9.485000e+09   \n",
       "Total Current Liabilities         8.199200e+10  8.728000e+10  9.731200e+10   \n",
       "Deferred Long Term Asset Charges  7.700000e+07  8.600000e+07  6.830000e+08   \n",
       "Short Long Term Debt              9.320000e+08  7.930000e+08  6.840000e+09   \n",
       "Other Stockholder Equity         -1.165900e+10 -1.713300e+10 -1.615300e+10   \n",
       "Property Plant Equipment          1.235500e+10  1.307200e+10  1.368400e+10   \n",
       "Total Current Assets              1.086660e+11  1.216420e+11  1.022290e+11   \n",
       "Long Term Investments             9.750000e+08  1.016000e+09  1.092000e+09   \n",
       "Net Tangible Assets              -2.562900e+10 -2.924000e+10 -2.001500e+10   \n",
       "Short Term Investments            8.192000e+09  1.783800e+10  5.450000e+08   \n",
       "Net Receivables                   1.126100e+10  9.950000e+09  1.230900e+10   \n",
       "Long Term Debt                    5.549000e+10  6.098700e+10  1.823300e+10   \n",
       "Inventory                         7.882300e+10  8.171500e+10  7.662200e+10   \n",
       "Accounts Payable                  9.261000e+09  1.292800e+10  1.555300e+10   \n",
       "\n",
       "                                    2018-12-31  \n",
       "Intangible Assets                 3.429000e+09  \n",
       "Capital Surplus                   6.768000e+09  \n",
       "Total Liab                        1.169490e+11  \n",
       "Total Stockholder Equity          3.390000e+08  \n",
       "Minority Interest                 7.100000e+07  \n",
       "Other Current Liab                5.493600e+10  \n",
       "Total Assets                      1.173590e+11  \n",
       "Common Stock                      5.061000e+09  \n",
       "Other Current Assets              2.335000e+09  \n",
       "Retained Earnings                 5.594100e+10  \n",
       "Other Liab                        2.470200e+10  \n",
       "Good Will                         7.840000e+09  \n",
       "Treasury Stock                   -6.743100e+10  \n",
       "Other Assets                      2.110000e+09  \n",
       "Cash                              7.637000e+09  \n",
       "Total Current Liabilities         8.159000e+10  \n",
       "Deferred Long Term Asset Charges  2.840000e+08  \n",
       "Short Long Term Debt              2.690000e+09  \n",
       "Other Stockholder Equity         -1.508300e+10  \n",
       "Property Plant Equipment          1.264500e+10  \n",
       "Total Current Assets              8.783000e+10  \n",
       "Long Term Investments             1.087000e+09  \n",
       "Net Tangible Assets              -1.093000e+10  \n",
       "Short Term Investments            9.270000e+08  \n",
       "Net Receivables                   1.390400e+10  \n",
       "Long Term Debt                    8.501000e+09  \n",
       "Inventory                         6.256700e+10  \n",
       "Accounts Payable                  1.291600e+10  "
      ]
     },
     "metadata": {},
     "output_type": "display_data"
    }
   ],
   "source": [
    "balance = pd.DataFrame(sec.balancesheet)\n",
    "\n",
    "display(balance)\n",
    "# Total Current Liabilities, Cash, Capital Surplus, Total Assets\n",
    "\n",
    "# Long Term Debt\n",
    "# Inventory  \n",
    "# Accounts Payable   \n",
    "# Net Receivables"
   ]
  },
  {
   "cell_type": "code",
   "execution_count": 83,
   "metadata": {},
   "outputs": [
    {
     "data": {
      "text/html": [
       "<div>\n",
       "<style scoped>\n",
       "    .dataframe tbody tr th:only-of-type {\n",
       "        vertical-align: middle;\n",
       "    }\n",
       "\n",
       "    .dataframe tbody tr th {\n",
       "        vertical-align: top;\n",
       "    }\n",
       "\n",
       "    .dataframe thead th {\n",
       "        text-align: right;\n",
       "    }\n",
       "</style>\n",
       "<table border=\"1\" class=\"dataframe\">\n",
       "  <thead>\n",
       "    <tr style=\"text-align: right;\">\n",
       "      <th></th>\n",
       "      <th>Intangible Assets</th>\n",
       "      <th>Capital Surplus</th>\n",
       "      <th>Total Liab</th>\n",
       "      <th>Total Stockholder Equity</th>\n",
       "      <th>Minority Interest</th>\n",
       "      <th>Other Current Liab</th>\n",
       "      <th>Total Assets</th>\n",
       "      <th>Common Stock</th>\n",
       "      <th>Other Current Assets</th>\n",
       "      <th>Retained Earnings</th>\n",
       "      <th>...</th>\n",
       "      <th>Other Stockholder Equity</th>\n",
       "      <th>Property Plant Equipment</th>\n",
       "      <th>Total Current Assets</th>\n",
       "      <th>Long Term Investments</th>\n",
       "      <th>Net Tangible Assets</th>\n",
       "      <th>Short Term Investments</th>\n",
       "      <th>Net Receivables</th>\n",
       "      <th>Long Term Debt</th>\n",
       "      <th>Inventory</th>\n",
       "      <th>Accounts Payable</th>\n",
       "    </tr>\n",
       "    <tr>\n",
       "      <th></th>\n",
       "      <th></th>\n",
       "      <th></th>\n",
       "      <th></th>\n",
       "      <th></th>\n",
       "      <th></th>\n",
       "      <th></th>\n",
       "      <th></th>\n",
       "      <th></th>\n",
       "      <th></th>\n",
       "      <th></th>\n",
       "      <th></th>\n",
       "      <th></th>\n",
       "      <th></th>\n",
       "      <th></th>\n",
       "      <th></th>\n",
       "      <th></th>\n",
       "      <th></th>\n",
       "      <th></th>\n",
       "      <th></th>\n",
       "      <th></th>\n",
       "      <th></th>\n",
       "    </tr>\n",
       "  </thead>\n",
       "  <tbody>\n",
       "    <tr>\n",
       "      <th>2018-12-31</th>\n",
       "      <td>3.429000e+09</td>\n",
       "      <td>6.768000e+09</td>\n",
       "      <td>1.169490e+11</td>\n",
       "      <td>3.390000e+08</td>\n",
       "      <td>71000000.0</td>\n",
       "      <td>5.493600e+10</td>\n",
       "      <td>1.173590e+11</td>\n",
       "      <td>5.061000e+09</td>\n",
       "      <td>2.335000e+09</td>\n",
       "      <td>5.594100e+10</td>\n",
       "      <td>...</td>\n",
       "      <td>-1.508300e+10</td>\n",
       "      <td>1.264500e+10</td>\n",
       "      <td>8.783000e+10</td>\n",
       "      <td>1.087000e+09</td>\n",
       "      <td>-1.093000e+10</td>\n",
       "      <td>9.270000e+08</td>\n",
       "      <td>1.390400e+10</td>\n",
       "      <td>8.501000e+09</td>\n",
       "      <td>6.256700e+10</td>\n",
       "      <td>1.291600e+10</td>\n",
       "    </tr>\n",
       "    <tr>\n",
       "      <th>2019-12-31</th>\n",
       "      <td>3.338000e+09</td>\n",
       "      <td>6.745000e+09</td>\n",
       "      <td>1.419250e+11</td>\n",
       "      <td>-8.617000e+09</td>\n",
       "      <td>317000000.0</td>\n",
       "      <td>6.371700e+10</td>\n",
       "      <td>1.336250e+11</td>\n",
       "      <td>5.061000e+09</td>\n",
       "      <td>3.106000e+09</td>\n",
       "      <td>5.064400e+10</td>\n",
       "      <td>...</td>\n",
       "      <td>-1.615300e+10</td>\n",
       "      <td>1.368400e+10</td>\n",
       "      <td>1.022290e+11</td>\n",
       "      <td>1.092000e+09</td>\n",
       "      <td>-2.001500e+10</td>\n",
       "      <td>5.450000e+08</td>\n",
       "      <td>1.230900e+10</td>\n",
       "      <td>1.823300e+10</td>\n",
       "      <td>7.662200e+10</td>\n",
       "      <td>1.555300e+10</td>\n",
       "    </tr>\n",
       "    <tr>\n",
       "      <th>2020-12-31</th>\n",
       "      <td>2.843000e+09</td>\n",
       "      <td>7.787000e+09</td>\n",
       "      <td>1.702110e+11</td>\n",
       "      <td>-1.831600e+10</td>\n",
       "      <td>241000000.0</td>\n",
       "      <td>6.025200e+10</td>\n",
       "      <td>1.521360e+11</td>\n",
       "      <td>5.061000e+09</td>\n",
       "      <td>4.286000e+09</td>\n",
       "      <td>3.861000e+10</td>\n",
       "      <td>...</td>\n",
       "      <td>-1.713300e+10</td>\n",
       "      <td>1.307200e+10</td>\n",
       "      <td>1.216420e+11</td>\n",
       "      <td>1.016000e+09</td>\n",
       "      <td>-2.924000e+10</td>\n",
       "      <td>1.783800e+10</td>\n",
       "      <td>9.950000e+09</td>\n",
       "      <td>6.098700e+10</td>\n",
       "      <td>8.171500e+10</td>\n",
       "      <td>1.292800e+10</td>\n",
       "    </tr>\n",
       "    <tr>\n",
       "      <th>2021-12-31</th>\n",
       "      <td>2.562000e+09</td>\n",
       "      <td>9.052000e+09</td>\n",
       "      <td>1.533980e+11</td>\n",
       "      <td>-1.499900e+10</td>\n",
       "      <td>153000000.0</td>\n",
       "      <td>5.983900e+10</td>\n",
       "      <td>1.385520e+11</td>\n",
       "      <td>5.061000e+09</td>\n",
       "      <td>2.221000e+09</td>\n",
       "      <td>3.440800e+10</td>\n",
       "      <td>...</td>\n",
       "      <td>-1.165900e+10</td>\n",
       "      <td>1.235500e+10</td>\n",
       "      <td>1.086660e+11</td>\n",
       "      <td>9.750000e+08</td>\n",
       "      <td>-2.562900e+10</td>\n",
       "      <td>8.192000e+09</td>\n",
       "      <td>1.126100e+10</td>\n",
       "      <td>5.549000e+10</td>\n",
       "      <td>7.882300e+10</td>\n",
       "      <td>9.261000e+09</td>\n",
       "    </tr>\n",
       "  </tbody>\n",
       "</table>\n",
       "<p>4 rows × 28 columns</p>\n",
       "</div>"
      ],
      "text/plain": [
       "            Intangible Assets  Capital Surplus    Total Liab  \\\n",
       "                                                               \n",
       "2018-12-31       3.429000e+09     6.768000e+09  1.169490e+11   \n",
       "2019-12-31       3.338000e+09     6.745000e+09  1.419250e+11   \n",
       "2020-12-31       2.843000e+09     7.787000e+09  1.702110e+11   \n",
       "2021-12-31       2.562000e+09     9.052000e+09  1.533980e+11   \n",
       "\n",
       "            Total Stockholder Equity  Minority Interest  Other Current Liab  \\\n",
       "                                                                              \n",
       "2018-12-31              3.390000e+08         71000000.0        5.493600e+10   \n",
       "2019-12-31             -8.617000e+09        317000000.0        6.371700e+10   \n",
       "2020-12-31             -1.831600e+10        241000000.0        6.025200e+10   \n",
       "2021-12-31             -1.499900e+10        153000000.0        5.983900e+10   \n",
       "\n",
       "            Total Assets  Common Stock  Other Current Assets  \\\n",
       "                                                               \n",
       "2018-12-31  1.173590e+11  5.061000e+09          2.335000e+09   \n",
       "2019-12-31  1.336250e+11  5.061000e+09          3.106000e+09   \n",
       "2020-12-31  1.521360e+11  5.061000e+09          4.286000e+09   \n",
       "2021-12-31  1.385520e+11  5.061000e+09          2.221000e+09   \n",
       "\n",
       "            Retained Earnings  ...  Other Stockholder Equity  \\\n",
       "                               ...                             \n",
       "2018-12-31       5.594100e+10  ...             -1.508300e+10   \n",
       "2019-12-31       5.064400e+10  ...             -1.615300e+10   \n",
       "2020-12-31       3.861000e+10  ...             -1.713300e+10   \n",
       "2021-12-31       3.440800e+10  ...             -1.165900e+10   \n",
       "\n",
       "            Property Plant Equipment  Total Current Assets  \\\n",
       "                                                             \n",
       "2018-12-31              1.264500e+10          8.783000e+10   \n",
       "2019-12-31              1.368400e+10          1.022290e+11   \n",
       "2020-12-31              1.307200e+10          1.216420e+11   \n",
       "2021-12-31              1.235500e+10          1.086660e+11   \n",
       "\n",
       "            Long Term Investments  Net Tangible Assets  \\\n",
       "                                                         \n",
       "2018-12-31           1.087000e+09        -1.093000e+10   \n",
       "2019-12-31           1.092000e+09        -2.001500e+10   \n",
       "2020-12-31           1.016000e+09        -2.924000e+10   \n",
       "2021-12-31           9.750000e+08        -2.562900e+10   \n",
       "\n",
       "            Short Term Investments  Net Receivables  Long Term Debt  \\\n",
       "                                                                      \n",
       "2018-12-31            9.270000e+08     1.390400e+10    8.501000e+09   \n",
       "2019-12-31            5.450000e+08     1.230900e+10    1.823300e+10   \n",
       "2020-12-31            1.783800e+10     9.950000e+09    6.098700e+10   \n",
       "2021-12-31            8.192000e+09     1.126100e+10    5.549000e+10   \n",
       "\n",
       "               Inventory  Accounts Payable  \n",
       "                                            \n",
       "2018-12-31  6.256700e+10      1.291600e+10  \n",
       "2019-12-31  7.662200e+10      1.555300e+10  \n",
       "2020-12-31  8.171500e+10      1.292800e+10  \n",
       "2021-12-31  7.882300e+10      9.261000e+09  \n",
       "\n",
       "[4 rows x 28 columns]"
      ]
     },
     "metadata": {},
     "output_type": "display_data"
    }
   ],
   "source": [
    "con_balance = balance.transpose()\n",
    "convert_balance = con_balance.sort_index(ascending=True)\n",
    "display(convert_balance)"
   ]
  },
  {
   "cell_type": "code",
   "execution_count": 26,
   "metadata": {},
   "outputs": [
    {
     "data": {
      "text/html": [
       "<div>\n",
       "<style scoped>\n",
       "    .dataframe tbody tr th:only-of-type {\n",
       "        vertical-align: middle;\n",
       "    }\n",
       "\n",
       "    .dataframe tbody tr th {\n",
       "        vertical-align: top;\n",
       "    }\n",
       "\n",
       "    .dataframe thead th {\n",
       "        text-align: right;\n",
       "    }\n",
       "</style>\n",
       "<table border=\"1\" class=\"dataframe\">\n",
       "  <thead>\n",
       "    <tr style=\"text-align: right;\">\n",
       "      <th></th>\n",
       "      <th>2022-03-31</th>\n",
       "      <th>2021-12-31</th>\n",
       "      <th>2021-09-30</th>\n",
       "      <th>2021-06-30</th>\n",
       "    </tr>\n",
       "  </thead>\n",
       "  <tbody>\n",
       "    <tr>\n",
       "      <th>Intangible Assets</th>\n",
       "      <td>2.492000e+09</td>\n",
       "      <td>2.562000e+09</td>\n",
       "      <td>2.631000e+09</td>\n",
       "      <td>2.702000e+09</td>\n",
       "    </tr>\n",
       "    <tr>\n",
       "      <th>Capital Surplus</th>\n",
       "      <td>9.295000e+09</td>\n",
       "      <td>9.052000e+09</td>\n",
       "      <td>8.796000e+09</td>\n",
       "      <td>8.481000e+09</td>\n",
       "    </tr>\n",
       "    <tr>\n",
       "      <th>Total Liab</th>\n",
       "      <td>1.510690e+11</td>\n",
       "      <td>1.533980e+11</td>\n",
       "      <td>1.611120e+11</td>\n",
       "      <td>1.654200e+11</td>\n",
       "    </tr>\n",
       "    <tr>\n",
       "      <th>Total Stockholder Equity</th>\n",
       "      <td>-1.539800e+10</td>\n",
       "      <td>-1.499900e+10</td>\n",
       "      <td>-1.444000e+10</td>\n",
       "      <td>-1.668200e+10</td>\n",
       "    </tr>\n",
       "    <tr>\n",
       "      <th>Minority Interest</th>\n",
       "      <td>1.300000e+08</td>\n",
       "      <td>1.530000e+08</td>\n",
       "      <td>1.740000e+08</td>\n",
       "      <td>1.970000e+08</td>\n",
       "    </tr>\n",
       "    <tr>\n",
       "      <th>Other Current Liab</th>\n",
       "      <td>5.256400e+10</td>\n",
       "      <td>5.983900e+10</td>\n",
       "      <td>5.132900e+10</td>\n",
       "      <td>5.077300e+10</td>\n",
       "    </tr>\n",
       "    <tr>\n",
       "      <th>Total Assets</th>\n",
       "      <td>1.358010e+11</td>\n",
       "      <td>1.385520e+11</td>\n",
       "      <td>1.468460e+11</td>\n",
       "      <td>1.489350e+11</td>\n",
       "    </tr>\n",
       "    <tr>\n",
       "      <th>Common Stock</th>\n",
       "      <td>5.061000e+09</td>\n",
       "      <td>5.061000e+09</td>\n",
       "      <td>5.061000e+09</td>\n",
       "      <td>5.061000e+09</td>\n",
       "    </tr>\n",
       "    <tr>\n",
       "      <th>Other Current Assets</th>\n",
       "      <td>2.356000e+09</td>\n",
       "      <td>2.221000e+09</td>\n",
       "      <td>2.664000e+09</td>\n",
       "      <td>4.187000e+09</td>\n",
       "    </tr>\n",
       "    <tr>\n",
       "      <th>Retained Earnings</th>\n",
       "      <td>3.318900e+10</td>\n",
       "      <td>3.440800e+10</td>\n",
       "      <td>3.855100e+10</td>\n",
       "      <td>3.866000e+10</td>\n",
       "    </tr>\n",
       "    <tr>\n",
       "      <th>Other Liab</th>\n",
       "      <td>1.422700e+10</td>\n",
       "      <td>1.332900e+10</td>\n",
       "      <td>1.829900e+10</td>\n",
       "      <td>2.017100e+10</td>\n",
       "    </tr>\n",
       "    <tr>\n",
       "      <th>Good Will</th>\n",
       "      <td>8.065000e+09</td>\n",
       "      <td>8.068000e+09</td>\n",
       "      <td>8.070000e+09</td>\n",
       "      <td>8.076000e+09</td>\n",
       "    </tr>\n",
       "    <tr>\n",
       "      <th>Treasury Stock</th>\n",
       "      <td>-6.294300e+10</td>\n",
       "      <td>-6.352000e+10</td>\n",
       "      <td>-6.684800e+10</td>\n",
       "      <td>-6.888400e+10</td>\n",
       "    </tr>\n",
       "    <tr>\n",
       "      <th>Other Assets</th>\n",
       "      <td>5.905000e+09</td>\n",
       "      <td>4.231000e+09</td>\n",
       "      <td>5.386000e+09</td>\n",
       "      <td>4.973000e+09</td>\n",
       "    </tr>\n",
       "    <tr>\n",
       "      <th>Cash</th>\n",
       "      <td>7.409000e+09</td>\n",
       "      <td>8.052000e+09</td>\n",
       "      <td>9.764000e+09</td>\n",
       "      <td>8.271000e+09</td>\n",
       "    </tr>\n",
       "    <tr>\n",
       "      <th>Total Current Liabilities</th>\n",
       "      <td>8.169200e+10</td>\n",
       "      <td>8.199200e+10</td>\n",
       "      <td>8.577100e+10</td>\n",
       "      <td>8.822400e+10</td>\n",
       "    </tr>\n",
       "    <tr>\n",
       "      <th>Deferred Long Term Asset Charges</th>\n",
       "      <td>9.100000e+07</td>\n",
       "      <td>7.700000e+07</td>\n",
       "      <td>7.400000e+07</td>\n",
       "      <td>8.400000e+07</td>\n",
       "    </tr>\n",
       "    <tr>\n",
       "      <th>Short Long Term Debt</th>\n",
       "      <td>2.291000e+09</td>\n",
       "      <td>9.320000e+08</td>\n",
       "      <td>5.077000e+09</td>\n",
       "      <td>6.034000e+09</td>\n",
       "    </tr>\n",
       "    <tr>\n",
       "      <th>Other Stockholder Equity</th>\n",
       "      <td>-1.137000e+10</td>\n",
       "      <td>-1.165900e+10</td>\n",
       "      <td>-1.481800e+10</td>\n",
       "      <td>-1.666100e+10</td>\n",
       "    </tr>\n",
       "    <tr>\n",
       "      <th>Property Plant Equipment</th>\n",
       "      <td>1.075500e+10</td>\n",
       "      <td>1.235500e+10</td>\n",
       "      <td>1.111300e+10</td>\n",
       "      <td>1.134100e+10</td>\n",
       "    </tr>\n",
       "    <tr>\n",
       "      <th>Total Current Assets</th>\n",
       "      <td>1.060120e+11</td>\n",
       "      <td>1.086660e+11</td>\n",
       "      <td>1.168880e+11</td>\n",
       "      <td>1.190950e+11</td>\n",
       "    </tr>\n",
       "    <tr>\n",
       "      <th>Long Term Investments</th>\n",
       "      <td>9.920000e+08</td>\n",
       "      <td>9.750000e+08</td>\n",
       "      <td>9.630000e+08</td>\n",
       "      <td>8.830000e+08</td>\n",
       "    </tr>\n",
       "    <tr>\n",
       "      <th>Net Tangible Assets</th>\n",
       "      <td>-2.595500e+10</td>\n",
       "      <td>-2.562900e+10</td>\n",
       "      <td>-2.514100e+10</td>\n",
       "      <td>-2.746000e+10</td>\n",
       "    </tr>\n",
       "    <tr>\n",
       "      <th>Short Term Investments</th>\n",
       "      <td>4.873000e+09</td>\n",
       "      <td>8.192000e+09</td>\n",
       "      <td>1.023100e+10</td>\n",
       "      <td>1.307100e+10</td>\n",
       "    </tr>\n",
       "    <tr>\n",
       "      <th>Net Receivables</th>\n",
       "      <td>1.139800e+10</td>\n",
       "      <td>1.126100e+10</td>\n",
       "      <td>1.225600e+10</td>\n",
       "      <td>1.169300e+10</td>\n",
       "    </tr>\n",
       "    <tr>\n",
       "      <th>Long Term Debt</th>\n",
       "      <td>5.374300e+10</td>\n",
       "      <td>5.549000e+10</td>\n",
       "      <td>5.563600e+10</td>\n",
       "      <td>5.581800e+10</td>\n",
       "    </tr>\n",
       "    <tr>\n",
       "      <th>Inventory</th>\n",
       "      <td>7.981900e+10</td>\n",
       "      <td>7.882300e+10</td>\n",
       "      <td>8.189700e+10</td>\n",
       "      <td>8.179900e+10</td>\n",
       "    </tr>\n",
       "    <tr>\n",
       "      <th>Accounts Payable</th>\n",
       "      <td>8.779000e+09</td>\n",
       "      <td>9.261000e+09</td>\n",
       "      <td>1.015100e+10</td>\n",
       "      <td>1.145000e+10</td>\n",
       "    </tr>\n",
       "  </tbody>\n",
       "</table>\n",
       "</div>"
      ],
      "text/plain": [
       "                                    2022-03-31    2021-12-31    2021-09-30  \\\n",
       "Intangible Assets                 2.492000e+09  2.562000e+09  2.631000e+09   \n",
       "Capital Surplus                   9.295000e+09  9.052000e+09  8.796000e+09   \n",
       "Total Liab                        1.510690e+11  1.533980e+11  1.611120e+11   \n",
       "Total Stockholder Equity         -1.539800e+10 -1.499900e+10 -1.444000e+10   \n",
       "Minority Interest                 1.300000e+08  1.530000e+08  1.740000e+08   \n",
       "Other Current Liab                5.256400e+10  5.983900e+10  5.132900e+10   \n",
       "Total Assets                      1.358010e+11  1.385520e+11  1.468460e+11   \n",
       "Common Stock                      5.061000e+09  5.061000e+09  5.061000e+09   \n",
       "Other Current Assets              2.356000e+09  2.221000e+09  2.664000e+09   \n",
       "Retained Earnings                 3.318900e+10  3.440800e+10  3.855100e+10   \n",
       "Other Liab                        1.422700e+10  1.332900e+10  1.829900e+10   \n",
       "Good Will                         8.065000e+09  8.068000e+09  8.070000e+09   \n",
       "Treasury Stock                   -6.294300e+10 -6.352000e+10 -6.684800e+10   \n",
       "Other Assets                      5.905000e+09  4.231000e+09  5.386000e+09   \n",
       "Cash                              7.409000e+09  8.052000e+09  9.764000e+09   \n",
       "Total Current Liabilities         8.169200e+10  8.199200e+10  8.577100e+10   \n",
       "Deferred Long Term Asset Charges  9.100000e+07  7.700000e+07  7.400000e+07   \n",
       "Short Long Term Debt              2.291000e+09  9.320000e+08  5.077000e+09   \n",
       "Other Stockholder Equity         -1.137000e+10 -1.165900e+10 -1.481800e+10   \n",
       "Property Plant Equipment          1.075500e+10  1.235500e+10  1.111300e+10   \n",
       "Total Current Assets              1.060120e+11  1.086660e+11  1.168880e+11   \n",
       "Long Term Investments             9.920000e+08  9.750000e+08  9.630000e+08   \n",
       "Net Tangible Assets              -2.595500e+10 -2.562900e+10 -2.514100e+10   \n",
       "Short Term Investments            4.873000e+09  8.192000e+09  1.023100e+10   \n",
       "Net Receivables                   1.139800e+10  1.126100e+10  1.225600e+10   \n",
       "Long Term Debt                    5.374300e+10  5.549000e+10  5.563600e+10   \n",
       "Inventory                         7.981900e+10  7.882300e+10  8.189700e+10   \n",
       "Accounts Payable                  8.779000e+09  9.261000e+09  1.015100e+10   \n",
       "\n",
       "                                    2021-06-30  \n",
       "Intangible Assets                 2.702000e+09  \n",
       "Capital Surplus                   8.481000e+09  \n",
       "Total Liab                        1.654200e+11  \n",
       "Total Stockholder Equity         -1.668200e+10  \n",
       "Minority Interest                 1.970000e+08  \n",
       "Other Current Liab                5.077300e+10  \n",
       "Total Assets                      1.489350e+11  \n",
       "Common Stock                      5.061000e+09  \n",
       "Other Current Assets              4.187000e+09  \n",
       "Retained Earnings                 3.866000e+10  \n",
       "Other Liab                        2.017100e+10  \n",
       "Good Will                         8.076000e+09  \n",
       "Treasury Stock                   -6.888400e+10  \n",
       "Other Assets                      4.973000e+09  \n",
       "Cash                              8.271000e+09  \n",
       "Total Current Liabilities         8.822400e+10  \n",
       "Deferred Long Term Asset Charges  8.400000e+07  \n",
       "Short Long Term Debt              6.034000e+09  \n",
       "Other Stockholder Equity         -1.666100e+10  \n",
       "Property Plant Equipment          1.134100e+10  \n",
       "Total Current Assets              1.190950e+11  \n",
       "Long Term Investments             8.830000e+08  \n",
       "Net Tangible Assets              -2.746000e+10  \n",
       "Short Term Investments            1.307100e+10  \n",
       "Net Receivables                   1.169300e+10  \n",
       "Long Term Debt                    5.581800e+10  \n",
       "Inventory                         8.179900e+10  \n",
       "Accounts Payable                  1.145000e+10  "
      ]
     },
     "metadata": {},
     "output_type": "display_data"
    }
   ],
   "source": [
    "quarterly_balance = pd.DataFrame(sec.quarterly_balancesheet)\n",
    "display(quarterly_balance)"
   ]
  },
  {
   "cell_type": "code",
   "execution_count": 27,
   "metadata": {},
   "outputs": [
    {
     "data": {
      "text/html": [
       "<div>\n",
       "<style scoped>\n",
       "    .dataframe tbody tr th:only-of-type {\n",
       "        vertical-align: middle;\n",
       "    }\n",
       "\n",
       "    .dataframe tbody tr th {\n",
       "        vertical-align: top;\n",
       "    }\n",
       "\n",
       "    .dataframe thead th {\n",
       "        text-align: right;\n",
       "    }\n",
       "</style>\n",
       "<table border=\"1\" class=\"dataframe\">\n",
       "  <thead>\n",
       "    <tr style=\"text-align: right;\">\n",
       "      <th></th>\n",
       "      <th>2021-12-31</th>\n",
       "      <th>2020-12-31</th>\n",
       "      <th>2019-12-31</th>\n",
       "      <th>2018-12-31</th>\n",
       "    </tr>\n",
       "  </thead>\n",
       "  <tbody>\n",
       "    <tr>\n",
       "      <th>Investments</th>\n",
       "      <td>9.776000e+09</td>\n",
       "      <td>-1.734100e+10</td>\n",
       "      <td>1.010000e+08</td>\n",
       "      <td>2.910000e+08</td>\n",
       "    </tr>\n",
       "    <tr>\n",
       "      <th>Change To Liabilities</th>\n",
       "      <td>-1.278000e+09</td>\n",
       "      <td>-6.423000e+09</td>\n",
       "      <td>2.337000e+09</td>\n",
       "      <td>2.638000e+09</td>\n",
       "    </tr>\n",
       "    <tr>\n",
       "      <th>Total Cashflows From Investing Activities</th>\n",
       "      <td>9.324000e+09</td>\n",
       "      <td>-1.836600e+10</td>\n",
       "      <td>-1.530000e+09</td>\n",
       "      <td>-4.621000e+09</td>\n",
       "    </tr>\n",
       "    <tr>\n",
       "      <th>Net Borrowings</th>\n",
       "      <td>-5.576000e+09</td>\n",
       "      <td>3.625000e+10</td>\n",
       "      <td>1.321800e+10</td>\n",
       "      <td>1.365000e+09</td>\n",
       "    </tr>\n",
       "    <tr>\n",
       "      <th>Total Cash From Financing Activities</th>\n",
       "      <td>-5.600000e+09</td>\n",
       "      <td>3.495500e+10</td>\n",
       "      <td>5.739000e+09</td>\n",
       "      <td>-1.172200e+10</td>\n",
       "    </tr>\n",
       "    <tr>\n",
       "      <th>Change To Operating Activities</th>\n",
       "      <td>-4.006000e+09</td>\n",
       "      <td>8.380000e+08</td>\n",
       "      <td>6.316000e+09</td>\n",
       "      <td>1.879000e+09</td>\n",
       "    </tr>\n",
       "    <tr>\n",
       "      <th>Issuance Of Stock</th>\n",
       "      <td>4.200000e+07</td>\n",
       "      <td>3.600000e+07</td>\n",
       "      <td>5.800000e+07</td>\n",
       "      <td>8.100000e+07</td>\n",
       "    </tr>\n",
       "    <tr>\n",
       "      <th>Net Income</th>\n",
       "      <td>-4.202000e+09</td>\n",
       "      <td>-1.187300e+10</td>\n",
       "      <td>-6.360000e+08</td>\n",
       "      <td>1.046000e+10</td>\n",
       "    </tr>\n",
       "    <tr>\n",
       "      <th>Change In Cash</th>\n",
       "      <td>2.690000e+08</td>\n",
       "      <td>-1.736000e+09</td>\n",
       "      <td>1.758000e+09</td>\n",
       "      <td>-1.074000e+09</td>\n",
       "    </tr>\n",
       "    <tr>\n",
       "      <th>Repurchase Of Stock</th>\n",
       "      <td>-6.600000e+07</td>\n",
       "      <td>-1.730000e+08</td>\n",
       "      <td>-2.899000e+09</td>\n",
       "      <td>-9.257000e+09</td>\n",
       "    </tr>\n",
       "    <tr>\n",
       "      <th>Effect Of Exchange Rate</th>\n",
       "      <td>-3.900000e+07</td>\n",
       "      <td>8.500000e+07</td>\n",
       "      <td>-5.000000e+06</td>\n",
       "      <td>-5.300000e+07</td>\n",
       "    </tr>\n",
       "    <tr>\n",
       "      <th>Total Cash From Operating Activities</th>\n",
       "      <td>-3.416000e+09</td>\n",
       "      <td>-1.841000e+10</td>\n",
       "      <td>-2.446000e+09</td>\n",
       "      <td>1.532200e+10</td>\n",
       "    </tr>\n",
       "    <tr>\n",
       "      <th>Depreciation</th>\n",
       "      <td>2.144000e+09</td>\n",
       "      <td>2.246000e+09</td>\n",
       "      <td>2.271000e+09</td>\n",
       "      <td>2.114000e+09</td>\n",
       "    </tr>\n",
       "    <tr>\n",
       "      <th>Other Cashflows From Investing Activities</th>\n",
       "      <td>5.000000e+06</td>\n",
       "      <td>-1.800000e+07</td>\n",
       "      <td>-1.300000e+07</td>\n",
       "      <td>-1.100000e+07</td>\n",
       "    </tr>\n",
       "    <tr>\n",
       "      <th>Change To Inventory</th>\n",
       "      <td>-1.127000e+09</td>\n",
       "      <td>-1.100200e+10</td>\n",
       "      <td>-1.239100e+10</td>\n",
       "      <td>5.680000e+08</td>\n",
       "    </tr>\n",
       "    <tr>\n",
       "      <th>Change To Account Receivables</th>\n",
       "      <td>-1.299000e+09</td>\n",
       "      <td>1.828000e+09</td>\n",
       "      <td>1.585000e+09</td>\n",
       "      <td>-2.621000e+09</td>\n",
       "    </tr>\n",
       "    <tr>\n",
       "      <th>Change To Netincome</th>\n",
       "      <td>5.619000e+09</td>\n",
       "      <td>8.552000e+09</td>\n",
       "      <td>5.480000e+08</td>\n",
       "      <td>4.640000e+08</td>\n",
       "    </tr>\n",
       "    <tr>\n",
       "      <th>Capital Expenditures</th>\n",
       "      <td>-9.800000e+08</td>\n",
       "      <td>-1.303000e+09</td>\n",
       "      <td>-1.834000e+09</td>\n",
       "      <td>-1.722000e+09</td>\n",
       "    </tr>\n",
       "    <tr>\n",
       "      <th>Dividends Paid</th>\n",
       "      <td>NaN</td>\n",
       "      <td>-1.158000e+09</td>\n",
       "      <td>-4.630000e+09</td>\n",
       "      <td>-3.946000e+09</td>\n",
       "    </tr>\n",
       "    <tr>\n",
       "      <th>Other Cashflows From Financing Activities</th>\n",
       "      <td>NaN</td>\n",
       "      <td>NaN</td>\n",
       "      <td>-8.000000e+06</td>\n",
       "      <td>3.500000e+07</td>\n",
       "    </tr>\n",
       "  </tbody>\n",
       "</table>\n",
       "</div>"
      ],
      "text/plain": [
       "                                             2021-12-31    2020-12-31  \\\n",
       "Investments                                9.776000e+09 -1.734100e+10   \n",
       "Change To Liabilities                     -1.278000e+09 -6.423000e+09   \n",
       "Total Cashflows From Investing Activities  9.324000e+09 -1.836600e+10   \n",
       "Net Borrowings                            -5.576000e+09  3.625000e+10   \n",
       "Total Cash From Financing Activities      -5.600000e+09  3.495500e+10   \n",
       "Change To Operating Activities            -4.006000e+09  8.380000e+08   \n",
       "Issuance Of Stock                          4.200000e+07  3.600000e+07   \n",
       "Net Income                                -4.202000e+09 -1.187300e+10   \n",
       "Change In Cash                             2.690000e+08 -1.736000e+09   \n",
       "Repurchase Of Stock                       -6.600000e+07 -1.730000e+08   \n",
       "Effect Of Exchange Rate                   -3.900000e+07  8.500000e+07   \n",
       "Total Cash From Operating Activities      -3.416000e+09 -1.841000e+10   \n",
       "Depreciation                               2.144000e+09  2.246000e+09   \n",
       "Other Cashflows From Investing Activities  5.000000e+06 -1.800000e+07   \n",
       "Change To Inventory                       -1.127000e+09 -1.100200e+10   \n",
       "Change To Account Receivables             -1.299000e+09  1.828000e+09   \n",
       "Change To Netincome                        5.619000e+09  8.552000e+09   \n",
       "Capital Expenditures                      -9.800000e+08 -1.303000e+09   \n",
       "Dividends Paid                                      NaN -1.158000e+09   \n",
       "Other Cashflows From Financing Activities           NaN           NaN   \n",
       "\n",
       "                                             2019-12-31    2018-12-31  \n",
       "Investments                                1.010000e+08  2.910000e+08  \n",
       "Change To Liabilities                      2.337000e+09  2.638000e+09  \n",
       "Total Cashflows From Investing Activities -1.530000e+09 -4.621000e+09  \n",
       "Net Borrowings                             1.321800e+10  1.365000e+09  \n",
       "Total Cash From Financing Activities       5.739000e+09 -1.172200e+10  \n",
       "Change To Operating Activities             6.316000e+09  1.879000e+09  \n",
       "Issuance Of Stock                          5.800000e+07  8.100000e+07  \n",
       "Net Income                                -6.360000e+08  1.046000e+10  \n",
       "Change In Cash                             1.758000e+09 -1.074000e+09  \n",
       "Repurchase Of Stock                       -2.899000e+09 -9.257000e+09  \n",
       "Effect Of Exchange Rate                   -5.000000e+06 -5.300000e+07  \n",
       "Total Cash From Operating Activities      -2.446000e+09  1.532200e+10  \n",
       "Depreciation                               2.271000e+09  2.114000e+09  \n",
       "Other Cashflows From Investing Activities -1.300000e+07 -1.100000e+07  \n",
       "Change To Inventory                       -1.239100e+10  5.680000e+08  \n",
       "Change To Account Receivables              1.585000e+09 -2.621000e+09  \n",
       "Change To Netincome                        5.480000e+08  4.640000e+08  \n",
       "Capital Expenditures                      -1.834000e+09 -1.722000e+09  \n",
       "Dividends Paid                            -4.630000e+09 -3.946000e+09  \n",
       "Other Cashflows From Financing Activities -8.000000e+06  3.500000e+07  "
      ]
     },
     "metadata": {},
     "output_type": "display_data"
    }
   ],
   "source": [
    "cashflow = pd.DataFrame(sec.cashflow)\n",
    "display(cashflow)\n",
    "# Repurchase Of Stock , Net Income, Dividends Paid "
   ]
  },
  {
   "cell_type": "code",
   "execution_count": 28,
   "metadata": {},
   "outputs": [
    {
     "data": {
      "text/html": [
       "<div>\n",
       "<style scoped>\n",
       "    .dataframe tbody tr th:only-of-type {\n",
       "        vertical-align: middle;\n",
       "    }\n",
       "\n",
       "    .dataframe tbody tr th {\n",
       "        vertical-align: top;\n",
       "    }\n",
       "\n",
       "    .dataframe thead th {\n",
       "        text-align: right;\n",
       "    }\n",
       "</style>\n",
       "<table border=\"1\" class=\"dataframe\">\n",
       "  <thead>\n",
       "    <tr style=\"text-align: right;\">\n",
       "      <th></th>\n",
       "      <th>2022-03-31</th>\n",
       "      <th>2021-12-31</th>\n",
       "      <th>2021-09-30</th>\n",
       "      <th>2021-06-30</th>\n",
       "    </tr>\n",
       "  </thead>\n",
       "  <tbody>\n",
       "    <tr>\n",
       "      <th>Investments</th>\n",
       "      <td>3.305000e+09</td>\n",
       "      <td>2.014000e+09</td>\n",
       "      <td>2.881000e+09</td>\n",
       "      <td>1.831000e+09</td>\n",
       "    </tr>\n",
       "    <tr>\n",
       "      <th>Change To Liabilities</th>\n",
       "      <td>-8.910000e+08</td>\n",
       "      <td>1.506000e+09</td>\n",
       "      <td>-1.000000e+09</td>\n",
       "      <td>-1.386000e+09</td>\n",
       "    </tr>\n",
       "    <tr>\n",
       "      <th>Total Cashflows From Investing Activities</th>\n",
       "      <td>2.965000e+09</td>\n",
       "      <td>1.935000e+09</td>\n",
       "      <td>2.966000e+09</td>\n",
       "      <td>1.659000e+09</td>\n",
       "    </tr>\n",
       "    <tr>\n",
       "      <th>Net Borrowings</th>\n",
       "      <td>-3.940000e+08</td>\n",
       "      <td>-4.349000e+09</td>\n",
       "      <td>-1.171000e+09</td>\n",
       "      <td>-2.300000e+07</td>\n",
       "    </tr>\n",
       "    <tr>\n",
       "      <th>Total Cash From Financing Activities</th>\n",
       "      <td>-3.960000e+08</td>\n",
       "      <td>-4.362000e+09</td>\n",
       "      <td>-1.171000e+09</td>\n",
       "      <td>-1.900000e+07</td>\n",
       "    </tr>\n",
       "    <tr>\n",
       "      <th>Change To Operating Activities</th>\n",
       "      <td>-6.700000e+08</td>\n",
       "      <td>-6.130000e+08</td>\n",
       "      <td>-6.180000e+08</td>\n",
       "      <td>-1.033000e+09</td>\n",
       "    </tr>\n",
       "    <tr>\n",
       "      <th>Issuance Of Stock</th>\n",
       "      <td>3.000000e+07</td>\n",
       "      <td>6.000000e+06</td>\n",
       "      <td>7.000000e+06</td>\n",
       "      <td>6.000000e+06</td>\n",
       "    </tr>\n",
       "    <tr>\n",
       "      <th>Net Income</th>\n",
       "      <td>-1.219000e+09</td>\n",
       "      <td>-4.143000e+09</td>\n",
       "      <td>-1.090000e+08</td>\n",
       "      <td>5.870000e+08</td>\n",
       "    </tr>\n",
       "    <tr>\n",
       "      <th>Change In Cash</th>\n",
       "      <td>-6.500000e+08</td>\n",
       "      <td>-1.716000e+09</td>\n",
       "      <td>1.513000e+09</td>\n",
       "      <td>1.161000e+09</td>\n",
       "    </tr>\n",
       "    <tr>\n",
       "      <th>Repurchase Of Stock</th>\n",
       "      <td>-3.200000e+07</td>\n",
       "      <td>-1.900000e+07</td>\n",
       "      <td>-7.000000e+06</td>\n",
       "      <td>-2.000000e+06</td>\n",
       "    </tr>\n",
       "    <tr>\n",
       "      <th>Effect Of Exchange Rate</th>\n",
       "      <td>-3.000000e+06</td>\n",
       "      <td>-5.000000e+06</td>\n",
       "      <td>-2.000000e+07</td>\n",
       "      <td>4.000000e+06</td>\n",
       "    </tr>\n",
       "    <tr>\n",
       "      <th>Total Cash From Operating Activities</th>\n",
       "      <td>-3.216000e+09</td>\n",
       "      <td>7.160000e+08</td>\n",
       "      <td>-2.620000e+08</td>\n",
       "      <td>-4.830000e+08</td>\n",
       "    </tr>\n",
       "    <tr>\n",
       "      <th>Depreciation</th>\n",
       "      <td>4.860000e+08</td>\n",
       "      <td>5.340000e+08</td>\n",
       "      <td>5.230000e+08</td>\n",
       "      <td>5.510000e+08</td>\n",
       "    </tr>\n",
       "    <tr>\n",
       "      <th>Other Cashflows From Investing Activities</th>\n",
       "      <td>1.000000e+06</td>\n",
       "      <td>-1.000000e+06</td>\n",
       "      <td>2.000000e+06</td>\n",
       "      <td>1.000000e+06</td>\n",
       "    </tr>\n",
       "    <tr>\n",
       "      <th>Change To Inventory</th>\n",
       "      <td>-1.203000e+09</td>\n",
       "      <td>-1.635000e+09</td>\n",
       "      <td>9.500000e+07</td>\n",
       "      <td>1.093000e+09</td>\n",
       "    </tr>\n",
       "    <tr>\n",
       "      <th>Change To Account Receivables</th>\n",
       "      <td>-1.190000e+08</td>\n",
       "      <td>9.910000e+08</td>\n",
       "      <td>-5.600000e+08</td>\n",
       "      <td>-5.460000e+08</td>\n",
       "    </tr>\n",
       "    <tr>\n",
       "      <th>Change To Netincome</th>\n",
       "      <td>8.030000e+08</td>\n",
       "      <td>4.354000e+09</td>\n",
       "      <td>2.660000e+08</td>\n",
       "      <td>3.470000e+08</td>\n",
       "    </tr>\n",
       "    <tr>\n",
       "      <th>Capital Expenditures</th>\n",
       "      <td>-3.490000e+08</td>\n",
       "      <td>-2.220000e+08</td>\n",
       "      <td>-2.450000e+08</td>\n",
       "      <td>-2.220000e+08</td>\n",
       "    </tr>\n",
       "  </tbody>\n",
       "</table>\n",
       "</div>"
      ],
      "text/plain": [
       "                                             2022-03-31    2021-12-31  \\\n",
       "Investments                                3.305000e+09  2.014000e+09   \n",
       "Change To Liabilities                     -8.910000e+08  1.506000e+09   \n",
       "Total Cashflows From Investing Activities  2.965000e+09  1.935000e+09   \n",
       "Net Borrowings                            -3.940000e+08 -4.349000e+09   \n",
       "Total Cash From Financing Activities      -3.960000e+08 -4.362000e+09   \n",
       "Change To Operating Activities            -6.700000e+08 -6.130000e+08   \n",
       "Issuance Of Stock                          3.000000e+07  6.000000e+06   \n",
       "Net Income                                -1.219000e+09 -4.143000e+09   \n",
       "Change In Cash                            -6.500000e+08 -1.716000e+09   \n",
       "Repurchase Of Stock                       -3.200000e+07 -1.900000e+07   \n",
       "Effect Of Exchange Rate                   -3.000000e+06 -5.000000e+06   \n",
       "Total Cash From Operating Activities      -3.216000e+09  7.160000e+08   \n",
       "Depreciation                               4.860000e+08  5.340000e+08   \n",
       "Other Cashflows From Investing Activities  1.000000e+06 -1.000000e+06   \n",
       "Change To Inventory                       -1.203000e+09 -1.635000e+09   \n",
       "Change To Account Receivables             -1.190000e+08  9.910000e+08   \n",
       "Change To Netincome                        8.030000e+08  4.354000e+09   \n",
       "Capital Expenditures                      -3.490000e+08 -2.220000e+08   \n",
       "\n",
       "                                             2021-09-30    2021-06-30  \n",
       "Investments                                2.881000e+09  1.831000e+09  \n",
       "Change To Liabilities                     -1.000000e+09 -1.386000e+09  \n",
       "Total Cashflows From Investing Activities  2.966000e+09  1.659000e+09  \n",
       "Net Borrowings                            -1.171000e+09 -2.300000e+07  \n",
       "Total Cash From Financing Activities      -1.171000e+09 -1.900000e+07  \n",
       "Change To Operating Activities            -6.180000e+08 -1.033000e+09  \n",
       "Issuance Of Stock                          7.000000e+06  6.000000e+06  \n",
       "Net Income                                -1.090000e+08  5.870000e+08  \n",
       "Change In Cash                             1.513000e+09  1.161000e+09  \n",
       "Repurchase Of Stock                       -7.000000e+06 -2.000000e+06  \n",
       "Effect Of Exchange Rate                   -2.000000e+07  4.000000e+06  \n",
       "Total Cash From Operating Activities      -2.620000e+08 -4.830000e+08  \n",
       "Depreciation                               5.230000e+08  5.510000e+08  \n",
       "Other Cashflows From Investing Activities  2.000000e+06  1.000000e+06  \n",
       "Change To Inventory                        9.500000e+07  1.093000e+09  \n",
       "Change To Account Receivables             -5.600000e+08 -5.460000e+08  \n",
       "Change To Netincome                        2.660000e+08  3.470000e+08  \n",
       "Capital Expenditures                      -2.450000e+08 -2.220000e+08  "
      ]
     },
     "metadata": {},
     "output_type": "display_data"
    }
   ],
   "source": [
    "quarterly_cashflow = pd.DataFrame(sec.quarterly_cashflow)\n",
    "display(quarterly_cashflow)"
   ]
  },
  {
   "cell_type": "code",
   "execution_count": 29,
   "metadata": {},
   "outputs": [
    {
     "data": {
      "text/html": [
       "<div>\n",
       "<style scoped>\n",
       "    .dataframe tbody tr th:only-of-type {\n",
       "        vertical-align: middle;\n",
       "    }\n",
       "\n",
       "    .dataframe tbody tr th {\n",
       "        vertical-align: top;\n",
       "    }\n",
       "\n",
       "    .dataframe thead th {\n",
       "        text-align: right;\n",
       "    }\n",
       "</style>\n",
       "<table border=\"1\" class=\"dataframe\">\n",
       "  <thead>\n",
       "    <tr style=\"text-align: right;\">\n",
       "      <th></th>\n",
       "      <th>0</th>\n",
       "      <th>1</th>\n",
       "    </tr>\n",
       "  </thead>\n",
       "  <tbody>\n",
       "    <tr>\n",
       "      <th>0</th>\n",
       "      <td>0.12%</td>\n",
       "      <td>% of Shares Held by All Insider</td>\n",
       "    </tr>\n",
       "    <tr>\n",
       "      <th>1</th>\n",
       "      <td>55.39%</td>\n",
       "      <td>% of Shares Held by Institutions</td>\n",
       "    </tr>\n",
       "    <tr>\n",
       "      <th>2</th>\n",
       "      <td>55.45%</td>\n",
       "      <td>% of Float Held by Institutions</td>\n",
       "    </tr>\n",
       "    <tr>\n",
       "      <th>3</th>\n",
       "      <td>2501</td>\n",
       "      <td>Number of Institutions Holding Shares</td>\n",
       "    </tr>\n",
       "  </tbody>\n",
       "</table>\n",
       "</div>"
      ],
      "text/plain": [
       "        0                                      1\n",
       "0   0.12%        % of Shares Held by All Insider\n",
       "1  55.39%       % of Shares Held by Institutions\n",
       "2  55.45%        % of Float Held by Institutions\n",
       "3    2501  Number of Institutions Holding Shares"
      ]
     },
     "metadata": {},
     "output_type": "display_data"
    }
   ],
   "source": [
    "major_holders = pd.DataFrame(sec.major_holders)\n",
    "display(major_holders)"
   ]
  },
  {
   "cell_type": "code",
   "execution_count": 30,
   "metadata": {},
   "outputs": [
    {
     "data": {
      "text/html": [
       "<div>\n",
       "<style scoped>\n",
       "    .dataframe tbody tr th:only-of-type {\n",
       "        vertical-align: middle;\n",
       "    }\n",
       "\n",
       "    .dataframe tbody tr th {\n",
       "        vertical-align: top;\n",
       "    }\n",
       "\n",
       "    .dataframe thead th {\n",
       "        text-align: right;\n",
       "    }\n",
       "</style>\n",
       "<table border=\"1\" class=\"dataframe\">\n",
       "  <thead>\n",
       "    <tr style=\"text-align: right;\">\n",
       "      <th></th>\n",
       "      <th>Holder</th>\n",
       "      <th>Shares</th>\n",
       "      <th>Date Reported</th>\n",
       "      <th>% Out</th>\n",
       "      <th>Value</th>\n",
       "    </tr>\n",
       "  </thead>\n",
       "  <tbody>\n",
       "    <tr>\n",
       "      <th>0</th>\n",
       "      <td>Newport Trust Co</td>\n",
       "      <td>43510241</td>\n",
       "      <td>2022-03-30</td>\n",
       "      <td>0.0735</td>\n",
       "      <td>8332211151</td>\n",
       "    </tr>\n",
       "    <tr>\n",
       "      <th>1</th>\n",
       "      <td>Vanguard Group, Inc. (The)</td>\n",
       "      <td>43355912</td>\n",
       "      <td>2022-03-30</td>\n",
       "      <td>0.0733</td>\n",
       "      <td>8302657148</td>\n",
       "    </tr>\n",
       "    <tr>\n",
       "      <th>2</th>\n",
       "      <td>Blackrock Inc.</td>\n",
       "      <td>31674287</td>\n",
       "      <td>2022-03-30</td>\n",
       "      <td>0.0535</td>\n",
       "      <td>6065625960</td>\n",
       "    </tr>\n",
       "    <tr>\n",
       "      <th>3</th>\n",
       "      <td>State Street Corporation</td>\n",
       "      <td>26602513</td>\n",
       "      <td>2022-03-30</td>\n",
       "      <td>0.0450</td>\n",
       "      <td>5094381239</td>\n",
       "    </tr>\n",
       "    <tr>\n",
       "      <th>4</th>\n",
       "      <td>FMR, LLC</td>\n",
       "      <td>15120154</td>\n",
       "      <td>2022-03-30</td>\n",
       "      <td>0.0256</td>\n",
       "      <td>2895509491</td>\n",
       "    </tr>\n",
       "    <tr>\n",
       "      <th>5</th>\n",
       "      <td>Loomis Sayles &amp; Company, LP</td>\n",
       "      <td>12741713</td>\n",
       "      <td>2022-03-30</td>\n",
       "      <td>0.0215</td>\n",
       "      <td>2440038039</td>\n",
       "    </tr>\n",
       "    <tr>\n",
       "      <th>6</th>\n",
       "      <td>Geode Capital Management, LLC</td>\n",
       "      <td>8862120</td>\n",
       "      <td>2022-03-30</td>\n",
       "      <td>0.0150</td>\n",
       "      <td>1697095980</td>\n",
       "    </tr>\n",
       "    <tr>\n",
       "      <th>7</th>\n",
       "      <td>Bank of America Corporation</td>\n",
       "      <td>6271171</td>\n",
       "      <td>2022-03-30</td>\n",
       "      <td>0.0106</td>\n",
       "      <td>1200929246</td>\n",
       "    </tr>\n",
       "    <tr>\n",
       "      <th>8</th>\n",
       "      <td>Morgan Stanley</td>\n",
       "      <td>6213784</td>\n",
       "      <td>2022-03-30</td>\n",
       "      <td>0.0105</td>\n",
       "      <td>1189939636</td>\n",
       "    </tr>\n",
       "    <tr>\n",
       "      <th>9</th>\n",
       "      <td>Northern Trust Corporation</td>\n",
       "      <td>4957841</td>\n",
       "      <td>2022-03-30</td>\n",
       "      <td>0.0084</td>\n",
       "      <td>949426551</td>\n",
       "    </tr>\n",
       "  </tbody>\n",
       "</table>\n",
       "</div>"
      ],
      "text/plain": [
       "                          Holder    Shares Date Reported   % Out       Value\n",
       "0               Newport Trust Co  43510241    2022-03-30  0.0735  8332211151\n",
       "1     Vanguard Group, Inc. (The)  43355912    2022-03-30  0.0733  8302657148\n",
       "2                 Blackrock Inc.  31674287    2022-03-30  0.0535  6065625960\n",
       "3       State Street Corporation  26602513    2022-03-30  0.0450  5094381239\n",
       "4                       FMR, LLC  15120154    2022-03-30  0.0256  2895509491\n",
       "5    Loomis Sayles & Company, LP  12741713    2022-03-30  0.0215  2440038039\n",
       "6  Geode Capital Management, LLC   8862120    2022-03-30  0.0150  1697095980\n",
       "7    Bank of America Corporation   6271171    2022-03-30  0.0106  1200929246\n",
       "8                 Morgan Stanley   6213784    2022-03-30  0.0105  1189939636\n",
       "9     Northern Trust Corporation   4957841    2022-03-30  0.0084   949426551"
      ]
     },
     "metadata": {},
     "output_type": "display_data"
    }
   ],
   "source": [
    "institutional_holders = pd.DataFrame(sec.institutional_holders)\n",
    "display(institutional_holders)"
   ]
  },
  {
   "cell_type": "code",
   "execution_count": 46,
   "metadata": {},
   "outputs": [
    {
     "data": {
      "application/vnd.plotly.v1+json": {
       "config": {
        "plotlyServerURL": "https://plot.ly"
       },
       "data": [
        {
         "hole": 0.5,
         "labels": [
          "Newport Trust Co",
          "Vanguard Group, Inc. (The)",
          "Blackrock Inc.",
          "State Street Corporation",
          "FMR, LLC",
          "Loomis Sayles & Company, LP",
          "Geode Capital Management, LLC",
          "Bank of America Corporation",
          "Morgan Stanley",
          "Northern Trust Corporation"
         ],
         "textposition": "inside",
         "type": "pie",
         "values": [
          0.0735,
          0.0733,
          0.0535,
          0.045,
          0.0256,
          0.0215,
          0.015,
          0.0106,
          0.0105,
          0.0084
         ]
        }
       ],
       "layout": {
        "template": {
         "data": {
          "bar": [
           {
            "error_x": {
             "color": "#2a3f5f"
            },
            "error_y": {
             "color": "#2a3f5f"
            },
            "marker": {
             "line": {
              "color": "#E5ECF6",
              "width": 0.5
             },
             "pattern": {
              "fillmode": "overlay",
              "size": 10,
              "solidity": 0.2
             }
            },
            "type": "bar"
           }
          ],
          "barpolar": [
           {
            "marker": {
             "line": {
              "color": "#E5ECF6",
              "width": 0.5
             },
             "pattern": {
              "fillmode": "overlay",
              "size": 10,
              "solidity": 0.2
             }
            },
            "type": "barpolar"
           }
          ],
          "carpet": [
           {
            "aaxis": {
             "endlinecolor": "#2a3f5f",
             "gridcolor": "white",
             "linecolor": "white",
             "minorgridcolor": "white",
             "startlinecolor": "#2a3f5f"
            },
            "baxis": {
             "endlinecolor": "#2a3f5f",
             "gridcolor": "white",
             "linecolor": "white",
             "minorgridcolor": "white",
             "startlinecolor": "#2a3f5f"
            },
            "type": "carpet"
           }
          ],
          "choropleth": [
           {
            "colorbar": {
             "outlinewidth": 0,
             "ticks": ""
            },
            "type": "choropleth"
           }
          ],
          "contour": [
           {
            "colorbar": {
             "outlinewidth": 0,
             "ticks": ""
            },
            "colorscale": [
             [
              0,
              "#0d0887"
             ],
             [
              0.1111111111111111,
              "#46039f"
             ],
             [
              0.2222222222222222,
              "#7201a8"
             ],
             [
              0.3333333333333333,
              "#9c179e"
             ],
             [
              0.4444444444444444,
              "#bd3786"
             ],
             [
              0.5555555555555556,
              "#d8576b"
             ],
             [
              0.6666666666666666,
              "#ed7953"
             ],
             [
              0.7777777777777778,
              "#fb9f3a"
             ],
             [
              0.8888888888888888,
              "#fdca26"
             ],
             [
              1,
              "#f0f921"
             ]
            ],
            "type": "contour"
           }
          ],
          "contourcarpet": [
           {
            "colorbar": {
             "outlinewidth": 0,
             "ticks": ""
            },
            "type": "contourcarpet"
           }
          ],
          "heatmap": [
           {
            "colorbar": {
             "outlinewidth": 0,
             "ticks": ""
            },
            "colorscale": [
             [
              0,
              "#0d0887"
             ],
             [
              0.1111111111111111,
              "#46039f"
             ],
             [
              0.2222222222222222,
              "#7201a8"
             ],
             [
              0.3333333333333333,
              "#9c179e"
             ],
             [
              0.4444444444444444,
              "#bd3786"
             ],
             [
              0.5555555555555556,
              "#d8576b"
             ],
             [
              0.6666666666666666,
              "#ed7953"
             ],
             [
              0.7777777777777778,
              "#fb9f3a"
             ],
             [
              0.8888888888888888,
              "#fdca26"
             ],
             [
              1,
              "#f0f921"
             ]
            ],
            "type": "heatmap"
           }
          ],
          "heatmapgl": [
           {
            "colorbar": {
             "outlinewidth": 0,
             "ticks": ""
            },
            "colorscale": [
             [
              0,
              "#0d0887"
             ],
             [
              0.1111111111111111,
              "#46039f"
             ],
             [
              0.2222222222222222,
              "#7201a8"
             ],
             [
              0.3333333333333333,
              "#9c179e"
             ],
             [
              0.4444444444444444,
              "#bd3786"
             ],
             [
              0.5555555555555556,
              "#d8576b"
             ],
             [
              0.6666666666666666,
              "#ed7953"
             ],
             [
              0.7777777777777778,
              "#fb9f3a"
             ],
             [
              0.8888888888888888,
              "#fdca26"
             ],
             [
              1,
              "#f0f921"
             ]
            ],
            "type": "heatmapgl"
           }
          ],
          "histogram": [
           {
            "marker": {
             "pattern": {
              "fillmode": "overlay",
              "size": 10,
              "solidity": 0.2
             }
            },
            "type": "histogram"
           }
          ],
          "histogram2d": [
           {
            "colorbar": {
             "outlinewidth": 0,
             "ticks": ""
            },
            "colorscale": [
             [
              0,
              "#0d0887"
             ],
             [
              0.1111111111111111,
              "#46039f"
             ],
             [
              0.2222222222222222,
              "#7201a8"
             ],
             [
              0.3333333333333333,
              "#9c179e"
             ],
             [
              0.4444444444444444,
              "#bd3786"
             ],
             [
              0.5555555555555556,
              "#d8576b"
             ],
             [
              0.6666666666666666,
              "#ed7953"
             ],
             [
              0.7777777777777778,
              "#fb9f3a"
             ],
             [
              0.8888888888888888,
              "#fdca26"
             ],
             [
              1,
              "#f0f921"
             ]
            ],
            "type": "histogram2d"
           }
          ],
          "histogram2dcontour": [
           {
            "colorbar": {
             "outlinewidth": 0,
             "ticks": ""
            },
            "colorscale": [
             [
              0,
              "#0d0887"
             ],
             [
              0.1111111111111111,
              "#46039f"
             ],
             [
              0.2222222222222222,
              "#7201a8"
             ],
             [
              0.3333333333333333,
              "#9c179e"
             ],
             [
              0.4444444444444444,
              "#bd3786"
             ],
             [
              0.5555555555555556,
              "#d8576b"
             ],
             [
              0.6666666666666666,
              "#ed7953"
             ],
             [
              0.7777777777777778,
              "#fb9f3a"
             ],
             [
              0.8888888888888888,
              "#fdca26"
             ],
             [
              1,
              "#f0f921"
             ]
            ],
            "type": "histogram2dcontour"
           }
          ],
          "mesh3d": [
           {
            "colorbar": {
             "outlinewidth": 0,
             "ticks": ""
            },
            "type": "mesh3d"
           }
          ],
          "parcoords": [
           {
            "line": {
             "colorbar": {
              "outlinewidth": 0,
              "ticks": ""
             }
            },
            "type": "parcoords"
           }
          ],
          "pie": [
           {
            "automargin": true,
            "type": "pie"
           }
          ],
          "scatter": [
           {
            "fillpattern": {
             "fillmode": "overlay",
             "size": 10,
             "solidity": 0.2
            },
            "type": "scatter"
           }
          ],
          "scatter3d": [
           {
            "line": {
             "colorbar": {
              "outlinewidth": 0,
              "ticks": ""
             }
            },
            "marker": {
             "colorbar": {
              "outlinewidth": 0,
              "ticks": ""
             }
            },
            "type": "scatter3d"
           }
          ],
          "scattercarpet": [
           {
            "marker": {
             "colorbar": {
              "outlinewidth": 0,
              "ticks": ""
             }
            },
            "type": "scattercarpet"
           }
          ],
          "scattergeo": [
           {
            "marker": {
             "colorbar": {
              "outlinewidth": 0,
              "ticks": ""
             }
            },
            "type": "scattergeo"
           }
          ],
          "scattergl": [
           {
            "marker": {
             "colorbar": {
              "outlinewidth": 0,
              "ticks": ""
             }
            },
            "type": "scattergl"
           }
          ],
          "scattermapbox": [
           {
            "marker": {
             "colorbar": {
              "outlinewidth": 0,
              "ticks": ""
             }
            },
            "type": "scattermapbox"
           }
          ],
          "scatterpolar": [
           {
            "marker": {
             "colorbar": {
              "outlinewidth": 0,
              "ticks": ""
             }
            },
            "type": "scatterpolar"
           }
          ],
          "scatterpolargl": [
           {
            "marker": {
             "colorbar": {
              "outlinewidth": 0,
              "ticks": ""
             }
            },
            "type": "scatterpolargl"
           }
          ],
          "scatterternary": [
           {
            "marker": {
             "colorbar": {
              "outlinewidth": 0,
              "ticks": ""
             }
            },
            "type": "scatterternary"
           }
          ],
          "surface": [
           {
            "colorbar": {
             "outlinewidth": 0,
             "ticks": ""
            },
            "colorscale": [
             [
              0,
              "#0d0887"
             ],
             [
              0.1111111111111111,
              "#46039f"
             ],
             [
              0.2222222222222222,
              "#7201a8"
             ],
             [
              0.3333333333333333,
              "#9c179e"
             ],
             [
              0.4444444444444444,
              "#bd3786"
             ],
             [
              0.5555555555555556,
              "#d8576b"
             ],
             [
              0.6666666666666666,
              "#ed7953"
             ],
             [
              0.7777777777777778,
              "#fb9f3a"
             ],
             [
              0.8888888888888888,
              "#fdca26"
             ],
             [
              1,
              "#f0f921"
             ]
            ],
            "type": "surface"
           }
          ],
          "table": [
           {
            "cells": {
             "fill": {
              "color": "#EBF0F8"
             },
             "line": {
              "color": "white"
             }
            },
            "header": {
             "fill": {
              "color": "#C8D4E3"
             },
             "line": {
              "color": "white"
             }
            },
            "type": "table"
           }
          ]
         },
         "layout": {
          "annotationdefaults": {
           "arrowcolor": "#2a3f5f",
           "arrowhead": 0,
           "arrowwidth": 1
          },
          "autotypenumbers": "strict",
          "coloraxis": {
           "colorbar": {
            "outlinewidth": 0,
            "ticks": ""
           }
          },
          "colorscale": {
           "diverging": [
            [
             0,
             "#8e0152"
            ],
            [
             0.1,
             "#c51b7d"
            ],
            [
             0.2,
             "#de77ae"
            ],
            [
             0.3,
             "#f1b6da"
            ],
            [
             0.4,
             "#fde0ef"
            ],
            [
             0.5,
             "#f7f7f7"
            ],
            [
             0.6,
             "#e6f5d0"
            ],
            [
             0.7,
             "#b8e186"
            ],
            [
             0.8,
             "#7fbc41"
            ],
            [
             0.9,
             "#4d9221"
            ],
            [
             1,
             "#276419"
            ]
           ],
           "sequential": [
            [
             0,
             "#0d0887"
            ],
            [
             0.1111111111111111,
             "#46039f"
            ],
            [
             0.2222222222222222,
             "#7201a8"
            ],
            [
             0.3333333333333333,
             "#9c179e"
            ],
            [
             0.4444444444444444,
             "#bd3786"
            ],
            [
             0.5555555555555556,
             "#d8576b"
            ],
            [
             0.6666666666666666,
             "#ed7953"
            ],
            [
             0.7777777777777778,
             "#fb9f3a"
            ],
            [
             0.8888888888888888,
             "#fdca26"
            ],
            [
             1,
             "#f0f921"
            ]
           ],
           "sequentialminus": [
            [
             0,
             "#0d0887"
            ],
            [
             0.1111111111111111,
             "#46039f"
            ],
            [
             0.2222222222222222,
             "#7201a8"
            ],
            [
             0.3333333333333333,
             "#9c179e"
            ],
            [
             0.4444444444444444,
             "#bd3786"
            ],
            [
             0.5555555555555556,
             "#d8576b"
            ],
            [
             0.6666666666666666,
             "#ed7953"
            ],
            [
             0.7777777777777778,
             "#fb9f3a"
            ],
            [
             0.8888888888888888,
             "#fdca26"
            ],
            [
             1,
             "#f0f921"
            ]
           ]
          },
          "colorway": [
           "#636efa",
           "#EF553B",
           "#00cc96",
           "#ab63fa",
           "#FFA15A",
           "#19d3f3",
           "#FF6692",
           "#B6E880",
           "#FF97FF",
           "#FECB52"
          ],
          "font": {
           "color": "#2a3f5f"
          },
          "geo": {
           "bgcolor": "white",
           "lakecolor": "white",
           "landcolor": "#E5ECF6",
           "showlakes": true,
           "showland": true,
           "subunitcolor": "white"
          },
          "hoverlabel": {
           "align": "left"
          },
          "hovermode": "closest",
          "mapbox": {
           "style": "light"
          },
          "paper_bgcolor": "white",
          "plot_bgcolor": "#E5ECF6",
          "polar": {
           "angularaxis": {
            "gridcolor": "white",
            "linecolor": "white",
            "ticks": ""
           },
           "bgcolor": "#E5ECF6",
           "radialaxis": {
            "gridcolor": "white",
            "linecolor": "white",
            "ticks": ""
           }
          },
          "scene": {
           "xaxis": {
            "backgroundcolor": "#E5ECF6",
            "gridcolor": "white",
            "gridwidth": 2,
            "linecolor": "white",
            "showbackground": true,
            "ticks": "",
            "zerolinecolor": "white"
           },
           "yaxis": {
            "backgroundcolor": "#E5ECF6",
            "gridcolor": "white",
            "gridwidth": 2,
            "linecolor": "white",
            "showbackground": true,
            "ticks": "",
            "zerolinecolor": "white"
           },
           "zaxis": {
            "backgroundcolor": "#E5ECF6",
            "gridcolor": "white",
            "gridwidth": 2,
            "linecolor": "white",
            "showbackground": true,
            "ticks": "",
            "zerolinecolor": "white"
           }
          },
          "shapedefaults": {
           "line": {
            "color": "#2a3f5f"
           }
          },
          "ternary": {
           "aaxis": {
            "gridcolor": "white",
            "linecolor": "white",
            "ticks": ""
           },
           "baxis": {
            "gridcolor": "white",
            "linecolor": "white",
            "ticks": ""
           },
           "bgcolor": "#E5ECF6",
           "caxis": {
            "gridcolor": "white",
            "linecolor": "white",
            "ticks": ""
           }
          },
          "title": {
           "x": 0.05
          },
          "xaxis": {
           "automargin": true,
           "gridcolor": "white",
           "linecolor": "white",
           "ticks": "",
           "title": {
            "standoff": 15
           },
           "zerolinecolor": "white",
           "zerolinewidth": 2
          },
          "yaxis": {
           "automargin": true,
           "gridcolor": "white",
           "linecolor": "white",
           "ticks": "",
           "title": {
            "standoff": 15
           },
           "zerolinecolor": "white",
           "zerolinewidth": 2
          }
         }
        },
        "title": {
         "text": "Institutional holders"
        },
        "uniformtext": {
         "minsize": 12,
         "mode": "hide"
        }
       }
      }
     },
     "metadata": {},
     "output_type": "display_data"
    }
   ],
   "source": [
    "trace1 = go.Pie(\n",
    "    values=institutional_holders['% Out'],\n",
    "    labels=institutional_holders['Holder'], \n",
    "    hole=0.5 )\n",
    "\n",
    "data = [trace1]\n",
    "layout = dict(\n",
    "    title='Institutional holders',\n",
    "    uniformtext_minsize=12,\n",
    "    uniformtext_mode='hide'\n",
    "    )\n",
    "fig = go.Figure(data=data)\n",
    "fig.update_traces(textposition='inside')\n",
    "fig.update_layout(layout)\n",
    "  \n",
    "fig.show()"
   ]
  },
  {
   "cell_type": "code",
   "execution_count": 31,
   "metadata": {},
   "outputs": [
    {
     "data": {
      "text/html": [
       "<div>\n",
       "<style scoped>\n",
       "    .dataframe tbody tr th:only-of-type {\n",
       "        vertical-align: middle;\n",
       "    }\n",
       "\n",
       "    .dataframe tbody tr th {\n",
       "        vertical-align: top;\n",
       "    }\n",
       "\n",
       "    .dataframe thead th {\n",
       "        text-align: right;\n",
       "    }\n",
       "</style>\n",
       "<table border=\"1\" class=\"dataframe\">\n",
       "  <thead>\n",
       "    <tr style=\"text-align: right;\">\n",
       "      <th></th>\n",
       "      <th>Dividends</th>\n",
       "    </tr>\n",
       "    <tr>\n",
       "      <th>Date</th>\n",
       "      <th></th>\n",
       "    </tr>\n",
       "  </thead>\n",
       "  <tbody>\n",
       "    <tr>\n",
       "      <th>1962-02-05</th>\n",
       "      <td>0.00823</td>\n",
       "    </tr>\n",
       "    <tr>\n",
       "      <th>1962-05-08</th>\n",
       "      <td>0.00823</td>\n",
       "    </tr>\n",
       "    <tr>\n",
       "      <th>1962-08-13</th>\n",
       "      <td>0.00823</td>\n",
       "    </tr>\n",
       "    <tr>\n",
       "      <th>1962-11-05</th>\n",
       "      <td>0.00823</td>\n",
       "    </tr>\n",
       "    <tr>\n",
       "      <th>1963-02-06</th>\n",
       "      <td>0.00823</td>\n",
       "    </tr>\n",
       "    <tr>\n",
       "      <th>...</th>\n",
       "      <td>...</td>\n",
       "    </tr>\n",
       "    <tr>\n",
       "      <th>2019-02-07</th>\n",
       "      <td>2.05500</td>\n",
       "    </tr>\n",
       "    <tr>\n",
       "      <th>2019-05-09</th>\n",
       "      <td>2.05500</td>\n",
       "    </tr>\n",
       "    <tr>\n",
       "      <th>2019-08-08</th>\n",
       "      <td>2.05500</td>\n",
       "    </tr>\n",
       "    <tr>\n",
       "      <th>2019-11-07</th>\n",
       "      <td>2.05500</td>\n",
       "    </tr>\n",
       "    <tr>\n",
       "      <th>2020-02-13</th>\n",
       "      <td>2.05500</td>\n",
       "    </tr>\n",
       "  </tbody>\n",
       "</table>\n",
       "<p>228 rows × 1 columns</p>\n",
       "</div>"
      ],
      "text/plain": [
       "            Dividends\n",
       "Date                 \n",
       "1962-02-05    0.00823\n",
       "1962-05-08    0.00823\n",
       "1962-08-13    0.00823\n",
       "1962-11-05    0.00823\n",
       "1963-02-06    0.00823\n",
       "...               ...\n",
       "2019-02-07    2.05500\n",
       "2019-05-09    2.05500\n",
       "2019-08-08    2.05500\n",
       "2019-11-07    2.05500\n",
       "2020-02-13    2.05500\n",
       "\n",
       "[228 rows x 1 columns]"
      ]
     },
     "metadata": {},
     "output_type": "display_data"
    }
   ],
   "source": [
    "dividends = pd.DataFrame(sec.dividends)\n",
    "display(dividends)"
   ]
  },
  {
   "cell_type": "code",
   "execution_count": 32,
   "metadata": {},
   "outputs": [
    {
     "data": {
      "text/html": [
       "<div>\n",
       "<style scoped>\n",
       "    .dataframe tbody tr th:only-of-type {\n",
       "        vertical-align: middle;\n",
       "    }\n",
       "\n",
       "    .dataframe tbody tr th {\n",
       "        vertical-align: top;\n",
       "    }\n",
       "\n",
       "    .dataframe thead th {\n",
       "        text-align: right;\n",
       "    }\n",
       "</style>\n",
       "<table border=\"1\" class=\"dataframe\">\n",
       "  <thead>\n",
       "    <tr style=\"text-align: right;\">\n",
       "      <th></th>\n",
       "      <th>Stock Splits</th>\n",
       "    </tr>\n",
       "    <tr>\n",
       "      <th>Date</th>\n",
       "      <th></th>\n",
       "    </tr>\n",
       "  </thead>\n",
       "  <tbody>\n",
       "    <tr>\n",
       "      <th>1966-05-18</th>\n",
       "      <td>2.0</td>\n",
       "    </tr>\n",
       "    <tr>\n",
       "      <th>1977-09-13</th>\n",
       "      <td>2.0</td>\n",
       "    </tr>\n",
       "    <tr>\n",
       "      <th>1979-04-16</th>\n",
       "      <td>1.5</td>\n",
       "    </tr>\n",
       "    <tr>\n",
       "      <th>1980-04-15</th>\n",
       "      <td>1.5</td>\n",
       "    </tr>\n",
       "    <tr>\n",
       "      <th>1985-06-10</th>\n",
       "      <td>1.5</td>\n",
       "    </tr>\n",
       "    <tr>\n",
       "      <th>1989-06-12</th>\n",
       "      <td>1.5</td>\n",
       "    </tr>\n",
       "    <tr>\n",
       "      <th>1990-06-11</th>\n",
       "      <td>1.5</td>\n",
       "    </tr>\n",
       "    <tr>\n",
       "      <th>1997-06-09</th>\n",
       "      <td>2.0</td>\n",
       "    </tr>\n",
       "  </tbody>\n",
       "</table>\n",
       "</div>"
      ],
      "text/plain": [
       "            Stock Splits\n",
       "Date                    \n",
       "1966-05-18           2.0\n",
       "1977-09-13           2.0\n",
       "1979-04-16           1.5\n",
       "1980-04-15           1.5\n",
       "1985-06-10           1.5\n",
       "1989-06-12           1.5\n",
       "1990-06-11           1.5\n",
       "1997-06-09           2.0"
      ]
     },
     "metadata": {},
     "output_type": "display_data"
    }
   ],
   "source": [
    "splits = pd.DataFrame(sec.splits)\n",
    "display(splits)"
   ]
  },
  {
   "cell_type": "markdown",
   "metadata": {},
   "source": [
    "### Dėl actions, svarstytina"
   ]
  },
  {
   "cell_type": "code",
   "execution_count": 33,
   "metadata": {},
   "outputs": [
    {
     "data": {
      "text/html": [
       "<div>\n",
       "<style scoped>\n",
       "    .dataframe tbody tr th:only-of-type {\n",
       "        vertical-align: middle;\n",
       "    }\n",
       "\n",
       "    .dataframe tbody tr th {\n",
       "        vertical-align: top;\n",
       "    }\n",
       "\n",
       "    .dataframe thead th {\n",
       "        text-align: right;\n",
       "    }\n",
       "</style>\n",
       "<table border=\"1\" class=\"dataframe\">\n",
       "  <thead>\n",
       "    <tr style=\"text-align: right;\">\n",
       "      <th></th>\n",
       "      <th>Dividends</th>\n",
       "      <th>Stock Splits</th>\n",
       "    </tr>\n",
       "    <tr>\n",
       "      <th>Date</th>\n",
       "      <th></th>\n",
       "      <th></th>\n",
       "    </tr>\n",
       "  </thead>\n",
       "  <tbody>\n",
       "    <tr>\n",
       "      <th>1962-02-05</th>\n",
       "      <td>0.00823</td>\n",
       "      <td>0.0</td>\n",
       "    </tr>\n",
       "    <tr>\n",
       "      <th>1962-05-08</th>\n",
       "      <td>0.00823</td>\n",
       "      <td>0.0</td>\n",
       "    </tr>\n",
       "    <tr>\n",
       "      <th>1962-08-13</th>\n",
       "      <td>0.00823</td>\n",
       "      <td>0.0</td>\n",
       "    </tr>\n",
       "    <tr>\n",
       "      <th>1962-11-05</th>\n",
       "      <td>0.00823</td>\n",
       "      <td>0.0</td>\n",
       "    </tr>\n",
       "    <tr>\n",
       "      <th>1963-02-06</th>\n",
       "      <td>0.00823</td>\n",
       "      <td>0.0</td>\n",
       "    </tr>\n",
       "    <tr>\n",
       "      <th>...</th>\n",
       "      <td>...</td>\n",
       "      <td>...</td>\n",
       "    </tr>\n",
       "    <tr>\n",
       "      <th>2019-02-07</th>\n",
       "      <td>2.05500</td>\n",
       "      <td>0.0</td>\n",
       "    </tr>\n",
       "    <tr>\n",
       "      <th>2019-05-09</th>\n",
       "      <td>2.05500</td>\n",
       "      <td>0.0</td>\n",
       "    </tr>\n",
       "    <tr>\n",
       "      <th>2019-08-08</th>\n",
       "      <td>2.05500</td>\n",
       "      <td>0.0</td>\n",
       "    </tr>\n",
       "    <tr>\n",
       "      <th>2019-11-07</th>\n",
       "      <td>2.05500</td>\n",
       "      <td>0.0</td>\n",
       "    </tr>\n",
       "    <tr>\n",
       "      <th>2020-02-13</th>\n",
       "      <td>2.05500</td>\n",
       "      <td>0.0</td>\n",
       "    </tr>\n",
       "  </tbody>\n",
       "</table>\n",
       "<p>236 rows × 2 columns</p>\n",
       "</div>"
      ],
      "text/plain": [
       "            Dividends  Stock Splits\n",
       "Date                               \n",
       "1962-02-05    0.00823           0.0\n",
       "1962-05-08    0.00823           0.0\n",
       "1962-08-13    0.00823           0.0\n",
       "1962-11-05    0.00823           0.0\n",
       "1963-02-06    0.00823           0.0\n",
       "...               ...           ...\n",
       "2019-02-07    2.05500           0.0\n",
       "2019-05-09    2.05500           0.0\n",
       "2019-08-08    2.05500           0.0\n",
       "2019-11-07    2.05500           0.0\n",
       "2020-02-13    2.05500           0.0\n",
       "\n",
       "[236 rows x 2 columns]"
      ]
     },
     "metadata": {},
     "output_type": "display_data"
    }
   ],
   "source": [
    "actions = pd.DataFrame(sec.actions)\n",
    "display(actions)"
   ]
  },
  {
   "cell_type": "code",
   "execution_count": null,
   "metadata": {},
   "outputs": [],
   "source": []
  }
 ],
 "metadata": {
  "kernelspec": {
   "display_name": "Python 3.10.4 64-bit",
   "language": "python",
   "name": "python3"
  },
  "language_info": {
   "codemirror_mode": {
    "name": "ipython",
    "version": 3
   },
   "file_extension": ".py",
   "mimetype": "text/x-python",
   "name": "python",
   "nbconvert_exporter": "python",
   "pygments_lexer": "ipython3",
   "version": "3.10.4"
  },
  "orig_nbformat": 4,
  "vscode": {
   "interpreter": {
    "hash": "139e3b4f5b9f6dee72f7384b5b24e0c69f7a714e2e1a9e30130b33a165115932"
   }
  }
 },
 "nbformat": 4,
 "nbformat_minor": 2
}
