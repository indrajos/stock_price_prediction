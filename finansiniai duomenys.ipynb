{
 "cells": [
  {
   "cell_type": "code",
   "execution_count": 1,
   "metadata": {},
   "outputs": [],
   "source": [
    "import yfinance as yf\n",
    "import pandas as pd\n",
    "\n",
    "sec = yf.Ticker(\"BA\")"
   ]
  },
  {
   "cell_type": "markdown",
   "metadata": {},
   "source": [
    "### Aš įsivaizduočiau, kad būtų labai gerai iš šių duomenų rinkinių pasidaryti daug diagramų.\n",
    "Su ipyvizzu gal tik kelios pagrindinės, kur eitų judesio padaryt, kad aiškiai matytųsi tas pokytis. Visa kita - kuo informatyviau su plotly"
   ]
  },
  {
   "cell_type": "code",
   "execution_count": 2,
   "metadata": {},
   "outputs": [
    {
     "name": "stdout",
     "output_type": "stream",
     "text": [
      "                                  Firm    To Grade From Grade Action\n",
      "Date                                                                \n",
      "2012-01-18 13:58:00   Societe Generale        Sell              down\n",
      "2012-04-11 06:22:00      Deutsche Bank         Buy              main\n",
      "2012-04-25 17:15:00        DA Davidson     Neutral              main\n",
      "2012-04-26 07:11:00     Morgan Stanley  Overweight              main\n",
      "2012-05-21 07:51:00     Argus Research         Buy                up\n",
      "...                                ...         ...        ...    ...\n",
      "2022-04-28 12:24:27        Susquehanna    Positive              main\n",
      "2022-04-28 12:26:54          JP Morgan  Overweight              main\n",
      "2022-04-28 12:30:21        RBC Capital  Outperform              main\n",
      "2022-05-17 13:16:55  B of A Securities     Neutral              main\n",
      "2022-05-20 14:01:18        Susquehanna    Positive              main\n",
      "\n",
      "[232 rows x 4 columns]\n"
     ]
    }
   ],
   "source": [
    "# Iš šios galima išspausti kažką? paskutinio mėn pvz, ar paskutinų dienų duomenis pavaizduoti\n",
    "recommendations = pd.DataFrame(sec.recommendations)\n",
    "print(recommendations)"
   ]
  },
  {
   "cell_type": "code",
   "execution_count": 3,
   "metadata": {},
   "outputs": [
    {
     "name": "stdout",
     "output_type": "stream",
     "text": [
      "           Revenue     Earnings\n",
      "Year                           \n",
      "2018  101127000000  10460000000\n",
      "2019   76559000000   -636000000\n",
      "2020   58158000000 -11873000000\n",
      "2021   62286000000  -4202000000\n"
     ]
    }
   ],
   "source": [
    "# Stulpelinė\n",
    "earnings = pd.DataFrame(sec.earnings)\n",
    "print(earnings)"
   ]
  },
  {
   "cell_type": "code",
   "execution_count": 4,
   "metadata": {},
   "outputs": [
    {
     "name": "stdout",
     "output_type": "stream",
     "text": [
      "             Revenue    Earnings\n",
      "Quarter                         \n",
      "2Q2021   16998000000   587000000\n",
      "3Q2021   15278000000  -109000000\n",
      "4Q2021   14793000000 -4143000000\n",
      "1Q2022   13991000000 -1219000000\n"
     ]
    }
   ],
   "source": [
    "# Stulpelinė\n",
    "quarterly_earnings = pd.DataFrame(sec.quarterly_earnings)\n",
    "print(quarterly_earnings)"
   ]
  },
  {
   "cell_type": "markdown",
   "metadata": {},
   "source": [
    "### Iš abiejų financials ataskaitų atsirinkti tik pagrindinius duomenis ir juos atvaizduoti. "
   ]
  },
  {
   "cell_type": "code",
   "execution_count": 5,
   "metadata": {},
   "outputs": [
    {
     "name": "stdout",
     "output_type": "stream",
     "text": [
      "DatetimeIndex(['2021-12-31', '2020-12-31', '2019-12-31', '2018-12-31'], dtype='datetime64[ns]', name='', freq=None)\n",
      "                                           2021-12-31     2020-12-31  \\\n",
      "Research Development                     2249000000.0   2476000000.0   \n",
      "Effect Of Accounting Charges                     None           None   \n",
      "Income Before Tax                       -5033000000.0 -14476000000.0   \n",
      "Minority Interest                         153000000.0    241000000.0   \n",
      "Net Income                              -4202000000.0 -11873000000.0   \n",
      "Selling General Administrative           3628000000.0   4493000000.0   \n",
      "Gross Profit                             5190000000.0  -1198000000.0   \n",
      "Ebit                                     -687000000.0  -8167000000.0   \n",
      "Operating Income                         -687000000.0  -8167000000.0   \n",
      "Other Operating Expenses                         None           None   \n",
      "Interest Expense                        -2682000000.0  -2156000000.0   \n",
      "Extraordinary Items                              None           None   \n",
      "Non Recurring                                    None           None   \n",
      "Other Items                                      None           None   \n",
      "Income Tax Expense                       -743000000.0  -2535000000.0   \n",
      "Total Revenue                           62286000000.0  58158000000.0   \n",
      "Total Operating Expenses                62973000000.0  66325000000.0   \n",
      "Cost Of Revenue                         57096000000.0  59356000000.0   \n",
      "Total Other Income Expense Net          -4346000000.0  -6309000000.0   \n",
      "Discontinued Operations                          None           None   \n",
      "Net Income From Continuing Ops          -4290000000.0 -11941000000.0   \n",
      "Net Income Applicable To Common Shares  -4202000000.0 -11873000000.0   \n",
      "\n",
      "                                           2019-12-31      2018-12-31  \n",
      "Research Development                     3219000000.0    3269000000.0  \n",
      "Effect Of Accounting Charges                     None            None  \n",
      "Income Before Tax                       -2259000000.0   11604000000.0  \n",
      "Minority Interest                         317000000.0      71000000.0  \n",
      "Net Income                               -636000000.0   10460000000.0  \n",
      "Selling General Administrative           3642000000.0    4525000000.0  \n",
      "Gross Profit                             4759000000.0   19637000000.0  \n",
      "Ebit                                    -2102000000.0   11843000000.0  \n",
      "Operating Income                        -2102000000.0   11843000000.0  \n",
      "Other Operating Expenses                         None            None  \n",
      "Interest Expense                         -722000000.0    -475000000.0  \n",
      "Extraordinary Items                              None            None  \n",
      "Non Recurring                                    None            None  \n",
      "Other Items                                      None            None  \n",
      "Income Tax Expense                      -1623000000.0    1144000000.0  \n",
      "Total Revenue                           76559000000.0  101127000000.0  \n",
      "Total Operating Expenses                78661000000.0   89284000000.0  \n",
      "Cost Of Revenue                         71800000000.0   81490000000.0  \n",
      "Total Other Income Expense Net           -157000000.0    -239000000.0  \n",
      "Discontinued Operations                          None            None  \n",
      "Net Income From Continuing Ops           -636000000.0   10460000000.0  \n",
      "Net Income Applicable To Common Shares   -636000000.0   10460000000.0  \n"
     ]
    }
   ],
   "source": [
    "\n",
    "financials = pd.DataFrame(sec.financials)\n",
    "print(financials.columns)\n",
    "print(financials)"
   ]
  },
  {
   "cell_type": "code",
   "execution_count": 6,
   "metadata": {},
   "outputs": [
    {
     "name": "stdout",
     "output_type": "stream",
     "text": [
      "DatetimeIndex(['2022-03-31', '2021-12-31', '2021-09-30', '2021-06-30'], dtype='datetime64[ns]', name='', freq=None)\n",
      "                                           2022-03-31     2021-12-31  \\\n",
      "Research Development                      633000000.0    678000000.0   \n",
      "Effect Of Accounting Charges                     None           None   \n",
      "Income Before Tax                       -1618000000.0  -4700000000.0   \n",
      "Minority Interest                         130000000.0    153000000.0   \n",
      "Net Income                              -1219000000.0  -4143000000.0   \n",
      "Selling General Administrative            628000000.0    856000000.0   \n",
      "Gross Profit                              534000000.0  -2025000000.0   \n",
      "Ebit                                     -727000000.0  -3559000000.0   \n",
      "Operating Income                         -727000000.0  -3559000000.0   \n",
      "Other Operating Expenses                         None           None   \n",
      "Interest Expense                         -630000000.0   -661000000.0   \n",
      "Extraordinary Items                              None           None   \n",
      "Non Recurring                                    None           None   \n",
      "Other Items                                      None           None   \n",
      "Income Tax Expense                       -376000000.0   -536000000.0   \n",
      "Total Revenue                           13991000000.0  14793000000.0   \n",
      "Total Operating Expenses                14718000000.0  18352000000.0   \n",
      "Cost Of Revenue                         13457000000.0  16818000000.0   \n",
      "Total Other Income Expense Net           -891000000.0  -1141000000.0   \n",
      "Discontinued Operations                          None           None   \n",
      "Net Income From Continuing Ops          -1242000000.0  -4164000000.0   \n",
      "Net Income Applicable To Common Shares  -1219000000.0  -4143000000.0   \n",
      "\n",
      "                                           2021-09-30     2021-06-30  \n",
      "Research Development                      575000000.0    497000000.0  \n",
      "Effect Of Accounting Charges                     None           None  \n",
      "Income Before Tax                        -310000000.0    549000000.0  \n",
      "Minority Interest                         174000000.0    197000000.0  \n",
      "Net Income                               -109000000.0    587000000.0  \n",
      "Selling General Administrative           1062000000.0    860000000.0  \n",
      "Gross Profit                             2313000000.0   2925000000.0  \n",
      "Ebit                                      676000000.0   1568000000.0  \n",
      "Operating Income                          676000000.0   1568000000.0  \n",
      "Other Operating Expenses                         None           None  \n",
      "Interest Expense                         -669000000.0   -673000000.0  \n",
      "Extraordinary Items                              None           None  \n",
      "Non Recurring                                    None           None  \n",
      "Other Items                                      None           None  \n",
      "Income Tax Expense                       -178000000.0    -18000000.0  \n",
      "Total Revenue                           15278000000.0  16998000000.0  \n",
      "Total Operating Expenses                14602000000.0  15430000000.0  \n",
      "Cost Of Revenue                         12965000000.0  14073000000.0  \n",
      "Total Other Income Expense Net           -986000000.0  -1019000000.0  \n",
      "Discontinued Operations                          None           None  \n",
      "Net Income From Continuing Ops           -132000000.0    567000000.0  \n",
      "Net Income Applicable To Common Shares   -109000000.0    587000000.0  \n"
     ]
    }
   ],
   "source": [
    "quarterly_financials = pd.DataFrame(sec.quarterly_financials)\n",
    "print(quarterly_financials.columns)\n",
    "print(quarterly_financials)"
   ]
  },
  {
   "cell_type": "markdown",
   "metadata": {},
   "source": [
    "### Kas iš balance svarbiausia? \n",
    "Long Term Debt\n",
    "Inventory  \n",
    "Accounts Payable   \n",
    "Net Receivables\n",
    "...?                    "
   ]
  },
  {
   "cell_type": "code",
   "execution_count": 7,
   "metadata": {},
   "outputs": [
    {
     "name": "stdout",
     "output_type": "stream",
     "text": [
      "(28, 4)\n",
      "DatetimeIndex(['2021-12-31', '2020-12-31', '2019-12-31', '2018-12-31'], dtype='datetime64[ns]', name='', freq=None)\n",
      "                                    2021-12-31    2020-12-31    2019-12-31  \\\n",
      "Intangible Assets                 2.562000e+09  2.843000e+09  3.338000e+09   \n",
      "Capital Surplus                   9.052000e+09  7.787000e+09  6.745000e+09   \n",
      "Total Liab                        1.533980e+11  1.702110e+11  1.419250e+11   \n",
      "Total Stockholder Equity         -1.499900e+10 -1.831600e+10 -8.617000e+09   \n",
      "Minority Interest                 1.530000e+08  2.410000e+08  3.170000e+08   \n",
      "Other Current Liab                5.983900e+10  6.025200e+10  6.371700e+10   \n",
      "Total Assets                      1.385520e+11  1.521360e+11  1.336250e+11   \n",
      "Common Stock                      5.061000e+09  5.061000e+09  5.061000e+09   \n",
      "Other Current Assets              2.221000e+09  4.286000e+09  3.106000e+09   \n",
      "Retained Earnings                 3.440800e+10  3.861000e+10  5.064400e+10   \n",
      "Other Liab                        1.332900e+10  1.995700e+10  2.367300e+10   \n",
      "Good Will                         8.068000e+09  8.081000e+09  8.060000e+09   \n",
      "Treasury Stock                   -6.352000e+10 -6.977400e+10 -7.106700e+10   \n",
      "Other Assets                      4.231000e+09  3.546000e+09  3.086000e+09   \n",
      "Cash                              8.052000e+09  7.752000e+09  9.485000e+09   \n",
      "Total Current Liabilities         8.199200e+10  8.728000e+10  9.731200e+10   \n",
      "Deferred Long Term Asset Charges  7.700000e+07  8.600000e+07  6.830000e+08   \n",
      "Short Long Term Debt              9.320000e+08  7.930000e+08  6.840000e+09   \n",
      "Other Stockholder Equity         -1.165900e+10 -1.713300e+10 -1.615300e+10   \n",
      "Property Plant Equipment          1.235500e+10  1.307200e+10  1.368400e+10   \n",
      "Total Current Assets              1.086660e+11  1.216420e+11  1.022290e+11   \n",
      "Long Term Investments             9.750000e+08  1.016000e+09  1.092000e+09   \n",
      "Net Tangible Assets              -2.562900e+10 -2.924000e+10 -2.001500e+10   \n",
      "Short Term Investments            8.192000e+09  1.783800e+10  5.450000e+08   \n",
      "Net Receivables                   1.126100e+10  9.950000e+09  1.230900e+10   \n",
      "Long Term Debt                    5.549000e+10  6.098700e+10  1.823300e+10   \n",
      "Inventory                         7.882300e+10  8.171500e+10  7.662200e+10   \n",
      "Accounts Payable                  9.261000e+09  1.292800e+10  1.555300e+10   \n",
      "\n",
      "                                    2018-12-31  \n",
      "Intangible Assets                 3.429000e+09  \n",
      "Capital Surplus                   6.768000e+09  \n",
      "Total Liab                        1.169490e+11  \n",
      "Total Stockholder Equity          3.390000e+08  \n",
      "Minority Interest                 7.100000e+07  \n",
      "Other Current Liab                5.493600e+10  \n",
      "Total Assets                      1.173590e+11  \n",
      "Common Stock                      5.061000e+09  \n",
      "Other Current Assets              2.335000e+09  \n",
      "Retained Earnings                 5.594100e+10  \n",
      "Other Liab                        2.470200e+10  \n",
      "Good Will                         7.840000e+09  \n",
      "Treasury Stock                   -6.743100e+10  \n",
      "Other Assets                      2.110000e+09  \n",
      "Cash                              7.637000e+09  \n",
      "Total Current Liabilities         8.159000e+10  \n",
      "Deferred Long Term Asset Charges  2.840000e+08  \n",
      "Short Long Term Debt              2.690000e+09  \n",
      "Other Stockholder Equity         -1.508300e+10  \n",
      "Property Plant Equipment          1.264500e+10  \n",
      "Total Current Assets              8.783000e+10  \n",
      "Long Term Investments             1.087000e+09  \n",
      "Net Tangible Assets              -1.093000e+10  \n",
      "Short Term Investments            9.270000e+08  \n",
      "Net Receivables                   1.390400e+10  \n",
      "Long Term Debt                    8.501000e+09  \n",
      "Inventory                         6.256700e+10  \n",
      "Accounts Payable                  1.291600e+10  \n"
     ]
    }
   ],
   "source": [
    "balance = pd.DataFrame(sec.balancesheet)\n",
    "print(balance.shape)\n",
    "print(balance.columns)\n",
    "print(balance)"
   ]
  },
  {
   "cell_type": "code",
   "execution_count": 8,
   "metadata": {},
   "outputs": [
    {
     "name": "stdout",
     "output_type": "stream",
     "text": [
      "                                    2022-03-31    2021-12-31    2021-09-30  \\\n",
      "Intangible Assets                 2.492000e+09  2.562000e+09  2.631000e+09   \n",
      "Capital Surplus                   9.295000e+09  9.052000e+09  8.796000e+09   \n",
      "Total Liab                        1.510690e+11  1.533980e+11  1.611120e+11   \n",
      "Total Stockholder Equity         -1.539800e+10 -1.499900e+10 -1.444000e+10   \n",
      "Minority Interest                 1.300000e+08  1.530000e+08  1.740000e+08   \n",
      "Other Current Liab                5.256400e+10  5.983900e+10  5.132900e+10   \n",
      "Total Assets                      1.358010e+11  1.385520e+11  1.468460e+11   \n",
      "Common Stock                      5.061000e+09  5.061000e+09  5.061000e+09   \n",
      "Other Current Assets              2.356000e+09  2.221000e+09  2.664000e+09   \n",
      "Retained Earnings                 3.318900e+10  3.440800e+10  3.855100e+10   \n",
      "Other Liab                        1.422700e+10  1.332900e+10  1.829900e+10   \n",
      "Good Will                         8.065000e+09  8.068000e+09  8.070000e+09   \n",
      "Treasury Stock                   -6.294300e+10 -6.352000e+10 -6.684800e+10   \n",
      "Other Assets                      5.905000e+09  4.231000e+09  5.386000e+09   \n",
      "Cash                              7.409000e+09  8.052000e+09  9.764000e+09   \n",
      "Total Current Liabilities         8.169200e+10  8.199200e+10  8.577100e+10   \n",
      "Deferred Long Term Asset Charges  9.100000e+07  7.700000e+07  7.400000e+07   \n",
      "Short Long Term Debt              2.291000e+09  9.320000e+08  5.077000e+09   \n",
      "Other Stockholder Equity         -1.137000e+10 -1.165900e+10 -1.481800e+10   \n",
      "Property Plant Equipment          1.075500e+10  1.235500e+10  1.111300e+10   \n",
      "Total Current Assets              1.060120e+11  1.086660e+11  1.168880e+11   \n",
      "Long Term Investments             9.920000e+08  9.750000e+08  9.630000e+08   \n",
      "Net Tangible Assets              -2.595500e+10 -2.562900e+10 -2.514100e+10   \n",
      "Short Term Investments            4.873000e+09  8.192000e+09  1.023100e+10   \n",
      "Net Receivables                   1.139800e+10  1.126100e+10  1.225600e+10   \n",
      "Long Term Debt                    5.374300e+10  5.549000e+10  5.563600e+10   \n",
      "Inventory                         7.981900e+10  7.882300e+10  8.189700e+10   \n",
      "Accounts Payable                  8.779000e+09  9.261000e+09  1.015100e+10   \n",
      "\n",
      "                                    2021-06-30  \n",
      "Intangible Assets                 2.702000e+09  \n",
      "Capital Surplus                   8.481000e+09  \n",
      "Total Liab                        1.654200e+11  \n",
      "Total Stockholder Equity         -1.668200e+10  \n",
      "Minority Interest                 1.970000e+08  \n",
      "Other Current Liab                5.077300e+10  \n",
      "Total Assets                      1.489350e+11  \n",
      "Common Stock                      5.061000e+09  \n",
      "Other Current Assets              4.187000e+09  \n",
      "Retained Earnings                 3.866000e+10  \n",
      "Other Liab                        2.017100e+10  \n",
      "Good Will                         8.076000e+09  \n",
      "Treasury Stock                   -6.888400e+10  \n",
      "Other Assets                      4.973000e+09  \n",
      "Cash                              8.271000e+09  \n",
      "Total Current Liabilities         8.822400e+10  \n",
      "Deferred Long Term Asset Charges  8.400000e+07  \n",
      "Short Long Term Debt              6.034000e+09  \n",
      "Other Stockholder Equity         -1.666100e+10  \n",
      "Property Plant Equipment          1.134100e+10  \n",
      "Total Current Assets              1.190950e+11  \n",
      "Long Term Investments             8.830000e+08  \n",
      "Net Tangible Assets              -2.746000e+10  \n",
      "Short Term Investments            1.307100e+10  \n",
      "Net Receivables                   1.169300e+10  \n",
      "Long Term Debt                    5.581800e+10  \n",
      "Inventory                         8.179900e+10  \n",
      "Accounts Payable                  1.145000e+10  \n"
     ]
    }
   ],
   "source": [
    "quarterly_balance = pd.DataFrame(sec.quarterly_balancesheet)\n",
    "print(quarterly_balance)"
   ]
  },
  {
   "cell_type": "markdown",
   "metadata": {},
   "source": [
    "### Irgi, kas pagrindiniai?"
   ]
  },
  {
   "cell_type": "code",
   "execution_count": 9,
   "metadata": {},
   "outputs": [
    {
     "name": "stdout",
     "output_type": "stream",
     "text": [
      "                                             2021-12-31    2020-12-31  \\\n",
      "Investments                                9.776000e+09 -1.734100e+10   \n",
      "Change To Liabilities                     -1.278000e+09 -6.423000e+09   \n",
      "Total Cashflows From Investing Activities  9.324000e+09 -1.836600e+10   \n",
      "Net Borrowings                            -5.576000e+09  3.625000e+10   \n",
      "Total Cash From Financing Activities      -5.600000e+09  3.495500e+10   \n",
      "Change To Operating Activities            -4.006000e+09  8.380000e+08   \n",
      "Issuance Of Stock                          4.200000e+07  3.600000e+07   \n",
      "Net Income                                -4.202000e+09 -1.187300e+10   \n",
      "Change In Cash                             2.690000e+08 -1.736000e+09   \n",
      "Repurchase Of Stock                       -6.600000e+07 -1.730000e+08   \n",
      "Effect Of Exchange Rate                   -3.900000e+07  8.500000e+07   \n",
      "Total Cash From Operating Activities      -3.416000e+09 -1.841000e+10   \n",
      "Depreciation                               2.144000e+09  2.246000e+09   \n",
      "Other Cashflows From Investing Activities  5.000000e+06 -1.800000e+07   \n",
      "Change To Inventory                       -1.127000e+09 -1.100200e+10   \n",
      "Change To Account Receivables             -1.299000e+09  1.828000e+09   \n",
      "Change To Netincome                        5.619000e+09  8.552000e+09   \n",
      "Capital Expenditures                      -9.800000e+08 -1.303000e+09   \n",
      "Dividends Paid                                      NaN -1.158000e+09   \n",
      "Other Cashflows From Financing Activities           NaN           NaN   \n",
      "\n",
      "                                             2019-12-31    2018-12-31  \n",
      "Investments                                1.010000e+08  2.910000e+08  \n",
      "Change To Liabilities                      2.337000e+09  2.638000e+09  \n",
      "Total Cashflows From Investing Activities -1.530000e+09 -4.621000e+09  \n",
      "Net Borrowings                             1.321800e+10  1.365000e+09  \n",
      "Total Cash From Financing Activities       5.739000e+09 -1.172200e+10  \n",
      "Change To Operating Activities             6.316000e+09  1.879000e+09  \n",
      "Issuance Of Stock                          5.800000e+07  8.100000e+07  \n",
      "Net Income                                -6.360000e+08  1.046000e+10  \n",
      "Change In Cash                             1.758000e+09 -1.074000e+09  \n",
      "Repurchase Of Stock                       -2.899000e+09 -9.257000e+09  \n",
      "Effect Of Exchange Rate                   -5.000000e+06 -5.300000e+07  \n",
      "Total Cash From Operating Activities      -2.446000e+09  1.532200e+10  \n",
      "Depreciation                               2.271000e+09  2.114000e+09  \n",
      "Other Cashflows From Investing Activities -1.300000e+07 -1.100000e+07  \n",
      "Change To Inventory                       -1.239100e+10  5.680000e+08  \n",
      "Change To Account Receivables              1.585000e+09 -2.621000e+09  \n",
      "Change To Netincome                        5.480000e+08  4.640000e+08  \n",
      "Capital Expenditures                      -1.834000e+09 -1.722000e+09  \n",
      "Dividends Paid                            -4.630000e+09 -3.946000e+09  \n",
      "Other Cashflows From Financing Activities -8.000000e+06  3.500000e+07  \n"
     ]
    }
   ],
   "source": [
    "cashflow = pd.DataFrame(sec.cashflow)\n",
    "print(cashflow)\n"
   ]
  },
  {
   "cell_type": "code",
   "execution_count": 10,
   "metadata": {},
   "outputs": [
    {
     "name": "stdout",
     "output_type": "stream",
     "text": [
      "                                             2022-03-31    2021-12-31  \\\n",
      "Investments                                3.305000e+09  2.014000e+09   \n",
      "Change To Liabilities                     -8.910000e+08  1.506000e+09   \n",
      "Total Cashflows From Investing Activities  2.965000e+09  1.935000e+09   \n",
      "Net Borrowings                            -3.940000e+08 -4.349000e+09   \n",
      "Total Cash From Financing Activities      -3.960000e+08 -4.362000e+09   \n",
      "Change To Operating Activities            -6.700000e+08 -6.130000e+08   \n",
      "Issuance Of Stock                          3.000000e+07  6.000000e+06   \n",
      "Net Income                                -1.219000e+09 -4.143000e+09   \n",
      "Change In Cash                            -6.500000e+08 -1.716000e+09   \n",
      "Repurchase Of Stock                       -3.200000e+07 -1.900000e+07   \n",
      "Effect Of Exchange Rate                   -3.000000e+06 -5.000000e+06   \n",
      "Total Cash From Operating Activities      -3.216000e+09  7.160000e+08   \n",
      "Depreciation                               4.860000e+08  5.340000e+08   \n",
      "Other Cashflows From Investing Activities  1.000000e+06 -1.000000e+06   \n",
      "Change To Inventory                       -1.203000e+09 -1.635000e+09   \n",
      "Change To Account Receivables             -1.190000e+08  9.910000e+08   \n",
      "Change To Netincome                        8.030000e+08  4.354000e+09   \n",
      "Capital Expenditures                      -3.490000e+08 -2.220000e+08   \n",
      "\n",
      "                                             2021-09-30    2021-06-30  \n",
      "Investments                                2.881000e+09  1.831000e+09  \n",
      "Change To Liabilities                     -1.000000e+09 -1.386000e+09  \n",
      "Total Cashflows From Investing Activities  2.966000e+09  1.659000e+09  \n",
      "Net Borrowings                            -1.171000e+09 -2.300000e+07  \n",
      "Total Cash From Financing Activities      -1.171000e+09 -1.900000e+07  \n",
      "Change To Operating Activities            -6.180000e+08 -1.033000e+09  \n",
      "Issuance Of Stock                          7.000000e+06  6.000000e+06  \n",
      "Net Income                                -1.090000e+08  5.870000e+08  \n",
      "Change In Cash                             1.513000e+09  1.161000e+09  \n",
      "Repurchase Of Stock                       -7.000000e+06 -2.000000e+06  \n",
      "Effect Of Exchange Rate                   -2.000000e+07  4.000000e+06  \n",
      "Total Cash From Operating Activities      -2.620000e+08 -4.830000e+08  \n",
      "Depreciation                               5.230000e+08  5.510000e+08  \n",
      "Other Cashflows From Investing Activities  2.000000e+06  1.000000e+06  \n",
      "Change To Inventory                        9.500000e+07  1.093000e+09  \n",
      "Change To Account Receivables             -5.600000e+08 -5.460000e+08  \n",
      "Change To Netincome                        2.660000e+08  3.470000e+08  \n",
      "Capital Expenditures                      -2.450000e+08 -2.220000e+08  \n"
     ]
    }
   ],
   "source": [
    "quarterly_cashflow = pd.DataFrame(sec.quarterly_cashflow)\n",
    "print(quarterly_cashflow)"
   ]
  },
  {
   "cell_type": "code",
   "execution_count": 11,
   "metadata": {},
   "outputs": [
    {
     "name": "stdout",
     "output_type": "stream",
     "text": [
      "        0                                      1\n",
      "0   0.12%        % of Shares Held by All Insider\n",
      "1  55.39%       % of Shares Held by Institutions\n",
      "2  55.45%        % of Float Held by Institutions\n",
      "3    2501  Number of Institutions Holding Shares\n"
     ]
    }
   ],
   "source": [
    "# PIE CHART\n",
    "\n",
    "major_holders = pd.DataFrame(sec.major_holders)\n",
    "print(major_holders)"
   ]
  },
  {
   "cell_type": "code",
   "execution_count": 12,
   "metadata": {},
   "outputs": [
    {
     "name": "stdout",
     "output_type": "stream",
     "text": [
      "                          Holder    Shares Date Reported   % Out       Value\n",
      "0               Newport Trust Co  43510241    2022-03-30  0.0735  8332211151\n",
      "1     Vanguard Group, Inc. (The)  43355912    2022-03-30  0.0733  8302657148\n",
      "2                 Blackrock Inc.  31674287    2022-03-30  0.0535  6065625960\n",
      "3       State Street Corporation  26602513    2022-03-30  0.0450  5094381239\n",
      "4                       FMR, LLC  15120154    2022-03-30  0.0256  2895509491\n",
      "5    Loomis Sayles & Company, LP  12741713    2022-03-30  0.0215  2440038039\n",
      "6  Geode Capital Management, LLC   8862120    2022-03-30  0.0150  1697095980\n",
      "7    Bank of America Corporation   6271171    2022-03-30  0.0106  1200929246\n",
      "8                 Morgan Stanley   6213784    2022-03-30  0.0105  1189939636\n",
      "9       J.W. Cole Advisors, Inc.   5270655    2022-03-30  0.0089  1009330432\n"
     ]
    }
   ],
   "source": [
    "# PIE\n",
    "institutional_holders = pd.DataFrame(sec.institutional_holders)\n",
    "print(institutional_holders)"
   ]
  },
  {
   "cell_type": "code",
   "execution_count": 13,
   "metadata": {},
   "outputs": [
    {
     "name": "stdout",
     "output_type": "stream",
     "text": [
      "            Dividends\n",
      "Date                 \n",
      "1962-02-05    0.00823\n",
      "1962-05-08    0.00823\n",
      "1962-08-13    0.00823\n",
      "1962-11-05    0.00823\n",
      "1963-02-06    0.00823\n",
      "...               ...\n",
      "2019-02-07    2.05500\n",
      "2019-05-09    2.05500\n",
      "2019-08-08    2.05500\n",
      "2019-11-07    2.05500\n",
      "2020-02-13    2.05500\n",
      "\n",
      "[228 rows x 1 columns]\n"
     ]
    }
   ],
   "source": [
    "dividends = pd.DataFrame(sec.dividends)\n",
    "print(dividends)"
   ]
  },
  {
   "cell_type": "code",
   "execution_count": 14,
   "metadata": {},
   "outputs": [
    {
     "name": "stdout",
     "output_type": "stream",
     "text": [
      "            Stock Splits\n",
      "Date                    \n",
      "1966-05-18           2.0\n",
      "1977-09-13           2.0\n",
      "1979-04-16           1.5\n",
      "1980-04-15           1.5\n",
      "1985-06-10           1.5\n",
      "1989-06-12           1.5\n",
      "1990-06-11           1.5\n",
      "1997-06-09           2.0\n"
     ]
    }
   ],
   "source": [
    "splits = pd.DataFrame(sec.splits)\n",
    "print(splits)"
   ]
  },
  {
   "cell_type": "markdown",
   "metadata": {},
   "source": [
    "### Dėl actions, svarstytina"
   ]
  },
  {
   "cell_type": "code",
   "execution_count": 15,
   "metadata": {},
   "outputs": [
    {
     "name": "stdout",
     "output_type": "stream",
     "text": [
      "            Dividends  Stock Splits\n",
      "Date                               \n",
      "1962-02-05    0.00823           0.0\n",
      "1962-05-08    0.00823           0.0\n",
      "1962-08-13    0.00823           0.0\n",
      "1962-11-05    0.00823           0.0\n",
      "1963-02-06    0.00823           0.0\n",
      "...               ...           ...\n",
      "2019-02-07    2.05500           0.0\n",
      "2019-05-09    2.05500           0.0\n",
      "2019-08-08    2.05500           0.0\n",
      "2019-11-07    2.05500           0.0\n",
      "2020-02-13    2.05500           0.0\n",
      "\n",
      "[236 rows x 2 columns]\n"
     ]
    }
   ],
   "source": [
    "actions = pd.DataFrame(sec.actions)\n",
    "print(actions)"
   ]
  },
  {
   "cell_type": "code",
   "execution_count": null,
   "metadata": {},
   "outputs": [],
   "source": []
  }
 ],
 "metadata": {
  "kernelspec": {
   "display_name": "Python 3.10.1 64-bit",
   "language": "python",
   "name": "python3"
  },
  "language_info": {
   "codemirror_mode": {
    "name": "ipython",
    "version": 3
   },
   "file_extension": ".py",
   "mimetype": "text/x-python",
   "name": "python",
   "nbconvert_exporter": "python",
   "pygments_lexer": "ipython3",
   "version": "3.10.1"
  },
  "orig_nbformat": 4,
  "vscode": {
   "interpreter": {
    "hash": "7101ca937a6cefa303d920fd1335fe82956cc294edbf5f7bc268a5a56c54bb64"
   }
  }
 },
 "nbformat": 4,
 "nbformat_minor": 2
}
