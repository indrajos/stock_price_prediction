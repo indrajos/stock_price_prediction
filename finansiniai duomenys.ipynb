{
 "cells": [
  {
   "cell_type": "code",
   "execution_count": 272,
   "metadata": {},
   "outputs": [
    {
     "data": {
      "application/javascript": "window.IpyVizzu.clearInhibitScroll(element);"
     },
     "metadata": {},
     "output_type": "display_data"
    },
    {
     "data": {
      "application/javascript": "window.IpyVizzu.clearInhibitScroll(element);"
     },
     "metadata": {},
     "output_type": "display_data"
    },
    {
     "data": {
      "application/javascript": "window.IpyVizzu.clearInhibitScroll(element);"
     },
     "metadata": {},
     "output_type": "display_data"
    }
   ],
   "source": [
    "import yfinance as yf\n",
    "import pandas as pd\n",
    "import numpy as np\n",
    "\n",
    "import plotly.graph_objs as go\n",
    "import plotly.offline as py\n",
    "import plotly.express as px\n",
    "\n",
    "from ipyvizzu import Chart, Data, Config, Style\n",
    "\n"
   ]
  },
  {
   "cell_type": "code",
   "execution_count": 142,
   "metadata": {},
   "outputs": [],
   "source": [
    "sec = yf.Ticker(\"XOM\")\n",
    "# BA"
   ]
  },
  {
   "cell_type": "code",
   "execution_count": 144,
   "metadata": {},
   "outputs": [
    {
     "data": {
      "text/html": [
       "<div>\n",
       "<style scoped>\n",
       "    .dataframe tbody tr th:only-of-type {\n",
       "        vertical-align: middle;\n",
       "    }\n",
       "\n",
       "    .dataframe tbody tr th {\n",
       "        vertical-align: top;\n",
       "    }\n",
       "\n",
       "    .dataframe thead th {\n",
       "        text-align: right;\n",
       "    }\n",
       "</style>\n",
       "<table border=\"1\" class=\"dataframe\">\n",
       "  <thead>\n",
       "    <tr style=\"text-align: right;\">\n",
       "      <th></th>\n",
       "      <th>Firm</th>\n",
       "      <th>To Grade</th>\n",
       "      <th>From Grade</th>\n",
       "      <th>Action</th>\n",
       "    </tr>\n",
       "    <tr>\n",
       "      <th>Date</th>\n",
       "      <th></th>\n",
       "      <th></th>\n",
       "      <th></th>\n",
       "      <th></th>\n",
       "    </tr>\n",
       "  </thead>\n",
       "  <tbody>\n",
       "    <tr>\n",
       "      <th>2022-05-02 11:35:12</th>\n",
       "      <td>Wells Fargo</td>\n",
       "      <td>Overweight</td>\n",
       "      <td></td>\n",
       "      <td>main</td>\n",
       "    </tr>\n",
       "    <tr>\n",
       "      <th>2022-05-02 13:18:04</th>\n",
       "      <td>Credit Suisse</td>\n",
       "      <td>Neutral</td>\n",
       "      <td></td>\n",
       "      <td>main</td>\n",
       "    </tr>\n",
       "    <tr>\n",
       "      <th>2022-05-09 14:39:47</th>\n",
       "      <td>Argus Research</td>\n",
       "      <td>Buy</td>\n",
       "      <td></td>\n",
       "      <td>main</td>\n",
       "    </tr>\n",
       "    <tr>\n",
       "      <th>2022-05-19 12:36:12</th>\n",
       "      <td>Citigroup</td>\n",
       "      <td>Neutral</td>\n",
       "      <td></td>\n",
       "      <td>main</td>\n",
       "    </tr>\n",
       "    <tr>\n",
       "      <th>2022-05-31 11:16:31</th>\n",
       "      <td>Barclays</td>\n",
       "      <td>Overweight</td>\n",
       "      <td></td>\n",
       "      <td>main</td>\n",
       "    </tr>\n",
       "    <tr>\n",
       "      <th>2022-06-01 11:43:54</th>\n",
       "      <td>Barclays</td>\n",
       "      <td>Overweight</td>\n",
       "      <td></td>\n",
       "      <td>main</td>\n",
       "    </tr>\n",
       "    <tr>\n",
       "      <th>2022-06-06 12:29:25</th>\n",
       "      <td>Morgan Stanley</td>\n",
       "      <td>Overweight</td>\n",
       "      <td></td>\n",
       "      <td>main</td>\n",
       "    </tr>\n",
       "    <tr>\n",
       "      <th>2022-06-07 10:44:19</th>\n",
       "      <td>Credit Suisse</td>\n",
       "      <td>Neutral</td>\n",
       "      <td></td>\n",
       "      <td>main</td>\n",
       "    </tr>\n",
       "    <tr>\n",
       "      <th>2022-06-07 13:07:47</th>\n",
       "      <td>Evercore ISI Group</td>\n",
       "      <td>Outperform</td>\n",
       "      <td>In-Line</td>\n",
       "      <td>up</td>\n",
       "    </tr>\n",
       "    <tr>\n",
       "      <th>2022-06-08 11:07:15</th>\n",
       "      <td>Goldman Sachs</td>\n",
       "      <td>Buy</td>\n",
       "      <td></td>\n",
       "      <td>main</td>\n",
       "    </tr>\n",
       "  </tbody>\n",
       "</table>\n",
       "</div>"
      ],
      "text/plain": [
       "                                   Firm    To Grade From Grade Action\n",
       "Date                                                                 \n",
       "2022-05-02 11:35:12         Wells Fargo  Overweight              main\n",
       "2022-05-02 13:18:04       Credit Suisse     Neutral              main\n",
       "2022-05-09 14:39:47      Argus Research         Buy              main\n",
       "2022-05-19 12:36:12           Citigroup     Neutral              main\n",
       "2022-05-31 11:16:31            Barclays  Overweight              main\n",
       "2022-06-01 11:43:54            Barclays  Overweight              main\n",
       "2022-06-06 12:29:25      Morgan Stanley  Overweight              main\n",
       "2022-06-07 10:44:19       Credit Suisse     Neutral              main\n",
       "2022-06-07 13:07:47  Evercore ISI Group  Outperform    In-Line     up\n",
       "2022-06-08 11:07:15       Goldman Sachs         Buy              main"
      ]
     },
     "metadata": {},
     "output_type": "display_data"
    }
   ],
   "source": [
    "recommendations = pd.DataFrame(sec.recommendations)\n",
    "display(recommendations.tail(10))\n"
   ]
  },
  {
   "cell_type": "markdown",
   "metadata": {},
   "source": [
    "### Earnings"
   ]
  },
  {
   "cell_type": "code",
   "execution_count": 145,
   "metadata": {},
   "outputs": [
    {
     "data": {
      "text/html": [
       "<div>\n",
       "<style scoped>\n",
       "    .dataframe tbody tr th:only-of-type {\n",
       "        vertical-align: middle;\n",
       "    }\n",
       "\n",
       "    .dataframe tbody tr th {\n",
       "        vertical-align: top;\n",
       "    }\n",
       "\n",
       "    .dataframe thead th {\n",
       "        text-align: right;\n",
       "    }\n",
       "</style>\n",
       "<table border=\"1\" class=\"dataframe\">\n",
       "  <thead>\n",
       "    <tr style=\"text-align: right;\">\n",
       "      <th></th>\n",
       "      <th>Revenue</th>\n",
       "      <th>Earnings</th>\n",
       "    </tr>\n",
       "    <tr>\n",
       "      <th>Year</th>\n",
       "      <th></th>\n",
       "      <th></th>\n",
       "    </tr>\n",
       "  </thead>\n",
       "  <tbody>\n",
       "    <tr>\n",
       "      <th>2018</th>\n",
       "      <td>281060000000</td>\n",
       "      <td>20840000000</td>\n",
       "    </tr>\n",
       "    <tr>\n",
       "      <th>2019</th>\n",
       "      <td>259497000000</td>\n",
       "      <td>14340000000</td>\n",
       "    </tr>\n",
       "    <tr>\n",
       "      <th>2020</th>\n",
       "      <td>179784000000</td>\n",
       "      <td>-22440000000</td>\n",
       "    </tr>\n",
       "    <tr>\n",
       "      <th>2021</th>\n",
       "      <td>278981000000</td>\n",
       "      <td>23040000000</td>\n",
       "    </tr>\n",
       "  </tbody>\n",
       "</table>\n",
       "</div>"
      ],
      "text/plain": [
       "           Revenue     Earnings\n",
       "Year                           \n",
       "2018  281060000000  20840000000\n",
       "2019  259497000000  14340000000\n",
       "2020  179784000000 -22440000000\n",
       "2021  278981000000  23040000000"
      ]
     },
     "metadata": {},
     "output_type": "display_data"
    }
   ],
   "source": [
    "earnings = pd.DataFrame(sec.earnings)\n",
    "display(earnings)"
   ]
  },
  {
   "cell_type": "code",
   "execution_count": 146,
   "metadata": {},
   "outputs": [
    {
     "data": {
      "application/vnd.plotly.v1+json": {
       "config": {
        "linkText": "Export to plot.ly",
        "plotlyServerURL": "https://plot.ly",
        "showLink": false
       },
       "data": [
        {
         "marker": {
          "color": "rgba(16, 112, 2, 0.8)",
          "line": {
           "color": "rgb(0,0,0)",
           "width": 1
          }
         },
         "name": "Revenue",
         "type": "bar",
         "x": [
          2018,
          2019,
          2020,
          2021
         ],
         "y": [
          281060000000,
          259497000000,
          179784000000,
          278981000000
         ]
        },
        {
         "marker": {
          "color": "rgba(80, 26, 80, 0.8)",
          "line": {
           "color": "rgb(0,0,0)",
           "width": 1
          }
         },
         "name": "Earnings",
         "type": "bar",
         "x": [
          2018,
          2019,
          2020,
          2021
         ],
         "y": [
          20840000000,
          14340000000,
          -22440000000,
          23040000000
         ]
        }
       ],
       "layout": {
        "template": {
         "data": {
          "bar": [
           {
            "error_x": {
             "color": "#2a3f5f"
            },
            "error_y": {
             "color": "#2a3f5f"
            },
            "marker": {
             "line": {
              "color": "#E5ECF6",
              "width": 0.5
             },
             "pattern": {
              "fillmode": "overlay",
              "size": 10,
              "solidity": 0.2
             }
            },
            "type": "bar"
           }
          ],
          "barpolar": [
           {
            "marker": {
             "line": {
              "color": "#E5ECF6",
              "width": 0.5
             },
             "pattern": {
              "fillmode": "overlay",
              "size": 10,
              "solidity": 0.2
             }
            },
            "type": "barpolar"
           }
          ],
          "carpet": [
           {
            "aaxis": {
             "endlinecolor": "#2a3f5f",
             "gridcolor": "white",
             "linecolor": "white",
             "minorgridcolor": "white",
             "startlinecolor": "#2a3f5f"
            },
            "baxis": {
             "endlinecolor": "#2a3f5f",
             "gridcolor": "white",
             "linecolor": "white",
             "minorgridcolor": "white",
             "startlinecolor": "#2a3f5f"
            },
            "type": "carpet"
           }
          ],
          "choropleth": [
           {
            "colorbar": {
             "outlinewidth": 0,
             "ticks": ""
            },
            "type": "choropleth"
           }
          ],
          "contour": [
           {
            "colorbar": {
             "outlinewidth": 0,
             "ticks": ""
            },
            "colorscale": [
             [
              0,
              "#0d0887"
             ],
             [
              0.1111111111111111,
              "#46039f"
             ],
             [
              0.2222222222222222,
              "#7201a8"
             ],
             [
              0.3333333333333333,
              "#9c179e"
             ],
             [
              0.4444444444444444,
              "#bd3786"
             ],
             [
              0.5555555555555556,
              "#d8576b"
             ],
             [
              0.6666666666666666,
              "#ed7953"
             ],
             [
              0.7777777777777778,
              "#fb9f3a"
             ],
             [
              0.8888888888888888,
              "#fdca26"
             ],
             [
              1,
              "#f0f921"
             ]
            ],
            "type": "contour"
           }
          ],
          "contourcarpet": [
           {
            "colorbar": {
             "outlinewidth": 0,
             "ticks": ""
            },
            "type": "contourcarpet"
           }
          ],
          "heatmap": [
           {
            "colorbar": {
             "outlinewidth": 0,
             "ticks": ""
            },
            "colorscale": [
             [
              0,
              "#0d0887"
             ],
             [
              0.1111111111111111,
              "#46039f"
             ],
             [
              0.2222222222222222,
              "#7201a8"
             ],
             [
              0.3333333333333333,
              "#9c179e"
             ],
             [
              0.4444444444444444,
              "#bd3786"
             ],
             [
              0.5555555555555556,
              "#d8576b"
             ],
             [
              0.6666666666666666,
              "#ed7953"
             ],
             [
              0.7777777777777778,
              "#fb9f3a"
             ],
             [
              0.8888888888888888,
              "#fdca26"
             ],
             [
              1,
              "#f0f921"
             ]
            ],
            "type": "heatmap"
           }
          ],
          "heatmapgl": [
           {
            "colorbar": {
             "outlinewidth": 0,
             "ticks": ""
            },
            "colorscale": [
             [
              0,
              "#0d0887"
             ],
             [
              0.1111111111111111,
              "#46039f"
             ],
             [
              0.2222222222222222,
              "#7201a8"
             ],
             [
              0.3333333333333333,
              "#9c179e"
             ],
             [
              0.4444444444444444,
              "#bd3786"
             ],
             [
              0.5555555555555556,
              "#d8576b"
             ],
             [
              0.6666666666666666,
              "#ed7953"
             ],
             [
              0.7777777777777778,
              "#fb9f3a"
             ],
             [
              0.8888888888888888,
              "#fdca26"
             ],
             [
              1,
              "#f0f921"
             ]
            ],
            "type": "heatmapgl"
           }
          ],
          "histogram": [
           {
            "marker": {
             "pattern": {
              "fillmode": "overlay",
              "size": 10,
              "solidity": 0.2
             }
            },
            "type": "histogram"
           }
          ],
          "histogram2d": [
           {
            "colorbar": {
             "outlinewidth": 0,
             "ticks": ""
            },
            "colorscale": [
             [
              0,
              "#0d0887"
             ],
             [
              0.1111111111111111,
              "#46039f"
             ],
             [
              0.2222222222222222,
              "#7201a8"
             ],
             [
              0.3333333333333333,
              "#9c179e"
             ],
             [
              0.4444444444444444,
              "#bd3786"
             ],
             [
              0.5555555555555556,
              "#d8576b"
             ],
             [
              0.6666666666666666,
              "#ed7953"
             ],
             [
              0.7777777777777778,
              "#fb9f3a"
             ],
             [
              0.8888888888888888,
              "#fdca26"
             ],
             [
              1,
              "#f0f921"
             ]
            ],
            "type": "histogram2d"
           }
          ],
          "histogram2dcontour": [
           {
            "colorbar": {
             "outlinewidth": 0,
             "ticks": ""
            },
            "colorscale": [
             [
              0,
              "#0d0887"
             ],
             [
              0.1111111111111111,
              "#46039f"
             ],
             [
              0.2222222222222222,
              "#7201a8"
             ],
             [
              0.3333333333333333,
              "#9c179e"
             ],
             [
              0.4444444444444444,
              "#bd3786"
             ],
             [
              0.5555555555555556,
              "#d8576b"
             ],
             [
              0.6666666666666666,
              "#ed7953"
             ],
             [
              0.7777777777777778,
              "#fb9f3a"
             ],
             [
              0.8888888888888888,
              "#fdca26"
             ],
             [
              1,
              "#f0f921"
             ]
            ],
            "type": "histogram2dcontour"
           }
          ],
          "mesh3d": [
           {
            "colorbar": {
             "outlinewidth": 0,
             "ticks": ""
            },
            "type": "mesh3d"
           }
          ],
          "parcoords": [
           {
            "line": {
             "colorbar": {
              "outlinewidth": 0,
              "ticks": ""
             }
            },
            "type": "parcoords"
           }
          ],
          "pie": [
           {
            "automargin": true,
            "type": "pie"
           }
          ],
          "scatter": [
           {
            "fillpattern": {
             "fillmode": "overlay",
             "size": 10,
             "solidity": 0.2
            },
            "type": "scatter"
           }
          ],
          "scatter3d": [
           {
            "line": {
             "colorbar": {
              "outlinewidth": 0,
              "ticks": ""
             }
            },
            "marker": {
             "colorbar": {
              "outlinewidth": 0,
              "ticks": ""
             }
            },
            "type": "scatter3d"
           }
          ],
          "scattercarpet": [
           {
            "marker": {
             "colorbar": {
              "outlinewidth": 0,
              "ticks": ""
             }
            },
            "type": "scattercarpet"
           }
          ],
          "scattergeo": [
           {
            "marker": {
             "colorbar": {
              "outlinewidth": 0,
              "ticks": ""
             }
            },
            "type": "scattergeo"
           }
          ],
          "scattergl": [
           {
            "marker": {
             "colorbar": {
              "outlinewidth": 0,
              "ticks": ""
             }
            },
            "type": "scattergl"
           }
          ],
          "scattermapbox": [
           {
            "marker": {
             "colorbar": {
              "outlinewidth": 0,
              "ticks": ""
             }
            },
            "type": "scattermapbox"
           }
          ],
          "scatterpolar": [
           {
            "marker": {
             "colorbar": {
              "outlinewidth": 0,
              "ticks": ""
             }
            },
            "type": "scatterpolar"
           }
          ],
          "scatterpolargl": [
           {
            "marker": {
             "colorbar": {
              "outlinewidth": 0,
              "ticks": ""
             }
            },
            "type": "scatterpolargl"
           }
          ],
          "scatterternary": [
           {
            "marker": {
             "colorbar": {
              "outlinewidth": 0,
              "ticks": ""
             }
            },
            "type": "scatterternary"
           }
          ],
          "surface": [
           {
            "colorbar": {
             "outlinewidth": 0,
             "ticks": ""
            },
            "colorscale": [
             [
              0,
              "#0d0887"
             ],
             [
              0.1111111111111111,
              "#46039f"
             ],
             [
              0.2222222222222222,
              "#7201a8"
             ],
             [
              0.3333333333333333,
              "#9c179e"
             ],
             [
              0.4444444444444444,
              "#bd3786"
             ],
             [
              0.5555555555555556,
              "#d8576b"
             ],
             [
              0.6666666666666666,
              "#ed7953"
             ],
             [
              0.7777777777777778,
              "#fb9f3a"
             ],
             [
              0.8888888888888888,
              "#fdca26"
             ],
             [
              1,
              "#f0f921"
             ]
            ],
            "type": "surface"
           }
          ],
          "table": [
           {
            "cells": {
             "fill": {
              "color": "#EBF0F8"
             },
             "line": {
              "color": "white"
             }
            },
            "header": {
             "fill": {
              "color": "#C8D4E3"
             },
             "line": {
              "color": "white"
             }
            },
            "type": "table"
           }
          ]
         },
         "layout": {
          "annotationdefaults": {
           "arrowcolor": "#2a3f5f",
           "arrowhead": 0,
           "arrowwidth": 1
          },
          "autotypenumbers": "strict",
          "coloraxis": {
           "colorbar": {
            "outlinewidth": 0,
            "ticks": ""
           }
          },
          "colorscale": {
           "diverging": [
            [
             0,
             "#8e0152"
            ],
            [
             0.1,
             "#c51b7d"
            ],
            [
             0.2,
             "#de77ae"
            ],
            [
             0.3,
             "#f1b6da"
            ],
            [
             0.4,
             "#fde0ef"
            ],
            [
             0.5,
             "#f7f7f7"
            ],
            [
             0.6,
             "#e6f5d0"
            ],
            [
             0.7,
             "#b8e186"
            ],
            [
             0.8,
             "#7fbc41"
            ],
            [
             0.9,
             "#4d9221"
            ],
            [
             1,
             "#276419"
            ]
           ],
           "sequential": [
            [
             0,
             "#0d0887"
            ],
            [
             0.1111111111111111,
             "#46039f"
            ],
            [
             0.2222222222222222,
             "#7201a8"
            ],
            [
             0.3333333333333333,
             "#9c179e"
            ],
            [
             0.4444444444444444,
             "#bd3786"
            ],
            [
             0.5555555555555556,
             "#d8576b"
            ],
            [
             0.6666666666666666,
             "#ed7953"
            ],
            [
             0.7777777777777778,
             "#fb9f3a"
            ],
            [
             0.8888888888888888,
             "#fdca26"
            ],
            [
             1,
             "#f0f921"
            ]
           ],
           "sequentialminus": [
            [
             0,
             "#0d0887"
            ],
            [
             0.1111111111111111,
             "#46039f"
            ],
            [
             0.2222222222222222,
             "#7201a8"
            ],
            [
             0.3333333333333333,
             "#9c179e"
            ],
            [
             0.4444444444444444,
             "#bd3786"
            ],
            [
             0.5555555555555556,
             "#d8576b"
            ],
            [
             0.6666666666666666,
             "#ed7953"
            ],
            [
             0.7777777777777778,
             "#fb9f3a"
            ],
            [
             0.8888888888888888,
             "#fdca26"
            ],
            [
             1,
             "#f0f921"
            ]
           ]
          },
          "colorway": [
           "#636efa",
           "#EF553B",
           "#00cc96",
           "#ab63fa",
           "#FFA15A",
           "#19d3f3",
           "#FF6692",
           "#B6E880",
           "#FF97FF",
           "#FECB52"
          ],
          "font": {
           "color": "#2a3f5f"
          },
          "geo": {
           "bgcolor": "white",
           "lakecolor": "white",
           "landcolor": "#E5ECF6",
           "showlakes": true,
           "showland": true,
           "subunitcolor": "white"
          },
          "hoverlabel": {
           "align": "left"
          },
          "hovermode": "closest",
          "mapbox": {
           "style": "light"
          },
          "paper_bgcolor": "white",
          "plot_bgcolor": "#E5ECF6",
          "polar": {
           "angularaxis": {
            "gridcolor": "white",
            "linecolor": "white",
            "ticks": ""
           },
           "bgcolor": "#E5ECF6",
           "radialaxis": {
            "gridcolor": "white",
            "linecolor": "white",
            "ticks": ""
           }
          },
          "scene": {
           "xaxis": {
            "backgroundcolor": "#E5ECF6",
            "gridcolor": "white",
            "gridwidth": 2,
            "linecolor": "white",
            "showbackground": true,
            "ticks": "",
            "zerolinecolor": "white"
           },
           "yaxis": {
            "backgroundcolor": "#E5ECF6",
            "gridcolor": "white",
            "gridwidth": 2,
            "linecolor": "white",
            "showbackground": true,
            "ticks": "",
            "zerolinecolor": "white"
           },
           "zaxis": {
            "backgroundcolor": "#E5ECF6",
            "gridcolor": "white",
            "gridwidth": 2,
            "linecolor": "white",
            "showbackground": true,
            "ticks": "",
            "zerolinecolor": "white"
           }
          },
          "shapedefaults": {
           "line": {
            "color": "#2a3f5f"
           }
          },
          "ternary": {
           "aaxis": {
            "gridcolor": "white",
            "linecolor": "white",
            "ticks": ""
           },
           "baxis": {
            "gridcolor": "white",
            "linecolor": "white",
            "ticks": ""
           },
           "bgcolor": "#E5ECF6",
           "caxis": {
            "gridcolor": "white",
            "linecolor": "white",
            "ticks": ""
           }
          },
          "title": {
           "x": 0.05
          },
          "xaxis": {
           "automargin": true,
           "gridcolor": "white",
           "linecolor": "white",
           "ticks": "",
           "title": {
            "standoff": 15
           },
           "zerolinecolor": "white",
           "zerolinewidth": 2
          },
          "yaxis": {
           "automargin": true,
           "gridcolor": "white",
           "linecolor": "white",
           "ticks": "",
           "title": {
            "standoff": 15
           },
           "zerolinecolor": "white",
           "zerolinewidth": 2
          }
         }
        },
        "title": {
         "text": "Earnings 2018-2021"
        },
        "xaxis": {
         "linecolor": "black",
         "linewidth": 1,
         "ticklen": 5,
         "ticks": "outside",
         "zeroline": true
        }
       }
      }
     },
     "metadata": {},
     "output_type": "display_data"
    }
   ],
   "source": [
    "trace1 = go.Bar(\n",
    "    x = earnings.index,\n",
    "    y = earnings['Revenue'],\n",
    "    name='Revenue',\n",
    "    marker=dict(color='rgba(16, 112, 2, 0.8)',\n",
    "                line=dict(color='rgb(0,0,0)', width=1)),     )\n",
    "\n",
    "trace2 = go.Bar(\n",
    "    x = earnings.index,\n",
    "    y = earnings['Earnings'],\n",
    "    name='Earnings',\n",
    "    marker=dict(color='rgba(80, 26, 80, 0.8)',\n",
    "                line=dict(color='rgb(0,0,0)', width=1)),     )\n",
    "\n",
    "data = [trace1, trace2]\n",
    "layout = dict(\n",
    "    title='Earnings 2018-2021',\n",
    "    xaxis=dict( \n",
    "        ticks='outside', ticklen=5,\n",
    "        zeroline=True, linewidth=1, linecolor='black'\n",
    "        ) )\n",
    "\n",
    "    \n",
    "fig = go.Figure(data=data, layout=layout)            \n",
    "py.iplot(fig)"
   ]
  },
  {
   "cell_type": "code",
   "execution_count": 147,
   "metadata": {},
   "outputs": [
    {
     "data": {
      "text/html": [
       "<div>\n",
       "<style scoped>\n",
       "    .dataframe tbody tr th:only-of-type {\n",
       "        vertical-align: middle;\n",
       "    }\n",
       "\n",
       "    .dataframe tbody tr th {\n",
       "        vertical-align: top;\n",
       "    }\n",
       "\n",
       "    .dataframe thead th {\n",
       "        text-align: right;\n",
       "    }\n",
       "</style>\n",
       "<table border=\"1\" class=\"dataframe\">\n",
       "  <thead>\n",
       "    <tr style=\"text-align: right;\">\n",
       "      <th></th>\n",
       "      <th>Revenue</th>\n",
       "      <th>Earnings</th>\n",
       "    </tr>\n",
       "    <tr>\n",
       "      <th>Quarter</th>\n",
       "      <th></th>\n",
       "      <th></th>\n",
       "    </tr>\n",
       "  </thead>\n",
       "  <tbody>\n",
       "    <tr>\n",
       "      <th>2Q2021</th>\n",
       "      <td>66306000000</td>\n",
       "      <td>4690000000</td>\n",
       "    </tr>\n",
       "    <tr>\n",
       "      <th>3Q2021</th>\n",
       "      <td>72116000000</td>\n",
       "      <td>6750000000</td>\n",
       "    </tr>\n",
       "    <tr>\n",
       "      <th>4Q2021</th>\n",
       "      <td>82885000000</td>\n",
       "      <td>8870000000</td>\n",
       "    </tr>\n",
       "    <tr>\n",
       "      <th>1Q2022</th>\n",
       "      <td>87962000000</td>\n",
       "      <td>5480000000</td>\n",
       "    </tr>\n",
       "  </tbody>\n",
       "</table>\n",
       "</div>"
      ],
      "text/plain": [
       "             Revenue    Earnings\n",
       "Quarter                         \n",
       "2Q2021   66306000000  4690000000\n",
       "3Q2021   72116000000  6750000000\n",
       "4Q2021   82885000000  8870000000\n",
       "1Q2022   87962000000  5480000000"
      ]
     },
     "metadata": {},
     "output_type": "display_data"
    }
   ],
   "source": [
    "# Stulpelinė\n",
    "quarterly_earnings = pd.DataFrame(sec.quarterly_earnings)\n",
    "display(quarterly_earnings)"
   ]
  },
  {
   "cell_type": "markdown",
   "metadata": {},
   "source": [
    "### Financials"
   ]
  },
  {
   "cell_type": "code",
   "execution_count": 148,
   "metadata": {},
   "outputs": [
    {
     "data": {
      "text/html": [
       "<div>\n",
       "<style scoped>\n",
       "    .dataframe tbody tr th:only-of-type {\n",
       "        vertical-align: middle;\n",
       "    }\n",
       "\n",
       "    .dataframe tbody tr th {\n",
       "        vertical-align: top;\n",
       "    }\n",
       "\n",
       "    .dataframe thead th {\n",
       "        text-align: right;\n",
       "    }\n",
       "</style>\n",
       "<table border=\"1\" class=\"dataframe\">\n",
       "  <thead>\n",
       "    <tr style=\"text-align: right;\">\n",
       "      <th></th>\n",
       "      <th>2021-12-31</th>\n",
       "      <th>2020-12-31</th>\n",
       "      <th>2019-12-31</th>\n",
       "      <th>2018-12-31</th>\n",
       "    </tr>\n",
       "  </thead>\n",
       "  <tbody>\n",
       "    <tr>\n",
       "      <th>Research Development</th>\n",
       "      <td>None</td>\n",
       "      <td>None</td>\n",
       "      <td>None</td>\n",
       "      <td>None</td>\n",
       "    </tr>\n",
       "    <tr>\n",
       "      <th>Effect Of Accounting Charges</th>\n",
       "      <td>None</td>\n",
       "      <td>None</td>\n",
       "      <td>None</td>\n",
       "      <td>None</td>\n",
       "    </tr>\n",
       "    <tr>\n",
       "      <th>Income Before Tax</th>\n",
       "      <td>31234000000.0</td>\n",
       "      <td>-28883000000.0</td>\n",
       "      <td>20056000000.0</td>\n",
       "      <td>30953000000.0</td>\n",
       "    </tr>\n",
       "    <tr>\n",
       "      <th>Minority Interest</th>\n",
       "      <td>7106000000.0</td>\n",
       "      <td>6980000000.0</td>\n",
       "      <td>7288000000.0</td>\n",
       "      <td>6734000000.0</td>\n",
       "    </tr>\n",
       "    <tr>\n",
       "      <th>Net Income</th>\n",
       "      <td>23040000000.0</td>\n",
       "      <td>-22440000000.0</td>\n",
       "      <td>14340000000.0</td>\n",
       "      <td>20840000000.0</td>\n",
       "    </tr>\n",
       "    <tr>\n",
       "      <th>Selling General Administrative</th>\n",
       "      <td>9849000000.0</td>\n",
       "      <td>10881000000.0</td>\n",
       "      <td>12168000000.0</td>\n",
       "      <td>12300000000.0</td>\n",
       "    </tr>\n",
       "    <tr>\n",
       "      <th>Gross Profit</th>\n",
       "      <td>90045000000.0</td>\n",
       "      <td>57157000000.0</td>\n",
       "      <td>81066000000.0</td>\n",
       "      <td>90308000000.0</td>\n",
       "    </tr>\n",
       "    <tr>\n",
       "      <th>Ebit</th>\n",
       "      <td>26780000000.0</td>\n",
       "      <td>-4432000000.0</td>\n",
       "      <td>15545000000.0</td>\n",
       "      <td>23267000000.0</td>\n",
       "    </tr>\n",
       "    <tr>\n",
       "      <th>Operating Income</th>\n",
       "      <td>26780000000.0</td>\n",
       "      <td>-4432000000.0</td>\n",
       "      <td>15545000000.0</td>\n",
       "      <td>23267000000.0</td>\n",
       "    </tr>\n",
       "    <tr>\n",
       "      <th>Other Operating Expenses</th>\n",
       "      <td>32955000000.0</td>\n",
       "      <td>28425000000.0</td>\n",
       "      <td>33186000000.0</td>\n",
       "      <td>35230000000.0</td>\n",
       "    </tr>\n",
       "    <tr>\n",
       "      <th>Interest Expense</th>\n",
       "      <td>-947000000.0</td>\n",
       "      <td>-1158000000.0</td>\n",
       "      <td>-830000000.0</td>\n",
       "      <td>-766000000.0</td>\n",
       "    </tr>\n",
       "    <tr>\n",
       "      <th>Extraordinary Items</th>\n",
       "      <td>None</td>\n",
       "      <td>None</td>\n",
       "      <td>None</td>\n",
       "      <td>None</td>\n",
       "    </tr>\n",
       "    <tr>\n",
       "      <th>Non Recurring</th>\n",
       "      <td>None</td>\n",
       "      <td>None</td>\n",
       "      <td>None</td>\n",
       "      <td>None</td>\n",
       "    </tr>\n",
       "    <tr>\n",
       "      <th>Other Items</th>\n",
       "      <td>None</td>\n",
       "      <td>None</td>\n",
       "      <td>None</td>\n",
       "      <td>None</td>\n",
       "    </tr>\n",
       "    <tr>\n",
       "      <th>Income Tax Expense</th>\n",
       "      <td>7636000000.0</td>\n",
       "      <td>-5632000000.0</td>\n",
       "      <td>5282000000.0</td>\n",
       "      <td>9532000000.0</td>\n",
       "    </tr>\n",
       "    <tr>\n",
       "      <th>Total Revenue</th>\n",
       "      <td>278981000000.0</td>\n",
       "      <td>179784000000.0</td>\n",
       "      <td>259497000000.0</td>\n",
       "      <td>281060000000.0</td>\n",
       "    </tr>\n",
       "    <tr>\n",
       "      <th>Total Operating Expenses</th>\n",
       "      <td>252201000000.0</td>\n",
       "      <td>184216000000.0</td>\n",
       "      <td>243952000000.0</td>\n",
       "      <td>257793000000.0</td>\n",
       "    </tr>\n",
       "    <tr>\n",
       "      <th>Cost Of Revenue</th>\n",
       "      <td>188936000000.0</td>\n",
       "      <td>122627000000.0</td>\n",
       "      <td>178431000000.0</td>\n",
       "      <td>190752000000.0</td>\n",
       "    </tr>\n",
       "    <tr>\n",
       "      <th>Total Other Income Expense Net</th>\n",
       "      <td>4454000000.0</td>\n",
       "      <td>-24451000000.0</td>\n",
       "      <td>4511000000.0</td>\n",
       "      <td>7686000000.0</td>\n",
       "    </tr>\n",
       "    <tr>\n",
       "      <th>Discontinued Operations</th>\n",
       "      <td>None</td>\n",
       "      <td>None</td>\n",
       "      <td>None</td>\n",
       "      <td>None</td>\n",
       "    </tr>\n",
       "    <tr>\n",
       "      <th>Net Income From Continuing Ops</th>\n",
       "      <td>23598000000.0</td>\n",
       "      <td>-23251000000.0</td>\n",
       "      <td>14774000000.0</td>\n",
       "      <td>21421000000.0</td>\n",
       "    </tr>\n",
       "    <tr>\n",
       "      <th>Net Income Applicable To Common Shares</th>\n",
       "      <td>23040000000.0</td>\n",
       "      <td>-22440000000.0</td>\n",
       "      <td>14340000000.0</td>\n",
       "      <td>20840000000.0</td>\n",
       "    </tr>\n",
       "  </tbody>\n",
       "</table>\n",
       "</div>"
      ],
      "text/plain": [
       "                                            2021-12-31      2020-12-31  \\\n",
       "Research Development                              None            None   \n",
       "Effect Of Accounting Charges                      None            None   \n",
       "Income Before Tax                        31234000000.0  -28883000000.0   \n",
       "Minority Interest                         7106000000.0    6980000000.0   \n",
       "Net Income                               23040000000.0  -22440000000.0   \n",
       "Selling General Administrative            9849000000.0   10881000000.0   \n",
       "Gross Profit                             90045000000.0   57157000000.0   \n",
       "Ebit                                     26780000000.0   -4432000000.0   \n",
       "Operating Income                         26780000000.0   -4432000000.0   \n",
       "Other Operating Expenses                 32955000000.0   28425000000.0   \n",
       "Interest Expense                          -947000000.0   -1158000000.0   \n",
       "Extraordinary Items                               None            None   \n",
       "Non Recurring                                     None            None   \n",
       "Other Items                                       None            None   \n",
       "Income Tax Expense                        7636000000.0   -5632000000.0   \n",
       "Total Revenue                           278981000000.0  179784000000.0   \n",
       "Total Operating Expenses                252201000000.0  184216000000.0   \n",
       "Cost Of Revenue                         188936000000.0  122627000000.0   \n",
       "Total Other Income Expense Net            4454000000.0  -24451000000.0   \n",
       "Discontinued Operations                           None            None   \n",
       "Net Income From Continuing Ops           23598000000.0  -23251000000.0   \n",
       "Net Income Applicable To Common Shares   23040000000.0  -22440000000.0   \n",
       "\n",
       "                                            2019-12-31      2018-12-31  \n",
       "Research Development                              None            None  \n",
       "Effect Of Accounting Charges                      None            None  \n",
       "Income Before Tax                        20056000000.0   30953000000.0  \n",
       "Minority Interest                         7288000000.0    6734000000.0  \n",
       "Net Income                               14340000000.0   20840000000.0  \n",
       "Selling General Administrative           12168000000.0   12300000000.0  \n",
       "Gross Profit                             81066000000.0   90308000000.0  \n",
       "Ebit                                     15545000000.0   23267000000.0  \n",
       "Operating Income                         15545000000.0   23267000000.0  \n",
       "Other Operating Expenses                 33186000000.0   35230000000.0  \n",
       "Interest Expense                          -830000000.0    -766000000.0  \n",
       "Extraordinary Items                               None            None  \n",
       "Non Recurring                                     None            None  \n",
       "Other Items                                       None            None  \n",
       "Income Tax Expense                        5282000000.0    9532000000.0  \n",
       "Total Revenue                           259497000000.0  281060000000.0  \n",
       "Total Operating Expenses                243952000000.0  257793000000.0  \n",
       "Cost Of Revenue                         178431000000.0  190752000000.0  \n",
       "Total Other Income Expense Net            4511000000.0    7686000000.0  \n",
       "Discontinued Operations                           None            None  \n",
       "Net Income From Continuing Ops           14774000000.0   21421000000.0  \n",
       "Net Income Applicable To Common Shares   14340000000.0   20840000000.0  "
      ]
     },
     "metadata": {},
     "output_type": "display_data"
    }
   ],
   "source": [
    "financials = pd.DataFrame(sec.financials)\n",
    "display(financials)"
   ]
  },
  {
   "cell_type": "code",
   "execution_count": 149,
   "metadata": {},
   "outputs": [
    {
     "data": {
      "text/html": [
       "<div>\n",
       "<style scoped>\n",
       "    .dataframe tbody tr th:only-of-type {\n",
       "        vertical-align: middle;\n",
       "    }\n",
       "\n",
       "    .dataframe tbody tr th {\n",
       "        vertical-align: top;\n",
       "    }\n",
       "\n",
       "    .dataframe thead th {\n",
       "        text-align: right;\n",
       "    }\n",
       "</style>\n",
       "<table border=\"1\" class=\"dataframe\">\n",
       "  <thead>\n",
       "    <tr style=\"text-align: right;\">\n",
       "      <th></th>\n",
       "      <th>Research Development</th>\n",
       "      <th>Effect Of Accounting Charges</th>\n",
       "      <th>Income Before Tax</th>\n",
       "      <th>Minority Interest</th>\n",
       "      <th>Net Income</th>\n",
       "      <th>Selling General Administrative</th>\n",
       "      <th>Gross Profit</th>\n",
       "      <th>Ebit</th>\n",
       "      <th>Operating Income</th>\n",
       "      <th>Other Operating Expenses</th>\n",
       "      <th>...</th>\n",
       "      <th>Non Recurring</th>\n",
       "      <th>Other Items</th>\n",
       "      <th>Income Tax Expense</th>\n",
       "      <th>Total Revenue</th>\n",
       "      <th>Total Operating Expenses</th>\n",
       "      <th>Cost Of Revenue</th>\n",
       "      <th>Total Other Income Expense Net</th>\n",
       "      <th>Discontinued Operations</th>\n",
       "      <th>Net Income From Continuing Ops</th>\n",
       "      <th>Net Income Applicable To Common Shares</th>\n",
       "    </tr>\n",
       "    <tr>\n",
       "      <th></th>\n",
       "      <th></th>\n",
       "      <th></th>\n",
       "      <th></th>\n",
       "      <th></th>\n",
       "      <th></th>\n",
       "      <th></th>\n",
       "      <th></th>\n",
       "      <th></th>\n",
       "      <th></th>\n",
       "      <th></th>\n",
       "      <th></th>\n",
       "      <th></th>\n",
       "      <th></th>\n",
       "      <th></th>\n",
       "      <th></th>\n",
       "      <th></th>\n",
       "      <th></th>\n",
       "      <th></th>\n",
       "      <th></th>\n",
       "      <th></th>\n",
       "      <th></th>\n",
       "    </tr>\n",
       "  </thead>\n",
       "  <tbody>\n",
       "    <tr>\n",
       "      <th>2018-12-31</th>\n",
       "      <td>None</td>\n",
       "      <td>None</td>\n",
       "      <td>30953000000.0</td>\n",
       "      <td>6734000000.0</td>\n",
       "      <td>20840000000.0</td>\n",
       "      <td>12300000000.0</td>\n",
       "      <td>90308000000.0</td>\n",
       "      <td>23267000000.0</td>\n",
       "      <td>23267000000.0</td>\n",
       "      <td>35230000000.0</td>\n",
       "      <td>...</td>\n",
       "      <td>None</td>\n",
       "      <td>None</td>\n",
       "      <td>9532000000.0</td>\n",
       "      <td>281060000000.0</td>\n",
       "      <td>257793000000.0</td>\n",
       "      <td>190752000000.0</td>\n",
       "      <td>7686000000.0</td>\n",
       "      <td>None</td>\n",
       "      <td>21421000000.0</td>\n",
       "      <td>20840000000.0</td>\n",
       "    </tr>\n",
       "    <tr>\n",
       "      <th>2019-12-31</th>\n",
       "      <td>None</td>\n",
       "      <td>None</td>\n",
       "      <td>20056000000.0</td>\n",
       "      <td>7288000000.0</td>\n",
       "      <td>14340000000.0</td>\n",
       "      <td>12168000000.0</td>\n",
       "      <td>81066000000.0</td>\n",
       "      <td>15545000000.0</td>\n",
       "      <td>15545000000.0</td>\n",
       "      <td>33186000000.0</td>\n",
       "      <td>...</td>\n",
       "      <td>None</td>\n",
       "      <td>None</td>\n",
       "      <td>5282000000.0</td>\n",
       "      <td>259497000000.0</td>\n",
       "      <td>243952000000.0</td>\n",
       "      <td>178431000000.0</td>\n",
       "      <td>4511000000.0</td>\n",
       "      <td>None</td>\n",
       "      <td>14774000000.0</td>\n",
       "      <td>14340000000.0</td>\n",
       "    </tr>\n",
       "    <tr>\n",
       "      <th>2020-12-31</th>\n",
       "      <td>None</td>\n",
       "      <td>None</td>\n",
       "      <td>-28883000000.0</td>\n",
       "      <td>6980000000.0</td>\n",
       "      <td>-22440000000.0</td>\n",
       "      <td>10881000000.0</td>\n",
       "      <td>57157000000.0</td>\n",
       "      <td>-4432000000.0</td>\n",
       "      <td>-4432000000.0</td>\n",
       "      <td>28425000000.0</td>\n",
       "      <td>...</td>\n",
       "      <td>None</td>\n",
       "      <td>None</td>\n",
       "      <td>-5632000000.0</td>\n",
       "      <td>179784000000.0</td>\n",
       "      <td>184216000000.0</td>\n",
       "      <td>122627000000.0</td>\n",
       "      <td>-24451000000.0</td>\n",
       "      <td>None</td>\n",
       "      <td>-23251000000.0</td>\n",
       "      <td>-22440000000.0</td>\n",
       "    </tr>\n",
       "    <tr>\n",
       "      <th>2021-12-31</th>\n",
       "      <td>None</td>\n",
       "      <td>None</td>\n",
       "      <td>31234000000.0</td>\n",
       "      <td>7106000000.0</td>\n",
       "      <td>23040000000.0</td>\n",
       "      <td>9849000000.0</td>\n",
       "      <td>90045000000.0</td>\n",
       "      <td>26780000000.0</td>\n",
       "      <td>26780000000.0</td>\n",
       "      <td>32955000000.0</td>\n",
       "      <td>...</td>\n",
       "      <td>None</td>\n",
       "      <td>None</td>\n",
       "      <td>7636000000.0</td>\n",
       "      <td>278981000000.0</td>\n",
       "      <td>252201000000.0</td>\n",
       "      <td>188936000000.0</td>\n",
       "      <td>4454000000.0</td>\n",
       "      <td>None</td>\n",
       "      <td>23598000000.0</td>\n",
       "      <td>23040000000.0</td>\n",
       "    </tr>\n",
       "  </tbody>\n",
       "</table>\n",
       "<p>4 rows × 22 columns</p>\n",
       "</div>"
      ],
      "text/plain": [
       "           Research Development Effect Of Accounting Charges  \\\n",
       "                                                               \n",
       "2018-12-31                 None                         None   \n",
       "2019-12-31                 None                         None   \n",
       "2020-12-31                 None                         None   \n",
       "2021-12-31                 None                         None   \n",
       "\n",
       "           Income Before Tax Minority Interest     Net Income  \\\n",
       "                                                                \n",
       "2018-12-31     30953000000.0      6734000000.0  20840000000.0   \n",
       "2019-12-31     20056000000.0      7288000000.0  14340000000.0   \n",
       "2020-12-31    -28883000000.0      6980000000.0 -22440000000.0   \n",
       "2021-12-31     31234000000.0      7106000000.0  23040000000.0   \n",
       "\n",
       "           Selling General Administrative   Gross Profit           Ebit  \\\n",
       "                                                                          \n",
       "2018-12-31                  12300000000.0  90308000000.0  23267000000.0   \n",
       "2019-12-31                  12168000000.0  81066000000.0  15545000000.0   \n",
       "2020-12-31                  10881000000.0  57157000000.0  -4432000000.0   \n",
       "2021-12-31                   9849000000.0  90045000000.0  26780000000.0   \n",
       "\n",
       "           Operating Income Other Operating Expenses  ... Non Recurring  \\\n",
       "                                                      ...                 \n",
       "2018-12-31    23267000000.0            35230000000.0  ...          None   \n",
       "2019-12-31    15545000000.0            33186000000.0  ...          None   \n",
       "2020-12-31    -4432000000.0            28425000000.0  ...          None   \n",
       "2021-12-31    26780000000.0            32955000000.0  ...          None   \n",
       "\n",
       "           Other Items Income Tax Expense   Total Revenue  \\\n",
       "                                                            \n",
       "2018-12-31        None       9532000000.0  281060000000.0   \n",
       "2019-12-31        None       5282000000.0  259497000000.0   \n",
       "2020-12-31        None      -5632000000.0  179784000000.0   \n",
       "2021-12-31        None       7636000000.0  278981000000.0   \n",
       "\n",
       "           Total Operating Expenses Cost Of Revenue  \\\n",
       "                                                      \n",
       "2018-12-31           257793000000.0  190752000000.0   \n",
       "2019-12-31           243952000000.0  178431000000.0   \n",
       "2020-12-31           184216000000.0  122627000000.0   \n",
       "2021-12-31           252201000000.0  188936000000.0   \n",
       "\n",
       "           Total Other Income Expense Net Discontinued Operations  \\\n",
       "                                                                    \n",
       "2018-12-31                   7686000000.0                    None   \n",
       "2019-12-31                   4511000000.0                    None   \n",
       "2020-12-31                 -24451000000.0                    None   \n",
       "2021-12-31                   4454000000.0                    None   \n",
       "\n",
       "           Net Income From Continuing Ops  \\\n",
       "                                            \n",
       "2018-12-31                  21421000000.0   \n",
       "2019-12-31                  14774000000.0   \n",
       "2020-12-31                 -23251000000.0   \n",
       "2021-12-31                  23598000000.0   \n",
       "\n",
       "           Net Income Applicable To Common Shares  \n",
       "                                                   \n",
       "2018-12-31                          20840000000.0  \n",
       "2019-12-31                          14340000000.0  \n",
       "2020-12-31                         -22440000000.0  \n",
       "2021-12-31                          23040000000.0  \n",
       "\n",
       "[4 rows x 22 columns]"
      ]
     },
     "metadata": {},
     "output_type": "display_data"
    }
   ],
   "source": [
    "con_fin =financials.transpose()\n",
    "convert_fin = con_fin.sort_index(ascending=True)\n",
    "display(convert_fin)"
   ]
  },
  {
   "cell_type": "code",
   "execution_count": 150,
   "metadata": {},
   "outputs": [
    {
     "data": {
      "application/vnd.plotly.v1+json": {
       "config": {
        "linkText": "Export to plot.ly",
        "plotlyServerURL": "https://plot.ly",
        "showLink": false
       },
       "data": [
        {
         "marker": {
          "color": "rgba(16, 112, 2, 0.8)"
         },
         "mode": "lines+markers",
         "name": "Net Income",
         "type": "scatter",
         "x": [
          "2018",
          "2019",
          "2020",
          "2021"
         ],
         "y": [
          20840000000,
          14340000000,
          -22440000000,
          23040000000
         ]
        },
        {
         "marker": {
          "color": "rgba(80, 26, 80, 0.8)"
         },
         "mode": "lines+markers",
         "name": "Ebit",
         "type": "scatter",
         "x": [
          "2018",
          "2019",
          "2020",
          "2021"
         ],
         "y": [
          23267000000,
          15545000000,
          -4432000000,
          26780000000
         ]
        },
        {
         "marker": {
          "color": "rgba(247, 43, 163, 0.8)"
         },
         "mode": "lines+markers",
         "name": "Gross Profit",
         "type": "scatter",
         "x": [
          "2018",
          "2019",
          "2020",
          "2021"
         ],
         "y": [
          90308000000,
          81066000000,
          57157000000,
          90045000000
         ]
        }
       ],
       "layout": {
        "template": {
         "data": {
          "bar": [
           {
            "error_x": {
             "color": "#2a3f5f"
            },
            "error_y": {
             "color": "#2a3f5f"
            },
            "marker": {
             "line": {
              "color": "#E5ECF6",
              "width": 0.5
             },
             "pattern": {
              "fillmode": "overlay",
              "size": 10,
              "solidity": 0.2
             }
            },
            "type": "bar"
           }
          ],
          "barpolar": [
           {
            "marker": {
             "line": {
              "color": "#E5ECF6",
              "width": 0.5
             },
             "pattern": {
              "fillmode": "overlay",
              "size": 10,
              "solidity": 0.2
             }
            },
            "type": "barpolar"
           }
          ],
          "carpet": [
           {
            "aaxis": {
             "endlinecolor": "#2a3f5f",
             "gridcolor": "white",
             "linecolor": "white",
             "minorgridcolor": "white",
             "startlinecolor": "#2a3f5f"
            },
            "baxis": {
             "endlinecolor": "#2a3f5f",
             "gridcolor": "white",
             "linecolor": "white",
             "minorgridcolor": "white",
             "startlinecolor": "#2a3f5f"
            },
            "type": "carpet"
           }
          ],
          "choropleth": [
           {
            "colorbar": {
             "outlinewidth": 0,
             "ticks": ""
            },
            "type": "choropleth"
           }
          ],
          "contour": [
           {
            "colorbar": {
             "outlinewidth": 0,
             "ticks": ""
            },
            "colorscale": [
             [
              0,
              "#0d0887"
             ],
             [
              0.1111111111111111,
              "#46039f"
             ],
             [
              0.2222222222222222,
              "#7201a8"
             ],
             [
              0.3333333333333333,
              "#9c179e"
             ],
             [
              0.4444444444444444,
              "#bd3786"
             ],
             [
              0.5555555555555556,
              "#d8576b"
             ],
             [
              0.6666666666666666,
              "#ed7953"
             ],
             [
              0.7777777777777778,
              "#fb9f3a"
             ],
             [
              0.8888888888888888,
              "#fdca26"
             ],
             [
              1,
              "#f0f921"
             ]
            ],
            "type": "contour"
           }
          ],
          "contourcarpet": [
           {
            "colorbar": {
             "outlinewidth": 0,
             "ticks": ""
            },
            "type": "contourcarpet"
           }
          ],
          "heatmap": [
           {
            "colorbar": {
             "outlinewidth": 0,
             "ticks": ""
            },
            "colorscale": [
             [
              0,
              "#0d0887"
             ],
             [
              0.1111111111111111,
              "#46039f"
             ],
             [
              0.2222222222222222,
              "#7201a8"
             ],
             [
              0.3333333333333333,
              "#9c179e"
             ],
             [
              0.4444444444444444,
              "#bd3786"
             ],
             [
              0.5555555555555556,
              "#d8576b"
             ],
             [
              0.6666666666666666,
              "#ed7953"
             ],
             [
              0.7777777777777778,
              "#fb9f3a"
             ],
             [
              0.8888888888888888,
              "#fdca26"
             ],
             [
              1,
              "#f0f921"
             ]
            ],
            "type": "heatmap"
           }
          ],
          "heatmapgl": [
           {
            "colorbar": {
             "outlinewidth": 0,
             "ticks": ""
            },
            "colorscale": [
             [
              0,
              "#0d0887"
             ],
             [
              0.1111111111111111,
              "#46039f"
             ],
             [
              0.2222222222222222,
              "#7201a8"
             ],
             [
              0.3333333333333333,
              "#9c179e"
             ],
             [
              0.4444444444444444,
              "#bd3786"
             ],
             [
              0.5555555555555556,
              "#d8576b"
             ],
             [
              0.6666666666666666,
              "#ed7953"
             ],
             [
              0.7777777777777778,
              "#fb9f3a"
             ],
             [
              0.8888888888888888,
              "#fdca26"
             ],
             [
              1,
              "#f0f921"
             ]
            ],
            "type": "heatmapgl"
           }
          ],
          "histogram": [
           {
            "marker": {
             "pattern": {
              "fillmode": "overlay",
              "size": 10,
              "solidity": 0.2
             }
            },
            "type": "histogram"
           }
          ],
          "histogram2d": [
           {
            "colorbar": {
             "outlinewidth": 0,
             "ticks": ""
            },
            "colorscale": [
             [
              0,
              "#0d0887"
             ],
             [
              0.1111111111111111,
              "#46039f"
             ],
             [
              0.2222222222222222,
              "#7201a8"
             ],
             [
              0.3333333333333333,
              "#9c179e"
             ],
             [
              0.4444444444444444,
              "#bd3786"
             ],
             [
              0.5555555555555556,
              "#d8576b"
             ],
             [
              0.6666666666666666,
              "#ed7953"
             ],
             [
              0.7777777777777778,
              "#fb9f3a"
             ],
             [
              0.8888888888888888,
              "#fdca26"
             ],
             [
              1,
              "#f0f921"
             ]
            ],
            "type": "histogram2d"
           }
          ],
          "histogram2dcontour": [
           {
            "colorbar": {
             "outlinewidth": 0,
             "ticks": ""
            },
            "colorscale": [
             [
              0,
              "#0d0887"
             ],
             [
              0.1111111111111111,
              "#46039f"
             ],
             [
              0.2222222222222222,
              "#7201a8"
             ],
             [
              0.3333333333333333,
              "#9c179e"
             ],
             [
              0.4444444444444444,
              "#bd3786"
             ],
             [
              0.5555555555555556,
              "#d8576b"
             ],
             [
              0.6666666666666666,
              "#ed7953"
             ],
             [
              0.7777777777777778,
              "#fb9f3a"
             ],
             [
              0.8888888888888888,
              "#fdca26"
             ],
             [
              1,
              "#f0f921"
             ]
            ],
            "type": "histogram2dcontour"
           }
          ],
          "mesh3d": [
           {
            "colorbar": {
             "outlinewidth": 0,
             "ticks": ""
            },
            "type": "mesh3d"
           }
          ],
          "parcoords": [
           {
            "line": {
             "colorbar": {
              "outlinewidth": 0,
              "ticks": ""
             }
            },
            "type": "parcoords"
           }
          ],
          "pie": [
           {
            "automargin": true,
            "type": "pie"
           }
          ],
          "scatter": [
           {
            "fillpattern": {
             "fillmode": "overlay",
             "size": 10,
             "solidity": 0.2
            },
            "type": "scatter"
           }
          ],
          "scatter3d": [
           {
            "line": {
             "colorbar": {
              "outlinewidth": 0,
              "ticks": ""
             }
            },
            "marker": {
             "colorbar": {
              "outlinewidth": 0,
              "ticks": ""
             }
            },
            "type": "scatter3d"
           }
          ],
          "scattercarpet": [
           {
            "marker": {
             "colorbar": {
              "outlinewidth": 0,
              "ticks": ""
             }
            },
            "type": "scattercarpet"
           }
          ],
          "scattergeo": [
           {
            "marker": {
             "colorbar": {
              "outlinewidth": 0,
              "ticks": ""
             }
            },
            "type": "scattergeo"
           }
          ],
          "scattergl": [
           {
            "marker": {
             "colorbar": {
              "outlinewidth": 0,
              "ticks": ""
             }
            },
            "type": "scattergl"
           }
          ],
          "scattermapbox": [
           {
            "marker": {
             "colorbar": {
              "outlinewidth": 0,
              "ticks": ""
             }
            },
            "type": "scattermapbox"
           }
          ],
          "scatterpolar": [
           {
            "marker": {
             "colorbar": {
              "outlinewidth": 0,
              "ticks": ""
             }
            },
            "type": "scatterpolar"
           }
          ],
          "scatterpolargl": [
           {
            "marker": {
             "colorbar": {
              "outlinewidth": 0,
              "ticks": ""
             }
            },
            "type": "scatterpolargl"
           }
          ],
          "scatterternary": [
           {
            "marker": {
             "colorbar": {
              "outlinewidth": 0,
              "ticks": ""
             }
            },
            "type": "scatterternary"
           }
          ],
          "surface": [
           {
            "colorbar": {
             "outlinewidth": 0,
             "ticks": ""
            },
            "colorscale": [
             [
              0,
              "#0d0887"
             ],
             [
              0.1111111111111111,
              "#46039f"
             ],
             [
              0.2222222222222222,
              "#7201a8"
             ],
             [
              0.3333333333333333,
              "#9c179e"
             ],
             [
              0.4444444444444444,
              "#bd3786"
             ],
             [
              0.5555555555555556,
              "#d8576b"
             ],
             [
              0.6666666666666666,
              "#ed7953"
             ],
             [
              0.7777777777777778,
              "#fb9f3a"
             ],
             [
              0.8888888888888888,
              "#fdca26"
             ],
             [
              1,
              "#f0f921"
             ]
            ],
            "type": "surface"
           }
          ],
          "table": [
           {
            "cells": {
             "fill": {
              "color": "#EBF0F8"
             },
             "line": {
              "color": "white"
             }
            },
            "header": {
             "fill": {
              "color": "#C8D4E3"
             },
             "line": {
              "color": "white"
             }
            },
            "type": "table"
           }
          ]
         },
         "layout": {
          "annotationdefaults": {
           "arrowcolor": "#2a3f5f",
           "arrowhead": 0,
           "arrowwidth": 1
          },
          "autotypenumbers": "strict",
          "coloraxis": {
           "colorbar": {
            "outlinewidth": 0,
            "ticks": ""
           }
          },
          "colorscale": {
           "diverging": [
            [
             0,
             "#8e0152"
            ],
            [
             0.1,
             "#c51b7d"
            ],
            [
             0.2,
             "#de77ae"
            ],
            [
             0.3,
             "#f1b6da"
            ],
            [
             0.4,
             "#fde0ef"
            ],
            [
             0.5,
             "#f7f7f7"
            ],
            [
             0.6,
             "#e6f5d0"
            ],
            [
             0.7,
             "#b8e186"
            ],
            [
             0.8,
             "#7fbc41"
            ],
            [
             0.9,
             "#4d9221"
            ],
            [
             1,
             "#276419"
            ]
           ],
           "sequential": [
            [
             0,
             "#0d0887"
            ],
            [
             0.1111111111111111,
             "#46039f"
            ],
            [
             0.2222222222222222,
             "#7201a8"
            ],
            [
             0.3333333333333333,
             "#9c179e"
            ],
            [
             0.4444444444444444,
             "#bd3786"
            ],
            [
             0.5555555555555556,
             "#d8576b"
            ],
            [
             0.6666666666666666,
             "#ed7953"
            ],
            [
             0.7777777777777778,
             "#fb9f3a"
            ],
            [
             0.8888888888888888,
             "#fdca26"
            ],
            [
             1,
             "#f0f921"
            ]
           ],
           "sequentialminus": [
            [
             0,
             "#0d0887"
            ],
            [
             0.1111111111111111,
             "#46039f"
            ],
            [
             0.2222222222222222,
             "#7201a8"
            ],
            [
             0.3333333333333333,
             "#9c179e"
            ],
            [
             0.4444444444444444,
             "#bd3786"
            ],
            [
             0.5555555555555556,
             "#d8576b"
            ],
            [
             0.6666666666666666,
             "#ed7953"
            ],
            [
             0.7777777777777778,
             "#fb9f3a"
            ],
            [
             0.8888888888888888,
             "#fdca26"
            ],
            [
             1,
             "#f0f921"
            ]
           ]
          },
          "colorway": [
           "#636efa",
           "#EF553B",
           "#00cc96",
           "#ab63fa",
           "#FFA15A",
           "#19d3f3",
           "#FF6692",
           "#B6E880",
           "#FF97FF",
           "#FECB52"
          ],
          "font": {
           "color": "#2a3f5f"
          },
          "geo": {
           "bgcolor": "white",
           "lakecolor": "white",
           "landcolor": "#E5ECF6",
           "showlakes": true,
           "showland": true,
           "subunitcolor": "white"
          },
          "hoverlabel": {
           "align": "left"
          },
          "hovermode": "closest",
          "mapbox": {
           "style": "light"
          },
          "paper_bgcolor": "white",
          "plot_bgcolor": "#E5ECF6",
          "polar": {
           "angularaxis": {
            "gridcolor": "white",
            "linecolor": "white",
            "ticks": ""
           },
           "bgcolor": "#E5ECF6",
           "radialaxis": {
            "gridcolor": "white",
            "linecolor": "white",
            "ticks": ""
           }
          },
          "scene": {
           "xaxis": {
            "backgroundcolor": "#E5ECF6",
            "gridcolor": "white",
            "gridwidth": 2,
            "linecolor": "white",
            "showbackground": true,
            "ticks": "",
            "zerolinecolor": "white"
           },
           "yaxis": {
            "backgroundcolor": "#E5ECF6",
            "gridcolor": "white",
            "gridwidth": 2,
            "linecolor": "white",
            "showbackground": true,
            "ticks": "",
            "zerolinecolor": "white"
           },
           "zaxis": {
            "backgroundcolor": "#E5ECF6",
            "gridcolor": "white",
            "gridwidth": 2,
            "linecolor": "white",
            "showbackground": true,
            "ticks": "",
            "zerolinecolor": "white"
           }
          },
          "shapedefaults": {
           "line": {
            "color": "#2a3f5f"
           }
          },
          "ternary": {
           "aaxis": {
            "gridcolor": "white",
            "linecolor": "white",
            "ticks": ""
           },
           "baxis": {
            "gridcolor": "white",
            "linecolor": "white",
            "ticks": ""
           },
           "bgcolor": "#E5ECF6",
           "caxis": {
            "gridcolor": "white",
            "linecolor": "white",
            "ticks": ""
           }
          },
          "title": {
           "x": 0.05
          },
          "xaxis": {
           "automargin": true,
           "gridcolor": "white",
           "linecolor": "white",
           "ticks": "",
           "title": {
            "standoff": 15
           },
           "zerolinecolor": "white",
           "zerolinewidth": 2
          },
          "yaxis": {
           "automargin": true,
           "gridcolor": "white",
           "linecolor": "white",
           "ticks": "",
           "title": {
            "standoff": 15
           },
           "zerolinecolor": "white",
           "zerolinewidth": 2
          }
         }
        },
        "title": {
         "text": "Financials 2018-2021"
        },
        "xaxis": {
         "linecolor": "black",
         "linewidth": 1,
         "ticklen": 5,
         "ticks": "outside",
         "zeroline": true
        }
       }
      }
     },
     "metadata": {},
     "output_type": "display_data"
    }
   ],
   "source": [
    "trace1 = go.Scatter(\n",
    "    x=['2018', '2019', '2020', '2021'],\n",
    "    y=convert_fin['Net Income'],\n",
    "    mode='lines+markers',\n",
    "    name='Net Income',\n",
    "    marker=dict(color='rgba(16, 112, 2, 0.8)'),\n",
    ")\n",
    "trace2 = go.Scatter(\n",
    "    x=['2018', '2019', '2020', '2021'],\n",
    "    y=convert_fin['Ebit'],\n",
    "    mode='lines+markers',\n",
    "    name='Ebit',\n",
    "    marker=dict(color='rgba(80, 26, 80, 0.8)'),\n",
    ")\n",
    "trace3 = go.Scatter(\n",
    "    x=['2018', '2019', '2020', '2021'],\n",
    "    y=convert_fin['Gross Profit'],\n",
    "    mode='lines+markers',\n",
    "    name='Gross Profit',\n",
    "    marker=dict(color='rgba(247, 43, 163, 0.8)'),\n",
    ")\n",
    "data = [trace1, trace2, trace3]\n",
    "layout = dict(\n",
    "    title='Financials 2018-2021',\n",
    "    xaxis=dict( \n",
    "        ticks='outside', ticklen=5, \n",
    "        zeroline=True, linewidth=1, linecolor='black'\n",
    "        ))\n",
    "fig = dict(data=data, layout=layout)            \n",
    "py.iplot(fig)"
   ]
  },
  {
   "cell_type": "code",
   "execution_count": 151,
   "metadata": {},
   "outputs": [
    {
     "data": {
      "text/html": [
       "<div>\n",
       "<style scoped>\n",
       "    .dataframe tbody tr th:only-of-type {\n",
       "        vertical-align: middle;\n",
       "    }\n",
       "\n",
       "    .dataframe tbody tr th {\n",
       "        vertical-align: top;\n",
       "    }\n",
       "\n",
       "    .dataframe thead th {\n",
       "        text-align: right;\n",
       "    }\n",
       "</style>\n",
       "<table border=\"1\" class=\"dataframe\">\n",
       "  <thead>\n",
       "    <tr style=\"text-align: right;\">\n",
       "      <th></th>\n",
       "      <th>2022-03-31</th>\n",
       "      <th>2021-12-31</th>\n",
       "      <th>2021-09-30</th>\n",
       "      <th>2021-06-30</th>\n",
       "    </tr>\n",
       "  </thead>\n",
       "  <tbody>\n",
       "    <tr>\n",
       "      <th>Research Development</th>\n",
       "      <td>None</td>\n",
       "      <td>None</td>\n",
       "      <td>None</td>\n",
       "      <td>None</td>\n",
       "    </tr>\n",
       "    <tr>\n",
       "      <th>Effect Of Accounting Charges</th>\n",
       "      <td>None</td>\n",
       "      <td>None</td>\n",
       "      <td>None</td>\n",
       "      <td>None</td>\n",
       "    </tr>\n",
       "    <tr>\n",
       "      <th>Income Before Tax</th>\n",
       "      <td>8556000000.0</td>\n",
       "      <td>11729000000.0</td>\n",
       "      <td>9606000000.0</td>\n",
       "      <td>6307000000.0</td>\n",
       "    </tr>\n",
       "    <tr>\n",
       "      <th>Minority Interest</th>\n",
       "      <td>7311000000.0</td>\n",
       "      <td>7106000000.0</td>\n",
       "      <td>6917000000.0</td>\n",
       "      <td>6985000000.0</td>\n",
       "    </tr>\n",
       "    <tr>\n",
       "      <th>Net Income</th>\n",
       "      <td>5480000000.0</td>\n",
       "      <td>8870000000.0</td>\n",
       "      <td>6750000000.0</td>\n",
       "      <td>4690000000.0</td>\n",
       "    </tr>\n",
       "    <tr>\n",
       "      <th>Selling General Administrative</th>\n",
       "      <td>2517000000.0</td>\n",
       "      <td>2103000000.0</td>\n",
       "      <td>2429000000.0</td>\n",
       "      <td>2497000000.0</td>\n",
       "    </tr>\n",
       "    <tr>\n",
       "      <th>Gross Profit</th>\n",
       "      <td>25333000000.0</td>\n",
       "      <td>28876000000.0</td>\n",
       "      <td>23652000000.0</td>\n",
       "      <td>20506000000.0</td>\n",
       "    </tr>\n",
       "    <tr>\n",
       "      <th>Ebit</th>\n",
       "      <td>9181000000.0</td>\n",
       "      <td>11128000000.0</td>\n",
       "      <td>8154000000.0</td>\n",
       "      <td>5135000000.0</td>\n",
       "    </tr>\n",
       "    <tr>\n",
       "      <th>Operating Income</th>\n",
       "      <td>9181000000.0</td>\n",
       "      <td>11128000000.0</td>\n",
       "      <td>8154000000.0</td>\n",
       "      <td>5135000000.0</td>\n",
       "    </tr>\n",
       "    <tr>\n",
       "      <th>Other Operating Expenses</th>\n",
       "      <td>7554000000.0</td>\n",
       "      <td>10660000000.0</td>\n",
       "      <td>7889000000.0</td>\n",
       "      <td>7746000000.0</td>\n",
       "    </tr>\n",
       "    <tr>\n",
       "      <th>Interest Expense</th>\n",
       "      <td>-188000000.0</td>\n",
       "      <td>-221000000.0</td>\n",
       "      <td>-214000000.0</td>\n",
       "      <td>-254000000.0</td>\n",
       "    </tr>\n",
       "    <tr>\n",
       "      <th>Extraordinary Items</th>\n",
       "      <td>None</td>\n",
       "      <td>None</td>\n",
       "      <td>None</td>\n",
       "      <td>None</td>\n",
       "    </tr>\n",
       "    <tr>\n",
       "      <th>Non Recurring</th>\n",
       "      <td>None</td>\n",
       "      <td>None</td>\n",
       "      <td>None</td>\n",
       "      <td>None</td>\n",
       "    </tr>\n",
       "    <tr>\n",
       "      <th>Other Items</th>\n",
       "      <td>None</td>\n",
       "      <td>None</td>\n",
       "      <td>None</td>\n",
       "      <td>None</td>\n",
       "    </tr>\n",
       "    <tr>\n",
       "      <th>Income Tax Expense</th>\n",
       "      <td>2806000000.0</td>\n",
       "      <td>2650000000.0</td>\n",
       "      <td>2664000000.0</td>\n",
       "      <td>1526000000.0</td>\n",
       "    </tr>\n",
       "    <tr>\n",
       "      <th>Total Revenue</th>\n",
       "      <td>87962000000.0</td>\n",
       "      <td>82885000000.0</td>\n",
       "      <td>72116000000.0</td>\n",
       "      <td>66306000000.0</td>\n",
       "    </tr>\n",
       "    <tr>\n",
       "      <th>Total Operating Expenses</th>\n",
       "      <td>78781000000.0</td>\n",
       "      <td>71757000000.0</td>\n",
       "      <td>63962000000.0</td>\n",
       "      <td>61171000000.0</td>\n",
       "    </tr>\n",
       "    <tr>\n",
       "      <th>Cost Of Revenue</th>\n",
       "      <td>62629000000.0</td>\n",
       "      <td>54009000000.0</td>\n",
       "      <td>48464000000.0</td>\n",
       "      <td>45800000000.0</td>\n",
       "    </tr>\n",
       "    <tr>\n",
       "      <th>Total Other Income Expense Net</th>\n",
       "      <td>-625000000.0</td>\n",
       "      <td>601000000.0</td>\n",
       "      <td>1452000000.0</td>\n",
       "      <td>1172000000.0</td>\n",
       "    </tr>\n",
       "    <tr>\n",
       "      <th>Discontinued Operations</th>\n",
       "      <td>None</td>\n",
       "      <td>None</td>\n",
       "      <td>None</td>\n",
       "      <td>None</td>\n",
       "    </tr>\n",
       "    <tr>\n",
       "      <th>Net Income From Continuing Ops</th>\n",
       "      <td>5750000000.0</td>\n",
       "      <td>9079000000.0</td>\n",
       "      <td>6942000000.0</td>\n",
       "      <td>4781000000.0</td>\n",
       "    </tr>\n",
       "    <tr>\n",
       "      <th>Net Income Applicable To Common Shares</th>\n",
       "      <td>5480000000.0</td>\n",
       "      <td>8870000000.0</td>\n",
       "      <td>6750000000.0</td>\n",
       "      <td>4690000000.0</td>\n",
       "    </tr>\n",
       "  </tbody>\n",
       "</table>\n",
       "</div>"
      ],
      "text/plain": [
       "                                           2022-03-31     2021-12-31  \\\n",
       "Research Development                             None           None   \n",
       "Effect Of Accounting Charges                     None           None   \n",
       "Income Before Tax                        8556000000.0  11729000000.0   \n",
       "Minority Interest                        7311000000.0   7106000000.0   \n",
       "Net Income                               5480000000.0   8870000000.0   \n",
       "Selling General Administrative           2517000000.0   2103000000.0   \n",
       "Gross Profit                            25333000000.0  28876000000.0   \n",
       "Ebit                                     9181000000.0  11128000000.0   \n",
       "Operating Income                         9181000000.0  11128000000.0   \n",
       "Other Operating Expenses                 7554000000.0  10660000000.0   \n",
       "Interest Expense                         -188000000.0   -221000000.0   \n",
       "Extraordinary Items                              None           None   \n",
       "Non Recurring                                    None           None   \n",
       "Other Items                                      None           None   \n",
       "Income Tax Expense                       2806000000.0   2650000000.0   \n",
       "Total Revenue                           87962000000.0  82885000000.0   \n",
       "Total Operating Expenses                78781000000.0  71757000000.0   \n",
       "Cost Of Revenue                         62629000000.0  54009000000.0   \n",
       "Total Other Income Expense Net           -625000000.0    601000000.0   \n",
       "Discontinued Operations                          None           None   \n",
       "Net Income From Continuing Ops           5750000000.0   9079000000.0   \n",
       "Net Income Applicable To Common Shares   5480000000.0   8870000000.0   \n",
       "\n",
       "                                           2021-09-30     2021-06-30  \n",
       "Research Development                             None           None  \n",
       "Effect Of Accounting Charges                     None           None  \n",
       "Income Before Tax                        9606000000.0   6307000000.0  \n",
       "Minority Interest                        6917000000.0   6985000000.0  \n",
       "Net Income                               6750000000.0   4690000000.0  \n",
       "Selling General Administrative           2429000000.0   2497000000.0  \n",
       "Gross Profit                            23652000000.0  20506000000.0  \n",
       "Ebit                                     8154000000.0   5135000000.0  \n",
       "Operating Income                         8154000000.0   5135000000.0  \n",
       "Other Operating Expenses                 7889000000.0   7746000000.0  \n",
       "Interest Expense                         -214000000.0   -254000000.0  \n",
       "Extraordinary Items                              None           None  \n",
       "Non Recurring                                    None           None  \n",
       "Other Items                                      None           None  \n",
       "Income Tax Expense                       2664000000.0   1526000000.0  \n",
       "Total Revenue                           72116000000.0  66306000000.0  \n",
       "Total Operating Expenses                63962000000.0  61171000000.0  \n",
       "Cost Of Revenue                         48464000000.0  45800000000.0  \n",
       "Total Other Income Expense Net           1452000000.0   1172000000.0  \n",
       "Discontinued Operations                          None           None  \n",
       "Net Income From Continuing Ops           6942000000.0   4781000000.0  \n",
       "Net Income Applicable To Common Shares   6750000000.0   4690000000.0  "
      ]
     },
     "metadata": {},
     "output_type": "display_data"
    }
   ],
   "source": [
    "quarterly_financials = pd.DataFrame(sec.quarterly_financials)\n",
    "display(quarterly_financials)\n",
    "\n",
    "# Ebit, Gross Profit, Net Income"
   ]
  },
  {
   "cell_type": "markdown",
   "metadata": {},
   "source": [
    "### Balance"
   ]
  },
  {
   "cell_type": "code",
   "execution_count": 152,
   "metadata": {},
   "outputs": [
    {
     "data": {
      "text/html": [
       "<div>\n",
       "<style scoped>\n",
       "    .dataframe tbody tr th:only-of-type {\n",
       "        vertical-align: middle;\n",
       "    }\n",
       "\n",
       "    .dataframe tbody tr th {\n",
       "        vertical-align: top;\n",
       "    }\n",
       "\n",
       "    .dataframe thead th {\n",
       "        text-align: right;\n",
       "    }\n",
       "</style>\n",
       "<table border=\"1\" class=\"dataframe\">\n",
       "  <thead>\n",
       "    <tr style=\"text-align: right;\">\n",
       "      <th></th>\n",
       "      <th>2021-12-31</th>\n",
       "      <th>2020-12-31</th>\n",
       "      <th>2019-12-31</th>\n",
       "      <th>2018-12-31</th>\n",
       "    </tr>\n",
       "  </thead>\n",
       "  <tbody>\n",
       "    <tr>\n",
       "      <th>Total Liab</th>\n",
       "      <td>1.632400e+11</td>\n",
       "      <td>1.686200e+11</td>\n",
       "      <td>1.636590e+11</td>\n",
       "      <td>1.476680e+11</td>\n",
       "    </tr>\n",
       "    <tr>\n",
       "      <th>Total Stockholder Equity</th>\n",
       "      <td>1.685770e+11</td>\n",
       "      <td>1.571500e+11</td>\n",
       "      <td>1.916500e+11</td>\n",
       "      <td>1.917940e+11</td>\n",
       "    </tr>\n",
       "    <tr>\n",
       "      <th>Minority Interest</th>\n",
       "      <td>7.106000e+09</td>\n",
       "      <td>6.980000e+09</td>\n",
       "      <td>7.288000e+09</td>\n",
       "      <td>6.734000e+09</td>\n",
       "    </tr>\n",
       "    <tr>\n",
       "      <th>Other Current Liab</th>\n",
       "      <td>2.047700e+10</td>\n",
       "      <td>1.382600e+10</td>\n",
       "      <td>1.419000e+10</td>\n",
       "      <td>1.553700e+10</td>\n",
       "    </tr>\n",
       "    <tr>\n",
       "      <th>Total Assets</th>\n",
       "      <td>3.389230e+11</td>\n",
       "      <td>3.327500e+11</td>\n",
       "      <td>3.625970e+11</td>\n",
       "      <td>3.461960e+11</td>\n",
       "    </tr>\n",
       "    <tr>\n",
       "      <th>Common Stock</th>\n",
       "      <td>1.574600e+10</td>\n",
       "      <td>1.568800e+10</td>\n",
       "      <td>1.563700e+10</td>\n",
       "      <td>1.525800e+10</td>\n",
       "    </tr>\n",
       "    <tr>\n",
       "      <th>Other Current Assets</th>\n",
       "      <td>1.189000e+09</td>\n",
       "      <td>1.098000e+09</td>\n",
       "      <td>1.469000e+09</td>\n",
       "      <td>1.272000e+09</td>\n",
       "    </tr>\n",
       "    <tr>\n",
       "      <th>Retained Earnings</th>\n",
       "      <td>3.920590e+11</td>\n",
       "      <td>3.839430e+11</td>\n",
       "      <td>4.213410e+11</td>\n",
       "      <td>4.216530e+11</td>\n",
       "    </tr>\n",
       "    <tr>\n",
       "      <th>Other Liab</th>\n",
       "      <td>5.921500e+10</td>\n",
       "      <td>6.094600e+10</td>\n",
       "      <td>6.870700e+10</td>\n",
       "      <td>6.999200e+10</td>\n",
       "    </tr>\n",
       "    <tr>\n",
       "      <th>Treasury Stock</th>\n",
       "      <td>-2.392280e+11</td>\n",
       "      <td>-2.424810e+11</td>\n",
       "      <td>-2.453280e+11</td>\n",
       "      <td>-2.451170e+11</td>\n",
       "    </tr>\n",
       "    <tr>\n",
       "      <th>Other Assets</th>\n",
       "      <td>2.577200e+10</td>\n",
       "      <td>2.431100e+10</td>\n",
       "      <td>2.341300e+10</td>\n",
       "      <td>2.453000e+10</td>\n",
       "    </tr>\n",
       "    <tr>\n",
       "      <th>Cash</th>\n",
       "      <td>6.802000e+09</td>\n",
       "      <td>4.364000e+09</td>\n",
       "      <td>3.089000e+09</td>\n",
       "      <td>3.042000e+09</td>\n",
       "    </tr>\n",
       "    <tr>\n",
       "      <th>Total Current Liabilities</th>\n",
       "      <td>5.664300e+10</td>\n",
       "      <td>5.636300e+10</td>\n",
       "      <td>6.398900e+10</td>\n",
       "      <td>5.713800e+10</td>\n",
       "    </tr>\n",
       "    <tr>\n",
       "      <th>Deferred Long Term Asset Charges</th>\n",
       "      <td>4.450000e+09</td>\n",
       "      <td>4.159000e+09</td>\n",
       "      <td>3.268000e+09</td>\n",
       "      <td>3.209000e+09</td>\n",
       "    </tr>\n",
       "    <tr>\n",
       "      <th>Short Long Term Debt</th>\n",
       "      <td>2.281000e+09</td>\n",
       "      <td>2.828000e+09</td>\n",
       "      <td>1.617000e+09</td>\n",
       "      <td>4.070000e+09</td>\n",
       "    </tr>\n",
       "    <tr>\n",
       "      <th>Other Stockholder Equity</th>\n",
       "      <td>-1.376400e+10</td>\n",
       "      <td>-1.670500e+10</td>\n",
       "      <td>-1.949300e+10</td>\n",
       "      <td>-1.956400e+10</td>\n",
       "    </tr>\n",
       "    <tr>\n",
       "      <th>Property Plant Equipment</th>\n",
       "      <td>2.226340e+11</td>\n",
       "      <td>2.336310e+11</td>\n",
       "      <td>2.596510e+11</td>\n",
       "      <td>2.471010e+11</td>\n",
       "    </tr>\n",
       "    <tr>\n",
       "      <th>Total Current Assets</th>\n",
       "      <td>5.915400e+10</td>\n",
       "      <td>4.489300e+10</td>\n",
       "      <td>5.005200e+10</td>\n",
       "      <td>4.797300e+10</td>\n",
       "    </tr>\n",
       "    <tr>\n",
       "      <th>Long Term Investments</th>\n",
       "      <td>3.136300e+10</td>\n",
       "      <td>2.991500e+10</td>\n",
       "      <td>2.948100e+10</td>\n",
       "      <td>2.659200e+10</td>\n",
       "    </tr>\n",
       "    <tr>\n",
       "      <th>Net Tangible Assets</th>\n",
       "      <td>1.685770e+11</td>\n",
       "      <td>1.571500e+11</td>\n",
       "      <td>1.916500e+11</td>\n",
       "      <td>1.917940e+11</td>\n",
       "    </tr>\n",
       "    <tr>\n",
       "      <th>Net Receivables</th>\n",
       "      <td>3.238300e+10</td>\n",
       "      <td>2.058100e+10</td>\n",
       "      <td>2.696600e+10</td>\n",
       "      <td>2.470100e+10</td>\n",
       "    </tr>\n",
       "    <tr>\n",
       "      <th>Long Term Debt</th>\n",
       "      <td>4.166700e+10</td>\n",
       "      <td>4.550200e+10</td>\n",
       "      <td>2.467200e+10</td>\n",
       "      <td>1.923500e+10</td>\n",
       "    </tr>\n",
       "    <tr>\n",
       "      <th>Inventory</th>\n",
       "      <td>1.878000e+10</td>\n",
       "      <td>1.885000e+10</td>\n",
       "      <td>1.852800e+10</td>\n",
       "      <td>1.895800e+10</td>\n",
       "    </tr>\n",
       "    <tr>\n",
       "      <th>Accounts Payable</th>\n",
       "      <td>2.662300e+10</td>\n",
       "      <td>1.749900e+10</td>\n",
       "      <td>2.469400e+10</td>\n",
       "      <td>2.106300e+10</td>\n",
       "    </tr>\n",
       "  </tbody>\n",
       "</table>\n",
       "</div>"
      ],
      "text/plain": [
       "                                    2021-12-31    2020-12-31    2019-12-31  \\\n",
       "Total Liab                        1.632400e+11  1.686200e+11  1.636590e+11   \n",
       "Total Stockholder Equity          1.685770e+11  1.571500e+11  1.916500e+11   \n",
       "Minority Interest                 7.106000e+09  6.980000e+09  7.288000e+09   \n",
       "Other Current Liab                2.047700e+10  1.382600e+10  1.419000e+10   \n",
       "Total Assets                      3.389230e+11  3.327500e+11  3.625970e+11   \n",
       "Common Stock                      1.574600e+10  1.568800e+10  1.563700e+10   \n",
       "Other Current Assets              1.189000e+09  1.098000e+09  1.469000e+09   \n",
       "Retained Earnings                 3.920590e+11  3.839430e+11  4.213410e+11   \n",
       "Other Liab                        5.921500e+10  6.094600e+10  6.870700e+10   \n",
       "Treasury Stock                   -2.392280e+11 -2.424810e+11 -2.453280e+11   \n",
       "Other Assets                      2.577200e+10  2.431100e+10  2.341300e+10   \n",
       "Cash                              6.802000e+09  4.364000e+09  3.089000e+09   \n",
       "Total Current Liabilities         5.664300e+10  5.636300e+10  6.398900e+10   \n",
       "Deferred Long Term Asset Charges  4.450000e+09  4.159000e+09  3.268000e+09   \n",
       "Short Long Term Debt              2.281000e+09  2.828000e+09  1.617000e+09   \n",
       "Other Stockholder Equity         -1.376400e+10 -1.670500e+10 -1.949300e+10   \n",
       "Property Plant Equipment          2.226340e+11  2.336310e+11  2.596510e+11   \n",
       "Total Current Assets              5.915400e+10  4.489300e+10  5.005200e+10   \n",
       "Long Term Investments             3.136300e+10  2.991500e+10  2.948100e+10   \n",
       "Net Tangible Assets               1.685770e+11  1.571500e+11  1.916500e+11   \n",
       "Net Receivables                   3.238300e+10  2.058100e+10  2.696600e+10   \n",
       "Long Term Debt                    4.166700e+10  4.550200e+10  2.467200e+10   \n",
       "Inventory                         1.878000e+10  1.885000e+10  1.852800e+10   \n",
       "Accounts Payable                  2.662300e+10  1.749900e+10  2.469400e+10   \n",
       "\n",
       "                                    2018-12-31  \n",
       "Total Liab                        1.476680e+11  \n",
       "Total Stockholder Equity          1.917940e+11  \n",
       "Minority Interest                 6.734000e+09  \n",
       "Other Current Liab                1.553700e+10  \n",
       "Total Assets                      3.461960e+11  \n",
       "Common Stock                      1.525800e+10  \n",
       "Other Current Assets              1.272000e+09  \n",
       "Retained Earnings                 4.216530e+11  \n",
       "Other Liab                        6.999200e+10  \n",
       "Treasury Stock                   -2.451170e+11  \n",
       "Other Assets                      2.453000e+10  \n",
       "Cash                              3.042000e+09  \n",
       "Total Current Liabilities         5.713800e+10  \n",
       "Deferred Long Term Asset Charges  3.209000e+09  \n",
       "Short Long Term Debt              4.070000e+09  \n",
       "Other Stockholder Equity         -1.956400e+10  \n",
       "Property Plant Equipment          2.471010e+11  \n",
       "Total Current Assets              4.797300e+10  \n",
       "Long Term Investments             2.659200e+10  \n",
       "Net Tangible Assets               1.917940e+11  \n",
       "Net Receivables                   2.470100e+10  \n",
       "Long Term Debt                    1.923500e+10  \n",
       "Inventory                         1.895800e+10  \n",
       "Accounts Payable                  2.106300e+10  "
      ]
     },
     "metadata": {},
     "output_type": "display_data"
    }
   ],
   "source": [
    "balance = pd.DataFrame(sec.balancesheet)\n",
    "\n",
    "display(balance)"
   ]
  },
  {
   "cell_type": "code",
   "execution_count": 153,
   "metadata": {},
   "outputs": [
    {
     "data": {
      "text/html": [
       "<div>\n",
       "<style scoped>\n",
       "    .dataframe tbody tr th:only-of-type {\n",
       "        vertical-align: middle;\n",
       "    }\n",
       "\n",
       "    .dataframe tbody tr th {\n",
       "        vertical-align: top;\n",
       "    }\n",
       "\n",
       "    .dataframe thead th {\n",
       "        text-align: right;\n",
       "    }\n",
       "</style>\n",
       "<table border=\"1\" class=\"dataframe\">\n",
       "  <thead>\n",
       "    <tr style=\"text-align: right;\">\n",
       "      <th></th>\n",
       "      <th>Total Liab</th>\n",
       "      <th>Total Stockholder Equity</th>\n",
       "      <th>Minority Interest</th>\n",
       "      <th>Other Current Liab</th>\n",
       "      <th>Total Assets</th>\n",
       "      <th>Common Stock</th>\n",
       "      <th>Other Current Assets</th>\n",
       "      <th>Retained Earnings</th>\n",
       "      <th>Other Liab</th>\n",
       "      <th>Treasury Stock</th>\n",
       "      <th>...</th>\n",
       "      <th>Short Long Term Debt</th>\n",
       "      <th>Other Stockholder Equity</th>\n",
       "      <th>Property Plant Equipment</th>\n",
       "      <th>Total Current Assets</th>\n",
       "      <th>Long Term Investments</th>\n",
       "      <th>Net Tangible Assets</th>\n",
       "      <th>Net Receivables</th>\n",
       "      <th>Long Term Debt</th>\n",
       "      <th>Inventory</th>\n",
       "      <th>Accounts Payable</th>\n",
       "    </tr>\n",
       "    <tr>\n",
       "      <th></th>\n",
       "      <th></th>\n",
       "      <th></th>\n",
       "      <th></th>\n",
       "      <th></th>\n",
       "      <th></th>\n",
       "      <th></th>\n",
       "      <th></th>\n",
       "      <th></th>\n",
       "      <th></th>\n",
       "      <th></th>\n",
       "      <th></th>\n",
       "      <th></th>\n",
       "      <th></th>\n",
       "      <th></th>\n",
       "      <th></th>\n",
       "      <th></th>\n",
       "      <th></th>\n",
       "      <th></th>\n",
       "      <th></th>\n",
       "      <th></th>\n",
       "      <th></th>\n",
       "    </tr>\n",
       "  </thead>\n",
       "  <tbody>\n",
       "    <tr>\n",
       "      <th>2018-12-31</th>\n",
       "      <td>1.476680e+11</td>\n",
       "      <td>1.917940e+11</td>\n",
       "      <td>6.734000e+09</td>\n",
       "      <td>1.553700e+10</td>\n",
       "      <td>3.461960e+11</td>\n",
       "      <td>1.525800e+10</td>\n",
       "      <td>1.272000e+09</td>\n",
       "      <td>4.216530e+11</td>\n",
       "      <td>6.999200e+10</td>\n",
       "      <td>-2.451170e+11</td>\n",
       "      <td>...</td>\n",
       "      <td>4.070000e+09</td>\n",
       "      <td>-1.956400e+10</td>\n",
       "      <td>2.471010e+11</td>\n",
       "      <td>4.797300e+10</td>\n",
       "      <td>2.659200e+10</td>\n",
       "      <td>1.917940e+11</td>\n",
       "      <td>2.470100e+10</td>\n",
       "      <td>1.923500e+10</td>\n",
       "      <td>1.895800e+10</td>\n",
       "      <td>2.106300e+10</td>\n",
       "    </tr>\n",
       "    <tr>\n",
       "      <th>2019-12-31</th>\n",
       "      <td>1.636590e+11</td>\n",
       "      <td>1.916500e+11</td>\n",
       "      <td>7.288000e+09</td>\n",
       "      <td>1.419000e+10</td>\n",
       "      <td>3.625970e+11</td>\n",
       "      <td>1.563700e+10</td>\n",
       "      <td>1.469000e+09</td>\n",
       "      <td>4.213410e+11</td>\n",
       "      <td>6.870700e+10</td>\n",
       "      <td>-2.453280e+11</td>\n",
       "      <td>...</td>\n",
       "      <td>1.617000e+09</td>\n",
       "      <td>-1.949300e+10</td>\n",
       "      <td>2.596510e+11</td>\n",
       "      <td>5.005200e+10</td>\n",
       "      <td>2.948100e+10</td>\n",
       "      <td>1.916500e+11</td>\n",
       "      <td>2.696600e+10</td>\n",
       "      <td>2.467200e+10</td>\n",
       "      <td>1.852800e+10</td>\n",
       "      <td>2.469400e+10</td>\n",
       "    </tr>\n",
       "    <tr>\n",
       "      <th>2020-12-31</th>\n",
       "      <td>1.686200e+11</td>\n",
       "      <td>1.571500e+11</td>\n",
       "      <td>6.980000e+09</td>\n",
       "      <td>1.382600e+10</td>\n",
       "      <td>3.327500e+11</td>\n",
       "      <td>1.568800e+10</td>\n",
       "      <td>1.098000e+09</td>\n",
       "      <td>3.839430e+11</td>\n",
       "      <td>6.094600e+10</td>\n",
       "      <td>-2.424810e+11</td>\n",
       "      <td>...</td>\n",
       "      <td>2.828000e+09</td>\n",
       "      <td>-1.670500e+10</td>\n",
       "      <td>2.336310e+11</td>\n",
       "      <td>4.489300e+10</td>\n",
       "      <td>2.991500e+10</td>\n",
       "      <td>1.571500e+11</td>\n",
       "      <td>2.058100e+10</td>\n",
       "      <td>4.550200e+10</td>\n",
       "      <td>1.885000e+10</td>\n",
       "      <td>1.749900e+10</td>\n",
       "    </tr>\n",
       "    <tr>\n",
       "      <th>2021-12-31</th>\n",
       "      <td>1.632400e+11</td>\n",
       "      <td>1.685770e+11</td>\n",
       "      <td>7.106000e+09</td>\n",
       "      <td>2.047700e+10</td>\n",
       "      <td>3.389230e+11</td>\n",
       "      <td>1.574600e+10</td>\n",
       "      <td>1.189000e+09</td>\n",
       "      <td>3.920590e+11</td>\n",
       "      <td>5.921500e+10</td>\n",
       "      <td>-2.392280e+11</td>\n",
       "      <td>...</td>\n",
       "      <td>2.281000e+09</td>\n",
       "      <td>-1.376400e+10</td>\n",
       "      <td>2.226340e+11</td>\n",
       "      <td>5.915400e+10</td>\n",
       "      <td>3.136300e+10</td>\n",
       "      <td>1.685770e+11</td>\n",
       "      <td>3.238300e+10</td>\n",
       "      <td>4.166700e+10</td>\n",
       "      <td>1.878000e+10</td>\n",
       "      <td>2.662300e+10</td>\n",
       "    </tr>\n",
       "  </tbody>\n",
       "</table>\n",
       "<p>4 rows × 24 columns</p>\n",
       "</div>"
      ],
      "text/plain": [
       "              Total Liab  Total Stockholder Equity  Minority Interest  \\\n",
       "                                                                        \n",
       "2018-12-31  1.476680e+11              1.917940e+11       6.734000e+09   \n",
       "2019-12-31  1.636590e+11              1.916500e+11       7.288000e+09   \n",
       "2020-12-31  1.686200e+11              1.571500e+11       6.980000e+09   \n",
       "2021-12-31  1.632400e+11              1.685770e+11       7.106000e+09   \n",
       "\n",
       "            Other Current Liab  Total Assets  Common Stock  \\\n",
       "                                                             \n",
       "2018-12-31        1.553700e+10  3.461960e+11  1.525800e+10   \n",
       "2019-12-31        1.419000e+10  3.625970e+11  1.563700e+10   \n",
       "2020-12-31        1.382600e+10  3.327500e+11  1.568800e+10   \n",
       "2021-12-31        2.047700e+10  3.389230e+11  1.574600e+10   \n",
       "\n",
       "            Other Current Assets  Retained Earnings    Other Liab  \\\n",
       "                                                                    \n",
       "2018-12-31          1.272000e+09       4.216530e+11  6.999200e+10   \n",
       "2019-12-31          1.469000e+09       4.213410e+11  6.870700e+10   \n",
       "2020-12-31          1.098000e+09       3.839430e+11  6.094600e+10   \n",
       "2021-12-31          1.189000e+09       3.920590e+11  5.921500e+10   \n",
       "\n",
       "            Treasury Stock  ...  Short Long Term Debt  \\\n",
       "                            ...                         \n",
       "2018-12-31   -2.451170e+11  ...          4.070000e+09   \n",
       "2019-12-31   -2.453280e+11  ...          1.617000e+09   \n",
       "2020-12-31   -2.424810e+11  ...          2.828000e+09   \n",
       "2021-12-31   -2.392280e+11  ...          2.281000e+09   \n",
       "\n",
       "            Other Stockholder Equity  Property Plant Equipment  \\\n",
       "                                                                 \n",
       "2018-12-31             -1.956400e+10              2.471010e+11   \n",
       "2019-12-31             -1.949300e+10              2.596510e+11   \n",
       "2020-12-31             -1.670500e+10              2.336310e+11   \n",
       "2021-12-31             -1.376400e+10              2.226340e+11   \n",
       "\n",
       "            Total Current Assets  Long Term Investments  Net Tangible Assets  \\\n",
       "                                                                               \n",
       "2018-12-31          4.797300e+10           2.659200e+10         1.917940e+11   \n",
       "2019-12-31          5.005200e+10           2.948100e+10         1.916500e+11   \n",
       "2020-12-31          4.489300e+10           2.991500e+10         1.571500e+11   \n",
       "2021-12-31          5.915400e+10           3.136300e+10         1.685770e+11   \n",
       "\n",
       "            Net Receivables  Long Term Debt     Inventory  Accounts Payable  \n",
       "                                                                             \n",
       "2018-12-31     2.470100e+10    1.923500e+10  1.895800e+10      2.106300e+10  \n",
       "2019-12-31     2.696600e+10    2.467200e+10  1.852800e+10      2.469400e+10  \n",
       "2020-12-31     2.058100e+10    4.550200e+10  1.885000e+10      1.749900e+10  \n",
       "2021-12-31     3.238300e+10    4.166700e+10  1.878000e+10      2.662300e+10  \n",
       "\n",
       "[4 rows x 24 columns]"
      ]
     },
     "metadata": {},
     "output_type": "display_data"
    }
   ],
   "source": [
    "con_balance = balance.transpose()\n",
    "convert_balance = con_balance.sort_index(ascending=True)\n",
    "display(convert_balance)"
   ]
  },
  {
   "cell_type": "code",
   "execution_count": 154,
   "metadata": {},
   "outputs": [
    {
     "data": {
      "application/vnd.plotly.v1+json": {
       "config": {
        "linkText": "Export to plot.ly",
        "plotlyServerURL": "https://plot.ly",
        "showLink": false
       },
       "data": [
        {
         "marker": {
          "color": "rgba(16, 112, 2, 0.8)"
         },
         "mode": "lines+markers",
         "name": "Total Current Liabilities",
         "type": "scatter",
         "x": [
          "2018",
          "2019",
          "2020",
          "2021"
         ],
         "y": [
          57138000000,
          63989000000,
          56363000000,
          56643000000
         ]
        },
        {
         "marker": {
          "color": "rgba(80, 26, 80, 0.8)"
         },
         "mode": "lines+markers",
         "name": "Cash",
         "type": "scatter",
         "x": [
          "2018",
          "2019",
          "2020",
          "2021"
         ],
         "y": [
          3042000000,
          3089000000,
          4364000000,
          6802000000
         ]
        },
        {
         "marker": {
          "color": "rgba(225, 103, 17, 0.53)"
         },
         "mode": "lines+markers",
         "name": "Total Assets",
         "type": "scatter",
         "x": [
          "2018",
          "2019",
          "2020",
          "2021"
         ],
         "y": [
          346196000000,
          362597000000,
          332750000000,
          338923000000
         ]
        }
       ],
       "layout": {
        "template": {
         "data": {
          "bar": [
           {
            "error_x": {
             "color": "#2a3f5f"
            },
            "error_y": {
             "color": "#2a3f5f"
            },
            "marker": {
             "line": {
              "color": "#E5ECF6",
              "width": 0.5
             },
             "pattern": {
              "fillmode": "overlay",
              "size": 10,
              "solidity": 0.2
             }
            },
            "type": "bar"
           }
          ],
          "barpolar": [
           {
            "marker": {
             "line": {
              "color": "#E5ECF6",
              "width": 0.5
             },
             "pattern": {
              "fillmode": "overlay",
              "size": 10,
              "solidity": 0.2
             }
            },
            "type": "barpolar"
           }
          ],
          "carpet": [
           {
            "aaxis": {
             "endlinecolor": "#2a3f5f",
             "gridcolor": "white",
             "linecolor": "white",
             "minorgridcolor": "white",
             "startlinecolor": "#2a3f5f"
            },
            "baxis": {
             "endlinecolor": "#2a3f5f",
             "gridcolor": "white",
             "linecolor": "white",
             "minorgridcolor": "white",
             "startlinecolor": "#2a3f5f"
            },
            "type": "carpet"
           }
          ],
          "choropleth": [
           {
            "colorbar": {
             "outlinewidth": 0,
             "ticks": ""
            },
            "type": "choropleth"
           }
          ],
          "contour": [
           {
            "colorbar": {
             "outlinewidth": 0,
             "ticks": ""
            },
            "colorscale": [
             [
              0,
              "#0d0887"
             ],
             [
              0.1111111111111111,
              "#46039f"
             ],
             [
              0.2222222222222222,
              "#7201a8"
             ],
             [
              0.3333333333333333,
              "#9c179e"
             ],
             [
              0.4444444444444444,
              "#bd3786"
             ],
             [
              0.5555555555555556,
              "#d8576b"
             ],
             [
              0.6666666666666666,
              "#ed7953"
             ],
             [
              0.7777777777777778,
              "#fb9f3a"
             ],
             [
              0.8888888888888888,
              "#fdca26"
             ],
             [
              1,
              "#f0f921"
             ]
            ],
            "type": "contour"
           }
          ],
          "contourcarpet": [
           {
            "colorbar": {
             "outlinewidth": 0,
             "ticks": ""
            },
            "type": "contourcarpet"
           }
          ],
          "heatmap": [
           {
            "colorbar": {
             "outlinewidth": 0,
             "ticks": ""
            },
            "colorscale": [
             [
              0,
              "#0d0887"
             ],
             [
              0.1111111111111111,
              "#46039f"
             ],
             [
              0.2222222222222222,
              "#7201a8"
             ],
             [
              0.3333333333333333,
              "#9c179e"
             ],
             [
              0.4444444444444444,
              "#bd3786"
             ],
             [
              0.5555555555555556,
              "#d8576b"
             ],
             [
              0.6666666666666666,
              "#ed7953"
             ],
             [
              0.7777777777777778,
              "#fb9f3a"
             ],
             [
              0.8888888888888888,
              "#fdca26"
             ],
             [
              1,
              "#f0f921"
             ]
            ],
            "type": "heatmap"
           }
          ],
          "heatmapgl": [
           {
            "colorbar": {
             "outlinewidth": 0,
             "ticks": ""
            },
            "colorscale": [
             [
              0,
              "#0d0887"
             ],
             [
              0.1111111111111111,
              "#46039f"
             ],
             [
              0.2222222222222222,
              "#7201a8"
             ],
             [
              0.3333333333333333,
              "#9c179e"
             ],
             [
              0.4444444444444444,
              "#bd3786"
             ],
             [
              0.5555555555555556,
              "#d8576b"
             ],
             [
              0.6666666666666666,
              "#ed7953"
             ],
             [
              0.7777777777777778,
              "#fb9f3a"
             ],
             [
              0.8888888888888888,
              "#fdca26"
             ],
             [
              1,
              "#f0f921"
             ]
            ],
            "type": "heatmapgl"
           }
          ],
          "histogram": [
           {
            "marker": {
             "pattern": {
              "fillmode": "overlay",
              "size": 10,
              "solidity": 0.2
             }
            },
            "type": "histogram"
           }
          ],
          "histogram2d": [
           {
            "colorbar": {
             "outlinewidth": 0,
             "ticks": ""
            },
            "colorscale": [
             [
              0,
              "#0d0887"
             ],
             [
              0.1111111111111111,
              "#46039f"
             ],
             [
              0.2222222222222222,
              "#7201a8"
             ],
             [
              0.3333333333333333,
              "#9c179e"
             ],
             [
              0.4444444444444444,
              "#bd3786"
             ],
             [
              0.5555555555555556,
              "#d8576b"
             ],
             [
              0.6666666666666666,
              "#ed7953"
             ],
             [
              0.7777777777777778,
              "#fb9f3a"
             ],
             [
              0.8888888888888888,
              "#fdca26"
             ],
             [
              1,
              "#f0f921"
             ]
            ],
            "type": "histogram2d"
           }
          ],
          "histogram2dcontour": [
           {
            "colorbar": {
             "outlinewidth": 0,
             "ticks": ""
            },
            "colorscale": [
             [
              0,
              "#0d0887"
             ],
             [
              0.1111111111111111,
              "#46039f"
             ],
             [
              0.2222222222222222,
              "#7201a8"
             ],
             [
              0.3333333333333333,
              "#9c179e"
             ],
             [
              0.4444444444444444,
              "#bd3786"
             ],
             [
              0.5555555555555556,
              "#d8576b"
             ],
             [
              0.6666666666666666,
              "#ed7953"
             ],
             [
              0.7777777777777778,
              "#fb9f3a"
             ],
             [
              0.8888888888888888,
              "#fdca26"
             ],
             [
              1,
              "#f0f921"
             ]
            ],
            "type": "histogram2dcontour"
           }
          ],
          "mesh3d": [
           {
            "colorbar": {
             "outlinewidth": 0,
             "ticks": ""
            },
            "type": "mesh3d"
           }
          ],
          "parcoords": [
           {
            "line": {
             "colorbar": {
              "outlinewidth": 0,
              "ticks": ""
             }
            },
            "type": "parcoords"
           }
          ],
          "pie": [
           {
            "automargin": true,
            "type": "pie"
           }
          ],
          "scatter": [
           {
            "fillpattern": {
             "fillmode": "overlay",
             "size": 10,
             "solidity": 0.2
            },
            "type": "scatter"
           }
          ],
          "scatter3d": [
           {
            "line": {
             "colorbar": {
              "outlinewidth": 0,
              "ticks": ""
             }
            },
            "marker": {
             "colorbar": {
              "outlinewidth": 0,
              "ticks": ""
             }
            },
            "type": "scatter3d"
           }
          ],
          "scattercarpet": [
           {
            "marker": {
             "colorbar": {
              "outlinewidth": 0,
              "ticks": ""
             }
            },
            "type": "scattercarpet"
           }
          ],
          "scattergeo": [
           {
            "marker": {
             "colorbar": {
              "outlinewidth": 0,
              "ticks": ""
             }
            },
            "type": "scattergeo"
           }
          ],
          "scattergl": [
           {
            "marker": {
             "colorbar": {
              "outlinewidth": 0,
              "ticks": ""
             }
            },
            "type": "scattergl"
           }
          ],
          "scattermapbox": [
           {
            "marker": {
             "colorbar": {
              "outlinewidth": 0,
              "ticks": ""
             }
            },
            "type": "scattermapbox"
           }
          ],
          "scatterpolar": [
           {
            "marker": {
             "colorbar": {
              "outlinewidth": 0,
              "ticks": ""
             }
            },
            "type": "scatterpolar"
           }
          ],
          "scatterpolargl": [
           {
            "marker": {
             "colorbar": {
              "outlinewidth": 0,
              "ticks": ""
             }
            },
            "type": "scatterpolargl"
           }
          ],
          "scatterternary": [
           {
            "marker": {
             "colorbar": {
              "outlinewidth": 0,
              "ticks": ""
             }
            },
            "type": "scatterternary"
           }
          ],
          "surface": [
           {
            "colorbar": {
             "outlinewidth": 0,
             "ticks": ""
            },
            "colorscale": [
             [
              0,
              "#0d0887"
             ],
             [
              0.1111111111111111,
              "#46039f"
             ],
             [
              0.2222222222222222,
              "#7201a8"
             ],
             [
              0.3333333333333333,
              "#9c179e"
             ],
             [
              0.4444444444444444,
              "#bd3786"
             ],
             [
              0.5555555555555556,
              "#d8576b"
             ],
             [
              0.6666666666666666,
              "#ed7953"
             ],
             [
              0.7777777777777778,
              "#fb9f3a"
             ],
             [
              0.8888888888888888,
              "#fdca26"
             ],
             [
              1,
              "#f0f921"
             ]
            ],
            "type": "surface"
           }
          ],
          "table": [
           {
            "cells": {
             "fill": {
              "color": "#EBF0F8"
             },
             "line": {
              "color": "white"
             }
            },
            "header": {
             "fill": {
              "color": "#C8D4E3"
             },
             "line": {
              "color": "white"
             }
            },
            "type": "table"
           }
          ]
         },
         "layout": {
          "annotationdefaults": {
           "arrowcolor": "#2a3f5f",
           "arrowhead": 0,
           "arrowwidth": 1
          },
          "autotypenumbers": "strict",
          "coloraxis": {
           "colorbar": {
            "outlinewidth": 0,
            "ticks": ""
           }
          },
          "colorscale": {
           "diverging": [
            [
             0,
             "#8e0152"
            ],
            [
             0.1,
             "#c51b7d"
            ],
            [
             0.2,
             "#de77ae"
            ],
            [
             0.3,
             "#f1b6da"
            ],
            [
             0.4,
             "#fde0ef"
            ],
            [
             0.5,
             "#f7f7f7"
            ],
            [
             0.6,
             "#e6f5d0"
            ],
            [
             0.7,
             "#b8e186"
            ],
            [
             0.8,
             "#7fbc41"
            ],
            [
             0.9,
             "#4d9221"
            ],
            [
             1,
             "#276419"
            ]
           ],
           "sequential": [
            [
             0,
             "#0d0887"
            ],
            [
             0.1111111111111111,
             "#46039f"
            ],
            [
             0.2222222222222222,
             "#7201a8"
            ],
            [
             0.3333333333333333,
             "#9c179e"
            ],
            [
             0.4444444444444444,
             "#bd3786"
            ],
            [
             0.5555555555555556,
             "#d8576b"
            ],
            [
             0.6666666666666666,
             "#ed7953"
            ],
            [
             0.7777777777777778,
             "#fb9f3a"
            ],
            [
             0.8888888888888888,
             "#fdca26"
            ],
            [
             1,
             "#f0f921"
            ]
           ],
           "sequentialminus": [
            [
             0,
             "#0d0887"
            ],
            [
             0.1111111111111111,
             "#46039f"
            ],
            [
             0.2222222222222222,
             "#7201a8"
            ],
            [
             0.3333333333333333,
             "#9c179e"
            ],
            [
             0.4444444444444444,
             "#bd3786"
            ],
            [
             0.5555555555555556,
             "#d8576b"
            ],
            [
             0.6666666666666666,
             "#ed7953"
            ],
            [
             0.7777777777777778,
             "#fb9f3a"
            ],
            [
             0.8888888888888888,
             "#fdca26"
            ],
            [
             1,
             "#f0f921"
            ]
           ]
          },
          "colorway": [
           "#636efa",
           "#EF553B",
           "#00cc96",
           "#ab63fa",
           "#FFA15A",
           "#19d3f3",
           "#FF6692",
           "#B6E880",
           "#FF97FF",
           "#FECB52"
          ],
          "font": {
           "color": "#2a3f5f"
          },
          "geo": {
           "bgcolor": "white",
           "lakecolor": "white",
           "landcolor": "#E5ECF6",
           "showlakes": true,
           "showland": true,
           "subunitcolor": "white"
          },
          "hoverlabel": {
           "align": "left"
          },
          "hovermode": "closest",
          "mapbox": {
           "style": "light"
          },
          "paper_bgcolor": "white",
          "plot_bgcolor": "#E5ECF6",
          "polar": {
           "angularaxis": {
            "gridcolor": "white",
            "linecolor": "white",
            "ticks": ""
           },
           "bgcolor": "#E5ECF6",
           "radialaxis": {
            "gridcolor": "white",
            "linecolor": "white",
            "ticks": ""
           }
          },
          "scene": {
           "xaxis": {
            "backgroundcolor": "#E5ECF6",
            "gridcolor": "white",
            "gridwidth": 2,
            "linecolor": "white",
            "showbackground": true,
            "ticks": "",
            "zerolinecolor": "white"
           },
           "yaxis": {
            "backgroundcolor": "#E5ECF6",
            "gridcolor": "white",
            "gridwidth": 2,
            "linecolor": "white",
            "showbackground": true,
            "ticks": "",
            "zerolinecolor": "white"
           },
           "zaxis": {
            "backgroundcolor": "#E5ECF6",
            "gridcolor": "white",
            "gridwidth": 2,
            "linecolor": "white",
            "showbackground": true,
            "ticks": "",
            "zerolinecolor": "white"
           }
          },
          "shapedefaults": {
           "line": {
            "color": "#2a3f5f"
           }
          },
          "ternary": {
           "aaxis": {
            "gridcolor": "white",
            "linecolor": "white",
            "ticks": ""
           },
           "baxis": {
            "gridcolor": "white",
            "linecolor": "white",
            "ticks": ""
           },
           "bgcolor": "#E5ECF6",
           "caxis": {
            "gridcolor": "white",
            "linecolor": "white",
            "ticks": ""
           }
          },
          "title": {
           "x": 0.05
          },
          "xaxis": {
           "automargin": true,
           "gridcolor": "white",
           "linecolor": "white",
           "ticks": "",
           "title": {
            "standoff": 15
           },
           "zerolinecolor": "white",
           "zerolinewidth": 2
          },
          "yaxis": {
           "automargin": true,
           "gridcolor": "white",
           "linecolor": "white",
           "ticks": "",
           "title": {
            "standoff": 15
           },
           "zerolinecolor": "white",
           "zerolinewidth": 2
          }
         }
        },
        "title": {
         "text": "Balance 2018-2021"
        },
        "xaxis": {
         "linecolor": "black",
         "linewidth": 1,
         "ticklen": 5,
         "ticks": "outside",
         "zeroline": true
        }
       }
      }
     },
     "metadata": {},
     "output_type": "display_data"
    }
   ],
   "source": [
    "# Total Current Liabilities, Cash, Capital Surplus, Total Assets\n",
    "trace1 = go.Scatter(\n",
    "    x=['2018', '2019', '2020', '2021'],\n",
    "    y=convert_balance['Total Current Liabilities'],\n",
    "    mode='lines+markers',\n",
    "    name='Total Current Liabilities',\n",
    "    marker=dict(color='rgba(16, 112, 2, 0.8)'),\n",
    ")\n",
    "trace2 = go.Scatter(\n",
    "    x=['2018', '2019', '2020', '2021'],\n",
    "    y=convert_balance['Cash'],\n",
    "    mode='lines+markers',\n",
    "    name='Cash',\n",
    "    marker=dict(color='rgba(80, 26, 80, 0.8)'),\n",
    ")\n",
    "trace3 = go.Scatter(\n",
    "    x=['2018', '2019', '2020', '2021'],\n",
    "    y=convert_balance['Total Assets'],\n",
    "    mode='lines+markers',\n",
    "    name='Total Assets',\n",
    "    marker=dict(color='rgba(225, 103, 17, 0.53)'),\n",
    ")\n",
    "data = [trace1, trace2, trace3]\n",
    "layout = dict(\n",
    "    title='Balance 2018-2021',\n",
    "    xaxis=dict( \n",
    "        ticks='outside', ticklen=5, \n",
    "        zeroline=True, linewidth=1, linecolor='black'\n",
    "        ))\n",
    "fig = dict(data=data, layout=layout)            \n",
    "py.iplot(fig)"
   ]
  },
  {
   "cell_type": "code",
   "execution_count": 155,
   "metadata": {},
   "outputs": [
    {
     "data": {
      "application/vnd.plotly.v1+json": {
       "config": {
        "linkText": "Export to plot.ly",
        "plotlyServerURL": "https://plot.ly",
        "showLink": false
       },
       "data": [
        {
         "marker": {
          "color": "rgba(16, 112, 2, 0.8)"
         },
         "mode": "lines+markers",
         "name": "Long Term Debt",
         "type": "scatter",
         "x": [
          "2018",
          "2019",
          "2020",
          "2021"
         ],
         "y": [
          19235000000,
          24672000000,
          45502000000,
          41667000000
         ]
        },
        {
         "marker": {
          "color": "rgba(80, 26, 80, 0.8)"
         },
         "mode": "lines+markers",
         "name": "Inventory",
         "type": "scatter",
         "x": [
          "2018",
          "2019",
          "2020",
          "2021"
         ],
         "y": [
          18958000000,
          18528000000,
          18850000000,
          18780000000
         ]
        },
        {
         "marker": {
          "color": "rgba(225, 103, 17, 0.53)"
         },
         "mode": "lines+markers",
         "name": "Accounts Payable",
         "type": "scatter",
         "x": [
          "2018",
          "2019",
          "2020",
          "2021"
         ],
         "y": [
          21063000000,
          24694000000,
          17499000000,
          26623000000
         ]
        },
        {
         "marker": {
          "color": "rgba(247, 43, 163, 0.8)"
         },
         "mode": "lines+markers",
         "name": "Net Receivables",
         "type": "scatter",
         "x": [
          "2018",
          "2019",
          "2020",
          "2021"
         ],
         "y": [
          24701000000,
          26966000000,
          20581000000,
          32383000000
         ]
        }
       ],
       "layout": {
        "template": {
         "data": {
          "bar": [
           {
            "error_x": {
             "color": "#2a3f5f"
            },
            "error_y": {
             "color": "#2a3f5f"
            },
            "marker": {
             "line": {
              "color": "#E5ECF6",
              "width": 0.5
             },
             "pattern": {
              "fillmode": "overlay",
              "size": 10,
              "solidity": 0.2
             }
            },
            "type": "bar"
           }
          ],
          "barpolar": [
           {
            "marker": {
             "line": {
              "color": "#E5ECF6",
              "width": 0.5
             },
             "pattern": {
              "fillmode": "overlay",
              "size": 10,
              "solidity": 0.2
             }
            },
            "type": "barpolar"
           }
          ],
          "carpet": [
           {
            "aaxis": {
             "endlinecolor": "#2a3f5f",
             "gridcolor": "white",
             "linecolor": "white",
             "minorgridcolor": "white",
             "startlinecolor": "#2a3f5f"
            },
            "baxis": {
             "endlinecolor": "#2a3f5f",
             "gridcolor": "white",
             "linecolor": "white",
             "minorgridcolor": "white",
             "startlinecolor": "#2a3f5f"
            },
            "type": "carpet"
           }
          ],
          "choropleth": [
           {
            "colorbar": {
             "outlinewidth": 0,
             "ticks": ""
            },
            "type": "choropleth"
           }
          ],
          "contour": [
           {
            "colorbar": {
             "outlinewidth": 0,
             "ticks": ""
            },
            "colorscale": [
             [
              0,
              "#0d0887"
             ],
             [
              0.1111111111111111,
              "#46039f"
             ],
             [
              0.2222222222222222,
              "#7201a8"
             ],
             [
              0.3333333333333333,
              "#9c179e"
             ],
             [
              0.4444444444444444,
              "#bd3786"
             ],
             [
              0.5555555555555556,
              "#d8576b"
             ],
             [
              0.6666666666666666,
              "#ed7953"
             ],
             [
              0.7777777777777778,
              "#fb9f3a"
             ],
             [
              0.8888888888888888,
              "#fdca26"
             ],
             [
              1,
              "#f0f921"
             ]
            ],
            "type": "contour"
           }
          ],
          "contourcarpet": [
           {
            "colorbar": {
             "outlinewidth": 0,
             "ticks": ""
            },
            "type": "contourcarpet"
           }
          ],
          "heatmap": [
           {
            "colorbar": {
             "outlinewidth": 0,
             "ticks": ""
            },
            "colorscale": [
             [
              0,
              "#0d0887"
             ],
             [
              0.1111111111111111,
              "#46039f"
             ],
             [
              0.2222222222222222,
              "#7201a8"
             ],
             [
              0.3333333333333333,
              "#9c179e"
             ],
             [
              0.4444444444444444,
              "#bd3786"
             ],
             [
              0.5555555555555556,
              "#d8576b"
             ],
             [
              0.6666666666666666,
              "#ed7953"
             ],
             [
              0.7777777777777778,
              "#fb9f3a"
             ],
             [
              0.8888888888888888,
              "#fdca26"
             ],
             [
              1,
              "#f0f921"
             ]
            ],
            "type": "heatmap"
           }
          ],
          "heatmapgl": [
           {
            "colorbar": {
             "outlinewidth": 0,
             "ticks": ""
            },
            "colorscale": [
             [
              0,
              "#0d0887"
             ],
             [
              0.1111111111111111,
              "#46039f"
             ],
             [
              0.2222222222222222,
              "#7201a8"
             ],
             [
              0.3333333333333333,
              "#9c179e"
             ],
             [
              0.4444444444444444,
              "#bd3786"
             ],
             [
              0.5555555555555556,
              "#d8576b"
             ],
             [
              0.6666666666666666,
              "#ed7953"
             ],
             [
              0.7777777777777778,
              "#fb9f3a"
             ],
             [
              0.8888888888888888,
              "#fdca26"
             ],
             [
              1,
              "#f0f921"
             ]
            ],
            "type": "heatmapgl"
           }
          ],
          "histogram": [
           {
            "marker": {
             "pattern": {
              "fillmode": "overlay",
              "size": 10,
              "solidity": 0.2
             }
            },
            "type": "histogram"
           }
          ],
          "histogram2d": [
           {
            "colorbar": {
             "outlinewidth": 0,
             "ticks": ""
            },
            "colorscale": [
             [
              0,
              "#0d0887"
             ],
             [
              0.1111111111111111,
              "#46039f"
             ],
             [
              0.2222222222222222,
              "#7201a8"
             ],
             [
              0.3333333333333333,
              "#9c179e"
             ],
             [
              0.4444444444444444,
              "#bd3786"
             ],
             [
              0.5555555555555556,
              "#d8576b"
             ],
             [
              0.6666666666666666,
              "#ed7953"
             ],
             [
              0.7777777777777778,
              "#fb9f3a"
             ],
             [
              0.8888888888888888,
              "#fdca26"
             ],
             [
              1,
              "#f0f921"
             ]
            ],
            "type": "histogram2d"
           }
          ],
          "histogram2dcontour": [
           {
            "colorbar": {
             "outlinewidth": 0,
             "ticks": ""
            },
            "colorscale": [
             [
              0,
              "#0d0887"
             ],
             [
              0.1111111111111111,
              "#46039f"
             ],
             [
              0.2222222222222222,
              "#7201a8"
             ],
             [
              0.3333333333333333,
              "#9c179e"
             ],
             [
              0.4444444444444444,
              "#bd3786"
             ],
             [
              0.5555555555555556,
              "#d8576b"
             ],
             [
              0.6666666666666666,
              "#ed7953"
             ],
             [
              0.7777777777777778,
              "#fb9f3a"
             ],
             [
              0.8888888888888888,
              "#fdca26"
             ],
             [
              1,
              "#f0f921"
             ]
            ],
            "type": "histogram2dcontour"
           }
          ],
          "mesh3d": [
           {
            "colorbar": {
             "outlinewidth": 0,
             "ticks": ""
            },
            "type": "mesh3d"
           }
          ],
          "parcoords": [
           {
            "line": {
             "colorbar": {
              "outlinewidth": 0,
              "ticks": ""
             }
            },
            "type": "parcoords"
           }
          ],
          "pie": [
           {
            "automargin": true,
            "type": "pie"
           }
          ],
          "scatter": [
           {
            "fillpattern": {
             "fillmode": "overlay",
             "size": 10,
             "solidity": 0.2
            },
            "type": "scatter"
           }
          ],
          "scatter3d": [
           {
            "line": {
             "colorbar": {
              "outlinewidth": 0,
              "ticks": ""
             }
            },
            "marker": {
             "colorbar": {
              "outlinewidth": 0,
              "ticks": ""
             }
            },
            "type": "scatter3d"
           }
          ],
          "scattercarpet": [
           {
            "marker": {
             "colorbar": {
              "outlinewidth": 0,
              "ticks": ""
             }
            },
            "type": "scattercarpet"
           }
          ],
          "scattergeo": [
           {
            "marker": {
             "colorbar": {
              "outlinewidth": 0,
              "ticks": ""
             }
            },
            "type": "scattergeo"
           }
          ],
          "scattergl": [
           {
            "marker": {
             "colorbar": {
              "outlinewidth": 0,
              "ticks": ""
             }
            },
            "type": "scattergl"
           }
          ],
          "scattermapbox": [
           {
            "marker": {
             "colorbar": {
              "outlinewidth": 0,
              "ticks": ""
             }
            },
            "type": "scattermapbox"
           }
          ],
          "scatterpolar": [
           {
            "marker": {
             "colorbar": {
              "outlinewidth": 0,
              "ticks": ""
             }
            },
            "type": "scatterpolar"
           }
          ],
          "scatterpolargl": [
           {
            "marker": {
             "colorbar": {
              "outlinewidth": 0,
              "ticks": ""
             }
            },
            "type": "scatterpolargl"
           }
          ],
          "scatterternary": [
           {
            "marker": {
             "colorbar": {
              "outlinewidth": 0,
              "ticks": ""
             }
            },
            "type": "scatterternary"
           }
          ],
          "surface": [
           {
            "colorbar": {
             "outlinewidth": 0,
             "ticks": ""
            },
            "colorscale": [
             [
              0,
              "#0d0887"
             ],
             [
              0.1111111111111111,
              "#46039f"
             ],
             [
              0.2222222222222222,
              "#7201a8"
             ],
             [
              0.3333333333333333,
              "#9c179e"
             ],
             [
              0.4444444444444444,
              "#bd3786"
             ],
             [
              0.5555555555555556,
              "#d8576b"
             ],
             [
              0.6666666666666666,
              "#ed7953"
             ],
             [
              0.7777777777777778,
              "#fb9f3a"
             ],
             [
              0.8888888888888888,
              "#fdca26"
             ],
             [
              1,
              "#f0f921"
             ]
            ],
            "type": "surface"
           }
          ],
          "table": [
           {
            "cells": {
             "fill": {
              "color": "#EBF0F8"
             },
             "line": {
              "color": "white"
             }
            },
            "header": {
             "fill": {
              "color": "#C8D4E3"
             },
             "line": {
              "color": "white"
             }
            },
            "type": "table"
           }
          ]
         },
         "layout": {
          "annotationdefaults": {
           "arrowcolor": "#2a3f5f",
           "arrowhead": 0,
           "arrowwidth": 1
          },
          "autotypenumbers": "strict",
          "coloraxis": {
           "colorbar": {
            "outlinewidth": 0,
            "ticks": ""
           }
          },
          "colorscale": {
           "diverging": [
            [
             0,
             "#8e0152"
            ],
            [
             0.1,
             "#c51b7d"
            ],
            [
             0.2,
             "#de77ae"
            ],
            [
             0.3,
             "#f1b6da"
            ],
            [
             0.4,
             "#fde0ef"
            ],
            [
             0.5,
             "#f7f7f7"
            ],
            [
             0.6,
             "#e6f5d0"
            ],
            [
             0.7,
             "#b8e186"
            ],
            [
             0.8,
             "#7fbc41"
            ],
            [
             0.9,
             "#4d9221"
            ],
            [
             1,
             "#276419"
            ]
           ],
           "sequential": [
            [
             0,
             "#0d0887"
            ],
            [
             0.1111111111111111,
             "#46039f"
            ],
            [
             0.2222222222222222,
             "#7201a8"
            ],
            [
             0.3333333333333333,
             "#9c179e"
            ],
            [
             0.4444444444444444,
             "#bd3786"
            ],
            [
             0.5555555555555556,
             "#d8576b"
            ],
            [
             0.6666666666666666,
             "#ed7953"
            ],
            [
             0.7777777777777778,
             "#fb9f3a"
            ],
            [
             0.8888888888888888,
             "#fdca26"
            ],
            [
             1,
             "#f0f921"
            ]
           ],
           "sequentialminus": [
            [
             0,
             "#0d0887"
            ],
            [
             0.1111111111111111,
             "#46039f"
            ],
            [
             0.2222222222222222,
             "#7201a8"
            ],
            [
             0.3333333333333333,
             "#9c179e"
            ],
            [
             0.4444444444444444,
             "#bd3786"
            ],
            [
             0.5555555555555556,
             "#d8576b"
            ],
            [
             0.6666666666666666,
             "#ed7953"
            ],
            [
             0.7777777777777778,
             "#fb9f3a"
            ],
            [
             0.8888888888888888,
             "#fdca26"
            ],
            [
             1,
             "#f0f921"
            ]
           ]
          },
          "colorway": [
           "#636efa",
           "#EF553B",
           "#00cc96",
           "#ab63fa",
           "#FFA15A",
           "#19d3f3",
           "#FF6692",
           "#B6E880",
           "#FF97FF",
           "#FECB52"
          ],
          "font": {
           "color": "#2a3f5f"
          },
          "geo": {
           "bgcolor": "white",
           "lakecolor": "white",
           "landcolor": "#E5ECF6",
           "showlakes": true,
           "showland": true,
           "subunitcolor": "white"
          },
          "hoverlabel": {
           "align": "left"
          },
          "hovermode": "closest",
          "mapbox": {
           "style": "light"
          },
          "paper_bgcolor": "white",
          "plot_bgcolor": "#E5ECF6",
          "polar": {
           "angularaxis": {
            "gridcolor": "white",
            "linecolor": "white",
            "ticks": ""
           },
           "bgcolor": "#E5ECF6",
           "radialaxis": {
            "gridcolor": "white",
            "linecolor": "white",
            "ticks": ""
           }
          },
          "scene": {
           "xaxis": {
            "backgroundcolor": "#E5ECF6",
            "gridcolor": "white",
            "gridwidth": 2,
            "linecolor": "white",
            "showbackground": true,
            "ticks": "",
            "zerolinecolor": "white"
           },
           "yaxis": {
            "backgroundcolor": "#E5ECF6",
            "gridcolor": "white",
            "gridwidth": 2,
            "linecolor": "white",
            "showbackground": true,
            "ticks": "",
            "zerolinecolor": "white"
           },
           "zaxis": {
            "backgroundcolor": "#E5ECF6",
            "gridcolor": "white",
            "gridwidth": 2,
            "linecolor": "white",
            "showbackground": true,
            "ticks": "",
            "zerolinecolor": "white"
           }
          },
          "shapedefaults": {
           "line": {
            "color": "#2a3f5f"
           }
          },
          "ternary": {
           "aaxis": {
            "gridcolor": "white",
            "linecolor": "white",
            "ticks": ""
           },
           "baxis": {
            "gridcolor": "white",
            "linecolor": "white",
            "ticks": ""
           },
           "bgcolor": "#E5ECF6",
           "caxis": {
            "gridcolor": "white",
            "linecolor": "white",
            "ticks": ""
           }
          },
          "title": {
           "x": 0.05
          },
          "xaxis": {
           "automargin": true,
           "gridcolor": "white",
           "linecolor": "white",
           "ticks": "",
           "title": {
            "standoff": 15
           },
           "zerolinecolor": "white",
           "zerolinewidth": 2
          },
          "yaxis": {
           "automargin": true,
           "gridcolor": "white",
           "linecolor": "white",
           "ticks": "",
           "title": {
            "standoff": 15
           },
           "zerolinecolor": "white",
           "zerolinewidth": 2
          }
         }
        },
        "title": {
         "text": "Balance 2018-2021"
        },
        "xaxis": {
         "linecolor": "black",
         "linewidth": 1,
         "ticklen": 5,
         "ticks": "outside",
         "zeroline": true
        }
       }
      }
     },
     "metadata": {},
     "output_type": "display_data"
    }
   ],
   "source": [
    "# Long Term Debt\n",
    "# Inventory  \n",
    "# Accounts Payable   \n",
    "# Net Receivables\n",
    "trace1 = go.Scatter(\n",
    "    x=['2018', '2019', '2020', '2021'],\n",
    "    y=convert_balance['Long Term Debt'],\n",
    "    mode='lines+markers',\n",
    "    name='Long Term Debt',\n",
    "    marker=dict(color='rgba(16, 112, 2, 0.8)'),\n",
    ")\n",
    "trace2 = go.Scatter(\n",
    "    x=['2018', '2019', '2020', '2021'],\n",
    "    y=convert_balance['Inventory'],\n",
    "    mode='lines+markers',\n",
    "    name='Inventory',\n",
    "    marker=dict(color='rgba(80, 26, 80, 0.8)'),\n",
    ")\n",
    "trace3 = go.Scatter(\n",
    "    x=['2018', '2019', '2020', '2021'],\n",
    "    y=convert_balance['Accounts Payable'],\n",
    "    mode='lines+markers',\n",
    "    name='Accounts Payable',\n",
    "    marker=dict(color='rgba(225, 103, 17, 0.53)'),\n",
    ")\n",
    "trace4 = go.Scatter(\n",
    "    x=['2018', '2019', '2020', '2021'],\n",
    "    y=convert_balance['Net Receivables'],\n",
    "    mode='lines+markers',\n",
    "    name='Net Receivables',\n",
    "    marker=dict(color='rgba(247, 43, 163, 0.8)'),\n",
    ")\n",
    "data = [trace1, trace2, trace3, trace4]\n",
    "layout = dict(\n",
    "    title='Balance 2018-2021',\n",
    "    xaxis=dict( \n",
    "        ticks='outside', ticklen=5, \n",
    "        zeroline=True, linewidth=1, linecolor='black'\n",
    "        ))\n",
    "fig = dict(data=data, layout=layout)            \n",
    "py.iplot(fig)"
   ]
  },
  {
   "cell_type": "code",
   "execution_count": 156,
   "metadata": {},
   "outputs": [
    {
     "data": {
      "text/html": [
       "<div>\n",
       "<style scoped>\n",
       "    .dataframe tbody tr th:only-of-type {\n",
       "        vertical-align: middle;\n",
       "    }\n",
       "\n",
       "    .dataframe tbody tr th {\n",
       "        vertical-align: top;\n",
       "    }\n",
       "\n",
       "    .dataframe thead th {\n",
       "        text-align: right;\n",
       "    }\n",
       "</style>\n",
       "<table border=\"1\" class=\"dataframe\">\n",
       "  <thead>\n",
       "    <tr style=\"text-align: right;\">\n",
       "      <th></th>\n",
       "      <th>2022-03-31</th>\n",
       "      <th>2021-12-31</th>\n",
       "      <th>2021-09-30</th>\n",
       "      <th>2021-06-30</th>\n",
       "    </tr>\n",
       "  </thead>\n",
       "  <tbody>\n",
       "    <tr>\n",
       "      <th>Total Liab</th>\n",
       "      <td>1.782450e+11</td>\n",
       "      <td>1.632400e+11</td>\n",
       "      <td>1.691820e+11</td>\n",
       "      <td>1.717330e+11</td>\n",
       "    </tr>\n",
       "    <tr>\n",
       "      <th>Total Stockholder Equity</th>\n",
       "      <td>1.692150e+11</td>\n",
       "      <td>1.685770e+11</td>\n",
       "      <td>1.605890e+11</td>\n",
       "      <td>1.585710e+11</td>\n",
       "    </tr>\n",
       "    <tr>\n",
       "      <th>Minority Interest</th>\n",
       "      <td>7.311000e+09</td>\n",
       "      <td>7.106000e+09</td>\n",
       "      <td>6.917000e+09</td>\n",
       "      <td>6.985000e+09</td>\n",
       "    </tr>\n",
       "    <tr>\n",
       "      <th>Other Current Liab</th>\n",
       "      <td>3.672000e+09</td>\n",
       "      <td>2.047700e+10</td>\n",
       "      <td>1.768000e+09</td>\n",
       "      <td>1.393000e+09</td>\n",
       "    </tr>\n",
       "    <tr>\n",
       "      <th>Total Assets</th>\n",
       "      <td>3.547710e+11</td>\n",
       "      <td>3.389230e+11</td>\n",
       "      <td>3.366880e+11</td>\n",
       "      <td>3.372890e+11</td>\n",
       "    </tr>\n",
       "    <tr>\n",
       "      <th>Common Stock</th>\n",
       "      <td>1.587900e+10</td>\n",
       "      <td>1.574600e+10</td>\n",
       "      <td>1.610400e+10</td>\n",
       "      <td>1.600600e+10</td>\n",
       "    </tr>\n",
       "    <tr>\n",
       "      <th>Other Current Assets</th>\n",
       "      <td>1.862000e+09</td>\n",
       "      <td>1.189000e+09</td>\n",
       "      <td>1.664000e+09</td>\n",
       "      <td>1.562000e+09</td>\n",
       "    </tr>\n",
       "    <tr>\n",
       "      <th>Retained Earnings</th>\n",
       "      <td>3.937790e+11</td>\n",
       "      <td>3.920590e+11</td>\n",
       "      <td>3.869520e+11</td>\n",
       "      <td>3.839220e+11</td>\n",
       "    </tr>\n",
       "    <tr>\n",
       "      <th>Other Liab</th>\n",
       "      <td>6.353500e+10</td>\n",
       "      <td>5.921500e+10</td>\n",
       "      <td>6.368700e+10</td>\n",
       "      <td>6.417600e+10</td>\n",
       "    </tr>\n",
       "    <tr>\n",
       "      <th>Treasury Stock</th>\n",
       "      <td>-2.404430e+11</td>\n",
       "      <td>-2.392280e+11</td>\n",
       "      <td>-2.424670e+11</td>\n",
       "      <td>-2.413570e+11</td>\n",
       "    </tr>\n",
       "    <tr>\n",
       "      <th>Other Assets</th>\n",
       "      <td>1.841400e+10</td>\n",
       "      <td>2.577200e+10</td>\n",
       "      <td>2.587600e+10</td>\n",
       "      <td>2.526400e+10</td>\n",
       "    </tr>\n",
       "    <tr>\n",
       "      <th>Cash</th>\n",
       "      <td>1.107400e+10</td>\n",
       "      <td>6.802000e+09</td>\n",
       "      <td>4.768000e+09</td>\n",
       "      <td>3.465000e+09</td>\n",
       "    </tr>\n",
       "    <tr>\n",
       "      <th>Total Current Liabilities</th>\n",
       "      <td>7.205900e+10</td>\n",
       "      <td>5.664300e+10</td>\n",
       "      <td>6.185600e+10</td>\n",
       "      <td>6.223800e+10</td>\n",
       "    </tr>\n",
       "    <tr>\n",
       "      <th>Other Stockholder Equity</th>\n",
       "      <td>-1.291400e+10</td>\n",
       "      <td>-1.376400e+10</td>\n",
       "      <td>-1.669600e+10</td>\n",
       "      <td>-1.558600e+10</td>\n",
       "    </tr>\n",
       "    <tr>\n",
       "      <th>Property Plant Equipment</th>\n",
       "      <td>2.127730e+11</td>\n",
       "      <td>2.226340e+11</td>\n",
       "      <td>2.187950e+11</td>\n",
       "      <td>2.230120e+11</td>\n",
       "    </tr>\n",
       "    <tr>\n",
       "      <th>Total Current Assets</th>\n",
       "      <td>7.725500e+10</td>\n",
       "      <td>5.915400e+10</td>\n",
       "      <td>5.555500e+10</td>\n",
       "      <td>5.284200e+10</td>\n",
       "    </tr>\n",
       "    <tr>\n",
       "      <th>Long Term Investments</th>\n",
       "      <td>4.632900e+10</td>\n",
       "      <td>3.136300e+10</td>\n",
       "      <td>3.646200e+10</td>\n",
       "      <td>3.617100e+10</td>\n",
       "    </tr>\n",
       "    <tr>\n",
       "      <th>Net Tangible Assets</th>\n",
       "      <td>1.692150e+11</td>\n",
       "      <td>1.685770e+11</td>\n",
       "      <td>1.605890e+11</td>\n",
       "      <td>1.585710e+11</td>\n",
       "    </tr>\n",
       "    <tr>\n",
       "      <th>Net Receivables</th>\n",
       "      <td>4.214200e+10</td>\n",
       "      <td>3.238300e+10</td>\n",
       "      <td>2.951600e+10</td>\n",
       "      <td>2.854000e+10</td>\n",
       "    </tr>\n",
       "    <tr>\n",
       "      <th>Long Term Debt</th>\n",
       "      <td>4.265100e+10</td>\n",
       "      <td>4.166700e+10</td>\n",
       "      <td>4.363900e+10</td>\n",
       "      <td>4.531900e+10</td>\n",
       "    </tr>\n",
       "    <tr>\n",
       "      <th>Inventory</th>\n",
       "      <td>2.217700e+10</td>\n",
       "      <td>1.878000e+10</td>\n",
       "      <td>1.960700e+10</td>\n",
       "      <td>1.927500e+10</td>\n",
       "    </tr>\n",
       "    <tr>\n",
       "      <th>Accounts Payable</th>\n",
       "      <td>6.350100e+10</td>\n",
       "      <td>2.662300e+10</td>\n",
       "      <td>4.712200e+10</td>\n",
       "      <td>4.555200e+10</td>\n",
       "    </tr>\n",
       "    <tr>\n",
       "      <th>Deferred Long Term Asset Charges</th>\n",
       "      <td>NaN</td>\n",
       "      <td>4.450000e+09</td>\n",
       "      <td>NaN</td>\n",
       "      <td>NaN</td>\n",
       "    </tr>\n",
       "    <tr>\n",
       "      <th>Short Long Term Debt</th>\n",
       "      <td>NaN</td>\n",
       "      <td>2.281000e+09</td>\n",
       "      <td>NaN</td>\n",
       "      <td>NaN</td>\n",
       "    </tr>\n",
       "  </tbody>\n",
       "</table>\n",
       "</div>"
      ],
      "text/plain": [
       "                                    2022-03-31    2021-12-31    2021-09-30  \\\n",
       "Total Liab                        1.782450e+11  1.632400e+11  1.691820e+11   \n",
       "Total Stockholder Equity          1.692150e+11  1.685770e+11  1.605890e+11   \n",
       "Minority Interest                 7.311000e+09  7.106000e+09  6.917000e+09   \n",
       "Other Current Liab                3.672000e+09  2.047700e+10  1.768000e+09   \n",
       "Total Assets                      3.547710e+11  3.389230e+11  3.366880e+11   \n",
       "Common Stock                      1.587900e+10  1.574600e+10  1.610400e+10   \n",
       "Other Current Assets              1.862000e+09  1.189000e+09  1.664000e+09   \n",
       "Retained Earnings                 3.937790e+11  3.920590e+11  3.869520e+11   \n",
       "Other Liab                        6.353500e+10  5.921500e+10  6.368700e+10   \n",
       "Treasury Stock                   -2.404430e+11 -2.392280e+11 -2.424670e+11   \n",
       "Other Assets                      1.841400e+10  2.577200e+10  2.587600e+10   \n",
       "Cash                              1.107400e+10  6.802000e+09  4.768000e+09   \n",
       "Total Current Liabilities         7.205900e+10  5.664300e+10  6.185600e+10   \n",
       "Other Stockholder Equity         -1.291400e+10 -1.376400e+10 -1.669600e+10   \n",
       "Property Plant Equipment          2.127730e+11  2.226340e+11  2.187950e+11   \n",
       "Total Current Assets              7.725500e+10  5.915400e+10  5.555500e+10   \n",
       "Long Term Investments             4.632900e+10  3.136300e+10  3.646200e+10   \n",
       "Net Tangible Assets               1.692150e+11  1.685770e+11  1.605890e+11   \n",
       "Net Receivables                   4.214200e+10  3.238300e+10  2.951600e+10   \n",
       "Long Term Debt                    4.265100e+10  4.166700e+10  4.363900e+10   \n",
       "Inventory                         2.217700e+10  1.878000e+10  1.960700e+10   \n",
       "Accounts Payable                  6.350100e+10  2.662300e+10  4.712200e+10   \n",
       "Deferred Long Term Asset Charges           NaN  4.450000e+09           NaN   \n",
       "Short Long Term Debt                       NaN  2.281000e+09           NaN   \n",
       "\n",
       "                                    2021-06-30  \n",
       "Total Liab                        1.717330e+11  \n",
       "Total Stockholder Equity          1.585710e+11  \n",
       "Minority Interest                 6.985000e+09  \n",
       "Other Current Liab                1.393000e+09  \n",
       "Total Assets                      3.372890e+11  \n",
       "Common Stock                      1.600600e+10  \n",
       "Other Current Assets              1.562000e+09  \n",
       "Retained Earnings                 3.839220e+11  \n",
       "Other Liab                        6.417600e+10  \n",
       "Treasury Stock                   -2.413570e+11  \n",
       "Other Assets                      2.526400e+10  \n",
       "Cash                              3.465000e+09  \n",
       "Total Current Liabilities         6.223800e+10  \n",
       "Other Stockholder Equity         -1.558600e+10  \n",
       "Property Plant Equipment          2.230120e+11  \n",
       "Total Current Assets              5.284200e+10  \n",
       "Long Term Investments             3.617100e+10  \n",
       "Net Tangible Assets               1.585710e+11  \n",
       "Net Receivables                   2.854000e+10  \n",
       "Long Term Debt                    4.531900e+10  \n",
       "Inventory                         1.927500e+10  \n",
       "Accounts Payable                  4.555200e+10  \n",
       "Deferred Long Term Asset Charges           NaN  \n",
       "Short Long Term Debt                       NaN  "
      ]
     },
     "metadata": {},
     "output_type": "display_data"
    }
   ],
   "source": [
    "quarterly_balance = pd.DataFrame(sec.quarterly_balancesheet)\n",
    "display(quarterly_balance)"
   ]
  },
  {
   "cell_type": "markdown",
   "metadata": {},
   "source": [
    "#### Cashflow"
   ]
  },
  {
   "cell_type": "code",
   "execution_count": 210,
   "metadata": {},
   "outputs": [
    {
     "data": {
      "application/javascript": "window.IpyVizzu.clearInhibitScroll(element);"
     },
     "metadata": {},
     "output_type": "display_data"
    }
   ],
   "source": [
    "cashflow = pd.DataFrame(sec.cashflow)\n",
    "# display(cashflow)\n",
    "# Repurchase Of Stock , Net Income, Dividends Paid "
   ]
  },
  {
   "cell_type": "code",
   "execution_count": 219,
   "metadata": {},
   "outputs": [
    {
     "data": {
      "application/javascript": "window.IpyVizzu.clearInhibitScroll(element);"
     },
     "metadata": {},
     "output_type": "display_data"
    },
    {
     "data": {
      "text/html": [
       "<div>\n",
       "<style scoped>\n",
       "    .dataframe tbody tr th:only-of-type {\n",
       "        vertical-align: middle;\n",
       "    }\n",
       "\n",
       "    .dataframe tbody tr th {\n",
       "        vertical-align: top;\n",
       "    }\n",
       "\n",
       "    .dataframe thead th {\n",
       "        text-align: right;\n",
       "    }\n",
       "</style>\n",
       "<table border=\"1\" class=\"dataframe\">\n",
       "  <thead>\n",
       "    <tr style=\"text-align: right;\">\n",
       "      <th></th>\n",
       "      <th>Date</th>\n",
       "      <th>Investments</th>\n",
       "      <th>Change To Liabilities</th>\n",
       "      <th>Total Cashflows From Investing Activities</th>\n",
       "      <th>Net Borrowings</th>\n",
       "      <th>Total Cash From Financing Activities</th>\n",
       "      <th>Change To Operating Activities</th>\n",
       "      <th>Net Income</th>\n",
       "      <th>Change In Cash</th>\n",
       "      <th>Repurchase Of Stock</th>\n",
       "      <th>Effect Of Exchange Rate</th>\n",
       "      <th>Total Cash From Operating Activities</th>\n",
       "      <th>Depreciation</th>\n",
       "      <th>Other Cashflows From Investing Activities</th>\n",
       "      <th>Dividends Paid</th>\n",
       "      <th>Change To Inventory</th>\n",
       "      <th>Change To Account Receivables</th>\n",
       "      <th>Other Cashflows From Financing Activities</th>\n",
       "      <th>Change To Netincome</th>\n",
       "      <th>Capital Expenditures</th>\n",
       "    </tr>\n",
       "  </thead>\n",
       "  <tbody>\n",
       "    <tr>\n",
       "      <th>0</th>\n",
       "      <td>2018-12-31</td>\n",
       "      <td>-1.981000e+09</td>\n",
       "      <td>2.321000e+09</td>\n",
       "      <td>-1.644600e+10</td>\n",
       "      <td>-4.925000e+09</td>\n",
       "      <td>-1.944600e+10</td>\n",
       "      <td>-25000000.0</td>\n",
       "      <td>2.084000e+10</td>\n",
       "      <td>-1.350000e+08</td>\n",
       "      <td>-626000000.0</td>\n",
       "      <td>-257000000.0</td>\n",
       "      <td>3.601400e+10</td>\n",
       "      <td>1.804500e+10</td>\n",
       "      <td>9.860000e+08</td>\n",
       "      <td>-1.379800e+10</td>\n",
       "      <td>-3.107000e+09</td>\n",
       "      <td>-5.450000e+08</td>\n",
       "      <td>-97000000.0</td>\n",
       "      <td>-1.515000e+09</td>\n",
       "      <td>-1.957400e+10</td>\n",
       "    </tr>\n",
       "    <tr>\n",
       "      <th>1</th>\n",
       "      <td>2019-12-31</td>\n",
       "      <td>-3.905000e+09</td>\n",
       "      <td>3.725000e+09</td>\n",
       "      <td>-2.308400e+10</td>\n",
       "      <td>8.662000e+09</td>\n",
       "      <td>-6.618000e+09</td>\n",
       "      <td>-234000000.0</td>\n",
       "      <td>1.434000e+10</td>\n",
       "      <td>4.700000e+07</td>\n",
       "      <td>-594000000.0</td>\n",
       "      <td>33000000.0</td>\n",
       "      <td>2.971600e+10</td>\n",
       "      <td>1.889800e+10</td>\n",
       "      <td>1.490000e+09</td>\n",
       "      <td>-1.465200e+10</td>\n",
       "      <td>7.200000e+07</td>\n",
       "      <td>-2.640000e+09</td>\n",
       "      <td>-34000000.0</td>\n",
       "      <td>-4.445000e+09</td>\n",
       "      <td>-2.436100e+10</td>\n",
       "    </tr>\n",
       "    <tr>\n",
       "      <th>2</th>\n",
       "      <td>2020-12-31</td>\n",
       "      <td>-4.857000e+09</td>\n",
       "      <td>-7.142000e+09</td>\n",
       "      <td>-1.845900e+10</td>\n",
       "      <td>2.014100e+10</td>\n",
       "      <td>5.285000e+09</td>\n",
       "      <td>420000000.0</td>\n",
       "      <td>-2.244000e+10</td>\n",
       "      <td>1.275000e+09</td>\n",
       "      <td>-405000000.0</td>\n",
       "      <td>-219000000.0</td>\n",
       "      <td>1.466800e+10</td>\n",
       "      <td>2.099800e+10</td>\n",
       "      <td>2.681000e+09</td>\n",
       "      <td>-1.486500e+10</td>\n",
       "      <td>-3.150000e+08</td>\n",
       "      <td>5.384000e+09</td>\n",
       "      <td>414000000.0</td>\n",
       "      <td>1.776300e+10</td>\n",
       "      <td>-1.728200e+10</td>\n",
       "    </tr>\n",
       "    <tr>\n",
       "      <th>3</th>\n",
       "      <td>2021-12-31</td>\n",
       "      <td>-2.817000e+09</td>\n",
       "      <td>1.682000e+10</td>\n",
       "      <td>-1.023500e+10</td>\n",
       "      <td>-1.965400e+10</td>\n",
       "      <td>-3.542300e+10</td>\n",
       "      <td>-71000000.0</td>\n",
       "      <td>2.304000e+10</td>\n",
       "      <td>2.438000e+09</td>\n",
       "      <td>-155000000.0</td>\n",
       "      <td>-33000000.0</td>\n",
       "      <td>4.812900e+10</td>\n",
       "      <td>1.940700e+10</td>\n",
       "      <td>1.482000e+09</td>\n",
       "      <td>-1.492400e+10</td>\n",
       "      <td>-4.890000e+08</td>\n",
       "      <td>-1.209800e+10</td>\n",
       "      <td>-690000000.0</td>\n",
       "      <td>1.520000e+09</td>\n",
       "      <td>-1.207600e+10</td>\n",
       "    </tr>\n",
       "  </tbody>\n",
       "</table>\n",
       "</div>"
      ],
      "text/plain": [
       "        Date   Investments  Change To Liabilities  \\\n",
       "0 2018-12-31 -1.981000e+09           2.321000e+09   \n",
       "1 2019-12-31 -3.905000e+09           3.725000e+09   \n",
       "2 2020-12-31 -4.857000e+09          -7.142000e+09   \n",
       "3 2021-12-31 -2.817000e+09           1.682000e+10   \n",
       "\n",
       "   Total Cashflows From Investing Activities  Net Borrowings  \\\n",
       "0                              -1.644600e+10   -4.925000e+09   \n",
       "1                              -2.308400e+10    8.662000e+09   \n",
       "2                              -1.845900e+10    2.014100e+10   \n",
       "3                              -1.023500e+10   -1.965400e+10   \n",
       "\n",
       "   Total Cash From Financing Activities  Change To Operating Activities  \\\n",
       "0                         -1.944600e+10                     -25000000.0   \n",
       "1                         -6.618000e+09                    -234000000.0   \n",
       "2                          5.285000e+09                     420000000.0   \n",
       "3                         -3.542300e+10                     -71000000.0   \n",
       "\n",
       "     Net Income  Change In Cash  Repurchase Of Stock  Effect Of Exchange Rate  \\\n",
       "0  2.084000e+10   -1.350000e+08         -626000000.0             -257000000.0   \n",
       "1  1.434000e+10    4.700000e+07         -594000000.0               33000000.0   \n",
       "2 -2.244000e+10    1.275000e+09         -405000000.0             -219000000.0   \n",
       "3  2.304000e+10    2.438000e+09         -155000000.0              -33000000.0   \n",
       "\n",
       "   Total Cash From Operating Activities  Depreciation  \\\n",
       "0                          3.601400e+10  1.804500e+10   \n",
       "1                          2.971600e+10  1.889800e+10   \n",
       "2                          1.466800e+10  2.099800e+10   \n",
       "3                          4.812900e+10  1.940700e+10   \n",
       "\n",
       "   Other Cashflows From Investing Activities  Dividends Paid  \\\n",
       "0                               9.860000e+08   -1.379800e+10   \n",
       "1                               1.490000e+09   -1.465200e+10   \n",
       "2                               2.681000e+09   -1.486500e+10   \n",
       "3                               1.482000e+09   -1.492400e+10   \n",
       "\n",
       "   Change To Inventory  Change To Account Receivables  \\\n",
       "0        -3.107000e+09                  -5.450000e+08   \n",
       "1         7.200000e+07                  -2.640000e+09   \n",
       "2        -3.150000e+08                   5.384000e+09   \n",
       "3        -4.890000e+08                  -1.209800e+10   \n",
       "\n",
       "   Other Cashflows From Financing Activities  Change To Netincome  \\\n",
       "0                                -97000000.0        -1.515000e+09   \n",
       "1                                -34000000.0        -4.445000e+09   \n",
       "2                                414000000.0         1.776300e+10   \n",
       "3                               -690000000.0         1.520000e+09   \n",
       "\n",
       "   Capital Expenditures  \n",
       "0         -1.957400e+10  \n",
       "1         -2.436100e+10  \n",
       "2         -1.728200e+10  \n",
       "3         -1.207600e+10  "
      ]
     },
     "metadata": {},
     "output_type": "display_data"
    }
   ],
   "source": [
    "cf = cashflow.transpose()\n",
    "cf = cf.sort_index(ascending=True)\n",
    "cf = cf.reset_index()\n",
    "\n",
    "cf.columns = ['Date',\n",
    " 'Investments',\n",
    " 'Change To Liabilities',\n",
    " 'Total Cashflows From Investing Activities',\n",
    " 'Net Borrowings',\n",
    " 'Total Cash From Financing Activities',\n",
    " 'Change To Operating Activities',\n",
    " 'Net Income',\n",
    " 'Change In Cash',\n",
    " 'Repurchase Of Stock',\n",
    " 'Effect Of Exchange Rate',\n",
    " 'Total Cash From Operating Activities',\n",
    " 'Depreciation',\n",
    " 'Other Cashflows From Investing Activities',\n",
    " 'Dividends Paid',\n",
    " 'Change To Inventory',\n",
    " 'Change To Account Receivables',\n",
    " 'Other Cashflows From Financing Activities',\n",
    " 'Change To Netincome',\n",
    " 'Capital Expenditures']\n",
    "display(cf)"
   ]
  },
  {
   "cell_type": "code",
   "execution_count": 253,
   "metadata": {},
   "outputs": [
    {
     "data": {
      "application/javascript": "window.IpyVizzu.clearInhibitScroll(element);"
     },
     "metadata": {},
     "output_type": "display_data"
    },
    {
     "data": {
      "application/javascript": "window.IpyVizzu.clearInhibitScroll(element);"
     },
     "metadata": {},
     "output_type": "display_data"
    },
    {
     "data": {
      "application/javascript": "window.IpyVizzu.clearInhibitScroll(element);"
     },
     "metadata": {},
     "output_type": "display_data"
    }
   ],
   "source": [
    "data = Data()\n",
    "data.add_data_frame(cf)\n",
    "chart = Chart(display=\"manual\")\n",
    "chart.animate(data)\n"
   ]
  },
  {
   "cell_type": "code",
   "execution_count": 254,
   "metadata": {},
   "outputs": [
    {
     "data": {
      "application/javascript": "window.IpyVizzu.clearInhibitScroll(element);"
     },
     "metadata": {},
     "output_type": "display_data"
    },
    {
     "data": {
      "application/javascript": "window.IpyVizzu.clearInhibitScroll(element);"
     },
     "metadata": {},
     "output_type": "display_data"
    },
    {
     "data": {
      "application/javascript": "window.IpyVizzu.clearInhibitScroll(element);"
     },
     "metadata": {},
     "output_type": "display_data"
    }
   ],
   "source": [
    "chart.animate(Config({\"title\": \"Cashflow Net Income 2018-2021\"}))\n",
    "chart.animate(Config({\"x\": \"Date\", \"y\": [\"Repurchase Of Stock\"]}))\n",
    "chart.animate(Config({\"x\": \"Date\", \"y\": [\"Net Income\"], \"color\": \"Net Income\"}))\n",
    "# chart.animate(Config({\"x\": \"Date\", \"y\": [\"Dividends Paid\"]}))\n"
   ]
  },
  {
   "cell_type": "code",
   "execution_count": 255,
   "metadata": {},
   "outputs": [
    {
     "data": {
      "application/javascript": "window.IpyVizzu.clearInhibitScroll(element);"
     },
     "metadata": {},
     "output_type": "display_data"
    },
    {
     "data": {
      "application/javascript": "window.IpyVizzu.clearInhibitScroll(element);"
     },
     "metadata": {},
     "output_type": "display_data"
    },
    {
     "data": {
      "application/javascript": "window.IpyVizzu.clearInhibitScroll(element);"
     },
     "metadata": {},
     "output_type": "display_data"
    }
   ],
   "source": [
    "chart.animate(Config({\"geometry\": \"area\"}))"
   ]
  },
  {
   "cell_type": "code",
   "execution_count": 256,
   "metadata": {},
   "outputs": [
    {
     "data": {
      "application/javascript": "window.IpyVizzu.clearInhibitScroll(element);"
     },
     "metadata": {},
     "output_type": "display_data"
    },
    {
     "data": {
      "application/javascript": "window.IpyVizzu.clearInhibitScroll(element);"
     },
     "metadata": {},
     "output_type": "display_data"
    },
    {
     "data": {
      "application/javascript": "window.IpyVizzu.clearInhibitScroll(element);"
     },
     "metadata": {},
     "output_type": "display_data"
    }
   ],
   "source": [
    "chart.feature(\"tooltip\", True)"
   ]
  },
  {
   "cell_type": "code",
   "execution_count": 257,
   "metadata": {},
   "outputs": [
    {
     "data": {
      "application/javascript": "window.IpyVizzu.clearInhibitScroll(element);"
     },
     "metadata": {},
     "output_type": "display_data"
    },
    {
     "data": {
      "application/javascript": "window.IpyVizzu.clearInhibitScroll(element);"
     },
     "metadata": {},
     "output_type": "display_data"
    },
    {
     "data": {
      "application/javascript": "window.IpyVizzu.clearInhibitScroll(element);"
     },
     "metadata": {},
     "output_type": "display_data"
    },
    {
     "data": {
      "text/html": [
       "<div id=\"50cfebc\"><script>if (!window.IpyVizzu) {\n",
       "    class IpyVizzu \n",
       "    {\n",
       "        constructor(element, chartId, vizzulib, divWidth, divHeight)\n",
       "        {\n",
       "            IpyVizzu.inhibitScroll = false;\n",
       "            IpyVizzu.nbconvert = false;\n",
       "            document.addEventListener('wheel', (evt) => { IpyVizzu.inhibitScroll = true }, true);\n",
       "            document.addEventListener('keydown', (evt) => { IpyVizzu.inhibitScroll = true }, true);\n",
       "            document.addEventListener('touchstart', (evt) => { IpyVizzu.inhibitScroll = true }, true);\n",
       "\n",
       "            this.elements = {};\n",
       "            this.elements[chartId] = document.createElement(\"div\");\n",
       "            this.elements[chartId].style.cssText = `width: ${divWidth}; height: ${divHeight};`;\n",
       "\n",
       "            this.charts = {};\n",
       "            this.charts[chartId] = import(vizzulib).then(Vizzu => new Vizzu.default(this.elements[chartId]).initializing);\n",
       "            this._moveHere(chartId, element);\n",
       "\n",
       "            this.snapshots = {};\n",
       "            this.displays = {};\n",
       "        }\n",
       "\n",
       "        static clearInhibitScroll(element)\n",
       "        {\n",
       "            if (IpyVizzu.nbconvert) IpyVizzu._hide(element);\n",
       "            IpyVizzu.inhibitScroll = false;\n",
       "        }\n",
       "\n",
       "        animate(element, chartId, displayTarget, scrollEnabled, chartTarget, chartAnimOpts)\n",
       "        {\n",
       "            if (IpyVizzu.nbconvert) IpyVizzu._hide(element);\n",
       "            if (displayTarget === 'end') this._moveHere(chartId, element);\n",
       "            this.charts[chartId] = this.charts[chartId].then(chart => {\n",
       "                if (displayTarget === 'actual') this._moveHere(chartId, element);\n",
       "                this._scroll(chartId, scrollEnabled);\n",
       "                return chart.animate(chartTarget, chartAnimOpts);\n",
       "            });\n",
       "        }\n",
       "\n",
       "        store(element, chartId, id)\n",
       "        {\n",
       "            if (IpyVizzu.nbconvert) IpyVizzu._hide(element);\n",
       "            this.charts[chartId] = this.charts[chartId].then(chart => {\n",
       "                this.snapshots[id] = chart.store();\n",
       "                return chart;\n",
       "            });\n",
       "        }\n",
       "\n",
       "        stored(element, id)\n",
       "        {\n",
       "            if (IpyVizzu.nbconvert) IpyVizzu._hide(element);\n",
       "            return this.snapshots[id];\n",
       "        }\n",
       "\n",
       "        feature(element, chartId, name, enabled)\n",
       "        {\n",
       "            if (IpyVizzu.nbconvert) IpyVizzu._hide(element);\n",
       "            this.charts[chartId] = this.charts[chartId].then(chart => {\n",
       "                chart.feature(name, enabled);\n",
       "                return chart;\n",
       "            });\n",
       "        }\n",
       "\n",
       "        _moveHere(chartId, element)\n",
       "        {\n",
       "            if (IpyVizzu.nbconvert) IpyVizzu._display(this.elements[chartId], element);\n",
       "            element.append(this.elements[chartId]);\n",
       "        }\n",
       "\n",
       "        _scroll(chartId, enabled)\n",
       "        {\n",
       "            if (!IpyVizzu.inhibitScroll && enabled) {\n",
       "                this.elements[chartId].scrollIntoView({ behavior: \"auto\", block: \"center\" });\n",
       "            }\n",
       "        }\n",
       "\n",
       "        static _hide(element) {\n",
       "            document.getElementById(element.selector.substring(1)).parentNode.style.display = 'none';\n",
       "        }\n",
       "\n",
       "        static _display(prevElement, element) {\n",
       "            if (prevElement.parentNode) {\n",
       "                prevElement.parentNode.style.display = \"none\";\n",
       "            }\n",
       "            document.getElementById(element.selector.substring(1)).parentNode.style.display = 'flex';\n",
       "            document.getElementById(element.selector.substring(1)).parentNode.style.margin = 'auto';\n",
       "        }\n",
       "    }\n",
       "\n",
       "    window.IpyVizzu = IpyVizzu;\n",
       "}\n",
       "window.ipyvizzu = new window.IpyVizzu(document.getElementById(\"50cfebc\"), '859c912', 'https://cdn.jsdelivr.net/npm/vizzu@~0.4.0/dist/vizzu.min.js', '800px', '480px');\n",
       "window.ipyvizzu.animate(document.getElementById(\"50cfebc\"), '859c912', 'manual', false, {\"data\": {\"series\": [{\"name\": \"Date\", \"type\": \"dimension\", \"values\": [\"2018-12-31\", \"2019-12-31\", \"2020-12-31\", \"2021-12-31\"]}, {\"name\": \"Investments\", \"type\": \"measure\", \"values\": [-1981000000.0, -3905000000.0, -4857000000.0, -2817000000.0]}, {\"name\": \"Change To Liabilities\", \"type\": \"measure\", \"values\": [2321000000.0, 3725000000.0, -7142000000.0, 16820000000.0]}, {\"name\": \"Total Cashflows From Investing Activities\", \"type\": \"measure\", \"values\": [-16446000000.0, -23084000000.0, -18459000000.0, -10235000000.0]}, {\"name\": \"Net Borrowings\", \"type\": \"measure\", \"values\": [-4925000000.0, 8662000000.0, 20141000000.0, -19654000000.0]}, {\"name\": \"Total Cash From Financing Activities\", \"type\": \"measure\", \"values\": [-19446000000.0, -6618000000.0, 5285000000.0, -35423000000.0]}, {\"name\": \"Change To Operating Activities\", \"type\": \"measure\", \"values\": [-25000000.0, -234000000.0, 420000000.0, -71000000.0]}, {\"name\": \"Net Income\", \"type\": \"measure\", \"values\": [20840000000.0, 14340000000.0, -22440000000.0, 23040000000.0]}, {\"name\": \"Change In Cash\", \"type\": \"measure\", \"values\": [-135000000.0, 47000000.0, 1275000000.0, 2438000000.0]}, {\"name\": \"Repurchase Of Stock\", \"type\": \"measure\", \"values\": [-626000000.0, -594000000.0, -405000000.0, -155000000.0]}, {\"name\": \"Effect Of Exchange Rate\", \"type\": \"measure\", \"values\": [-257000000.0, 33000000.0, -219000000.0, -33000000.0]}, {\"name\": \"Total Cash From Operating Activities\", \"type\": \"measure\", \"values\": [36014000000.0, 29716000000.0, 14668000000.0, 48129000000.0]}, {\"name\": \"Depreciation\", \"type\": \"measure\", \"values\": [18045000000.0, 18898000000.0, 20998000000.0, 19407000000.0]}, {\"name\": \"Other Cashflows From Investing Activities\", \"type\": \"measure\", \"values\": [986000000.0, 1490000000.0, 2681000000.0, 1482000000.0]}, {\"name\": \"Dividends Paid\", \"type\": \"measure\", \"values\": [-13798000000.0, -14652000000.0, -14865000000.0, -14924000000.0]}, {\"name\": \"Change To Inventory\", \"type\": \"measure\", \"values\": [-3107000000.0, 72000000.0, -315000000.0, -489000000.0]}, {\"name\": \"Change To Account Receivables\", \"type\": \"measure\", \"values\": [-545000000.0, -2640000000.0, 5384000000.0, -12098000000.0]}, {\"name\": \"Other Cashflows From Financing Activities\", \"type\": \"measure\", \"values\": [-97000000.0, -34000000.0, 414000000.0, -690000000.0]}, {\"name\": \"Change To Netincome\", \"type\": \"measure\", \"values\": [-1515000000.0, -4445000000.0, 17763000000.0, 1520000000.0]}, {\"name\": \"Capital Expenditures\", \"type\": \"measure\", \"values\": [-19574000000.0, -24361000000.0, -17282000000.0, -12076000000.0]}]}}, undefined);\n",
       "window.ipyvizzu.animate(document.getElementById(\"50cfebc\"), '859c912', 'manual', false, {\"config\": {\"title\": \"Cashflow Net Income 2018-2021\"}}, undefined);\n",
       "window.ipyvizzu.animate(document.getElementById(\"50cfebc\"), '859c912', 'manual', false, {\"config\": {\"x\": \"Date\", \"y\": [\"Repurchase Of Stock\"]}}, undefined);\n",
       "window.ipyvizzu.animate(document.getElementById(\"50cfebc\"), '859c912', 'manual', false, {\"config\": {\"x\": \"Date\", \"y\": [\"Net Income\"], \"color\": \"Net Income\"}}, undefined);\n",
       "window.ipyvizzu.animate(document.getElementById(\"50cfebc\"), '859c912', 'manual', false, {\"config\": {\"geometry\": \"area\"}}, undefined);\n",
       "window.ipyvizzu.feature(document.getElementById(\"50cfebc\"), '859c912', \"tooltip\", true);</script></div>"
      ],
      "text/plain": [
       "<ipyvizzu.chart.Chart at 0x126889d4d60>"
      ]
     },
     "execution_count": 257,
     "metadata": {},
     "output_type": "execute_result"
    }
   ],
   "source": [
    "chart"
   ]
  },
  {
   "cell_type": "code",
   "execution_count": 158,
   "metadata": {},
   "outputs": [
    {
     "data": {
      "text/html": [
       "<div>\n",
       "<style scoped>\n",
       "    .dataframe tbody tr th:only-of-type {\n",
       "        vertical-align: middle;\n",
       "    }\n",
       "\n",
       "    .dataframe tbody tr th {\n",
       "        vertical-align: top;\n",
       "    }\n",
       "\n",
       "    .dataframe thead th {\n",
       "        text-align: right;\n",
       "    }\n",
       "</style>\n",
       "<table border=\"1\" class=\"dataframe\">\n",
       "  <thead>\n",
       "    <tr style=\"text-align: right;\">\n",
       "      <th></th>\n",
       "      <th>2022-03-31</th>\n",
       "      <th>2021-12-31</th>\n",
       "      <th>2021-09-30</th>\n",
       "      <th>2021-06-30</th>\n",
       "    </tr>\n",
       "  </thead>\n",
       "  <tbody>\n",
       "    <tr>\n",
       "      <th>Investments</th>\n",
       "      <td>-4.170000e+08</td>\n",
       "      <td>-1.762000e+09</td>\n",
       "      <td>-4.420000e+08</td>\n",
       "      <td>-2.640000e+08</td>\n",
       "    </tr>\n",
       "    <tr>\n",
       "      <th>Change To Liabilities</th>\n",
       "      <td>0.000000e+00</td>\n",
       "      <td>1.682000e+10</td>\n",
       "      <td>0.000000e+00</td>\n",
       "      <td>0.000000e+00</td>\n",
       "    </tr>\n",
       "    <tr>\n",
       "      <th>Total Cashflows From Investing Activities</th>\n",
       "      <td>-3.945000e+09</td>\n",
       "      <td>-2.110000e+09</td>\n",
       "      <td>-3.054000e+09</td>\n",
       "      <td>-2.716000e+09</td>\n",
       "    </tr>\n",
       "    <tr>\n",
       "      <th>Net Borrowings</th>\n",
       "      <td>-7.320000e+08</td>\n",
       "      <td>-8.824000e+09</td>\n",
       "      <td>-3.812000e+09</td>\n",
       "      <td>-2.953000e+09</td>\n",
       "    </tr>\n",
       "    <tr>\n",
       "      <th>Total Cash From Financing Activities</th>\n",
       "      <td>-6.713000e+09</td>\n",
       "      <td>-1.295900e+10</td>\n",
       "      <td>-7.657000e+09</td>\n",
       "      <td>-7.022000e+09</td>\n",
       "    </tr>\n",
       "    <tr>\n",
       "      <th>Change To Operating Activities</th>\n",
       "      <td>1.086000e+09</td>\n",
       "      <td>-2.303000e+09</td>\n",
       "      <td>6.590000e+08</td>\n",
       "      <td>-3.800000e+08</td>\n",
       "    </tr>\n",
       "    <tr>\n",
       "      <th>Net Income</th>\n",
       "      <td>5.480000e+09</td>\n",
       "      <td>8.870000e+09</td>\n",
       "      <td>6.750000e+09</td>\n",
       "      <td>4.690000e+09</td>\n",
       "    </tr>\n",
       "    <tr>\n",
       "      <th>Change In Cash</th>\n",
       "      <td>4.272000e+09</td>\n",
       "      <td>2.034000e+09</td>\n",
       "      <td>1.303000e+09</td>\n",
       "      <td>-5.000000e+07</td>\n",
       "    </tr>\n",
       "    <tr>\n",
       "      <th>Repurchase Of Stock</th>\n",
       "      <td>-2.067000e+09</td>\n",
       "      <td>-1.540000e+08</td>\n",
       "      <td>-1.540000e+08</td>\n",
       "      <td>-1.540000e+08</td>\n",
       "    </tr>\n",
       "    <tr>\n",
       "      <th>Effect Of Exchange Rate</th>\n",
       "      <td>1.420000e+08</td>\n",
       "      <td>-2.100000e+07</td>\n",
       "      <td>-7.700000e+07</td>\n",
       "      <td>3.800000e+07</td>\n",
       "    </tr>\n",
       "    <tr>\n",
       "      <th>Total Cash From Operating Activities</th>\n",
       "      <td>1.478800e+10</td>\n",
       "      <td>1.712400e+10</td>\n",
       "      <td>1.209100e+10</td>\n",
       "      <td>9.650000e+09</td>\n",
       "    </tr>\n",
       "    <tr>\n",
       "      <th>Depreciation</th>\n",
       "      <td>5.908000e+09</td>\n",
       "      <td>4.461000e+09</td>\n",
       "      <td>5.601000e+09</td>\n",
       "      <td>4.341000e+09</td>\n",
       "    </tr>\n",
       "    <tr>\n",
       "      <th>Other Cashflows From Investing Activities</th>\n",
       "      <td>9.000000e+07</td>\n",
       "      <td>1.140000e+09</td>\n",
       "      <td>2.100000e+08</td>\n",
       "      <td>4.500000e+07</td>\n",
       "    </tr>\n",
       "    <tr>\n",
       "      <th>Dividends Paid</th>\n",
       "      <td>-3.760000e+09</td>\n",
       "      <td>-3.763000e+09</td>\n",
       "      <td>-3.720000e+09</td>\n",
       "      <td>-3.721000e+09</td>\n",
       "    </tr>\n",
       "    <tr>\n",
       "      <th>Other Cashflows From Financing Activities</th>\n",
       "      <td>-1.540000e+08</td>\n",
       "      <td>-2.180000e+08</td>\n",
       "      <td>-1.250000e+08</td>\n",
       "      <td>-3.480000e+08</td>\n",
       "    </tr>\n",
       "    <tr>\n",
       "      <th>Change To Netincome</th>\n",
       "      <td>2.314000e+09</td>\n",
       "      <td>1.863000e+09</td>\n",
       "      <td>-9.190000e+08</td>\n",
       "      <td>9.990000e+08</td>\n",
       "    </tr>\n",
       "    <tr>\n",
       "      <th>Capital Expenditures</th>\n",
       "      <td>-3.911000e+09</td>\n",
       "      <td>-4.089000e+09</td>\n",
       "      <td>-2.840000e+09</td>\n",
       "      <td>-2.747000e+09</td>\n",
       "    </tr>\n",
       "    <tr>\n",
       "      <th>Change To Inventory</th>\n",
       "      <td>NaN</td>\n",
       "      <td>-4.890000e+08</td>\n",
       "      <td>-4.890000e+08</td>\n",
       "      <td>-4.890000e+08</td>\n",
       "    </tr>\n",
       "    <tr>\n",
       "      <th>Change To Account Receivables</th>\n",
       "      <td>NaN</td>\n",
       "      <td>-1.209800e+10</td>\n",
       "      <td>-1.209800e+10</td>\n",
       "      <td>-1.209800e+10</td>\n",
       "    </tr>\n",
       "  </tbody>\n",
       "</table>\n",
       "</div>"
      ],
      "text/plain": [
       "                                             2022-03-31    2021-12-31  \\\n",
       "Investments                               -4.170000e+08 -1.762000e+09   \n",
       "Change To Liabilities                      0.000000e+00  1.682000e+10   \n",
       "Total Cashflows From Investing Activities -3.945000e+09 -2.110000e+09   \n",
       "Net Borrowings                            -7.320000e+08 -8.824000e+09   \n",
       "Total Cash From Financing Activities      -6.713000e+09 -1.295900e+10   \n",
       "Change To Operating Activities             1.086000e+09 -2.303000e+09   \n",
       "Net Income                                 5.480000e+09  8.870000e+09   \n",
       "Change In Cash                             4.272000e+09  2.034000e+09   \n",
       "Repurchase Of Stock                       -2.067000e+09 -1.540000e+08   \n",
       "Effect Of Exchange Rate                    1.420000e+08 -2.100000e+07   \n",
       "Total Cash From Operating Activities       1.478800e+10  1.712400e+10   \n",
       "Depreciation                               5.908000e+09  4.461000e+09   \n",
       "Other Cashflows From Investing Activities  9.000000e+07  1.140000e+09   \n",
       "Dividends Paid                            -3.760000e+09 -3.763000e+09   \n",
       "Other Cashflows From Financing Activities -1.540000e+08 -2.180000e+08   \n",
       "Change To Netincome                        2.314000e+09  1.863000e+09   \n",
       "Capital Expenditures                      -3.911000e+09 -4.089000e+09   \n",
       "Change To Inventory                                 NaN -4.890000e+08   \n",
       "Change To Account Receivables                       NaN -1.209800e+10   \n",
       "\n",
       "                                             2021-09-30    2021-06-30  \n",
       "Investments                               -4.420000e+08 -2.640000e+08  \n",
       "Change To Liabilities                      0.000000e+00  0.000000e+00  \n",
       "Total Cashflows From Investing Activities -3.054000e+09 -2.716000e+09  \n",
       "Net Borrowings                            -3.812000e+09 -2.953000e+09  \n",
       "Total Cash From Financing Activities      -7.657000e+09 -7.022000e+09  \n",
       "Change To Operating Activities             6.590000e+08 -3.800000e+08  \n",
       "Net Income                                 6.750000e+09  4.690000e+09  \n",
       "Change In Cash                             1.303000e+09 -5.000000e+07  \n",
       "Repurchase Of Stock                       -1.540000e+08 -1.540000e+08  \n",
       "Effect Of Exchange Rate                   -7.700000e+07  3.800000e+07  \n",
       "Total Cash From Operating Activities       1.209100e+10  9.650000e+09  \n",
       "Depreciation                               5.601000e+09  4.341000e+09  \n",
       "Other Cashflows From Investing Activities  2.100000e+08  4.500000e+07  \n",
       "Dividends Paid                            -3.720000e+09 -3.721000e+09  \n",
       "Other Cashflows From Financing Activities -1.250000e+08 -3.480000e+08  \n",
       "Change To Netincome                       -9.190000e+08  9.990000e+08  \n",
       "Capital Expenditures                      -2.840000e+09 -2.747000e+09  \n",
       "Change To Inventory                       -4.890000e+08 -4.890000e+08  \n",
       "Change To Account Receivables             -1.209800e+10 -1.209800e+10  "
      ]
     },
     "metadata": {},
     "output_type": "display_data"
    }
   ],
   "source": [
    "quarterly_cashflow = pd.DataFrame(sec.quarterly_cashflow)\n",
    "display(quarterly_cashflow)"
   ]
  },
  {
   "cell_type": "markdown",
   "metadata": {},
   "source": [
    "### Holders"
   ]
  },
  {
   "cell_type": "code",
   "execution_count": 159,
   "metadata": {},
   "outputs": [
    {
     "data": {
      "text/html": [
       "<div>\n",
       "<style scoped>\n",
       "    .dataframe tbody tr th:only-of-type {\n",
       "        vertical-align: middle;\n",
       "    }\n",
       "\n",
       "    .dataframe tbody tr th {\n",
       "        vertical-align: top;\n",
       "    }\n",
       "\n",
       "    .dataframe thead th {\n",
       "        text-align: right;\n",
       "    }\n",
       "</style>\n",
       "<table border=\"1\" class=\"dataframe\">\n",
       "  <thead>\n",
       "    <tr style=\"text-align: right;\">\n",
       "      <th></th>\n",
       "      <th>0</th>\n",
       "      <th>1</th>\n",
       "    </tr>\n",
       "  </thead>\n",
       "  <tbody>\n",
       "    <tr>\n",
       "      <th>0</th>\n",
       "      <td>0.07%</td>\n",
       "      <td>% of Shares Held by All Insider</td>\n",
       "    </tr>\n",
       "    <tr>\n",
       "      <th>1</th>\n",
       "      <td>56.86%</td>\n",
       "      <td>% of Shares Held by Institutions</td>\n",
       "    </tr>\n",
       "    <tr>\n",
       "      <th>2</th>\n",
       "      <td>56.90%</td>\n",
       "      <td>% of Float Held by Institutions</td>\n",
       "    </tr>\n",
       "    <tr>\n",
       "      <th>3</th>\n",
       "      <td>3735</td>\n",
       "      <td>Number of Institutions Holding Shares</td>\n",
       "    </tr>\n",
       "  </tbody>\n",
       "</table>\n",
       "</div>"
      ],
      "text/plain": [
       "        0                                      1\n",
       "0   0.07%        % of Shares Held by All Insider\n",
       "1  56.86%       % of Shares Held by Institutions\n",
       "2  56.90%        % of Float Held by Institutions\n",
       "3    3735  Number of Institutions Holding Shares"
      ]
     },
     "metadata": {},
     "output_type": "display_data"
    }
   ],
   "source": [
    "major_holders = pd.DataFrame(sec.major_holders)\n",
    "display(major_holders)"
   ]
  },
  {
   "cell_type": "code",
   "execution_count": 160,
   "metadata": {},
   "outputs": [
    {
     "data": {
      "text/html": [
       "<div>\n",
       "<style scoped>\n",
       "    .dataframe tbody tr th:only-of-type {\n",
       "        vertical-align: middle;\n",
       "    }\n",
       "\n",
       "    .dataframe tbody tr th {\n",
       "        vertical-align: top;\n",
       "    }\n",
       "\n",
       "    .dataframe thead th {\n",
       "        text-align: right;\n",
       "    }\n",
       "</style>\n",
       "<table border=\"1\" class=\"dataframe\">\n",
       "  <thead>\n",
       "    <tr style=\"text-align: right;\">\n",
       "      <th></th>\n",
       "      <th>Holder</th>\n",
       "      <th>Shares</th>\n",
       "      <th>Date Reported</th>\n",
       "      <th>% Out</th>\n",
       "      <th>Value</th>\n",
       "    </tr>\n",
       "  </thead>\n",
       "  <tbody>\n",
       "    <tr>\n",
       "      <th>0</th>\n",
       "      <td>Vanguard Group, Inc. (The)</td>\n",
       "      <td>364432696</td>\n",
       "      <td>2022-03-30</td>\n",
       "      <td>0.0865</td>\n",
       "      <td>30098496362</td>\n",
       "    </tr>\n",
       "    <tr>\n",
       "      <th>1</th>\n",
       "      <td>Blackrock Inc.</td>\n",
       "      <td>275079344</td>\n",
       "      <td>2022-03-30</td>\n",
       "      <td>0.0653</td>\n",
       "      <td>22718803020</td>\n",
       "    </tr>\n",
       "    <tr>\n",
       "      <th>2</th>\n",
       "      <td>State Street Corporation</td>\n",
       "      <td>251154186</td>\n",
       "      <td>2022-03-30</td>\n",
       "      <td>0.0596</td>\n",
       "      <td>20742824221</td>\n",
       "    </tr>\n",
       "    <tr>\n",
       "      <th>3</th>\n",
       "      <td>FMR, LLC</td>\n",
       "      <td>117623095</td>\n",
       "      <td>2022-03-30</td>\n",
       "      <td>0.0279</td>\n",
       "      <td>9714491416</td>\n",
       "    </tr>\n",
       "    <tr>\n",
       "      <th>4</th>\n",
       "      <td>Geode Capital Management, LLC</td>\n",
       "      <td>71409928</td>\n",
       "      <td>2022-03-30</td>\n",
       "      <td>0.0170</td>\n",
       "      <td>5897745953</td>\n",
       "    </tr>\n",
       "    <tr>\n",
       "      <th>5</th>\n",
       "      <td>Norges Bank Investment Management</td>\n",
       "      <td>52041576</td>\n",
       "      <td>2021-12-30</td>\n",
       "      <td>0.0124</td>\n",
       "      <td>3184424035</td>\n",
       "    </tr>\n",
       "    <tr>\n",
       "      <th>6</th>\n",
       "      <td>GQG Partners LLC</td>\n",
       "      <td>51800709</td>\n",
       "      <td>2022-03-30</td>\n",
       "      <td>0.0123</td>\n",
       "      <td>4278220556</td>\n",
       "    </tr>\n",
       "    <tr>\n",
       "      <th>7</th>\n",
       "      <td>Bank Of New York Mellon Corporation</td>\n",
       "      <td>48361186</td>\n",
       "      <td>2022-03-30</td>\n",
       "      <td>0.0115</td>\n",
       "      <td>3994150351</td>\n",
       "    </tr>\n",
       "    <tr>\n",
       "      <th>8</th>\n",
       "      <td>Northern Trust Corporation</td>\n",
       "      <td>47824543</td>\n",
       "      <td>2022-03-30</td>\n",
       "      <td>0.0114</td>\n",
       "      <td>3949829006</td>\n",
       "    </tr>\n",
       "    <tr>\n",
       "      <th>9</th>\n",
       "      <td>Bank of America Corporation</td>\n",
       "      <td>47615342</td>\n",
       "      <td>2022-03-30</td>\n",
       "      <td>0.0113</td>\n",
       "      <td>3932551095</td>\n",
       "    </tr>\n",
       "  </tbody>\n",
       "</table>\n",
       "</div>"
      ],
      "text/plain": [
       "                                Holder     Shares Date Reported   % Out  \\\n",
       "0           Vanguard Group, Inc. (The)  364432696    2022-03-30  0.0865   \n",
       "1                       Blackrock Inc.  275079344    2022-03-30  0.0653   \n",
       "2             State Street Corporation  251154186    2022-03-30  0.0596   \n",
       "3                             FMR, LLC  117623095    2022-03-30  0.0279   \n",
       "4        Geode Capital Management, LLC   71409928    2022-03-30  0.0170   \n",
       "5    Norges Bank Investment Management   52041576    2021-12-30  0.0124   \n",
       "6                     GQG Partners LLC   51800709    2022-03-30  0.0123   \n",
       "7  Bank Of New York Mellon Corporation   48361186    2022-03-30  0.0115   \n",
       "8           Northern Trust Corporation   47824543    2022-03-30  0.0114   \n",
       "9          Bank of America Corporation   47615342    2022-03-30  0.0113   \n",
       "\n",
       "         Value  \n",
       "0  30098496362  \n",
       "1  22718803020  \n",
       "2  20742824221  \n",
       "3   9714491416  \n",
       "4   5897745953  \n",
       "5   3184424035  \n",
       "6   4278220556  \n",
       "7   3994150351  \n",
       "8   3949829006  \n",
       "9   3932551095  "
      ]
     },
     "metadata": {},
     "output_type": "display_data"
    }
   ],
   "source": [
    "institutional_holders = pd.DataFrame(sec.institutional_holders)\n",
    "display(institutional_holders)"
   ]
  },
  {
   "cell_type": "code",
   "execution_count": 167,
   "metadata": {},
   "outputs": [
    {
     "data": {
      "application/vnd.plotly.v1+json": {
       "config": {
        "plotlyServerURL": "https://plot.ly"
       },
       "data": [
        {
         "hole": 0.5,
         "labels": [
          "Vanguard Group, Inc. (The)",
          "Blackrock Inc.",
          "State Street Corporation",
          "FMR, LLC",
          "Geode Capital Management, LLC",
          "Norges Bank Investment Management",
          "GQG Partners LLC",
          "Bank Of New York Mellon Corporation",
          "Northern Trust Corporation",
          "Bank of America Corporation"
         ],
         "textposition": "inside",
         "type": "pie",
         "values": [
          30098496362,
          22718803020,
          20742824221,
          9714491416,
          5897745953,
          3184424035,
          4278220556,
          3994150351,
          3949829006,
          3932551095
         ]
        }
       ],
       "layout": {
        "template": {
         "data": {
          "bar": [
           {
            "error_x": {
             "color": "#2a3f5f"
            },
            "error_y": {
             "color": "#2a3f5f"
            },
            "marker": {
             "line": {
              "color": "#E5ECF6",
              "width": 0.5
             },
             "pattern": {
              "fillmode": "overlay",
              "size": 10,
              "solidity": 0.2
             }
            },
            "type": "bar"
           }
          ],
          "barpolar": [
           {
            "marker": {
             "line": {
              "color": "#E5ECF6",
              "width": 0.5
             },
             "pattern": {
              "fillmode": "overlay",
              "size": 10,
              "solidity": 0.2
             }
            },
            "type": "barpolar"
           }
          ],
          "carpet": [
           {
            "aaxis": {
             "endlinecolor": "#2a3f5f",
             "gridcolor": "white",
             "linecolor": "white",
             "minorgridcolor": "white",
             "startlinecolor": "#2a3f5f"
            },
            "baxis": {
             "endlinecolor": "#2a3f5f",
             "gridcolor": "white",
             "linecolor": "white",
             "minorgridcolor": "white",
             "startlinecolor": "#2a3f5f"
            },
            "type": "carpet"
           }
          ],
          "choropleth": [
           {
            "colorbar": {
             "outlinewidth": 0,
             "ticks": ""
            },
            "type": "choropleth"
           }
          ],
          "contour": [
           {
            "colorbar": {
             "outlinewidth": 0,
             "ticks": ""
            },
            "colorscale": [
             [
              0,
              "#0d0887"
             ],
             [
              0.1111111111111111,
              "#46039f"
             ],
             [
              0.2222222222222222,
              "#7201a8"
             ],
             [
              0.3333333333333333,
              "#9c179e"
             ],
             [
              0.4444444444444444,
              "#bd3786"
             ],
             [
              0.5555555555555556,
              "#d8576b"
             ],
             [
              0.6666666666666666,
              "#ed7953"
             ],
             [
              0.7777777777777778,
              "#fb9f3a"
             ],
             [
              0.8888888888888888,
              "#fdca26"
             ],
             [
              1,
              "#f0f921"
             ]
            ],
            "type": "contour"
           }
          ],
          "contourcarpet": [
           {
            "colorbar": {
             "outlinewidth": 0,
             "ticks": ""
            },
            "type": "contourcarpet"
           }
          ],
          "heatmap": [
           {
            "colorbar": {
             "outlinewidth": 0,
             "ticks": ""
            },
            "colorscale": [
             [
              0,
              "#0d0887"
             ],
             [
              0.1111111111111111,
              "#46039f"
             ],
             [
              0.2222222222222222,
              "#7201a8"
             ],
             [
              0.3333333333333333,
              "#9c179e"
             ],
             [
              0.4444444444444444,
              "#bd3786"
             ],
             [
              0.5555555555555556,
              "#d8576b"
             ],
             [
              0.6666666666666666,
              "#ed7953"
             ],
             [
              0.7777777777777778,
              "#fb9f3a"
             ],
             [
              0.8888888888888888,
              "#fdca26"
             ],
             [
              1,
              "#f0f921"
             ]
            ],
            "type": "heatmap"
           }
          ],
          "heatmapgl": [
           {
            "colorbar": {
             "outlinewidth": 0,
             "ticks": ""
            },
            "colorscale": [
             [
              0,
              "#0d0887"
             ],
             [
              0.1111111111111111,
              "#46039f"
             ],
             [
              0.2222222222222222,
              "#7201a8"
             ],
             [
              0.3333333333333333,
              "#9c179e"
             ],
             [
              0.4444444444444444,
              "#bd3786"
             ],
             [
              0.5555555555555556,
              "#d8576b"
             ],
             [
              0.6666666666666666,
              "#ed7953"
             ],
             [
              0.7777777777777778,
              "#fb9f3a"
             ],
             [
              0.8888888888888888,
              "#fdca26"
             ],
             [
              1,
              "#f0f921"
             ]
            ],
            "type": "heatmapgl"
           }
          ],
          "histogram": [
           {
            "marker": {
             "pattern": {
              "fillmode": "overlay",
              "size": 10,
              "solidity": 0.2
             }
            },
            "type": "histogram"
           }
          ],
          "histogram2d": [
           {
            "colorbar": {
             "outlinewidth": 0,
             "ticks": ""
            },
            "colorscale": [
             [
              0,
              "#0d0887"
             ],
             [
              0.1111111111111111,
              "#46039f"
             ],
             [
              0.2222222222222222,
              "#7201a8"
             ],
             [
              0.3333333333333333,
              "#9c179e"
             ],
             [
              0.4444444444444444,
              "#bd3786"
             ],
             [
              0.5555555555555556,
              "#d8576b"
             ],
             [
              0.6666666666666666,
              "#ed7953"
             ],
             [
              0.7777777777777778,
              "#fb9f3a"
             ],
             [
              0.8888888888888888,
              "#fdca26"
             ],
             [
              1,
              "#f0f921"
             ]
            ],
            "type": "histogram2d"
           }
          ],
          "histogram2dcontour": [
           {
            "colorbar": {
             "outlinewidth": 0,
             "ticks": ""
            },
            "colorscale": [
             [
              0,
              "#0d0887"
             ],
             [
              0.1111111111111111,
              "#46039f"
             ],
             [
              0.2222222222222222,
              "#7201a8"
             ],
             [
              0.3333333333333333,
              "#9c179e"
             ],
             [
              0.4444444444444444,
              "#bd3786"
             ],
             [
              0.5555555555555556,
              "#d8576b"
             ],
             [
              0.6666666666666666,
              "#ed7953"
             ],
             [
              0.7777777777777778,
              "#fb9f3a"
             ],
             [
              0.8888888888888888,
              "#fdca26"
             ],
             [
              1,
              "#f0f921"
             ]
            ],
            "type": "histogram2dcontour"
           }
          ],
          "mesh3d": [
           {
            "colorbar": {
             "outlinewidth": 0,
             "ticks": ""
            },
            "type": "mesh3d"
           }
          ],
          "parcoords": [
           {
            "line": {
             "colorbar": {
              "outlinewidth": 0,
              "ticks": ""
             }
            },
            "type": "parcoords"
           }
          ],
          "pie": [
           {
            "automargin": true,
            "type": "pie"
           }
          ],
          "scatter": [
           {
            "fillpattern": {
             "fillmode": "overlay",
             "size": 10,
             "solidity": 0.2
            },
            "type": "scatter"
           }
          ],
          "scatter3d": [
           {
            "line": {
             "colorbar": {
              "outlinewidth": 0,
              "ticks": ""
             }
            },
            "marker": {
             "colorbar": {
              "outlinewidth": 0,
              "ticks": ""
             }
            },
            "type": "scatter3d"
           }
          ],
          "scattercarpet": [
           {
            "marker": {
             "colorbar": {
              "outlinewidth": 0,
              "ticks": ""
             }
            },
            "type": "scattercarpet"
           }
          ],
          "scattergeo": [
           {
            "marker": {
             "colorbar": {
              "outlinewidth": 0,
              "ticks": ""
             }
            },
            "type": "scattergeo"
           }
          ],
          "scattergl": [
           {
            "marker": {
             "colorbar": {
              "outlinewidth": 0,
              "ticks": ""
             }
            },
            "type": "scattergl"
           }
          ],
          "scattermapbox": [
           {
            "marker": {
             "colorbar": {
              "outlinewidth": 0,
              "ticks": ""
             }
            },
            "type": "scattermapbox"
           }
          ],
          "scatterpolar": [
           {
            "marker": {
             "colorbar": {
              "outlinewidth": 0,
              "ticks": ""
             }
            },
            "type": "scatterpolar"
           }
          ],
          "scatterpolargl": [
           {
            "marker": {
             "colorbar": {
              "outlinewidth": 0,
              "ticks": ""
             }
            },
            "type": "scatterpolargl"
           }
          ],
          "scatterternary": [
           {
            "marker": {
             "colorbar": {
              "outlinewidth": 0,
              "ticks": ""
             }
            },
            "type": "scatterternary"
           }
          ],
          "surface": [
           {
            "colorbar": {
             "outlinewidth": 0,
             "ticks": ""
            },
            "colorscale": [
             [
              0,
              "#0d0887"
             ],
             [
              0.1111111111111111,
              "#46039f"
             ],
             [
              0.2222222222222222,
              "#7201a8"
             ],
             [
              0.3333333333333333,
              "#9c179e"
             ],
             [
              0.4444444444444444,
              "#bd3786"
             ],
             [
              0.5555555555555556,
              "#d8576b"
             ],
             [
              0.6666666666666666,
              "#ed7953"
             ],
             [
              0.7777777777777778,
              "#fb9f3a"
             ],
             [
              0.8888888888888888,
              "#fdca26"
             ],
             [
              1,
              "#f0f921"
             ]
            ],
            "type": "surface"
           }
          ],
          "table": [
           {
            "cells": {
             "fill": {
              "color": "#EBF0F8"
             },
             "line": {
              "color": "white"
             }
            },
            "header": {
             "fill": {
              "color": "#C8D4E3"
             },
             "line": {
              "color": "white"
             }
            },
            "type": "table"
           }
          ]
         },
         "layout": {
          "annotationdefaults": {
           "arrowcolor": "#2a3f5f",
           "arrowhead": 0,
           "arrowwidth": 1
          },
          "autotypenumbers": "strict",
          "coloraxis": {
           "colorbar": {
            "outlinewidth": 0,
            "ticks": ""
           }
          },
          "colorscale": {
           "diverging": [
            [
             0,
             "#8e0152"
            ],
            [
             0.1,
             "#c51b7d"
            ],
            [
             0.2,
             "#de77ae"
            ],
            [
             0.3,
             "#f1b6da"
            ],
            [
             0.4,
             "#fde0ef"
            ],
            [
             0.5,
             "#f7f7f7"
            ],
            [
             0.6,
             "#e6f5d0"
            ],
            [
             0.7,
             "#b8e186"
            ],
            [
             0.8,
             "#7fbc41"
            ],
            [
             0.9,
             "#4d9221"
            ],
            [
             1,
             "#276419"
            ]
           ],
           "sequential": [
            [
             0,
             "#0d0887"
            ],
            [
             0.1111111111111111,
             "#46039f"
            ],
            [
             0.2222222222222222,
             "#7201a8"
            ],
            [
             0.3333333333333333,
             "#9c179e"
            ],
            [
             0.4444444444444444,
             "#bd3786"
            ],
            [
             0.5555555555555556,
             "#d8576b"
            ],
            [
             0.6666666666666666,
             "#ed7953"
            ],
            [
             0.7777777777777778,
             "#fb9f3a"
            ],
            [
             0.8888888888888888,
             "#fdca26"
            ],
            [
             1,
             "#f0f921"
            ]
           ],
           "sequentialminus": [
            [
             0,
             "#0d0887"
            ],
            [
             0.1111111111111111,
             "#46039f"
            ],
            [
             0.2222222222222222,
             "#7201a8"
            ],
            [
             0.3333333333333333,
             "#9c179e"
            ],
            [
             0.4444444444444444,
             "#bd3786"
            ],
            [
             0.5555555555555556,
             "#d8576b"
            ],
            [
             0.6666666666666666,
             "#ed7953"
            ],
            [
             0.7777777777777778,
             "#fb9f3a"
            ],
            [
             0.8888888888888888,
             "#fdca26"
            ],
            [
             1,
             "#f0f921"
            ]
           ]
          },
          "colorway": [
           "#636efa",
           "#EF553B",
           "#00cc96",
           "#ab63fa",
           "#FFA15A",
           "#19d3f3",
           "#FF6692",
           "#B6E880",
           "#FF97FF",
           "#FECB52"
          ],
          "font": {
           "color": "#2a3f5f"
          },
          "geo": {
           "bgcolor": "white",
           "lakecolor": "white",
           "landcolor": "#E5ECF6",
           "showlakes": true,
           "showland": true,
           "subunitcolor": "white"
          },
          "hoverlabel": {
           "align": "left"
          },
          "hovermode": "closest",
          "mapbox": {
           "style": "light"
          },
          "paper_bgcolor": "white",
          "plot_bgcolor": "#E5ECF6",
          "polar": {
           "angularaxis": {
            "gridcolor": "white",
            "linecolor": "white",
            "ticks": ""
           },
           "bgcolor": "#E5ECF6",
           "radialaxis": {
            "gridcolor": "white",
            "linecolor": "white",
            "ticks": ""
           }
          },
          "scene": {
           "xaxis": {
            "backgroundcolor": "#E5ECF6",
            "gridcolor": "white",
            "gridwidth": 2,
            "linecolor": "white",
            "showbackground": true,
            "ticks": "",
            "zerolinecolor": "white"
           },
           "yaxis": {
            "backgroundcolor": "#E5ECF6",
            "gridcolor": "white",
            "gridwidth": 2,
            "linecolor": "white",
            "showbackground": true,
            "ticks": "",
            "zerolinecolor": "white"
           },
           "zaxis": {
            "backgroundcolor": "#E5ECF6",
            "gridcolor": "white",
            "gridwidth": 2,
            "linecolor": "white",
            "showbackground": true,
            "ticks": "",
            "zerolinecolor": "white"
           }
          },
          "shapedefaults": {
           "line": {
            "color": "#2a3f5f"
           }
          },
          "ternary": {
           "aaxis": {
            "gridcolor": "white",
            "linecolor": "white",
            "ticks": ""
           },
           "baxis": {
            "gridcolor": "white",
            "linecolor": "white",
            "ticks": ""
           },
           "bgcolor": "#E5ECF6",
           "caxis": {
            "gridcolor": "white",
            "linecolor": "white",
            "ticks": ""
           }
          },
          "title": {
           "x": 0.05
          },
          "xaxis": {
           "automargin": true,
           "gridcolor": "white",
           "linecolor": "white",
           "ticks": "",
           "title": {
            "standoff": 15
           },
           "zerolinecolor": "white",
           "zerolinewidth": 2
          },
          "yaxis": {
           "automargin": true,
           "gridcolor": "white",
           "linecolor": "white",
           "ticks": "",
           "title": {
            "standoff": 15
           },
           "zerolinecolor": "white",
           "zerolinewidth": 2
          }
         }
        },
        "title": {
         "text": "Institutional holders"
        },
        "uniformtext": {
         "minsize": 12,
         "mode": "hide"
        }
       }
      }
     },
     "metadata": {},
     "output_type": "display_data"
    }
   ],
   "source": [
    "trace1 = go.Pie(\n",
    "    values=institutional_holders['Value'],\n",
    "    labels=institutional_holders['Holder'], \n",
    "    hole=0.5 )\n",
    "\n",
    "data = [trace1]\n",
    "layout = dict(\n",
    "    title='Institutional holders',\n",
    "    uniformtext_minsize=12,\n",
    "    uniformtext_mode='hide'\n",
    "    )\n",
    "fig = go.Figure(data=data)\n",
    "fig.update_traces(textposition='inside')\n",
    "fig.update_layout(layout)\n",
    "  \n",
    "fig.show()"
   ]
  },
  {
   "cell_type": "code",
   "execution_count": 259,
   "metadata": {},
   "outputs": [
    {
     "data": {
      "application/javascript": "window.IpyVizzu.clearInhibitScroll(element);"
     },
     "metadata": {},
     "output_type": "display_data"
    },
    {
     "data": {
      "application/javascript": "window.IpyVizzu.clearInhibitScroll(element);"
     },
     "metadata": {},
     "output_type": "display_data"
    },
    {
     "data": {
      "application/javascript": "window.IpyVizzu.clearInhibitScroll(element);"
     },
     "metadata": {},
     "output_type": "display_data"
    },
    {
     "data": {
      "text/html": [
       "<div id=\"6509b8d\"><script>if (!window.IpyVizzu) {\n",
       "    class IpyVizzu \n",
       "    {\n",
       "        constructor(element, chartId, vizzulib, divWidth, divHeight)\n",
       "        {\n",
       "            IpyVizzu.inhibitScroll = false;\n",
       "            IpyVizzu.nbconvert = false;\n",
       "            document.addEventListener('wheel', (evt) => { IpyVizzu.inhibitScroll = true }, true);\n",
       "            document.addEventListener('keydown', (evt) => { IpyVizzu.inhibitScroll = true }, true);\n",
       "            document.addEventListener('touchstart', (evt) => { IpyVizzu.inhibitScroll = true }, true);\n",
       "\n",
       "            this.elements = {};\n",
       "            this.elements[chartId] = document.createElement(\"div\");\n",
       "            this.elements[chartId].style.cssText = `width: ${divWidth}; height: ${divHeight};`;\n",
       "\n",
       "            this.charts = {};\n",
       "            this.charts[chartId] = import(vizzulib).then(Vizzu => new Vizzu.default(this.elements[chartId]).initializing);\n",
       "            this._moveHere(chartId, element);\n",
       "\n",
       "            this.snapshots = {};\n",
       "            this.displays = {};\n",
       "        }\n",
       "\n",
       "        static clearInhibitScroll(element)\n",
       "        {\n",
       "            if (IpyVizzu.nbconvert) IpyVizzu._hide(element);\n",
       "            IpyVizzu.inhibitScroll = false;\n",
       "        }\n",
       "\n",
       "        animate(element, chartId, displayTarget, scrollEnabled, chartTarget, chartAnimOpts)\n",
       "        {\n",
       "            if (IpyVizzu.nbconvert) IpyVizzu._hide(element);\n",
       "            if (displayTarget === 'end') this._moveHere(chartId, element);\n",
       "            this.charts[chartId] = this.charts[chartId].then(chart => {\n",
       "                if (displayTarget === 'actual') this._moveHere(chartId, element);\n",
       "                this._scroll(chartId, scrollEnabled);\n",
       "                return chart.animate(chartTarget, chartAnimOpts);\n",
       "            });\n",
       "        }\n",
       "\n",
       "        store(element, chartId, id)\n",
       "        {\n",
       "            if (IpyVizzu.nbconvert) IpyVizzu._hide(element);\n",
       "            this.charts[chartId] = this.charts[chartId].then(chart => {\n",
       "                this.snapshots[id] = chart.store();\n",
       "                return chart;\n",
       "            });\n",
       "        }\n",
       "\n",
       "        stored(element, id)\n",
       "        {\n",
       "            if (IpyVizzu.nbconvert) IpyVizzu._hide(element);\n",
       "            return this.snapshots[id];\n",
       "        }\n",
       "\n",
       "        feature(element, chartId, name, enabled)\n",
       "        {\n",
       "            if (IpyVizzu.nbconvert) IpyVizzu._hide(element);\n",
       "            this.charts[chartId] = this.charts[chartId].then(chart => {\n",
       "                chart.feature(name, enabled);\n",
       "                return chart;\n",
       "            });\n",
       "        }\n",
       "\n",
       "        _moveHere(chartId, element)\n",
       "        {\n",
       "            if (IpyVizzu.nbconvert) IpyVizzu._display(this.elements[chartId], element);\n",
       "            element.append(this.elements[chartId]);\n",
       "        }\n",
       "\n",
       "        _scroll(chartId, enabled)\n",
       "        {\n",
       "            if (!IpyVizzu.inhibitScroll && enabled) {\n",
       "                this.elements[chartId].scrollIntoView({ behavior: \"auto\", block: \"center\" });\n",
       "            }\n",
       "        }\n",
       "\n",
       "        static _hide(element) {\n",
       "            document.getElementById(element.selector.substring(1)).parentNode.style.display = 'none';\n",
       "        }\n",
       "\n",
       "        static _display(prevElement, element) {\n",
       "            if (prevElement.parentNode) {\n",
       "                prevElement.parentNode.style.display = \"none\";\n",
       "            }\n",
       "            document.getElementById(element.selector.substring(1)).parentNode.style.display = 'flex';\n",
       "            document.getElementById(element.selector.substring(1)).parentNode.style.margin = 'auto';\n",
       "        }\n",
       "    }\n",
       "\n",
       "    window.IpyVizzu = IpyVizzu;\n",
       "}\n",
       "window.ipyvizzu = new window.IpyVizzu(document.getElementById(\"6509b8d\"), 'cffe7e4', 'https://cdn.jsdelivr.net/npm/vizzu@~0.4.0/dist/vizzu.min.js', '800px', '480px');\n",
       "window.ipyvizzu.animate(document.getElementById(\"6509b8d\"), 'cffe7e4', 'manual', false, {\"data\": {\"series\": [{\"name\": \"Holder\", \"type\": \"dimension\", \"values\": [\"Vanguard Group, Inc. (The)\", \"Blackrock Inc.\", \"State Street Corporation\", \"FMR, LLC\", \"Geode Capital Management, LLC\", \"Norges Bank Investment Management\", \"GQG Partners LLC\", \"Bank Of New York Mellon Corporation\", \"Northern Trust Corporation\", \"Bank of America Corporation\"]}, {\"name\": \"Shares\", \"type\": \"measure\", \"values\": [364432696.0, 275079344.0, 251154186.0, 117623095.0, 71409928.0, 52041576.0, 51800709.0, 48361186.0, 47824543.0, 47615342.0]}, {\"name\": \"Date Reported\", \"type\": \"dimension\", \"values\": [\"2022-03-30\", \"2022-03-30\", \"2022-03-30\", \"2022-03-30\", \"2022-03-30\", \"2021-12-30\", \"2022-03-30\", \"2022-03-30\", \"2022-03-30\", \"2022-03-30\"]}, {\"name\": \"% Out\", \"type\": \"measure\", \"values\": [0.08650000000000001, 0.0653, 0.0596, 0.0279, 0.017, 0.0124, 0.0123, 0.0115, 0.011399999999999999, 0.0113]}, {\"name\": \"Value\", \"type\": \"measure\", \"values\": [30098496362.0, 22718803020.0, 20742824221.0, 9714491416.0, 5897745953.0, 3184424035.0, 4278220556.0, 3994150351.0, 3949829006.0, 3932551095.0]}]}}, undefined);\n",
       "window.ipyvizzu.animate(document.getElementById(\"6509b8d\"), 'cffe7e4', 'manual', false, {\"config\": {\"title\": \"Institutional holders\"}}, undefined);\n",
       "window.ipyvizzu.animate(document.getElementById(\"6509b8d\"), 'cffe7e4', 'manual', false, {\"config\": {\"x\": \"Holder\", \"y\": [\"Value\"], \"color\": \"Value\"}}, undefined);\n",
       "window.ipyvizzu.animate(document.getElementById(\"6509b8d\"), 'cffe7e4', 'manual', false, {\"config\": {\"geometry\": \"circle\"}}, undefined);\n",
       "window.ipyvizzu.feature(document.getElementById(\"6509b8d\"), 'cffe7e4', \"tooltip\", true);</script></div>"
      ],
      "text/plain": [
       "<ipyvizzu.chart.Chart at 0x126889f1480>"
      ]
     },
     "execution_count": 259,
     "metadata": {},
     "output_type": "execute_result"
    }
   ],
   "source": [
    "data = Data()\n",
    "data.add_data_frame(institutional_holders)\n",
    "\n",
    "chart = Chart(display=\"manual\")\n",
    "chart.animate(data)\n",
    "\n",
    "chart.animate(Config({\"title\": \"Institutional holders\"}))\n",
    "# chart.animate(Config({\"x\": \"Date\", \"y\": [\"Repurchase Of Stock\"]}))\n",
    "chart.animate(Config({\"x\": \"Holder\", \"y\": [\"Value\"], \"color\": \"Value\"}))\n",
    "\n",
    "\n",
    "\n",
    "chart.animate(Config({\"geometry\": \"circle\"}))\n",
    "\n",
    "chart.feature(\"tooltip\", True)\n",
    "\n",
    "chart\n",
    "\n"
   ]
  },
  {
   "cell_type": "markdown",
   "metadata": {},
   "source": [
    "### Dividends"
   ]
  },
  {
   "cell_type": "code",
   "execution_count": 162,
   "metadata": {},
   "outputs": [
    {
     "data": {
      "text/html": [
       "<div>\n",
       "<style scoped>\n",
       "    .dataframe tbody tr th:only-of-type {\n",
       "        vertical-align: middle;\n",
       "    }\n",
       "\n",
       "    .dataframe tbody tr th {\n",
       "        vertical-align: top;\n",
       "    }\n",
       "\n",
       "    .dataframe thead th {\n",
       "        text-align: right;\n",
       "    }\n",
       "</style>\n",
       "<table border=\"1\" class=\"dataframe\">\n",
       "  <thead>\n",
       "    <tr style=\"text-align: right;\">\n",
       "      <th></th>\n",
       "      <th>Date</th>\n",
       "      <th>Dividends</th>\n",
       "    </tr>\n",
       "  </thead>\n",
       "  <tbody>\n",
       "    <tr>\n",
       "      <th>150</th>\n",
       "      <td>2000-02-09</td>\n",
       "      <td>0.22</td>\n",
       "    </tr>\n",
       "    <tr>\n",
       "      <th>151</th>\n",
       "      <td>2000-05-11</td>\n",
       "      <td>0.22</td>\n",
       "    </tr>\n",
       "    <tr>\n",
       "      <th>152</th>\n",
       "      <td>2000-08-10</td>\n",
       "      <td>0.22</td>\n",
       "    </tr>\n",
       "    <tr>\n",
       "      <th>153</th>\n",
       "      <td>2000-11-09</td>\n",
       "      <td>0.22</td>\n",
       "    </tr>\n",
       "    <tr>\n",
       "      <th>154</th>\n",
       "      <td>2001-02-07</td>\n",
       "      <td>0.22</td>\n",
       "    </tr>\n",
       "    <tr>\n",
       "      <th>...</th>\n",
       "      <td>...</td>\n",
       "      <td>...</td>\n",
       "    </tr>\n",
       "    <tr>\n",
       "      <th>236</th>\n",
       "      <td>2021-05-12</td>\n",
       "      <td>0.87</td>\n",
       "    </tr>\n",
       "    <tr>\n",
       "      <th>237</th>\n",
       "      <td>2021-08-12</td>\n",
       "      <td>0.87</td>\n",
       "    </tr>\n",
       "    <tr>\n",
       "      <th>238</th>\n",
       "      <td>2021-11-10</td>\n",
       "      <td>0.88</td>\n",
       "    </tr>\n",
       "    <tr>\n",
       "      <th>239</th>\n",
       "      <td>2022-02-09</td>\n",
       "      <td>0.88</td>\n",
       "    </tr>\n",
       "    <tr>\n",
       "      <th>240</th>\n",
       "      <td>2022-05-12</td>\n",
       "      <td>0.88</td>\n",
       "    </tr>\n",
       "  </tbody>\n",
       "</table>\n",
       "<p>91 rows × 2 columns</p>\n",
       "</div>"
      ],
      "text/plain": [
       "          Date  Dividends\n",
       "150 2000-02-09       0.22\n",
       "151 2000-05-11       0.22\n",
       "152 2000-08-10       0.22\n",
       "153 2000-11-09       0.22\n",
       "154 2001-02-07       0.22\n",
       "..         ...        ...\n",
       "236 2021-05-12       0.87\n",
       "237 2021-08-12       0.87\n",
       "238 2021-11-10       0.88\n",
       "239 2022-02-09       0.88\n",
       "240 2022-05-12       0.88\n",
       "\n",
       "[91 rows x 2 columns]"
      ]
     },
     "metadata": {},
     "output_type": "display_data"
    }
   ],
   "source": [
    "dividends = pd.DataFrame(sec.dividends)\n",
    "dividends = dividends.reset_index()\n",
    "dividends = dividends[dividends[\"Date\"] > \"2000-01-01\"]\n",
    "display(dividends)"
   ]
  },
  {
   "cell_type": "code",
   "execution_count": 260,
   "metadata": {},
   "outputs": [
    {
     "data": {
      "application/javascript": "window.IpyVizzu.clearInhibitScroll(element);"
     },
     "metadata": {},
     "output_type": "display_data"
    },
    {
     "data": {
      "application/javascript": "window.IpyVizzu.clearInhibitScroll(element);"
     },
     "metadata": {},
     "output_type": "display_data"
    },
    {
     "data": {
      "application/javascript": "window.IpyVizzu.clearInhibitScroll(element);"
     },
     "metadata": {},
     "output_type": "display_data"
    },
    {
     "data": {
      "text/html": [
       "<div>\n",
       "<style scoped>\n",
       "    .dataframe tbody tr th:only-of-type {\n",
       "        vertical-align: middle;\n",
       "    }\n",
       "\n",
       "    .dataframe tbody tr th {\n",
       "        vertical-align: top;\n",
       "    }\n",
       "\n",
       "    .dataframe thead th {\n",
       "        text-align: right;\n",
       "    }\n",
       "</style>\n",
       "<table border=\"1\" class=\"dataframe\">\n",
       "  <thead>\n",
       "    <tr style=\"text-align: right;\">\n",
       "      <th></th>\n",
       "      <th>Year</th>\n",
       "      <th>Dividends</th>\n",
       "    </tr>\n",
       "  </thead>\n",
       "  <tbody>\n",
       "    <tr>\n",
       "      <th>0</th>\n",
       "      <td>2000</td>\n",
       "      <td>0.2200</td>\n",
       "    </tr>\n",
       "    <tr>\n",
       "      <th>1</th>\n",
       "      <td>2001</td>\n",
       "      <td>0.1820</td>\n",
       "    </tr>\n",
       "    <tr>\n",
       "      <th>2</th>\n",
       "      <td>2002</td>\n",
       "      <td>0.2300</td>\n",
       "    </tr>\n",
       "    <tr>\n",
       "      <th>3</th>\n",
       "      <td>2003</td>\n",
       "      <td>0.2450</td>\n",
       "    </tr>\n",
       "    <tr>\n",
       "      <th>4</th>\n",
       "      <td>2004</td>\n",
       "      <td>0.2650</td>\n",
       "    </tr>\n",
       "    <tr>\n",
       "      <th>5</th>\n",
       "      <td>2005</td>\n",
       "      <td>0.2850</td>\n",
       "    </tr>\n",
       "    <tr>\n",
       "      <th>6</th>\n",
       "      <td>2006</td>\n",
       "      <td>0.3200</td>\n",
       "    </tr>\n",
       "    <tr>\n",
       "      <th>7</th>\n",
       "      <td>2007</td>\n",
       "      <td>0.3425</td>\n",
       "    </tr>\n",
       "    <tr>\n",
       "      <th>8</th>\n",
       "      <td>2008</td>\n",
       "      <td>0.3875</td>\n",
       "    </tr>\n",
       "    <tr>\n",
       "      <th>9</th>\n",
       "      <td>2009</td>\n",
       "      <td>0.4150</td>\n",
       "    </tr>\n",
       "    <tr>\n",
       "      <th>10</th>\n",
       "      <td>2010</td>\n",
       "      <td>0.4350</td>\n",
       "    </tr>\n",
       "    <tr>\n",
       "      <th>11</th>\n",
       "      <td>2011</td>\n",
       "      <td>0.4625</td>\n",
       "    </tr>\n",
       "    <tr>\n",
       "      <th>12</th>\n",
       "      <td>2012</td>\n",
       "      <td>0.5450</td>\n",
       "    </tr>\n",
       "    <tr>\n",
       "      <th>13</th>\n",
       "      <td>2013</td>\n",
       "      <td>0.6150</td>\n",
       "    </tr>\n",
       "    <tr>\n",
       "      <th>14</th>\n",
       "      <td>2014</td>\n",
       "      <td>0.6750</td>\n",
       "    </tr>\n",
       "    <tr>\n",
       "      <th>15</th>\n",
       "      <td>2015</td>\n",
       "      <td>0.7200</td>\n",
       "    </tr>\n",
       "    <tr>\n",
       "      <th>16</th>\n",
       "      <td>2016</td>\n",
       "      <td>0.7450</td>\n",
       "    </tr>\n",
       "    <tr>\n",
       "      <th>17</th>\n",
       "      <td>2017</td>\n",
       "      <td>0.7650</td>\n",
       "    </tr>\n",
       "    <tr>\n",
       "      <th>18</th>\n",
       "      <td>2018</td>\n",
       "      <td>0.8075</td>\n",
       "    </tr>\n",
       "    <tr>\n",
       "      <th>19</th>\n",
       "      <td>2019</td>\n",
       "      <td>0.8575</td>\n",
       "    </tr>\n",
       "    <tr>\n",
       "      <th>20</th>\n",
       "      <td>2020</td>\n",
       "      <td>0.8700</td>\n",
       "    </tr>\n",
       "    <tr>\n",
       "      <th>21</th>\n",
       "      <td>2021</td>\n",
       "      <td>0.8725</td>\n",
       "    </tr>\n",
       "    <tr>\n",
       "      <th>22</th>\n",
       "      <td>2022</td>\n",
       "      <td>0.8800</td>\n",
       "    </tr>\n",
       "  </tbody>\n",
       "</table>\n",
       "</div>"
      ],
      "text/plain": [
       "    Year  Dividends\n",
       "0   2000     0.2200\n",
       "1   2001     0.1820\n",
       "2   2002     0.2300\n",
       "3   2003     0.2450\n",
       "4   2004     0.2650\n",
       "5   2005     0.2850\n",
       "6   2006     0.3200\n",
       "7   2007     0.3425\n",
       "8   2008     0.3875\n",
       "9   2009     0.4150\n",
       "10  2010     0.4350\n",
       "11  2011     0.4625\n",
       "12  2012     0.5450\n",
       "13  2013     0.6150\n",
       "14  2014     0.6750\n",
       "15  2015     0.7200\n",
       "16  2016     0.7450\n",
       "17  2017     0.7650\n",
       "18  2018     0.8075\n",
       "19  2019     0.8575\n",
       "20  2020     0.8700\n",
       "21  2021     0.8725\n",
       "22  2022     0.8800"
      ]
     },
     "metadata": {},
     "output_type": "display_data"
    }
   ],
   "source": [
    "dividends['Year'] = dividends['Date'].dt.year\n",
    "div = dividends.groupby(by=[\"Year\"]).mean()\n",
    "div = div.reset_index()\n",
    "display(div)"
   ]
  },
  {
   "cell_type": "code",
   "execution_count": 270,
   "metadata": {},
   "outputs": [
    {
     "data": {
      "application/javascript": "window.IpyVizzu.clearInhibitScroll(element);"
     },
     "metadata": {},
     "output_type": "display_data"
    },
    {
     "data": {
      "application/javascript": "window.IpyVizzu.clearInhibitScroll(element);"
     },
     "metadata": {},
     "output_type": "display_data"
    },
    {
     "data": {
      "application/javascript": "window.IpyVizzu.clearInhibitScroll(element);"
     },
     "metadata": {},
     "output_type": "display_data"
    },
    {
     "data": {
      "application/vnd.plotly.v1+json": {
       "config": {
        "plotlyServerURL": "https://plot.ly"
       },
       "data": [
        {
         "alignmentgroup": "True",
         "hovertemplate": "Year=%{marker.color}<br>Dividends=%{y}<extra></extra>",
         "legendgroup": "",
         "marker": {
          "color": [
           2000,
           2001,
           2002,
           2003,
           2004,
           2005,
           2006,
           2007,
           2008,
           2009,
           2010,
           2011,
           2012,
           2013,
           2014,
           2015,
           2016,
           2017,
           2018,
           2019,
           2020,
           2021,
           2022
          ],
          "coloraxis": "coloraxis",
          "pattern": {
           "shape": ""
          }
         },
         "name": "",
         "offsetgroup": "",
         "orientation": "v",
         "showlegend": false,
         "textposition": "auto",
         "type": "bar",
         "x": [
          2000,
          2001,
          2002,
          2003,
          2004,
          2005,
          2006,
          2007,
          2008,
          2009,
          2010,
          2011,
          2012,
          2013,
          2014,
          2015,
          2016,
          2017,
          2018,
          2019,
          2020,
          2021,
          2022
         ],
         "xaxis": "x",
         "y": [
          0.22,
          0.182,
          0.23,
          0.245,
          0.265,
          0.285,
          0.32,
          0.34249999999999997,
          0.3875,
          0.415,
          0.435,
          0.46249999999999997,
          0.5449999999999999,
          0.615,
          0.6749999999999999,
          0.72,
          0.745,
          0.765,
          0.8075,
          0.8574999999999999,
          0.87,
          0.8725,
          0.88
         ],
         "yaxis": "y"
        }
       ],
       "layout": {
        "barmode": "relative",
        "coloraxis": {
         "colorbar": {
          "title": {
           "text": "Year"
          }
         },
         "colorscale": [
          [
           0,
           "#0d0887"
          ],
          [
           0.1111111111111111,
           "#46039f"
          ],
          [
           0.2222222222222222,
           "#7201a8"
          ],
          [
           0.3333333333333333,
           "#9c179e"
          ],
          [
           0.4444444444444444,
           "#bd3786"
          ],
          [
           0.5555555555555556,
           "#d8576b"
          ],
          [
           0.6666666666666666,
           "#ed7953"
          ],
          [
           0.7777777777777778,
           "#fb9f3a"
          ],
          [
           0.8888888888888888,
           "#fdca26"
          ],
          [
           1,
           "#f0f921"
          ]
         ]
        },
        "height": 400,
        "legend": {
         "tracegroupgap": 0
        },
        "margin": {
         "t": 60
        },
        "template": {
         "data": {
          "bar": [
           {
            "error_x": {
             "color": "#2a3f5f"
            },
            "error_y": {
             "color": "#2a3f5f"
            },
            "marker": {
             "line": {
              "color": "#E5ECF6",
              "width": 0.5
             },
             "pattern": {
              "fillmode": "overlay",
              "size": 10,
              "solidity": 0.2
             }
            },
            "type": "bar"
           }
          ],
          "barpolar": [
           {
            "marker": {
             "line": {
              "color": "#E5ECF6",
              "width": 0.5
             },
             "pattern": {
              "fillmode": "overlay",
              "size": 10,
              "solidity": 0.2
             }
            },
            "type": "barpolar"
           }
          ],
          "carpet": [
           {
            "aaxis": {
             "endlinecolor": "#2a3f5f",
             "gridcolor": "white",
             "linecolor": "white",
             "minorgridcolor": "white",
             "startlinecolor": "#2a3f5f"
            },
            "baxis": {
             "endlinecolor": "#2a3f5f",
             "gridcolor": "white",
             "linecolor": "white",
             "minorgridcolor": "white",
             "startlinecolor": "#2a3f5f"
            },
            "type": "carpet"
           }
          ],
          "choropleth": [
           {
            "colorbar": {
             "outlinewidth": 0,
             "ticks": ""
            },
            "type": "choropleth"
           }
          ],
          "contour": [
           {
            "colorbar": {
             "outlinewidth": 0,
             "ticks": ""
            },
            "colorscale": [
             [
              0,
              "#0d0887"
             ],
             [
              0.1111111111111111,
              "#46039f"
             ],
             [
              0.2222222222222222,
              "#7201a8"
             ],
             [
              0.3333333333333333,
              "#9c179e"
             ],
             [
              0.4444444444444444,
              "#bd3786"
             ],
             [
              0.5555555555555556,
              "#d8576b"
             ],
             [
              0.6666666666666666,
              "#ed7953"
             ],
             [
              0.7777777777777778,
              "#fb9f3a"
             ],
             [
              0.8888888888888888,
              "#fdca26"
             ],
             [
              1,
              "#f0f921"
             ]
            ],
            "type": "contour"
           }
          ],
          "contourcarpet": [
           {
            "colorbar": {
             "outlinewidth": 0,
             "ticks": ""
            },
            "type": "contourcarpet"
           }
          ],
          "heatmap": [
           {
            "colorbar": {
             "outlinewidth": 0,
             "ticks": ""
            },
            "colorscale": [
             [
              0,
              "#0d0887"
             ],
             [
              0.1111111111111111,
              "#46039f"
             ],
             [
              0.2222222222222222,
              "#7201a8"
             ],
             [
              0.3333333333333333,
              "#9c179e"
             ],
             [
              0.4444444444444444,
              "#bd3786"
             ],
             [
              0.5555555555555556,
              "#d8576b"
             ],
             [
              0.6666666666666666,
              "#ed7953"
             ],
             [
              0.7777777777777778,
              "#fb9f3a"
             ],
             [
              0.8888888888888888,
              "#fdca26"
             ],
             [
              1,
              "#f0f921"
             ]
            ],
            "type": "heatmap"
           }
          ],
          "heatmapgl": [
           {
            "colorbar": {
             "outlinewidth": 0,
             "ticks": ""
            },
            "colorscale": [
             [
              0,
              "#0d0887"
             ],
             [
              0.1111111111111111,
              "#46039f"
             ],
             [
              0.2222222222222222,
              "#7201a8"
             ],
             [
              0.3333333333333333,
              "#9c179e"
             ],
             [
              0.4444444444444444,
              "#bd3786"
             ],
             [
              0.5555555555555556,
              "#d8576b"
             ],
             [
              0.6666666666666666,
              "#ed7953"
             ],
             [
              0.7777777777777778,
              "#fb9f3a"
             ],
             [
              0.8888888888888888,
              "#fdca26"
             ],
             [
              1,
              "#f0f921"
             ]
            ],
            "type": "heatmapgl"
           }
          ],
          "histogram": [
           {
            "marker": {
             "pattern": {
              "fillmode": "overlay",
              "size": 10,
              "solidity": 0.2
             }
            },
            "type": "histogram"
           }
          ],
          "histogram2d": [
           {
            "colorbar": {
             "outlinewidth": 0,
             "ticks": ""
            },
            "colorscale": [
             [
              0,
              "#0d0887"
             ],
             [
              0.1111111111111111,
              "#46039f"
             ],
             [
              0.2222222222222222,
              "#7201a8"
             ],
             [
              0.3333333333333333,
              "#9c179e"
             ],
             [
              0.4444444444444444,
              "#bd3786"
             ],
             [
              0.5555555555555556,
              "#d8576b"
             ],
             [
              0.6666666666666666,
              "#ed7953"
             ],
             [
              0.7777777777777778,
              "#fb9f3a"
             ],
             [
              0.8888888888888888,
              "#fdca26"
             ],
             [
              1,
              "#f0f921"
             ]
            ],
            "type": "histogram2d"
           }
          ],
          "histogram2dcontour": [
           {
            "colorbar": {
             "outlinewidth": 0,
             "ticks": ""
            },
            "colorscale": [
             [
              0,
              "#0d0887"
             ],
             [
              0.1111111111111111,
              "#46039f"
             ],
             [
              0.2222222222222222,
              "#7201a8"
             ],
             [
              0.3333333333333333,
              "#9c179e"
             ],
             [
              0.4444444444444444,
              "#bd3786"
             ],
             [
              0.5555555555555556,
              "#d8576b"
             ],
             [
              0.6666666666666666,
              "#ed7953"
             ],
             [
              0.7777777777777778,
              "#fb9f3a"
             ],
             [
              0.8888888888888888,
              "#fdca26"
             ],
             [
              1,
              "#f0f921"
             ]
            ],
            "type": "histogram2dcontour"
           }
          ],
          "mesh3d": [
           {
            "colorbar": {
             "outlinewidth": 0,
             "ticks": ""
            },
            "type": "mesh3d"
           }
          ],
          "parcoords": [
           {
            "line": {
             "colorbar": {
              "outlinewidth": 0,
              "ticks": ""
             }
            },
            "type": "parcoords"
           }
          ],
          "pie": [
           {
            "automargin": true,
            "type": "pie"
           }
          ],
          "scatter": [
           {
            "fillpattern": {
             "fillmode": "overlay",
             "size": 10,
             "solidity": 0.2
            },
            "type": "scatter"
           }
          ],
          "scatter3d": [
           {
            "line": {
             "colorbar": {
              "outlinewidth": 0,
              "ticks": ""
             }
            },
            "marker": {
             "colorbar": {
              "outlinewidth": 0,
              "ticks": ""
             }
            },
            "type": "scatter3d"
           }
          ],
          "scattercarpet": [
           {
            "marker": {
             "colorbar": {
              "outlinewidth": 0,
              "ticks": ""
             }
            },
            "type": "scattercarpet"
           }
          ],
          "scattergeo": [
           {
            "marker": {
             "colorbar": {
              "outlinewidth": 0,
              "ticks": ""
             }
            },
            "type": "scattergeo"
           }
          ],
          "scattergl": [
           {
            "marker": {
             "colorbar": {
              "outlinewidth": 0,
              "ticks": ""
             }
            },
            "type": "scattergl"
           }
          ],
          "scattermapbox": [
           {
            "marker": {
             "colorbar": {
              "outlinewidth": 0,
              "ticks": ""
             }
            },
            "type": "scattermapbox"
           }
          ],
          "scatterpolar": [
           {
            "marker": {
             "colorbar": {
              "outlinewidth": 0,
              "ticks": ""
             }
            },
            "type": "scatterpolar"
           }
          ],
          "scatterpolargl": [
           {
            "marker": {
             "colorbar": {
              "outlinewidth": 0,
              "ticks": ""
             }
            },
            "type": "scatterpolargl"
           }
          ],
          "scatterternary": [
           {
            "marker": {
             "colorbar": {
              "outlinewidth": 0,
              "ticks": ""
             }
            },
            "type": "scatterternary"
           }
          ],
          "surface": [
           {
            "colorbar": {
             "outlinewidth": 0,
             "ticks": ""
            },
            "colorscale": [
             [
              0,
              "#0d0887"
             ],
             [
              0.1111111111111111,
              "#46039f"
             ],
             [
              0.2222222222222222,
              "#7201a8"
             ],
             [
              0.3333333333333333,
              "#9c179e"
             ],
             [
              0.4444444444444444,
              "#bd3786"
             ],
             [
              0.5555555555555556,
              "#d8576b"
             ],
             [
              0.6666666666666666,
              "#ed7953"
             ],
             [
              0.7777777777777778,
              "#fb9f3a"
             ],
             [
              0.8888888888888888,
              "#fdca26"
             ],
             [
              1,
              "#f0f921"
             ]
            ],
            "type": "surface"
           }
          ],
          "table": [
           {
            "cells": {
             "fill": {
              "color": "#EBF0F8"
             },
             "line": {
              "color": "white"
             }
            },
            "header": {
             "fill": {
              "color": "#C8D4E3"
             },
             "line": {
              "color": "white"
             }
            },
            "type": "table"
           }
          ]
         },
         "layout": {
          "annotationdefaults": {
           "arrowcolor": "#2a3f5f",
           "arrowhead": 0,
           "arrowwidth": 1
          },
          "autotypenumbers": "strict",
          "coloraxis": {
           "colorbar": {
            "outlinewidth": 0,
            "ticks": ""
           }
          },
          "colorscale": {
           "diverging": [
            [
             0,
             "#8e0152"
            ],
            [
             0.1,
             "#c51b7d"
            ],
            [
             0.2,
             "#de77ae"
            ],
            [
             0.3,
             "#f1b6da"
            ],
            [
             0.4,
             "#fde0ef"
            ],
            [
             0.5,
             "#f7f7f7"
            ],
            [
             0.6,
             "#e6f5d0"
            ],
            [
             0.7,
             "#b8e186"
            ],
            [
             0.8,
             "#7fbc41"
            ],
            [
             0.9,
             "#4d9221"
            ],
            [
             1,
             "#276419"
            ]
           ],
           "sequential": [
            [
             0,
             "#0d0887"
            ],
            [
             0.1111111111111111,
             "#46039f"
            ],
            [
             0.2222222222222222,
             "#7201a8"
            ],
            [
             0.3333333333333333,
             "#9c179e"
            ],
            [
             0.4444444444444444,
             "#bd3786"
            ],
            [
             0.5555555555555556,
             "#d8576b"
            ],
            [
             0.6666666666666666,
             "#ed7953"
            ],
            [
             0.7777777777777778,
             "#fb9f3a"
            ],
            [
             0.8888888888888888,
             "#fdca26"
            ],
            [
             1,
             "#f0f921"
            ]
           ],
           "sequentialminus": [
            [
             0,
             "#0d0887"
            ],
            [
             0.1111111111111111,
             "#46039f"
            ],
            [
             0.2222222222222222,
             "#7201a8"
            ],
            [
             0.3333333333333333,
             "#9c179e"
            ],
            [
             0.4444444444444444,
             "#bd3786"
            ],
            [
             0.5555555555555556,
             "#d8576b"
            ],
            [
             0.6666666666666666,
             "#ed7953"
            ],
            [
             0.7777777777777778,
             "#fb9f3a"
            ],
            [
             0.8888888888888888,
             "#fdca26"
            ],
            [
             1,
             "#f0f921"
            ]
           ]
          },
          "colorway": [
           "#636efa",
           "#EF553B",
           "#00cc96",
           "#ab63fa",
           "#FFA15A",
           "#19d3f3",
           "#FF6692",
           "#B6E880",
           "#FF97FF",
           "#FECB52"
          ],
          "font": {
           "color": "#2a3f5f"
          },
          "geo": {
           "bgcolor": "white",
           "lakecolor": "white",
           "landcolor": "#E5ECF6",
           "showlakes": true,
           "showland": true,
           "subunitcolor": "white"
          },
          "hoverlabel": {
           "align": "left"
          },
          "hovermode": "closest",
          "mapbox": {
           "style": "light"
          },
          "paper_bgcolor": "white",
          "plot_bgcolor": "#E5ECF6",
          "polar": {
           "angularaxis": {
            "gridcolor": "white",
            "linecolor": "white",
            "ticks": ""
           },
           "bgcolor": "#E5ECF6",
           "radialaxis": {
            "gridcolor": "white",
            "linecolor": "white",
            "ticks": ""
           }
          },
          "scene": {
           "xaxis": {
            "backgroundcolor": "#E5ECF6",
            "gridcolor": "white",
            "gridwidth": 2,
            "linecolor": "white",
            "showbackground": true,
            "ticks": "",
            "zerolinecolor": "white"
           },
           "yaxis": {
            "backgroundcolor": "#E5ECF6",
            "gridcolor": "white",
            "gridwidth": 2,
            "linecolor": "white",
            "showbackground": true,
            "ticks": "",
            "zerolinecolor": "white"
           },
           "zaxis": {
            "backgroundcolor": "#E5ECF6",
            "gridcolor": "white",
            "gridwidth": 2,
            "linecolor": "white",
            "showbackground": true,
            "ticks": "",
            "zerolinecolor": "white"
           }
          },
          "shapedefaults": {
           "line": {
            "color": "#2a3f5f"
           }
          },
          "ternary": {
           "aaxis": {
            "gridcolor": "white",
            "linecolor": "white",
            "ticks": ""
           },
           "baxis": {
            "gridcolor": "white",
            "linecolor": "white",
            "ticks": ""
           },
           "bgcolor": "#E5ECF6",
           "caxis": {
            "gridcolor": "white",
            "linecolor": "white",
            "ticks": ""
           }
          },
          "title": {
           "x": 0.05
          },
          "xaxis": {
           "automargin": true,
           "gridcolor": "white",
           "linecolor": "white",
           "ticks": "",
           "title": {
            "standoff": 15
           },
           "zerolinecolor": "white",
           "zerolinewidth": 2
          },
          "yaxis": {
           "automargin": true,
           "gridcolor": "white",
           "linecolor": "white",
           "ticks": "",
           "title": {
            "standoff": 15
           },
           "zerolinecolor": "white",
           "zerolinewidth": 2
          }
         }
        },
        "xaxis": {
         "anchor": "y",
         "domain": [
          0,
          1
         ],
         "title": {
          "text": "Year"
         }
        },
        "yaxis": {
         "anchor": "x",
         "domain": [
          0,
          1
         ],
         "title": {
          "text": "Dividends"
         }
        }
       }
      }
     },
     "metadata": {},
     "output_type": "display_data"
    }
   ],
   "source": [
    "fig = px.bar(div, x='Year', y='Dividends',\n",
    "            color='Year',\n",
    "         \n",
    "             height=400)\n",
    "fig.show()"
   ]
  },
  {
   "cell_type": "code",
   "execution_count": 165,
   "metadata": {},
   "outputs": [
    {
     "data": {
      "text/html": [
       "<div>\n",
       "<style scoped>\n",
       "    .dataframe tbody tr th:only-of-type {\n",
       "        vertical-align: middle;\n",
       "    }\n",
       "\n",
       "    .dataframe tbody tr th {\n",
       "        vertical-align: top;\n",
       "    }\n",
       "\n",
       "    .dataframe thead th {\n",
       "        text-align: right;\n",
       "    }\n",
       "</style>\n",
       "<table border=\"1\" class=\"dataframe\">\n",
       "  <thead>\n",
       "    <tr style=\"text-align: right;\">\n",
       "      <th></th>\n",
       "      <th>Stock Splits</th>\n",
       "    </tr>\n",
       "    <tr>\n",
       "      <th>Date</th>\n",
       "      <th></th>\n",
       "    </tr>\n",
       "  </thead>\n",
       "  <tbody>\n",
       "    <tr>\n",
       "      <th>1976-07-26</th>\n",
       "      <td>2.0</td>\n",
       "    </tr>\n",
       "    <tr>\n",
       "      <th>1981-06-12</th>\n",
       "      <td>2.0</td>\n",
       "    </tr>\n",
       "    <tr>\n",
       "      <th>1987-09-15</th>\n",
       "      <td>2.0</td>\n",
       "    </tr>\n",
       "    <tr>\n",
       "      <th>1997-04-14</th>\n",
       "      <td>2.0</td>\n",
       "    </tr>\n",
       "    <tr>\n",
       "      <th>2001-07-19</th>\n",
       "      <td>2.0</td>\n",
       "    </tr>\n",
       "  </tbody>\n",
       "</table>\n",
       "</div>"
      ],
      "text/plain": [
       "            Stock Splits\n",
       "Date                    \n",
       "1976-07-26           2.0\n",
       "1981-06-12           2.0\n",
       "1987-09-15           2.0\n",
       "1997-04-14           2.0\n",
       "2001-07-19           2.0"
      ]
     },
     "metadata": {},
     "output_type": "display_data"
    }
   ],
   "source": [
    "splits = pd.DataFrame(sec.splits)\n",
    "display(splits)"
   ]
  },
  {
   "cell_type": "code",
   "execution_count": 166,
   "metadata": {},
   "outputs": [
    {
     "data": {
      "text/html": [
       "<div>\n",
       "<style scoped>\n",
       "    .dataframe tbody tr th:only-of-type {\n",
       "        vertical-align: middle;\n",
       "    }\n",
       "\n",
       "    .dataframe tbody tr th {\n",
       "        vertical-align: top;\n",
       "    }\n",
       "\n",
       "    .dataframe thead th {\n",
       "        text-align: right;\n",
       "    }\n",
       "</style>\n",
       "<table border=\"1\" class=\"dataframe\">\n",
       "  <thead>\n",
       "    <tr style=\"text-align: right;\">\n",
       "      <th></th>\n",
       "      <th>Dividends</th>\n",
       "      <th>Stock Splits</th>\n",
       "    </tr>\n",
       "    <tr>\n",
       "      <th>Date</th>\n",
       "      <th></th>\n",
       "      <th></th>\n",
       "    </tr>\n",
       "  </thead>\n",
       "  <tbody>\n",
       "    <tr>\n",
       "      <th>1962-02-07</th>\n",
       "      <td>0.018750</td>\n",
       "      <td>0.0</td>\n",
       "    </tr>\n",
       "    <tr>\n",
       "      <th>1962-05-09</th>\n",
       "      <td>0.018750</td>\n",
       "      <td>0.0</td>\n",
       "    </tr>\n",
       "    <tr>\n",
       "      <th>1962-08-08</th>\n",
       "      <td>0.018750</td>\n",
       "      <td>0.0</td>\n",
       "    </tr>\n",
       "    <tr>\n",
       "      <th>1962-11-07</th>\n",
       "      <td>0.021875</td>\n",
       "      <td>0.0</td>\n",
       "    </tr>\n",
       "    <tr>\n",
       "      <th>1963-02-06</th>\n",
       "      <td>0.020313</td>\n",
       "      <td>0.0</td>\n",
       "    </tr>\n",
       "    <tr>\n",
       "      <th>...</th>\n",
       "      <td>...</td>\n",
       "      <td>...</td>\n",
       "    </tr>\n",
       "    <tr>\n",
       "      <th>2021-05-12</th>\n",
       "      <td>0.870000</td>\n",
       "      <td>0.0</td>\n",
       "    </tr>\n",
       "    <tr>\n",
       "      <th>2021-08-12</th>\n",
       "      <td>0.870000</td>\n",
       "      <td>0.0</td>\n",
       "    </tr>\n",
       "    <tr>\n",
       "      <th>2021-11-10</th>\n",
       "      <td>0.880000</td>\n",
       "      <td>0.0</td>\n",
       "    </tr>\n",
       "    <tr>\n",
       "      <th>2022-02-09</th>\n",
       "      <td>0.880000</td>\n",
       "      <td>0.0</td>\n",
       "    </tr>\n",
       "    <tr>\n",
       "      <th>2022-05-12</th>\n",
       "      <td>0.880000</td>\n",
       "      <td>0.0</td>\n",
       "    </tr>\n",
       "  </tbody>\n",
       "</table>\n",
       "<p>246 rows × 2 columns</p>\n",
       "</div>"
      ],
      "text/plain": [
       "            Dividends  Stock Splits\n",
       "Date                               \n",
       "1962-02-07   0.018750           0.0\n",
       "1962-05-09   0.018750           0.0\n",
       "1962-08-08   0.018750           0.0\n",
       "1962-11-07   0.021875           0.0\n",
       "1963-02-06   0.020313           0.0\n",
       "...               ...           ...\n",
       "2021-05-12   0.870000           0.0\n",
       "2021-08-12   0.870000           0.0\n",
       "2021-11-10   0.880000           0.0\n",
       "2022-02-09   0.880000           0.0\n",
       "2022-05-12   0.880000           0.0\n",
       "\n",
       "[246 rows x 2 columns]"
      ]
     },
     "metadata": {},
     "output_type": "display_data"
    }
   ],
   "source": [
    "actions = pd.DataFrame(sec.actions)\n",
    "display(actions)"
   ]
  }
 ],
 "metadata": {
  "kernelspec": {
   "display_name": "Python 3.10.4 64-bit",
   "language": "python",
   "name": "python3"
  },
  "language_info": {
   "codemirror_mode": {
    "name": "ipython",
    "version": 3
   },
   "file_extension": ".py",
   "mimetype": "text/x-python",
   "name": "python",
   "nbconvert_exporter": "python",
   "pygments_lexer": "ipython3",
   "version": "3.10.4"
  },
  "orig_nbformat": 4,
  "vscode": {
   "interpreter": {
    "hash": "139e3b4f5b9f6dee72f7384b5b24e0c69f7a714e2e1a9e30130b33a165115932"
   }
  }
 },
 "nbformat": 4,
 "nbformat_minor": 2
}
